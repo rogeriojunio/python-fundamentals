{
 "cells": [
  {
   "cell_type": "markdown",
   "id": "14653408",
   "metadata": {},
   "source": [
    "# Matemática financeira\n",
    "### Usando conhecimentos básicos em Python para resolver alguns problemas de finanças\n",
    "##### Elaborado por Rogério Silva"
   ]
  },
  {
   "cell_type": "markdown",
   "id": "621b54a5",
   "metadata": {},
   "source": [
    "## Objetivo"
   ]
  },
  {
   "cell_type": "markdown",
   "id": "5fde90d7",
   "metadata": {},
   "source": [
    "Matemática financeira é o estudo do efeito do dinheiro no tempo, leva em consideração o valor investido, o tempo de aplicação e o risco do investimento (juros). O objetivo deste notebook é praticar esses conceitos usando noções básicas de Python, tanto para reforçar o conhecimento em finanças quanto exercitar a habilidade de desenvolvimento.\n",
    "\n",
    "A abordagem escolhida para explorar este tema começa com a definição dos principais conceitos, em seguida, criar funções em Python para resolver alguns problemas de matemática financeira. Sabe-se que existem bibliotecas prontas e disponíveis para uso, no entanto, não permitiriam praticar os fundamentos de Python."
   ]
  },
  {
   "cell_type": "markdown",
   "id": "31e9fbfd",
   "metadata": {},
   "source": [
    "## Conceitos básicos"
   ]
  },
  {
   "cell_type": "markdown",
   "id": "181a2104",
   "metadata": {},
   "source": [
    "### Valor Futuro\n",
    "Valor futuro é uma projeção do dinheiro em algum momento do futuro e para isso é necessário considerar os efeitos dos juros. \n",
    "\n",
    "### Valor Presente\n",
    "De forma análoga, valor presente é representação do dinheiro que deve ser aplicado para em que atinja o montante desejado em algum momento do futuro, considerando os efeitos dos juros. \n",
    "\n",
    "### Taxa de Juros\n",
    "Podemos dizer que a taxa de juros ($r$) é o custo do risco que estamos correndo com um investimento, por isso que quanto mais arriscado ele é maior é o retorno. O juros está atrelado à uma frequência i.e. a cada ciclo que o dinheiro completa, há um acréscimo de $r$ ao investimento.\n",
    "\n",
    "É importante saber manipular a unidade de capitalização do juros para, por exemplo, comparar alternativas de investimentos. Dessa forma, a taxa de juros é chamada de _efetiva_ quando a unidade temporal é a mesma do período de cobrança. Agora, quando a unidade temporal é diferente do período de cobrança a taxa de juros é chamada de _nominal_.\n",
    "\n",
    "$$\n",
    "r_\\textit{efetiva} = \\Biggr({1 + \\frac{r_\\textit{nominal}}{\\frac {t_\\textit{efetivo} }{ t_\\textit{nominal}}}}\\Biggr)^{\\frac {t_\\textit{efetivo} }{ t_\\textit{nominal}}} - 1\n",
    "$$\n",
    "\n",
    "Onde:\n",
    "\n",
    "$r_\\textit{efetiva:}$ Taxa de Juros efetiva\n",
    "\n",
    "$r_\\textit{nominal:}$ Taxa de Juros nominal\n",
    "\n",
    "$t_\\textit{efetivo:}$ Unidade temporal de capitalização efetiva equivalente\n",
    "\n",
    "$t_\\textit{nominal:}$ Unidade temporal de capitalização nominal\n",
    "\n",
    "### Juros Simples\n",
    "É o tipo de capitalização que aplica a taxa de juros apenas sobre o valor inicial investido, ou seja, os juros gerados ao longo tempo não são reinvestidos. Na prática significa que, ao final de cada período, o credor recebe os juros - este valor é constante a cada ciclo independente do tempo em investimento - comportamento de progressão aritmética. Juros simples não são utilizados nas finanças das empresas.\n",
    "\n",
    "$$ \\ \\textit{VF} = \\textit{VP} \\cdot (1+r \\cdot t) $$\n",
    "\n",
    "Onde:\n",
    "\n",
    "$\\textit{VF:}$ Valor Futuro\n",
    "\n",
    "$\\textit{VP:}$ Valor Presente\n",
    "\n",
    "$r:$ Taxa de Juros\n",
    "\n",
    "$t:$ Períodos de Investimento\n",
    "\n",
    "### Juros Compostos\n",
    "É o tipo de capitalização que, ao final de cada período de investimento, os juros anteriores passam a ser considerados no montante de investimento - efeito juros sobre juros. Neste caso o credor só recebe os juros quando retira o dinheiro investido.\n",
    "\n",
    "$$ \\ \\textit{VF} = \\textit{VP} \\cdot (1+r)^t $$\n",
    "\n",
    "Onde:\n",
    "\n",
    "$\\textit{VF:}$ Valor Futuro\n",
    "\n",
    "$\\textit{VP:}$ Valor Presente\n",
    "\n",
    "$r:$ Taxa de Juros\n",
    "\n",
    "$t:$ Períodos de Investimento\n",
    "\n",
    "### Sistemas de Amortização\n",
    "Os sistemas de amortização são opções utilizadas no mercado para o pagamento de financiamente ou empréstimos. Todo sistema de amortização possui quatro partes: juros, amortização, prestação e saldo devedor.\n",
    "\n",
    "* **Sistema Bullet:** Pagamento em parcela única e no vencimento.\n",
    "* **Sistema Americano:** Pagamento periódicos de juros e o principal é amortizado no vencimento.\n",
    "* **Sistema Constante (SAC):** Amortizações constantes, com juros e prestações decrescentes.\n",
    "* **Sistema Francês (PRICE ou SAF):** Prestações periódicas e constantes, com juros decrescentes e amortização crescente.\n",
    "\n",
    "\n",
    "### Valor presente líquido (VPL)\n",
    "É o valor que retorna do valor de venda já abatendo o custo do investimento, considera o efeito do tempo e o risco do negócio i.e. é a diferença entre o valor de mercado de um investimento e o seu custo. Quando VPL é positivo entende-se que o projeto aumenta a riqueza do acionista.\n",
    "\n",
    "$$\n",
    "\\textit{VPL} = custo + \\sum_{t=1}^{T}\\, \\frac{\\textit{FC}_t}{(1 + r)^t} \n",
    "$$\n",
    "\n",
    "Onde:\n",
    "\n",
    "$\\textit{VPL:}$ Valor Presente Líquido\n",
    "\n",
    "$\\textit{custo:}$ Custo do Investimento\n",
    "\n",
    "$\\textit{FC:}$ Fluxo de Caixa líquido dos benefícios\n",
    "\n",
    "$r:$ Taxa de Retorno exigida\n",
    "\n",
    "$t:$ Períodos de Investimento\n",
    "\n",
    "### Taxa interna de retorno (TIR)\n",
    "É a taxa de retorno de um investimento que resulta em VPL igual a zero. Se a TIR for maior ou igual a taxa mínima de atratividade (TMA) oferecida, o projeto aumenta a riqueza do acionista. \n",
    "\n",
    "$$\n",
    "\\textit{VPL} = 0 = custo + \\sum_{t=1}^{T}\\, \\frac{\\textit{FC}_t}{(1 + \\textit{TIR})^t} \n",
    "$$\n",
    "\n",
    "Onde:\n",
    "\n",
    "$\\textit{VPL:}$ Valor Presente Líquido\n",
    "\n",
    "$\\textit{custo:}$ Custo do Investimento\n",
    "\n",
    "$\\textit{FC:}$ Fluxo de Caixa líquido dos benefícios\n",
    "\n",
    "$\\textit{TIR:}$ Taxa interna de retorno\n",
    "\n",
    "$t:$ Períodos de Investimento"
   ]
  },
  {
   "cell_type": "markdown",
   "id": "e185c3eb",
   "metadata": {},
   "source": [
    "## Python aplicado à matemática financeira"
   ]
  },
  {
   "cell_type": "code",
   "execution_count": 24,
   "id": "1b6d9938",
   "metadata": {},
   "outputs": [],
   "source": [
    "def VF(VP, r, t, tipo = 'compostos', recorrente= 0):\n",
    "    '''\n",
    "    Esta função calcula o valor presente, é sensível para juros compostos ou simples, além de aportes recorrentes.\n",
    "    '''\n",
    "    VF = 0\n",
    "    if tipo == 'simples':\n",
    "        if recorrente == 0:\n",
    "            VF = VP * (1 + r * t)\n",
    "        else:\n",
    "            for x in range(t):\n",
    "                VF = VF + VP * (1 + r * x)\n",
    "    else:\n",
    "        if recorrente == 0:\n",
    "            VF = VP * (1 + r) ** t\n",
    "        else:\n",
    "            for x in range(t):\n",
    "                VF = VF + VP * (1 + r) ** x\n",
    "\n",
    "    return round(VF, 2)"
   ]
  },
  {
   "cell_type": "code",
   "execution_count": 25,
   "id": "d2bb4e9e",
   "metadata": {},
   "outputs": [],
   "source": [
    "def VP(VF, r, t, tipo = 'compostos'):\n",
    "    '''\n",
    "    Esta função calcula o valor presente e é sensível para juros compostos ou simples.\n",
    "    '''\n",
    "    if tipo == 'simples':\n",
    "        VP = VF / (1 + r * t)\n",
    "    else:\n",
    "        VP = VF / (1 + r) ** t\n",
    "    return round(VP, 2)"
   ]
  },
  {
   "cell_type": "code",
   "execution_count": 26,
   "id": "ccde27d9",
   "metadata": {},
   "outputs": [],
   "source": [
    "def r(VP, VF, t, tipo = 'compostos'):\n",
    "    '''\n",
    "    Esta função calcula a taxa de juros, sejam compostos ou simples.\n",
    "    '''\n",
    "    if tipo == 'simples':\n",
    "        r = ((VF / VP) - 1)/t\n",
    "    else:\n",
    "        r = (VF / VP)**(1 / t) - 1\n",
    "    return round(r, 4)"
   ]
  },
  {
   "cell_type": "code",
   "execution_count": 27,
   "id": "62bc8d72",
   "metadata": {},
   "outputs": [],
   "source": [
    "import math\n",
    "\n",
    "def t(VP, VF, r, tipo = 'compostos'):\n",
    "    '''\n",
    "    Esta função calcula o tempo necessário de investimento e é sensível para juros compostos ou simples.\n",
    "    '''\n",
    "    if tipo == 'simples':\n",
    "        t = ((VF / VP) - 1)/r\n",
    "    else:\n",
    "        t = math.log((VF/VP), (1 + r))\n",
    "    return round(t, 2)"
   ]
  },
  {
   "cell_type": "code",
   "execution_count": 28,
   "id": "2a8af9e8",
   "metadata": {},
   "outputs": [],
   "source": [
    "def PMT(VP, r, t, tipo = 'postecipada', arred = 1):\n",
    "    '''\n",
    "    Esta função calcula o valor da percela de um financiamento e é sensível para pagamento antecipado ou postecipado.\n",
    "    '''\n",
    "    fator = (1 + r) ** t\n",
    "    if tipo == 'antecipada':\n",
    "        PMT =  VP *((r * fator)/((1 + r)*(fator - 1)))\n",
    "    else:\n",
    "        PMT =  VP *((r * fator)/(fator - 1))\n",
    "    if arred == 1:\n",
    "        return round(PMT, 2)\n",
    "    else:\n",
    "        return PMT"
   ]
  },
  {
   "cell_type": "code",
   "execution_count": 29,
   "id": "63ec11a5",
   "metadata": {},
   "outputs": [],
   "source": [
    "def taxa_efetiva(r, periodos):\n",
    "    '''\n",
    "    Esta função calcula a taxa de juros efetiva a partir de uma taxa de juros nominal.\n",
    "    '''\n",
    "    taxa_efetiva = (1 + r / periodos) ** periodos - 1\n",
    "    return round(taxa_efetiva, 4)"
   ]
  },
  {
   "cell_type": "code",
   "execution_count": 31,
   "id": "23a2e825",
   "metadata": {},
   "outputs": [],
   "source": [
    "import pandas as pd\n",
    "\n",
    "def amortização(VP, r, t, sistema = 'bullet'):\n",
    "    '''\n",
    "    Esta função calcula a planilha de amortização para os principais sistemas de amortização: bullet, americano, price ou sac.\n",
    "    '''\n",
    "    \n",
    "    ano = []\n",
    "    prestação = []\n",
    "    amortização = []\n",
    "    juros = []\n",
    "    saldo = []\n",
    "    if sistema == 'bullet':\n",
    "        for x in range(t+1):\n",
    "            \n",
    "            p = VF(VP, r, t) if x == t else 0\n",
    "            m = VP if x == t else 0\n",
    "            j = p - m\n",
    "            s = 0 if x == t else saldo[-1] * (1 + r) if x > 0 else VP\n",
    "            \n",
    "            ano.append(x)\n",
    "            prestação.append(round(p, 4))\n",
    "            amortização.append(round(m, 4))\n",
    "            juros.append(round(j, 4))\n",
    "            saldo.append(round(s, 4))\n",
    "        \n",
    "    if sistema == 'americano':\n",
    "        for x in range(t+1):\n",
    "            \n",
    "            m = VP if x == t else 0\n",
    "            j = r * VP\n",
    "            p = m + j\n",
    "            s = VP if x != t else 0\n",
    "            \n",
    "            ano.append(x)\n",
    "            prestação.append(round(p, 4))\n",
    "            amortização.append(round(m, 4))\n",
    "            juros.append(round(j, 4))\n",
    "            saldo.append(round(s, 4))\n",
    "            \n",
    "    if sistema == 'price':\n",
    "        for x in range(t+1):\n",
    "            \n",
    "            p = PMT(VP, r, t, arred=0)\n",
    "            j = saldo[-1] * r if x > 0 else 0\n",
    "            m = p - j if x > 0 else 0\n",
    "            s = saldo[-1] - m if x > 0 else VP\n",
    "            \n",
    "            \n",
    "            ano.append(x)\n",
    "            prestação.append(round(p, 4))\n",
    "            amortização.append(round(m, 4))\n",
    "            juros.append(round(j, 4))\n",
    "            saldo.append(round(s, 4))\n",
    "            \n",
    "    if sistema == 'sac':\n",
    "        for x in range(t+1):\n",
    "            \n",
    "            m = VP/t if x > 0 else 0\n",
    "            j = saldo[-1] * r if x > 0 else 0\n",
    "            p = m + j if x > 0 else 0\n",
    "            s = saldo[-1] - m if x > 0 else VP\n",
    "            \n",
    "            \n",
    "            ano.append(x)\n",
    "            prestação.append(round(p, 4))\n",
    "            amortização.append(round(m, 4))\n",
    "            juros.append(round(j, 4))\n",
    "            saldo.append(round(s, 4))\n",
    "            \n",
    "    data = pd.DataFrame({'ano': ano, 'juros': juros, 'amortização': amortização, 'prestação': prestação, 'saldo': saldo})\n",
    "    return data.round(2)"
   ]
  },
  {
   "cell_type": "code",
   "execution_count": 32,
   "id": "e4bc7710",
   "metadata": {},
   "outputs": [],
   "source": [
    "def TIR(custo, receita):\n",
    "    '''\n",
    "    Esta função calcula a taxa interna de retorno considerando o investimento inicial e a receita ao longo do período.\n",
    "    '''\n",
    "    \n",
    "    receita_soma = abs(custo) + 1\n",
    "    passo = 0.000001\n",
    "    r = 0\n",
    "    while abs(custo) <= receita_soma:\n",
    "        y = 1\n",
    "        receita_soma = 0\n",
    "        for x in receita:\n",
    "            receita_ajustada = x / (1 + r )** y\n",
    "            receita_soma = receita_soma + receita_ajustada\n",
    "            \n",
    "            y = 1 + y \n",
    "        r = r + passo\n",
    "    return round(r, 4)"
   ]
  },
  {
   "cell_type": "code",
   "execution_count": 33,
   "id": "37af317d",
   "metadata": {},
   "outputs": [],
   "source": [
    "def VPL(custo, receita, r):\n",
    "    '''\n",
    "    Esta função calcula o valor presente líquido considerando o investimento inicial, a receita ao longo do período e os juros.\n",
    "    '''\n",
    "    \n",
    "    y = 1\n",
    "    receita_soma = 0\n",
    "    t = len(receita)\n",
    "    for x in receita:\n",
    "        receita_ajustada = x / (1 + r )** y\n",
    "        receita_soma = receita_soma + receita_ajustada\n",
    "        y = 1 + y\n",
    "    VPL = custo + receita_soma\n",
    "    return round(VPL, 2)"
   ]
  },
  {
   "cell_type": "markdown",
   "id": "9cf6ec65",
   "metadata": {},
   "source": [
    "## Exercícios"
   ]
  },
  {
   "cell_type": "markdown",
   "id": "d5ba5385",
   "metadata": {},
   "source": [
    "**Projeto 1.** Você fará um investimento com dois aportes, um hoje no valor de 20.000 BRL e o outro em dois anos, no valor de 30.000 BRL. Se a taxa oferecida pelo banco é igual a 8% a.a., qual o valor futuro do seu investimento daqui a 5 anos?"
   ]
  },
  {
   "cell_type": "code",
   "execution_count": 34,
   "id": "b4500b74",
   "metadata": {},
   "outputs": [
    {
     "data": {
      "text/plain": [
       "67177.92"
      ]
     },
     "execution_count": 34,
     "metadata": {},
     "output_type": "execute_result"
    }
   ],
   "source": [
    "VF(20000, 0.08, 5) + VF(30000, 0.08, 3)"
   ]
  },
  {
   "cell_type": "markdown",
   "id": "d7550a17",
   "metadata": {},
   "source": [
    "**Projeto 2.** Uma empresa contrai uma dívida no valor hoje de 186.000 BRL com prazo de 12 meses. A empresa planeja pagar 93.000 BRL daqui a 9 meses para reduzir o valor do pagamento no vencimento. Caso o credor concorde em receber este valor, quanto faltará a ser pago no vencimento, sabendo que a taxa de financiamento é de 3.5% a.t.?"
   ]
  },
  {
   "cell_type": "code",
   "execution_count": 154,
   "id": "550bf208",
   "metadata": {},
   "outputs": [
    {
     "data": {
      "text/plain": [
       "117184.27"
      ]
     },
     "execution_count": 154,
     "metadata": {},
     "output_type": "execute_result"
    }
   ],
   "source": [
    "VF(\n",
    "    VF(186000, 0.035, 3) \n",
    "    - 93000, 0.035, 1)"
   ]
  },
  {
   "cell_type": "markdown",
   "id": "6317cf50",
   "metadata": {},
   "source": [
    "**Projeto 3.** A empresa XYZ comprou um equipamento cujo valor a vista era de 170.000 BRL. A empresa pagou 30% de entrada e concordou em financiar o restante a uma taxa de juros de 1.02% a.m.. Se a empresa pagar ao banco 45.000 BRL nove meses após a compra e 55.000 BRL quinze meses após a compra, quanto precisará pagar para liquidar o financiamento três anos após a compra? Supor juros compostos."
   ]
  },
  {
   "cell_type": "code",
   "execution_count": 40,
   "id": "b954bf3a",
   "metadata": {},
   "outputs": [],
   "source": [
    "custo_equip = 170000\n",
    "divida = 0.7 * custo_equip\n",
    "r = 0.0102\n",
    "pgto9 = 45000\n",
    "pgto15 = 55000"
   ]
  },
  {
   "cell_type": "code",
   "execution_count": 155,
   "id": "a3c48b69",
   "metadata": {},
   "outputs": [
    {
     "data": {
      "text/plain": [
       "44230.51"
      ]
     },
     "execution_count": 155,
     "metadata": {},
     "output_type": "execute_result"
    }
   ],
   "source": [
    "VF( \n",
    "    VF( \n",
    "        VF(divida, r, 9) \n",
    "        - pgto9, r, 6) \n",
    "    - pgto15, r, 21)"
   ]
  },
  {
   "cell_type": "markdown",
   "id": "bd3e19dd",
   "metadata": {},
   "source": [
    "**Projeto 4.** Você foi ao banco solicitar um financiamento para sua empresa no valor de 500.000 BRL. O financiamento deve ser pago em 5 anos em prestações mensais e iguais, com uma taxa de 1,2% a.m.. Calcule a prestação do empréstimo para as duas possibilidades oferecidas:\n",
    "\n",
    "1. Primeira parcela paga 3 meses após o acordo.\n",
    "2. Entrada de 10% e financiamento do restante 6 meses após o acordo."
   ]
  },
  {
   "cell_type": "code",
   "execution_count": 45,
   "id": "46341a83",
   "metadata": {},
   "outputs": [
    {
     "data": {
      "text/plain": [
       "12021.48"
      ]
     },
     "execution_count": 45,
     "metadata": {},
     "output_type": "execute_result"
    }
   ],
   "source": [
    "# opção 1\n",
    "PMT(VF(500000, 0.012, 2), 0.012, 60)"
   ]
  },
  {
   "cell_type": "code",
   "execution_count": 46,
   "id": "eea5acfe",
   "metadata": {},
   "outputs": [
    {
     "data": {
      "text/plain": [
       "11213.52"
      ]
     },
     "execution_count": 46,
     "metadata": {},
     "output_type": "execute_result"
    }
   ],
   "source": [
    "# opção 2\n",
    "PMT(VF(500000 * 0.9, 0.012, 5), 0.012, 60)"
   ]
  },
  {
   "cell_type": "markdown",
   "id": "a7b01df8",
   "metadata": {},
   "source": [
    "**Projeto 5.** Você tomou um financiamento de 75.000 BRL, para ser pago em 15 prestações mensais, iguais e postecipadas a uma taxa de 1% a.m.. Imediatamente após o nono pagamento, você propôs uma renegociação ao banco, que aceitou refinanciar em 15 prestações mensais o restante, todas do mesmo valor, a serem pagas a partir do final do décimo mês. Determine o valor das novas prestações mensais, sabendo que a taxa de juros da operação permanence a mesma."
   ]
  },
  {
   "cell_type": "code",
   "execution_count": 51,
   "id": "7e14b93b",
   "metadata": {},
   "outputs": [],
   "source": [
    "# cálculo das 15 parcelas mensais\n",
    "parcela_15 = PMT(75000, 0.01, 15)"
   ]
  },
  {
   "cell_type": "code",
   "execution_count": 54,
   "id": "ad4ebebd",
   "metadata": {},
   "outputs": [],
   "source": [
    "# cálculo do valor restante corrigido no tempo\n",
    "valor_restante = VF(75000, 0.01, 9) - VF(parcela_15, 0.01, 9, recorrente=1)"
   ]
  },
  {
   "cell_type": "code",
   "execution_count": 56,
   "id": "b3c7db4d",
   "metadata": {},
   "outputs": [
    {
     "data": {
      "text/plain": [
       "2261.04"
      ]
     },
     "execution_count": 56,
     "metadata": {},
     "output_type": "execute_result"
    }
   ],
   "source": [
    "# cálculo das novas 15 parcelas mensais\n",
    "PMT(valor_restante, 0.01, 15)"
   ]
  },
  {
   "cell_type": "markdown",
   "id": "2e9eb184",
   "metadata": {},
   "source": [
    "**Projeto 6.** Uma empresa, precisando deseperadamente de 100.000 BRL, foi a um banco que lhe ofereceu três possibilidades de financiamento. Determine o valor das prestações, sabendo que o financiamento deve ser pago em 24 prestações mensais e iguais, com uma taxa de 1.8% a.m., sendo que:\n",
    "\n",
    "1. a primeira prestação é paga um mês após a liberação do crédito;\n",
    "2. a primeira prestação é paga a vista;\n",
    "3. a primeira prestação é paga 6 meses após a liberação do crédito."
   ]
  },
  {
   "cell_type": "code",
   "execution_count": 57,
   "id": "ded685a7",
   "metadata": {},
   "outputs": [
    {
     "data": {
      "text/plain": [
       "5168.08"
      ]
     },
     "execution_count": 57,
     "metadata": {},
     "output_type": "execute_result"
    }
   ],
   "source": [
    "# opção 1\n",
    "PMT(100000, 0.018, 24)"
   ]
  },
  {
   "cell_type": "code",
   "execution_count": 58,
   "id": "6ccd53ad",
   "metadata": {},
   "outputs": [
    {
     "data": {
      "text/plain": [
       "5076.7"
      ]
     },
     "execution_count": 58,
     "metadata": {},
     "output_type": "execute_result"
    }
   ],
   "source": [
    "# opção 2\n",
    "PMT(100000, 0.018, 24, tipo = 'antecipada')"
   ]
  },
  {
   "cell_type": "code",
   "execution_count": 59,
   "id": "7e05cc07",
   "metadata": {},
   "outputs": [
    {
     "data": {
      "text/plain": [
       "5780.39"
      ]
     },
     "execution_count": 59,
     "metadata": {},
     "output_type": "execute_result"
    }
   ],
   "source": [
    "# opção 3\n",
    "PMT(VF(100000, 0.018, 5), 0.02, 24)"
   ]
  },
  {
   "cell_type": "markdown",
   "id": "c5107a2e",
   "metadata": {},
   "source": [
    "**Projeto 7.** Você recebeu consultou 4 bancos para fazer um empréstimo e cada um captaliza em períodos diferentes. Encontre as taxas efetivas anualizadas:\n",
    "* Banco A: 8% a.a. capitalizados semestralmente;\n",
    "* Banco B: 8% a.a. capitalizados trimestralmente;\n",
    "* Banco C: 8% a.a. capitalizados mensalmente;\n",
    "* Banco D: 8% a.a. capitalizados diariamente (suponha 365 dias corridos)."
   ]
  },
  {
   "cell_type": "code",
   "execution_count": 63,
   "id": "3e179c36",
   "metadata": {},
   "outputs": [
    {
     "data": {
      "text/plain": [
       "0.0816"
      ]
     },
     "execution_count": 63,
     "metadata": {},
     "output_type": "execute_result"
    }
   ],
   "source": [
    "# banco A\n",
    "taxa_efetiva(0.08, 2)"
   ]
  },
  {
   "cell_type": "code",
   "execution_count": 64,
   "id": "0e17194b",
   "metadata": {},
   "outputs": [
    {
     "data": {
      "text/plain": [
       "0.0824"
      ]
     },
     "execution_count": 64,
     "metadata": {},
     "output_type": "execute_result"
    }
   ],
   "source": [
    "# banco B\n",
    "taxa_efetiva(0.08, 4)"
   ]
  },
  {
   "cell_type": "code",
   "execution_count": 65,
   "id": "417d8dc9",
   "metadata": {},
   "outputs": [
    {
     "data": {
      "text/plain": [
       "0.083"
      ]
     },
     "execution_count": 65,
     "metadata": {},
     "output_type": "execute_result"
    }
   ],
   "source": [
    "# banco C\n",
    "taxa_efetiva(0.08, 12)"
   ]
  },
  {
   "cell_type": "code",
   "execution_count": 66,
   "id": "984129fa",
   "metadata": {},
   "outputs": [
    {
     "data": {
      "text/plain": [
       "0.0833"
      ]
     },
     "execution_count": 66,
     "metadata": {},
     "output_type": "execute_result"
    }
   ],
   "source": [
    "# banco D\n",
    "taxa_efetiva(0.08, 365)"
   ]
  },
  {
   "cell_type": "markdown",
   "id": "8d30fc5e",
   "metadata": {},
   "source": [
    "**Projeto 8.** Um empresário, necessitando capital de giro, resolve captar recursos. O Banco A \n",
    "cobra em seus financiamentos uma taxa de 35% a.a., capitalizados anualmente, enquanto o Banco \n",
    "B é de 30.5% a.a. capitalizados mensalmente. Qual a melhor taxa para o empresário?"
   ]
  },
  {
   "cell_type": "code",
   "execution_count": 70,
   "id": "a67c0019",
   "metadata": {},
   "outputs": [
    {
     "data": {
      "text/plain": [
       "0.3515"
      ]
     },
     "execution_count": 70,
     "metadata": {},
     "output_type": "execute_result"
    }
   ],
   "source": [
    "taxa_efetiva(0.305, 12)"
   ]
  },
  {
   "cell_type": "markdown",
   "id": "70fba071",
   "metadata": {},
   "source": [
    "**Projeto 9.** Em dezembro de 2021 um banco concedeu para a sua empresa um empréstimo de uma linha de crédito especial para pagamento de 13º salário no valor de 100.000 BRL, sem prazo de carência. O empréstimo deveria ser liquidado em 12 parcelas mensais (ao longo de 2022). A taxa nominal definida em contrato foi de 14.5% ao ano. Você sabe que os juros da operação financeira são capitalizados mensalmente.\n",
    "\n",
    "1. Qual é a taxa efetiva anual da operação?\n",
    "2. Construa a planilha de amortização desse empréstimo para os sistemas SAF e SAC."
   ]
  },
  {
   "cell_type": "code",
   "execution_count": 117,
   "id": "5fd175dd",
   "metadata": {},
   "outputs": [
    {
     "data": {
      "text/plain": [
       "0.155"
      ]
     },
     "execution_count": 117,
     "metadata": {},
     "output_type": "execute_result"
    }
   ],
   "source": [
    "taxa_efetiva(0.145, 12)"
   ]
  },
  {
   "cell_type": "code",
   "execution_count": 120,
   "id": "ce523099",
   "metadata": {},
   "outputs": [
    {
     "data": {
      "text/html": [
       "<div>\n",
       "<style scoped>\n",
       "    .dataframe tbody tr th:only-of-type {\n",
       "        vertical-align: middle;\n",
       "    }\n",
       "\n",
       "    .dataframe tbody tr th {\n",
       "        vertical-align: top;\n",
       "    }\n",
       "\n",
       "    .dataframe thead th {\n",
       "        text-align: right;\n",
       "    }\n",
       "</style>\n",
       "<table border=\"1\" class=\"dataframe\">\n",
       "  <thead>\n",
       "    <tr style=\"text-align: right;\">\n",
       "      <th></th>\n",
       "      <th>ano</th>\n",
       "      <th>juros</th>\n",
       "      <th>amortização</th>\n",
       "      <th>prestação</th>\n",
       "      <th>saldo</th>\n",
       "    </tr>\n",
       "  </thead>\n",
       "  <tbody>\n",
       "    <tr>\n",
       "      <th>0</th>\n",
       "      <td>0</td>\n",
       "      <td>0.00</td>\n",
       "      <td>0.00</td>\n",
       "      <td>0.00</td>\n",
       "      <td>100000.00</td>\n",
       "    </tr>\n",
       "    <tr>\n",
       "      <th>1</th>\n",
       "      <td>1</td>\n",
       "      <td>1208.33</td>\n",
       "      <td>8333.33</td>\n",
       "      <td>9541.67</td>\n",
       "      <td>91666.67</td>\n",
       "    </tr>\n",
       "    <tr>\n",
       "      <th>2</th>\n",
       "      <td>2</td>\n",
       "      <td>1107.64</td>\n",
       "      <td>8333.33</td>\n",
       "      <td>9440.97</td>\n",
       "      <td>83333.33</td>\n",
       "    </tr>\n",
       "    <tr>\n",
       "      <th>3</th>\n",
       "      <td>3</td>\n",
       "      <td>1006.94</td>\n",
       "      <td>8333.33</td>\n",
       "      <td>9340.28</td>\n",
       "      <td>75000.00</td>\n",
       "    </tr>\n",
       "    <tr>\n",
       "      <th>4</th>\n",
       "      <td>4</td>\n",
       "      <td>906.25</td>\n",
       "      <td>8333.33</td>\n",
       "      <td>9239.58</td>\n",
       "      <td>66666.67</td>\n",
       "    </tr>\n",
       "    <tr>\n",
       "      <th>5</th>\n",
       "      <td>5</td>\n",
       "      <td>805.56</td>\n",
       "      <td>8333.33</td>\n",
       "      <td>9138.89</td>\n",
       "      <td>58333.33</td>\n",
       "    </tr>\n",
       "    <tr>\n",
       "      <th>6</th>\n",
       "      <td>6</td>\n",
       "      <td>704.86</td>\n",
       "      <td>8333.33</td>\n",
       "      <td>9038.19</td>\n",
       "      <td>50000.00</td>\n",
       "    </tr>\n",
       "    <tr>\n",
       "      <th>7</th>\n",
       "      <td>7</td>\n",
       "      <td>604.17</td>\n",
       "      <td>8333.33</td>\n",
       "      <td>8937.50</td>\n",
       "      <td>41666.67</td>\n",
       "    </tr>\n",
       "    <tr>\n",
       "      <th>8</th>\n",
       "      <td>8</td>\n",
       "      <td>503.47</td>\n",
       "      <td>8333.33</td>\n",
       "      <td>8836.81</td>\n",
       "      <td>33333.33</td>\n",
       "    </tr>\n",
       "    <tr>\n",
       "      <th>9</th>\n",
       "      <td>9</td>\n",
       "      <td>402.78</td>\n",
       "      <td>8333.33</td>\n",
       "      <td>8736.11</td>\n",
       "      <td>25000.00</td>\n",
       "    </tr>\n",
       "    <tr>\n",
       "      <th>10</th>\n",
       "      <td>10</td>\n",
       "      <td>302.08</td>\n",
       "      <td>8333.33</td>\n",
       "      <td>8635.42</td>\n",
       "      <td>16666.67</td>\n",
       "    </tr>\n",
       "    <tr>\n",
       "      <th>11</th>\n",
       "      <td>11</td>\n",
       "      <td>201.39</td>\n",
       "      <td>8333.33</td>\n",
       "      <td>8534.72</td>\n",
       "      <td>8333.33</td>\n",
       "    </tr>\n",
       "    <tr>\n",
       "      <th>12</th>\n",
       "      <td>12</td>\n",
       "      <td>100.69</td>\n",
       "      <td>8333.33</td>\n",
       "      <td>8434.03</td>\n",
       "      <td>0.00</td>\n",
       "    </tr>\n",
       "  </tbody>\n",
       "</table>\n",
       "</div>"
      ],
      "text/plain": [
       "    ano    juros  amortização  prestação      saldo\n",
       "0     0     0.00         0.00       0.00  100000.00\n",
       "1     1  1208.33      8333.33    9541.67   91666.67\n",
       "2     2  1107.64      8333.33    9440.97   83333.33\n",
       "3     3  1006.94      8333.33    9340.28   75000.00\n",
       "4     4   906.25      8333.33    9239.58   66666.67\n",
       "5     5   805.56      8333.33    9138.89   58333.33\n",
       "6     6   704.86      8333.33    9038.19   50000.00\n",
       "7     7   604.17      8333.33    8937.50   41666.67\n",
       "8     8   503.47      8333.33    8836.81   33333.33\n",
       "9     9   402.78      8333.33    8736.11   25000.00\n",
       "10   10   302.08      8333.33    8635.42   16666.67\n",
       "11   11   201.39      8333.33    8534.72    8333.33\n",
       "12   12   100.69      8333.33    8434.03       0.00"
      ]
     },
     "execution_count": 120,
     "metadata": {},
     "output_type": "execute_result"
    }
   ],
   "source": [
    "amortização(100000, 0.145/12, 12, sistema='sac')"
   ]
  },
  {
   "cell_type": "code",
   "execution_count": 122,
   "id": "b2e89945",
   "metadata": {},
   "outputs": [
    {
     "data": {
      "text/html": [
       "<div>\n",
       "<style scoped>\n",
       "    .dataframe tbody tr th:only-of-type {\n",
       "        vertical-align: middle;\n",
       "    }\n",
       "\n",
       "    .dataframe tbody tr th {\n",
       "        vertical-align: top;\n",
       "    }\n",
       "\n",
       "    .dataframe thead th {\n",
       "        text-align: right;\n",
       "    }\n",
       "</style>\n",
       "<table border=\"1\" class=\"dataframe\">\n",
       "  <thead>\n",
       "    <tr style=\"text-align: right;\">\n",
       "      <th></th>\n",
       "      <th>ano</th>\n",
       "      <th>juros</th>\n",
       "      <th>amortização</th>\n",
       "      <th>prestação</th>\n",
       "      <th>saldo</th>\n",
       "    </tr>\n",
       "  </thead>\n",
       "  <tbody>\n",
       "    <tr>\n",
       "      <th>0</th>\n",
       "      <td>0</td>\n",
       "      <td>0.00</td>\n",
       "      <td>0.00</td>\n",
       "      <td>9002.25</td>\n",
       "      <td>100000.00</td>\n",
       "    </tr>\n",
       "    <tr>\n",
       "      <th>1</th>\n",
       "      <td>1</td>\n",
       "      <td>1208.33</td>\n",
       "      <td>7793.92</td>\n",
       "      <td>9002.25</td>\n",
       "      <td>92206.08</td>\n",
       "    </tr>\n",
       "    <tr>\n",
       "      <th>2</th>\n",
       "      <td>2</td>\n",
       "      <td>1114.16</td>\n",
       "      <td>7888.10</td>\n",
       "      <td>9002.25</td>\n",
       "      <td>84317.98</td>\n",
       "    </tr>\n",
       "    <tr>\n",
       "      <th>3</th>\n",
       "      <td>3</td>\n",
       "      <td>1018.84</td>\n",
       "      <td>7983.41</td>\n",
       "      <td>9002.25</td>\n",
       "      <td>76334.57</td>\n",
       "    </tr>\n",
       "    <tr>\n",
       "      <th>4</th>\n",
       "      <td>4</td>\n",
       "      <td>922.38</td>\n",
       "      <td>8079.88</td>\n",
       "      <td>9002.25</td>\n",
       "      <td>68254.69</td>\n",
       "    </tr>\n",
       "    <tr>\n",
       "      <th>5</th>\n",
       "      <td>5</td>\n",
       "      <td>824.74</td>\n",
       "      <td>8177.51</td>\n",
       "      <td>9002.25</td>\n",
       "      <td>60077.18</td>\n",
       "    </tr>\n",
       "    <tr>\n",
       "      <th>6</th>\n",
       "      <td>6</td>\n",
       "      <td>725.93</td>\n",
       "      <td>8276.32</td>\n",
       "      <td>9002.25</td>\n",
       "      <td>51800.86</td>\n",
       "    </tr>\n",
       "    <tr>\n",
       "      <th>7</th>\n",
       "      <td>7</td>\n",
       "      <td>625.93</td>\n",
       "      <td>8376.33</td>\n",
       "      <td>9002.25</td>\n",
       "      <td>43424.53</td>\n",
       "    </tr>\n",
       "    <tr>\n",
       "      <th>8</th>\n",
       "      <td>8</td>\n",
       "      <td>524.71</td>\n",
       "      <td>8477.54</td>\n",
       "      <td>9002.25</td>\n",
       "      <td>34946.99</td>\n",
       "    </tr>\n",
       "    <tr>\n",
       "      <th>9</th>\n",
       "      <td>9</td>\n",
       "      <td>422.28</td>\n",
       "      <td>8579.98</td>\n",
       "      <td>9002.25</td>\n",
       "      <td>26367.01</td>\n",
       "    </tr>\n",
       "    <tr>\n",
       "      <th>10</th>\n",
       "      <td>10</td>\n",
       "      <td>318.60</td>\n",
       "      <td>8683.65</td>\n",
       "      <td>9002.25</td>\n",
       "      <td>17683.36</td>\n",
       "    </tr>\n",
       "    <tr>\n",
       "      <th>11</th>\n",
       "      <td>11</td>\n",
       "      <td>213.67</td>\n",
       "      <td>8788.58</td>\n",
       "      <td>9002.25</td>\n",
       "      <td>8894.78</td>\n",
       "    </tr>\n",
       "    <tr>\n",
       "      <th>12</th>\n",
       "      <td>12</td>\n",
       "      <td>107.48</td>\n",
       "      <td>8894.78</td>\n",
       "      <td>9002.25</td>\n",
       "      <td>0.00</td>\n",
       "    </tr>\n",
       "  </tbody>\n",
       "</table>\n",
       "</div>"
      ],
      "text/plain": [
       "    ano    juros  amortização  prestação      saldo\n",
       "0     0     0.00         0.00    9002.25  100000.00\n",
       "1     1  1208.33      7793.92    9002.25   92206.08\n",
       "2     2  1114.16      7888.10    9002.25   84317.98\n",
       "3     3  1018.84      7983.41    9002.25   76334.57\n",
       "4     4   922.38      8079.88    9002.25   68254.69\n",
       "5     5   824.74      8177.51    9002.25   60077.18\n",
       "6     6   725.93      8276.32    9002.25   51800.86\n",
       "7     7   625.93      8376.33    9002.25   43424.53\n",
       "8     8   524.71      8477.54    9002.25   34946.99\n",
       "9     9   422.28      8579.98    9002.25   26367.01\n",
       "10   10   318.60      8683.65    9002.25   17683.36\n",
       "11   11   213.67      8788.58    9002.25    8894.78\n",
       "12   12   107.48      8894.78    9002.25       0.00"
      ]
     },
     "execution_count": 122,
     "metadata": {},
     "output_type": "execute_result"
    }
   ],
   "source": [
    "amortização(100000, 0.145/12, 12, sistema='price')"
   ]
  },
  {
   "cell_type": "markdown",
   "id": "4af20407",
   "metadata": {},
   "source": [
    "**Projeto 10.** Um negócio teve o fluxo de caixa anual (em milhares de reais) segundo os dados da \n",
    "tabela abaixo. Determine a rentabilidade deste negócio ao ano.\n",
    "\n",
    "| 2016       | 2017    | 2018    | 2019    | 2020    |\n",
    "|------------|---------|---------|---------|---------|\n",
    "| -1.000  | 800  | 600  | 900  | 700  |"
   ]
  },
  {
   "cell_type": "code",
   "execution_count": 123,
   "id": "a1759a90",
   "metadata": {},
   "outputs": [
    {
     "data": {
      "text/plain": [
       "0.65"
      ]
     },
     "execution_count": 123,
     "metadata": {},
     "output_type": "execute_result"
    }
   ],
   "source": [
    "TIR(-1000, [800, 600, 900, 700])"
   ]
  },
  {
   "cell_type": "markdown",
   "id": "9cff3c72",
   "metadata": {},
   "source": [
    "**Projeto 11.** Você está considerando o investimento numa banca de jornal. O investimento inicial total (incluindo a compra, despesas legais, de marketing etc.) é de 130.000 BRL. Os prognósticos simplificados de lucro da banca são de 52.000 BRL ao fim de cada ano. Suponha que você venderá a banca por 70.000 BRL ao fim do quinto ano do jeito que ela estiver. A taxa que você exige para um negócio desse porte é 25% ao ano."
   ]
  },
  {
   "cell_type": "code",
   "execution_count": 124,
   "id": "779ce4fa",
   "metadata": {},
   "outputs": [
    {
     "data": {
      "text/plain": [
       "0.354"
      ]
     },
     "execution_count": 124,
     "metadata": {},
     "output_type": "execute_result"
    }
   ],
   "source": [
    "TIR(-130000, [52000, 52000, 52000, 52000, 122000])"
   ]
  },
  {
   "cell_type": "code",
   "execution_count": 125,
   "id": "5686359a",
   "metadata": {},
   "outputs": [
    {
     "data": {
      "text/plain": [
       "173452.88"
      ]
     },
     "execution_count": 125,
     "metadata": {},
     "output_type": "execute_result"
    }
   ],
   "source": [
    "VPL(-130000, [52000, 52000, 52000, 52000, 122000], 0.025)"
   ]
  },
  {
   "cell_type": "markdown",
   "id": "e98c6d24",
   "metadata": {},
   "source": [
    "**Projeto 12.** Suponha que você esteja com exatos 200.000 BRL para investir em um dos dois projetos abaixo, de modo que eles sejam mutuamente excludentes. Considere que os projetos tenham o mesmo risco, de forma que a taxa de desconto utilizada seja a mesma para ambos. Determine a decisão a ser tomada em função da taxa de desconto utilizada (valores abaixo em milhares de reais). Para tal, calcule a TIR de cada projeto, bem como a taxa de equivalência entre eles (caso ela exista).\n",
    "\n",
    "| Ano      | Projeto A   | Projeto B    |\n",
    "|------------|---------|---------|\n",
    "| 0 | -200  | -200 |\n",
    "| 1 | 20  | 80  |\n",
    "| 2 | 10  | 50  |\n",
    "| 3 | 50  | 60  |\n",
    "| 4 | 80  | 20  |\n",
    "| 5 | 110 | 70  |"
   ]
  },
  {
   "cell_type": "code",
   "execution_count": 129,
   "id": "71bb6154",
   "metadata": {},
   "outputs": [
    {
     "data": {
      "text/plain": [
       "0.0806"
      ]
     },
     "execution_count": 129,
     "metadata": {},
     "output_type": "execute_result"
    }
   ],
   "source": [
    "# projeto A\n",
    "TIR(-200, [20, 10, 50, 80, 110])"
   ]
  },
  {
   "cell_type": "code",
   "execution_count": 130,
   "id": "ecce2871",
   "metadata": {},
   "outputs": [
    {
     "data": {
      "text/plain": [
       "0.134"
      ]
     },
     "execution_count": 130,
     "metadata": {},
     "output_type": "execute_result"
    }
   ],
   "source": [
    "# projeto B\n",
    "TIR(-200, [80, 50, 60, 20, 70])"
   ]
  },
  {
   "cell_type": "markdown",
   "id": "7c7892ce",
   "metadata": {},
   "source": [
    "**Projeto 13.** Uma empresa tem a sua disposição 10 milhões de reais para investir e possui os projetos abaixo disponíveis, todos independentes e com idênticos níveis de risco (considere uma taxa de desconto apropriada igual a 50%). Note que os projetos B e C podem ser escolhidos simultaneamente, dado que tal decisão respeitaria o limite de investimento da empresa. Dentro dessas condições, qual(is) projeto(s) a empresa deve escolher?\n",
    "\n",
    "| Projeto      | Ano 0   | Ano 1   | Ano 2   |\n",
    "|------------|---------|---------|---------|\n",
    "| A | -10 | 7 | 14 |\n",
    "| B | -5 | 6 | 5 |\n",
    "| C | -5 | 4 | 4 |"
   ]
  },
  {
   "cell_type": "code",
   "execution_count": 148,
   "id": "e5d10049",
   "metadata": {},
   "outputs": [],
   "source": [
    "a = [7, 13]\n",
    "b = [6, 5]\n",
    "c = [4, 4]"
   ]
  },
  {
   "cell_type": "code",
   "execution_count": 149,
   "id": "3d3230de",
   "metadata": {},
   "outputs": [
    {
     "data": {
      "text/plain": [
       "0.44"
      ]
     },
     "execution_count": 149,
     "metadata": {},
     "output_type": "execute_result"
    }
   ],
   "source": [
    "# projeto A\n",
    "VPL(-10, a, 0.5)"
   ]
  },
  {
   "cell_type": "code",
   "execution_count": 150,
   "id": "066d4987",
   "metadata": {},
   "outputs": [
    {
     "data": {
      "text/plain": [
       "1.22"
      ]
     },
     "execution_count": 150,
     "metadata": {},
     "output_type": "execute_result"
    }
   ],
   "source": [
    "# projeto B\n",
    "VPL(-5, b, 0.5)"
   ]
  },
  {
   "cell_type": "code",
   "execution_count": 151,
   "id": "61e5cc1d",
   "metadata": {},
   "outputs": [
    {
     "data": {
      "text/plain": [
       "-0.56"
      ]
     },
     "execution_count": 151,
     "metadata": {},
     "output_type": "execute_result"
    }
   ],
   "source": [
    "# projeto C\n",
    "VPL(-5, c, 0.5)"
   ]
  }
 ],
 "metadata": {
  "kernelspec": {
   "display_name": "Python 3 (ipykernel)",
   "language": "python",
   "name": "python3"
  },
  "language_info": {
   "codemirror_mode": {
    "name": "ipython",
    "version": 3
   },
   "file_extension": ".py",
   "mimetype": "text/x-python",
   "name": "python",
   "nbconvert_exporter": "python",
   "pygments_lexer": "ipython3",
   "version": "3.9.7"
  }
 },
 "nbformat": 4,
 "nbformat_minor": 5
}
