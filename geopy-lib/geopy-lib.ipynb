{
 "cells": [
  {
   "cell_type": "markdown",
   "metadata": {},
   "source": [
    "# Geopy\n",
    "\n",
    "##### Elaborado por Rogério Silva"
   ]
  },
  {
   "cell_type": "markdown",
   "metadata": {},
   "source": [
    "O pacote geopy é capaz de, entre outras funções, converter um texto de endereço em coordenadas geográficas."
   ]
  },
  {
   "cell_type": "markdown",
   "metadata": {},
   "source": [
    "### Instalação do pacote"
   ]
  },
  {
   "cell_type": "code",
   "execution_count": 10,
   "metadata": {},
   "outputs": [
    {
     "name": "stdout",
     "output_type": "stream",
     "text": [
      "Requirement already satisfied: geopy in c:\\users\\roger\\anaconda3\\lib\\site-packages (2.4.0)Note: you may need to restart the kernel to use updated packages.\n",
      "\n",
      "Requirement already satisfied: geographiclib<3,>=1.52 in c:\\users\\roger\\anaconda3\\lib\\site-packages (from geopy) (2.0)\n"
     ]
    }
   ],
   "source": [
    "%pip install geopy"
   ]
  },
  {
   "cell_type": "markdown",
   "metadata": {},
   "source": [
    "### Case"
   ]
  },
  {
   "cell_type": "code",
   "execution_count": 11,
   "metadata": {},
   "outputs": [
    {
     "name": "stdout",
     "output_type": "stream",
     "text": [
      "Flatiron Building, 175, 5th Avenue, Manhattan Community Board 5, Manhattan, New York County, City of New York, New York, 10010, United States\n",
      "(40.741059199999995, -73.98964162240998)\n"
     ]
    }
   ],
   "source": [
    "from geopy.geocoders import Nominatim\n",
    "geolocator = Nominatim(user_agent=\"datacrazies\") # Nome do meu aplicativo\n",
    "location = geolocator.geocode(\"175 5th Avenue NYC\")\n",
    "print(location.address)\n",
    "print((location.latitude, location.longitude))"
   ]
  },
  {
   "cell_type": "code",
   "execution_count": 12,
   "metadata": {},
   "outputs": [
    {
     "name": "stdout",
     "output_type": "stream",
     "text": [
      "{'endereco': ['Lins de Vasconcelos', '1222', 'Aclimacao', 'Sao Paulo', 'SP']}\n"
     ]
    }
   ],
   "source": [
    "import json\n",
    "\n",
    "with open(\"entrada.json\", \"r\", encoding='utf-8') as arq_entrada:\n",
    "    entrada = json.load(arq_entrada)\n",
    "    print(entrada)"
   ]
  },
  {
   "cell_type": "code",
   "execution_count": 13,
   "metadata": {},
   "outputs": [
    {
     "name": "stdout",
     "output_type": "stream",
     "text": [
      "Lins de Vasconcelos 1222 SP\n"
     ]
    }
   ],
   "source": [
    "local_busca = ' '.join(entrada['endereco'][:2] + entrada['endereco'][-1:])\n",
    "print(local_busca)"
   ]
  },
  {
   "cell_type": "code",
   "execution_count": 14,
   "metadata": {},
   "outputs": [
    {
     "name": "stdout",
     "output_type": "stream",
     "text": [
      "1222, Avenida Lins de Vasconcelos, Cambuci, São Paulo, Região Imediata de São Paulo, Região Metropolitana de São Paulo, Região Geográfica Intermediária de São Paulo, São Paulo, Região Sudeste, 01545-000, Brasil\n",
      "(-23.574134505882352, -46.623086158823526)\n"
     ]
    }
   ],
   "source": [
    "geolocator = Nominatim(user_agent=\"datacrazies\")\n",
    "location = geolocator.geocode(local_busca)\n",
    "print(location.address)\n",
    "print((location.latitude, location.longitude))"
   ]
  },
  {
   "cell_type": "code",
   "execution_count": 15,
   "metadata": {},
   "outputs": [],
   "source": [
    "geolocator = Nominatim(user_agent=\"datacrazies\")\n",
    "\n",
    "endereco = input('Digite um endereço com número e cidade. '\n",
    "                 'Exemplo: Avenida Paulista, 100 São Paulo')\n",
    "\n"
   ]
  },
  {
   "cell_type": "code",
   "execution_count": 16,
   "metadata": {},
   "outputs": [
    {
     "data": {
      "text/plain": [
       "'rua alvaro chaves 41 rio de janeiro'"
      ]
     },
     "execution_count": 16,
     "metadata": {},
     "output_type": "execute_result"
    }
   ],
   "source": [
    "endereco"
   ]
  },
  {
   "cell_type": "code",
   "execution_count": 17,
   "metadata": {},
   "outputs": [
    {
     "name": "stdout",
     "output_type": "stream",
     "text": [
      "Endereço completo.:  ['Loja Oficial Fluminense FC', ' 41', ' Rua Álvaro Chaves', ' Laranjeiras', ' Zona Sul do Rio de Janeiro', ' Rio de Janeiro', ' Região Geográfica Imediata do Rio de Janeiro', ' Região Metropolitana do Rio de Janeiro', ' Região Geográfica Intermediária do Rio de Janeiro', ' Rio de Janeiro', ' Região Sudeste', ' 22231-220', ' Brasil']\n",
      "Bairro............:   41\n",
      "Cidade............:   Rua Álvaro Chaves\n",
      "Regiao............:   Laranjeiras\n"
     ]
    }
   ],
   "source": [
    "resultado = str(geolocator.geocode(endereco)).split(\",\")\n",
    "\n",
    "if resultado[0]!='None':\n",
    "    print(\"Endereço completo.: \", resultado)\n",
    "    print(\"Bairro............: \", resultado[1])\n",
    "    print(\"Cidade............: \", resultado[2])\n",
    "    print(\"Regiao............: \", resultado[3])"
   ]
  },
  {
   "cell_type": "markdown",
   "metadata": {},
   "source": [
    "#### Geolocalização reversa"
   ]
  },
  {
   "cell_type": "code",
   "execution_count": 19,
   "metadata": {},
   "outputs": [
    {
     "name": "stdout",
     "output_type": "stream",
     "text": [
      "Endereço completo.:  ['1243', ' Avenida Lins de Vasconcelos', ' Cambuci', ' São Paulo', ' Região Imediata de São Paulo', ' Região Metropolitana de São Paulo', ' Região Geográfica Intermediária de São Paulo', ' São Paulo', ' Região Sudeste', ' 01543-010', ' Brasil']\n",
      "Dado 1............:  1243\n",
      "Dado 2............:  Avenida Lins de Vasconcelos\n",
      "Dado 3............:  Cambuci\n"
     ]
    }
   ],
   "source": [
    "geolocator = Nominatim(user_agent=\"datacrazies\")\n",
    "\n",
    "latitude=float(input(\"Digite a latitude...: \"))\n",
    "longitude=float(input(\"Digite a longitude.: \"))\n",
    "\n",
    "resultado = str(geolocator.reverse(f\"{latitude}, {longitude}\")).split(\",\")\n",
    "if resultado[0]!='None':\n",
    "    print(\"Endereço completo.: \", resultado)\n",
    "    print(\"Dado 1............: \", resultado[0].strip())\n",
    "    print(\"Dado 2............: \", resultado[1].strip())\n",
    "    print(\"Dado 3............: \", resultado[2].strip())"
   ]
  }
 ],
 "metadata": {
  "kernelspec": {
   "display_name": "base",
   "language": "python",
   "name": "python3"
  },
  "language_info": {
   "codemirror_mode": {
    "name": "ipython",
    "version": 3
   },
   "file_extension": ".py",
   "mimetype": "text/x-python",
   "name": "python",
   "nbconvert_exporter": "python",
   "pygments_lexer": "ipython3",
   "version": "3.9.18"
  }
 },
 "nbformat": 4,
 "nbformat_minor": 2
}
