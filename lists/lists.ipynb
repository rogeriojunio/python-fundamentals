{
 "cells": [
  {
   "cell_type": "markdown",
   "metadata": {},
   "source": [
    "# Listas\n",
    "\n",
    "##### Elaborado por Rogério Silva"
   ]
  },
  {
   "cell_type": "markdown",
   "metadata": {},
   "source": [
    "Propriedades da lista\n",
    "\n",
    "1. Ordenada\n",
    "2. Mutável\n",
    "3. Permite duplicatas\n",
    "4. Indexada"
   ]
  },
  {
   "cell_type": "markdown",
   "metadata": {},
   "source": [
    "As listas são definidas como uma sequência de dados, são identificados pelo uso de colchetes que envolvem a sequência."
   ]
  },
  {
   "cell_type": "markdown",
   "metadata": {},
   "source": [
    "### Construção"
   ]
  },
  {
   "cell_type": "code",
   "execution_count": 127,
   "metadata": {},
   "outputs": [
    {
     "name": "stdout",
     "output_type": "stream",
     "text": [
      "lista_da_feira=['maçã', 'banana', 'uva', 'morango'] -> <class 'list'>\n"
     ]
    }
   ],
   "source": [
    "lista_da_feira = ['maçã', 'banana', 'uva', 'morango']\n",
    "\n",
    "print(f'{lista_da_feira=} -> {type(lista_da_feira)}')"
   ]
  },
  {
   "cell_type": "code",
   "execution_count": 128,
   "metadata": {},
   "outputs": [
    {
     "name": "stdout",
     "output_type": "stream",
     "text": [
      "lista_mega_sena=[9, 18, 29, 37, 39, 58] -> <class 'list'>\n"
     ]
    }
   ],
   "source": [
    "lista_mega_sena = [9, 18, 29, 37, 39, 58]\n",
    "\n",
    "print(f'{lista_mega_sena=} -> {type(lista_mega_sena)}')"
   ]
  },
  {
   "cell_type": "code",
   "execution_count": 129,
   "metadata": {},
   "outputs": [
    {
     "name": "stdout",
     "output_type": "stream",
     "text": [
      "lista_gabarito_prova=[True, False, True, True, True, False] -> <class 'list'>\n"
     ]
    }
   ],
   "source": [
    "lista_gabarito_prova = [True, False, True, True, True, False]\n",
    "\n",
    "print(f'{lista_gabarito_prova=} -> {type(lista_gabarito_prova)}')"
   ]
  },
  {
   "cell_type": "code",
   "execution_count": 130,
   "metadata": {},
   "outputs": [
    {
     "name": "stdout",
     "output_type": "stream",
     "text": [
      "lista_aleatoria=['maçã', False, 18, 29, True, 'morango'] -> <class 'list'>\n"
     ]
    }
   ],
   "source": [
    "lista_aleatoria= ['maçã', False, 18, 29, True, 'morango']\n",
    "\n",
    "print(f'{lista_aleatoria=} -> {type(lista_aleatoria)}')"
   ]
  },
  {
   "cell_type": "code",
   "execution_count": 131,
   "metadata": {},
   "outputs": [
    {
     "name": "stdout",
     "output_type": "stream",
     "text": [
      "grande_familia=['Lineu', 'Nenê', 'Bebel', 'Tuco'] -> <class 'list'>\n"
     ]
    }
   ],
   "source": [
    "pai, mae, filha, filho = 'Lineu', 'Nenê', 'Bebel', 'Tuco'\n",
    "grande_familia = list((pai, mae, filha, filho)) \n",
    "'''                   ^^^^^^^^^^^^^^^^^^^^^^^^\n",
    "os parênteses mais internos servem para mostrar que as \n",
    "variáveis são um único argumento para a função. Essa \n",
    "sequência de valores com parênteses são tuplas'''\n",
    "\n",
    "print(f'{grande_familia=} -> {type(grande_familia)}')"
   ]
  },
  {
   "cell_type": "markdown",
   "metadata": {},
   "source": [
    "### Indexação"
   ]
  },
  {
   "cell_type": "code",
   "execution_count": 132,
   "metadata": {},
   "outputs": [
    {
     "name": "stdout",
     "output_type": "stream",
     "text": [
      "popozao='Lineu' -> <class 'str'>\n"
     ]
    }
   ],
   "source": [
    "# retona o primeiro item da lista\n",
    "popozao = grande_familia[0]\n",
    "\n",
    "print(f'{popozao=} -> {type(popozao)}')"
   ]
  },
  {
   "cell_type": "code",
   "execution_count": 133,
   "metadata": {},
   "outputs": [
    {
     "name": "stdout",
     "output_type": "stream",
     "text": [
      "filhos=['Bebel', 'Tuco'] -> <class 'list'>\n"
     ]
    }
   ],
   "source": [
    "# retorna uma fatia de itens da lista\n",
    "filhos = grande_familia[2:]\n",
    "\n",
    "print(f'{filhos=} -> {type(filhos)}')"
   ]
  },
  {
   "cell_type": "markdown",
   "metadata": {},
   "source": [
    "### Associação"
   ]
  },
  {
   "cell_type": "code",
   "execution_count": 134,
   "metadata": {},
   "outputs": [
    {
     "name": "stdout",
     "output_type": "stream",
     "text": [
      "Namorado não é família.\n"
     ]
    }
   ],
   "source": [
    "namorado = 'Agostinho'\n",
    "\n",
    "# namorado é família?\n",
    "if namorado in grande_familia:\n",
    "    print('Namorado é família sim!')\n",
    "else:\n",
    "    print('Namorado não é família.')"
   ]
  },
  {
   "cell_type": "markdown",
   "metadata": {},
   "source": [
    "### Duplicatas"
   ]
  },
  {
   "cell_type": "code",
   "execution_count": 135,
   "metadata": {},
   "outputs": [
    {
     "name": "stdout",
     "output_type": "stream",
     "text": [
      "grande_familia=['Lineu', 'Nenê', 'Bebel', 'Tuco', 'Tuco'] -> <class 'list'>\n"
     ]
    }
   ],
   "source": [
    "# inserindo o Tuco novamente\n",
    "grande_familia = grande_familia + ['Tuco']\n",
    "\n",
    "print(f'{grande_familia=} -> {type(grande_familia)}')"
   ]
  },
  {
   "cell_type": "markdown",
   "metadata": {},
   "source": [
    "### Mutabilidade"
   ]
  },
  {
   "cell_type": "code",
   "execution_count": 136,
   "metadata": {},
   "outputs": [
    {
     "name": "stdout",
     "output_type": "stream",
     "text": [
      "grande_familia=['Lineuzinho', 'Nenê', 'Bebel', 'Tuco', 'Tuco'] -> <class 'list'>\n"
     ]
    }
   ],
   "source": [
    "grande_familia[0] = 'Lineuzinho'\n",
    "\n",
    "print(f'{grande_familia=} -> {type(grande_familia)}')"
   ]
  },
  {
   "cell_type": "markdown",
   "metadata": {},
   "source": [
    "### Métodos"
   ]
  },
  {
   "cell_type": "code",
   "execution_count": 137,
   "metadata": {},
   "outputs": [
    {
     "name": "stdout",
     "output_type": "stream",
     "text": [
      "grande_familia=['Lineuzinho', 'Nenê', 'Bebel', 'Tuco', 'Tuco', 'Tuco'] -> <class 'list'>\n"
     ]
    }
   ],
   "source": [
    "# inserindo o Tuco novamente\n",
    "grande_familia.insert(len(grande_familia),'Tuco')\n",
    "\n",
    "print(f'{grande_familia=} -> {type(grande_familia)}')"
   ]
  },
  {
   "cell_type": "code",
   "execution_count": 138,
   "metadata": {},
   "outputs": [
    {
     "name": "stdout",
     "output_type": "stream",
     "text": [
      "grande_familia=['Lineuzinho', 'Nenê', 'Bebel', 'Tuco', 'Nelsinho', 'Tuco', 'Tuco'] -> <class 'list'>\n"
     ]
    }
   ],
   "source": [
    "grande_familia.insert(4,'Nelsinho')\n",
    "\n",
    "print(f'{grande_familia=} -> {type(grande_familia)}')"
   ]
  },
  {
   "cell_type": "code",
   "execution_count": 139,
   "metadata": {},
   "outputs": [
    {
     "name": "stdout",
     "output_type": "stream",
     "text": [
      "grande_familia=['Lineuzinho', 'Nenê', 'Bebel', 'Tuco', 'Nelsinho', 'Tuco', 'Tuco', 'Agostinho', 'Marilda'] -> <class 'list'>\n"
     ]
    }
   ],
   "source": [
    "agredados = ('Agostinho', 'Marilda')\n",
    "grande_familia.extend(agredados)\n",
    "\n",
    "print(f'{grande_familia=} -> {type(grande_familia)}')"
   ]
  },
  {
   "cell_type": "code",
   "execution_count": 140,
   "metadata": {},
   "outputs": [
    {
     "name": "stdout",
     "output_type": "stream",
     "text": [
      "grande_familia=['Lineuzinho', 'Nenê', 'Bebel', 'Tuco', 'Tuco', 'Tuco', 'Agostinho', 'Marilda'] -> <class 'list'>\n"
     ]
    }
   ],
   "source": [
    "# o teste de DNA mostrou que Nelsinho não era filho do Tuco\n",
    "grande_familia.remove('Nelsinho')\n",
    "\n",
    "print(f'{grande_familia=} -> {type(grande_familia)}')"
   ]
  },
  {
   "cell_type": "code",
   "execution_count": 141,
   "metadata": {},
   "outputs": [
    {
     "name": "stdout",
     "output_type": "stream",
     "text": [
      "grande_familia=['Lineuzinho', 'Nenê', 'Bebel', 'Tuco', 'Tuco', 'Tuco', 'Agostinho'] -> <class 'list'>\n"
     ]
    }
   ],
   "source": [
    "grande_familia.pop(-1)\n",
    "\n",
    "print(f'{grande_familia=} -> {type(grande_familia)}')"
   ]
  },
  {
   "cell_type": "code",
   "execution_count": 142,
   "metadata": {},
   "outputs": [
    {
     "name": "stdout",
     "output_type": "stream",
     "text": [
      "grande_familia=['Lineuzinho', 'Nenê', 'Bebel', 'Tuco', 'Tuco', 'Tuco'] -> <class 'list'>\n"
     ]
    }
   ],
   "source": [
    "grande_familia.pop()\n",
    "\n",
    "print(f'{grande_familia=} -> {type(grande_familia)}')"
   ]
  },
  {
   "cell_type": "code",
   "execution_count": 147,
   "metadata": {},
   "outputs": [
    {
     "name": "stdout",
     "output_type": "stream",
     "text": [
      "grande_familia=['Tuco', 'Nenê', 'Lineu', 'Bebel'] -> <class 'list'>\n"
     ]
    }
   ],
   "source": [
    "del grande_familia[-1:-2]\n",
    "\n",
    "print(f'{grande_familia=} -> {type(grande_familia)}')"
   ]
  },
  {
   "cell_type": "code",
   "execution_count": 144,
   "metadata": {},
   "outputs": [
    {
     "name": "stdout",
     "output_type": "stream",
     "text": [
      "grande_familia=[] -> <class 'list'>\n"
     ]
    }
   ],
   "source": [
    "grande_familia.clear()\n",
    "\n",
    "print(f'{grande_familia=} -> {type(grande_familia)}')"
   ]
  },
  {
   "cell_type": "code",
   "execution_count": 145,
   "metadata": {},
   "outputs": [
    {
     "name": "stdout",
     "output_type": "stream",
     "text": [
      "grande_familia=['Bebel', 'Lineu', 'Nenê', 'Tuco'] -> <class 'list'>\n"
     ]
    }
   ],
   "source": [
    "grande_familia = [pai, mae, filha, filho]\n",
    "grande_familia.sort()\n",
    "\n",
    "print(f'{grande_familia=} -> {type(grande_familia)}')"
   ]
  },
  {
   "cell_type": "code",
   "execution_count": 146,
   "metadata": {},
   "outputs": [
    {
     "name": "stdout",
     "output_type": "stream",
     "text": [
      "grande_familia=['Tuco', 'Nenê', 'Lineu', 'Bebel'] -> <class 'list'>\n"
     ]
    }
   ],
   "source": [
    "grande_familia.reverse()\n",
    "\n",
    "print(f'{grande_familia=} -> {type(grande_familia)}')"
   ]
  }
 ],
 "metadata": {
  "kernelspec": {
   "display_name": "base",
   "language": "python",
   "name": "python3"
  },
  "language_info": {
   "codemirror_mode": {
    "name": "ipython",
    "version": 3
   },
   "file_extension": ".py",
   "mimetype": "text/x-python",
   "name": "python",
   "nbconvert_exporter": "python",
   "pygments_lexer": "ipython3",
   "version": "3.9.18"
  }
 },
 "nbformat": 4,
 "nbformat_minor": 2
}
