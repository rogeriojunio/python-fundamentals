{
 "cells": [
  {
   "cell_type": "markdown",
   "metadata": {},
   "source": [
    "# Listas\n",
    "\n",
    "##### Elaborado por Rogério Silva"
   ]
  },
  {
   "cell_type": "markdown",
   "metadata": {},
   "source": [
    "Propriedades de lista\n",
    "\n",
    "1. Ordenada\n",
    "2. Mutável\n",
    "3. Permite duplicatas\n",
    "4. Indexados\n",
    "5. Associação: `in` e `not in`\n",
    "6. Bitwise: `&`, `|`, `^` e `~`"
   ]
  },
  {
   "cell_type": "code",
   "execution_count": null,
   "metadata": {},
   "outputs": [],
   "source": []
  }
 ],
 "metadata": {
  "language_info": {
   "name": "python"
  }
 },
 "nbformat": 4,
 "nbformat_minor": 2
}
