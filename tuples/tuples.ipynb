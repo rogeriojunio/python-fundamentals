{
 "cells": [
  {
   "cell_type": "markdown",
   "metadata": {},
   "source": [
    "# Tuplas\n",
    "\n",
    "##### Elaborado por Rogério Silva"
   ]
  },
  {
   "cell_type": "markdown",
   "metadata": {},
   "source": [
    "Propriedades da tupla\n",
    "\n",
    "1. Ordenada\n",
    "2. Imutável\n",
    "3. Permite duplicatas\n",
    "4. Indexada"
   ]
  },
  {
   "cell_type": "markdown",
   "metadata": {},
   "source": [
    "As tuplas são definidas como uma sequência de dados, são identificados pelo uso de parênteses que envolvem a sequência."
   ]
  },
  {
   "cell_type": "markdown",
   "metadata": {},
   "source": [
    "### Contrução"
   ]
  },
  {
   "cell_type": "code",
   "execution_count": 62,
   "metadata": {},
   "outputs": [
    {
     "name": "stdout",
     "output_type": "stream",
     "text": [
      "lista_da_feira=('maçã', 'banana', 'uva', 'morango') -> <class 'tuple'>\n"
     ]
    }
   ],
   "source": [
    "lista_da_feira = ('maçã', 'banana', 'uva', 'morango')\n",
    "\n",
    "print(f'{lista_da_feira=} -> {type(lista_da_feira)}')"
   ]
  },
  {
   "cell_type": "code",
   "execution_count": 63,
   "metadata": {},
   "outputs": [
    {
     "name": "stdout",
     "output_type": "stream",
     "text": [
      "lista_mega_sena=(9, 18, 29, 37, 39, 58) -> <class 'tuple'>\n"
     ]
    }
   ],
   "source": [
    "lista_mega_sena = (9, 18, 29, 37, 39, 58)\n",
    "\n",
    "print(f'{lista_mega_sena=} -> {type(lista_mega_sena)}')"
   ]
  },
  {
   "cell_type": "code",
   "execution_count": 64,
   "metadata": {},
   "outputs": [
    {
     "name": "stdout",
     "output_type": "stream",
     "text": [
      "lista_gabarito_prova=(True, False, True, True, True, False) -> <class 'tuple'>\n"
     ]
    }
   ],
   "source": [
    "lista_gabarito_prova = (True, False, True, True, True, False)\n",
    "\n",
    "print(f'{lista_gabarito_prova=} -> {type(lista_gabarito_prova)}')"
   ]
  },
  {
   "cell_type": "code",
   "execution_count": 65,
   "metadata": {},
   "outputs": [
    {
     "name": "stdout",
     "output_type": "stream",
     "text": [
      "lista_aleatoria=('maçã', False, 18, 29, True, 'morango') -> <class 'tuple'>\n"
     ]
    }
   ],
   "source": [
    "lista_aleatoria= ('maçã', False, 18, 29, True, 'morango')\n",
    "\n",
    "print(f'{lista_aleatoria=} -> {type(lista_aleatoria)}')"
   ]
  },
  {
   "cell_type": "code",
   "execution_count": 66,
   "metadata": {},
   "outputs": [
    {
     "name": "stdout",
     "output_type": "stream",
     "text": [
      "grande_familia=('Lineu', 'Nenê', 'Bebel', 'Tuco') -> <class 'tuple'>\n"
     ]
    }
   ],
   "source": [
    "pai, mae, filha, filho = 'Lineu', 'Nenê', 'Bebel', 'Tuco'\n",
    "grande_familia = tuple([pai, mae, filha, filho])\n",
    "\n",
    "print(f'{grande_familia=} -> {type(grande_familia)}')"
   ]
  },
  {
   "cell_type": "markdown",
   "metadata": {},
   "source": [
    "### Indexação"
   ]
  },
  {
   "cell_type": "code",
   "execution_count": 67,
   "metadata": {},
   "outputs": [
    {
     "name": "stdout",
     "output_type": "stream",
     "text": [
      "popozao='Lineu' -> <class 'str'>\n"
     ]
    }
   ],
   "source": [
    "# retona o primeiro item da tupla\n",
    "popozao = grande_familia[0]\n",
    "\n",
    "print(f'{popozao=} -> {type(popozao)}')"
   ]
  },
  {
   "cell_type": "code",
   "execution_count": 68,
   "metadata": {},
   "outputs": [
    {
     "name": "stdout",
     "output_type": "stream",
     "text": [
      "filhos=('Bebel', 'Tuco') -> <class 'tuple'>\n"
     ]
    }
   ],
   "source": [
    "# retorna uma fatia de itens da tupla\n",
    "filhos = grande_familia[2:]\n",
    "\n",
    "print(f'{filhos=} -> {type(filhos)}')"
   ]
  },
  {
   "cell_type": "markdown",
   "metadata": {},
   "source": [
    "### Associação"
   ]
  },
  {
   "cell_type": "code",
   "execution_count": 69,
   "metadata": {},
   "outputs": [
    {
     "name": "stdout",
     "output_type": "stream",
     "text": [
      "Namorado não é família.\n"
     ]
    }
   ],
   "source": [
    "namorado = 'Agostinho'\n",
    "\n",
    "# namorado é família?\n",
    "if namorado in grande_familia:\n",
    "    print('Namorado é família sim!')\n",
    "else:\n",
    "    print('Namorado não é família.')"
   ]
  },
  {
   "cell_type": "markdown",
   "metadata": {},
   "source": [
    "### Duplicatas"
   ]
  },
  {
   "cell_type": "code",
   "execution_count": 70,
   "metadata": {},
   "outputs": [
    {
     "name": "stdout",
     "output_type": "stream",
     "text": [
      "grande_familia=('Lineu', 'Nenê', 'Bebel', 'Tuco', 'Tuco') -> <class 'tuple'>\n"
     ]
    }
   ],
   "source": [
    "# inserindo o Tuco novamente\n",
    "grande_familia = grande_familia + ('Tuco',)\n",
    "\n",
    "print(f'{grande_familia=} -> {type(grande_familia)}')"
   ]
  },
  {
   "cell_type": "markdown",
   "metadata": {},
   "source": [
    "### Imutabilidade"
   ]
  },
  {
   "cell_type": "markdown",
   "metadata": {},
   "source": [
    "Não existe um método que permite excluir ou modificar os itens das tuplas. Caso seja necessário remover algum elemento, será necessário converter a tupla para algum tipo de dado de sequência que seja mutável, as listas por exemplo."
   ]
  },
  {
   "cell_type": "code",
   "execution_count": 71,
   "metadata": {},
   "outputs": [
    {
     "name": "stdout",
     "output_type": "stream",
     "text": [
      "Tuplas são imutáveis, não é possível alterar seus itens\n"
     ]
    }
   ],
   "source": [
    "try:\n",
    "    grande_familia[0] = 'Lineuzinho'\n",
    "    print(f'{grande_familia=} -> {type(grande_familia)}')\n",
    "except:\n",
    "    print('Tuplas são imutáveis, não é possível alterar seus itens')\n"
   ]
  },
  {
   "cell_type": "code",
   "execution_count": 72,
   "metadata": {},
   "outputs": [
    {
     "name": "stdout",
     "output_type": "stream",
     "text": [
      "grande_familia=('Lineuzinho', 'Nenê', 'Bebel', 'Tuco', 'Tuco') -> <class 'tuple'>\n"
     ]
    }
   ],
   "source": [
    "grande_familia = list(grande_familia)\n",
    "grande_familia[0] = 'Lineuzinho'\n",
    "grande_familia = tuple(grande_familia)\n",
    "\n",
    "print(f'{grande_familia=} -> {type(grande_familia)}')"
   ]
  },
  {
   "cell_type": "markdown",
   "metadata": {},
   "source": [
    "### Métodos"
   ]
  },
  {
   "cell_type": "code",
   "execution_count": 73,
   "metadata": {},
   "outputs": [
    {
     "name": "stdout",
     "output_type": "stream",
     "text": [
      "pai='Lineu' -> <class 'str'>\n",
      "mae='Nenê' -> <class 'str'>\n",
      "filha='Bebel' -> <class 'str'>\n",
      "filho='Tuco' -> <class 'str'>\n"
     ]
    }
   ],
   "source": [
    "# del para deletar a tupla\n",
    "del grande_familia\n",
    "\n",
    "# descompactação de tupla\n",
    "grande_familia = ('Lineu', \"Nenê\", 'Bebel', 'Tuco')\n",
    "(pai, mae, filha, filho) = grande_familia\n",
    "\n",
    "print(f'{pai=} -> {type(pai)}')\n",
    "print(f'{mae=} -> {type(mae)}')\n",
    "print(f'{filha=} -> {type(filha)}')\n",
    "print(f'{filho=} -> {type(filho)}')"
   ]
  },
  {
   "cell_type": "code",
   "execution_count": 74,
   "metadata": {},
   "outputs": [
    {
     "name": "stdout",
     "output_type": "stream",
     "text": [
      "pai='Lineu' -> <class 'str'>\n",
      "mae='Nenê' -> <class 'str'>\n",
      "número de filhos 2\n",
      "filhos=['Bebel', 'Tuco'] -> <class 'list'>\n"
     ]
    }
   ],
   "source": [
    "(pai, mae, *filhos) = grande_familia\n",
    "\n",
    "print(f'{pai=} -> {type(pai)}')\n",
    "print(f'{mae=} -> {type(mae)}')\n",
    "print(f'número de filhos {len(filhos)}')\n",
    "print(f'{filhos=} -> {type(filhos)}')"
   ]
  },
  {
   "cell_type": "code",
   "execution_count": 75,
   "metadata": {},
   "outputs": [
    {
     "name": "stdout",
     "output_type": "stream",
     "text": [
      "grande_familia=('Lineu', 'Nenê', 'Bebel', 'Tuco', 'Agostinho', 'Marilda') -> <class 'tuple'>\n"
     ]
    }
   ],
   "source": [
    "agredados = ('Agostinho', 'Marilda')\n",
    "grande_familia = grande_familia + agredados\n",
    "\n",
    "print(f'{grande_familia=} -> {type(grande_familia)}')"
   ]
  },
  {
   "cell_type": "code",
   "execution_count": 76,
   "metadata": {},
   "outputs": [
    {
     "name": "stdout",
     "output_type": "stream",
     "text": [
      "Agostinho aparece 1 vez(es) na lista de agregados, ocupando a posição 0.\n"
     ]
    }
   ],
   "source": [
    "contagem = agredados.count('Agostinho')\n",
    "indice = agredados.index('Agostinho')\n",
    "\n",
    "print(f'Agostinho aparece {contagem} vez(es) na lista de agregados, ocupando a posição {indice}.')"
   ]
  }
 ],
 "metadata": {
  "kernelspec": {
   "display_name": "base",
   "language": "python",
   "name": "python3"
  },
  "language_info": {
   "codemirror_mode": {
    "name": "ipython",
    "version": 3
   },
   "file_extension": ".py",
   "mimetype": "text/x-python",
   "name": "python",
   "nbconvert_exporter": "python",
   "pygments_lexer": "ipython3",
   "version": "3.9.18"
  }
 },
 "nbformat": 4,
 "nbformat_minor": 2
}
