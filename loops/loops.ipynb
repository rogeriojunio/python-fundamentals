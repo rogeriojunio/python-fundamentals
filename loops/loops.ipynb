{
 "cells": [
  {
   "cell_type": "markdown",
   "metadata": {},
   "source": [
    "# Laços de repetição\n",
    "\n",
    "##### Elaborado por Rogério Silva"
   ]
  },
  {
   "cell_type": "markdown",
   "metadata": {},
   "source": [
    "Os laços de repetição pertencem as estruturas de controle de fluxo. A partir dos loops que repetir comandos de forma ordenada que serão executados no código. Este recurso reduz o trabalho de escrita e simplifica o entendimento do algoritmo e sua manutenção."
   ]
  },
  {
   "cell_type": "markdown",
   "metadata": {},
   "source": [
    "### While"
   ]
  },
  {
   "cell_type": "markdown",
   "metadata": {},
   "source": [
    "Função que executa uma série comandos ENQUANTO uma condição for satisfeita."
   ]
  },
  {
   "cell_type": "code",
   "execution_count": 1,
   "metadata": {},
   "outputs": [],
   "source": [
    "import numpy as np"
   ]
  },
  {
   "cell_type": "markdown",
   "metadata": {},
   "source": [
    "Sorteio"
   ]
  },
  {
   "cell_type": "code",
   "execution_count": 9,
   "metadata": {},
   "outputs": [],
   "source": [
    "num_sorteado = np.random.randint(0,20)"
   ]
  },
  {
   "cell_type": "code",
   "execution_count": 11,
   "metadata": {},
   "outputs": [
    {
     "name": "stdout",
     "output_type": "stream",
     "text": [
      "Você escolheu o número 2. Não foi dessa vez! Tente novamente\n",
      "Você escolheu o número 5. Não foi dessa vez! Tente novamente\n",
      "Parabéns! Você é o grande vencedor!\n"
     ]
    }
   ],
   "source": [
    "palpite = int(input('Digite o seu número da sorte: '))\n",
    "\n",
    "while palpite != num_sorteado:\n",
    "    print(f'Você escolheu o número {palpite}. Não foi dessa vez! Tente novamente.')\n",
    "    palpite = int(input('Digite o seu número da sorte: '))\n",
    "\n",
    "print(f'Parabéns! Você é o grande vencedor! {num_sorteado} é o número da sorte.')"
   ]
  },
  {
   "cell_type": "markdown",
   "metadata": {},
   "source": [
    "While também pode funcionar como uma estrutura controlada de repetição."
   ]
  },
  {
   "cell_type": "code",
   "execution_count": 12,
   "metadata": {},
   "outputs": [
    {
     "name": "stdout",
     "output_type": "stream",
     "text": [
      "0\n",
      "1\n",
      "2\n",
      "3\n",
      "4\n"
     ]
    }
   ],
   "source": [
    "contador = 0\n",
    "\n",
    "while contador < 5:\n",
    "    print(contador)\n",
    "    contador +=1"
   ]
  },
  {
   "cell_type": "markdown",
   "metadata": {},
   "source": [
    "### For"
   ]
  },
  {
   "cell_type": "code",
   "execution_count": 14,
   "metadata": {},
   "outputs": [
    {
     "name": "stdout",
     "output_type": "stream",
     "text": [
      "0\n",
      "1\n",
      "2\n",
      "3\n",
      "4\n"
     ]
    }
   ],
   "source": [
    "for i in range(5):\n",
    "    print(i)"
   ]
  },
  {
   "cell_type": "code",
   "execution_count": 16,
   "metadata": {},
   "outputs": [
    {
     "name": "stdout",
     "output_type": "stream",
     "text": [
      "8.0\n"
     ]
    }
   ],
   "source": [
    "soma = 0\n",
    "for i in range(1,4):\n",
    "    nota = float(input(f'Informe sua nota {i}: '))\n",
    "    soma += nota\n",
    "\n",
    "print(soma/3)"
   ]
  }
 ],
 "metadata": {
  "kernelspec": {
   "display_name": "base",
   "language": "python",
   "name": "python3"
  },
  "language_info": {
   "codemirror_mode": {
    "name": "ipython",
    "version": 3
   },
   "file_extension": ".py",
   "mimetype": "text/x-python",
   "name": "python",
   "nbconvert_exporter": "python",
   "pygments_lexer": "ipython3",
   "version": "3.9.18"
  }
 },
 "nbformat": 4,
 "nbformat_minor": 2
}
