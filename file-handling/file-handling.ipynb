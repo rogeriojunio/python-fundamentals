{
 "cells": [
  {
   "cell_type": "markdown",
   "metadata": {},
   "source": [
    "# Manipulação de arquivos\n",
    "\n",
    "##### Elaborado por Rogério Silva"
   ]
  },
  {
   "cell_type": "markdown",
   "metadata": {},
   "source": [
    "### Arquivo *.txt"
   ]
  },
  {
   "cell_type": "markdown",
   "metadata": {},
   "source": [
    "### Escrever"
   ]
  },
  {
   "cell_type": "code",
   "execution_count": 75,
   "metadata": {},
   "outputs": [],
   "source": [
    "primeiro_arquivo = open(\"meu-primeiro-arquivo.txt\", 'w')\n",
    "primeiro_arquivo.write('Meu primeiro arquivo!')\n",
    "primeiro_arquivo.close()"
   ]
  },
  {
   "cell_type": "code",
   "execution_count": 76,
   "metadata": {},
   "outputs": [],
   "source": [
    "with open(\"meu-segundo-arquivo.txt\", 'w') as arq:\n",
    "    arq.write('Meu segundo arquivo! Consegui otimizar o esforço do meu código em 33%')"
   ]
  },
  {
   "cell_type": "markdown",
   "metadata": {},
   "source": [
    "### Adicionar"
   ]
  },
  {
   "cell_type": "code",
   "execution_count": 77,
   "metadata": {},
   "outputs": [],
   "source": [
    "import datetime as dt \n",
    "with open(\"event-log.txt\", 'a') as arq:\n",
    "    arq.write(f'Este documento foi salvo em {dt.datetime.now()} \\n')"
   ]
  },
  {
   "cell_type": "markdown",
   "metadata": {},
   "source": [
    "### Ler"
   ]
  },
  {
   "cell_type": "code",
   "execution_count": 78,
   "metadata": {},
   "outputs": [
    {
     "name": "stdout",
     "output_type": "stream",
     "text": [
      "Este documento foi salvo em 2023-10-31 16:51:59.652888 \n",
      "Este documento foi salvo em 2023-10-31 16:52:10.828373 \n",
      "Este documento foi salvo em 2023-10-31 20:38:26.608423 \n",
      "Este documento foi salvo em 2023-10-31 20:39:15.580287 \n",
      "\n"
     ]
    }
   ],
   "source": [
    "with open(\"event-log.txt\", 'r') as arq:\n",
    "    print(arq.read())"
   ]
  }
 ],
 "metadata": {
  "kernelspec": {
   "display_name": "base",
   "language": "python",
   "name": "python3"
  },
  "language_info": {
   "codemirror_mode": {
    "name": "ipython",
    "version": 3
   },
   "file_extension": ".py",
   "mimetype": "text/x-python",
   "name": "python",
   "nbconvert_exporter": "python",
   "pygments_lexer": "ipython3",
   "version": "3.9.18"
  }
 },
 "nbformat": 4,
 "nbformat_minor": 2
}
