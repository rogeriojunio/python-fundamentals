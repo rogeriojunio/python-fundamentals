{
 "cells": [
  {
   "cell_type": "markdown",
   "metadata": {},
   "source": [
    "# Tipos de dados\n",
    "\n",
    "1. Texto: `string`\n",
    "2. Numérico: `integer`, `float` and `complex`\n",
    "3. Booleano: `bool`\n",
    "\n",
    "##### Elaborado por Rogério Silva"
   ]
  },
  {
   "cell_type": "markdown",
   "metadata": {},
   "source": [
    "Python possibilita o uso de diversos tipos de dados que suportam o desenvolvimento com a liguagem. Para todos esses, a função `type()` retorna o tipo do dado."
   ]
  },
  {
   "cell_type": "markdown",
   "metadata": {},
   "source": [
    "### Texto"
   ]
  },
  {
   "cell_type": "markdown",
   "metadata": {},
   "source": [
    "Um dado do tipo texto é representado quando usamos aspas 'simples' ou \"duplas\".\n",
    "\n",
    "Essa variedade de representações permite usarmos as aspas também como um recurso textual.\n",
    "\n",
    "Usamos aspas simples quando queremos usar aspas duplas como string. Analogamente, usamos aspas duplas quando queremos usar aspas simples como string. Existe um terceiro uso: aspas triplas. Esse recurso permite definirmos um texto com multiplas linhas."
   ]
  },
  {
   "cell_type": "code",
   "execution_count": 2,
   "metadata": {},
   "outputs": [
    {
     "name": "stdout",
     "output_type": "stream",
     "text": [
      "O texto 'Olá, mundo!' é do tipo <class 'str'>\n"
     ]
    }
   ],
   "source": [
    "texto = 'Olá, mundo!'\n",
    "print(f\"O texto '{texto}' é do tipo {type(texto)}\")"
   ]
  },
  {
   "cell_type": "code",
   "execution_count": 3,
   "metadata": {},
   "outputs": [
    {
     "name": "stdout",
     "output_type": "stream",
     "text": [
      "O texto '1994' é do tipo <class 'str'>\n"
     ]
    }
   ],
   "source": [
    "texto = '1994'\n",
    "print(f\"O texto '{texto}' é do tipo {type(texto)}\")"
   ]
  },
  {
   "cell_type": "code",
   "execution_count": 4,
   "metadata": {},
   "outputs": [
    {
     "name": "stdout",
     "output_type": "stream",
     "text": [
      "O texto 'Rogério disse \"eu amo minha família\"' é do tipo <class 'str'>\n"
     ]
    }
   ],
   "source": [
    "texto = 'Rogério disse \"eu amo minha família\"'\n",
    "print(f\"O texto '{texto}' é do tipo {type(texto)}\")"
   ]
  },
  {
   "cell_type": "code",
   "execution_count": 5,
   "metadata": {},
   "outputs": [
    {
     "name": "stdout",
     "output_type": "stream",
     "text": [
      "O texto 'Lista de compras:\n",
      "1. Azeite\n",
      "2. Feijão\n",
      "3. Café\n",
      "4. Chocolate' é do tipo <class 'str'>\n"
     ]
    }
   ],
   "source": [
    "texto = '''Lista de compras:\n",
    "1. Azeite\n",
    "2. Feijão\n",
    "3. Café\n",
    "4. Chocolate'''\n",
    "print(f\"O texto '{texto}' é do tipo {type(texto)}\")"
   ]
  },
  {
   "cell_type": "markdown",
   "metadata": {},
   "source": [
    "Além do uso de aspas para indicar um dado do tipo texto, podemos usar a função `str`."
   ]
  },
  {
   "cell_type": "code",
   "execution_count": 6,
   "metadata": {},
   "outputs": [
    {
     "name": "stdout",
     "output_type": "stream",
     "text": [
      "No último circuito de corrida que participei, terminei na 348ª posição\n"
     ]
    }
   ],
   "source": [
    "posicao = 348\n",
    "print(\"No último circuito de corrida que participei, terminei na \" + str(posicao) + \"ª posição\")"
   ]
  },
  {
   "cell_type": "markdown",
   "metadata": {},
   "source": [
    "Em Python, ao colocarmos textos separados por espaço teremos uma única expressão de texto. Isso é um indicativo que, na verdade, uma expressão textual é a concatenação de elementos de texto de tamanho 1."
   ]
  },
  {
   "cell_type": "code",
   "execution_count": 7,
   "metadata": {},
   "outputs": [
    {
     "data": {
      "text/plain": [
       "'Oi, bebê!'"
      ]
     },
     "execution_count": 7,
     "metadata": {},
     "output_type": "execute_result"
    }
   ],
   "source": [
    "\"Oi, \" 'bebê!'"
   ]
  },
  {
   "cell_type": "code",
   "execution_count": 8,
   "metadata": {},
   "outputs": [
    {
     "data": {
      "text/plain": [
       "True"
      ]
     },
     "execution_count": 8,
     "metadata": {},
     "output_type": "execute_result"
    }
   ],
   "source": [
    "(\"Gosto de \" \"chocolate\") == \"Gosto de chocolate\""
   ]
  },
  {
   "cell_type": "code",
   "execution_count": 9,
   "metadata": {},
   "outputs": [
    {
     "name": "stdout",
     "output_type": "stream",
     "text": [
      "Rogério Júnio\n"
     ]
    }
   ],
   "source": [
    "nome = 'R' 'o' 'g' 'é' 'r' 'i' 'o' \" \" 'J' 'ú' 'n' 'i' 'o'\n",
    "print(nome)"
   ]
  },
  {
   "cell_type": "markdown",
   "metadata": {},
   "source": [
    "Essa característica de concatenação demonstra que é possível coletar partes específicas da string, assim como é possível fazer como listas (dado do tipo `sequência`)."
   ]
  },
  {
   "cell_type": "code",
   "execution_count": 10,
   "metadata": {},
   "outputs": [
    {
     "data": {
      "text/plain": [
       "'J'"
      ]
     },
     "execution_count": 10,
     "metadata": {},
     "output_type": "execute_result"
    }
   ],
   "source": [
    "nome[8]"
   ]
  },
  {
   "cell_type": "code",
   "execution_count": 11,
   "metadata": {},
   "outputs": [
    {
     "data": {
      "text/plain": [
       "'rio'"
      ]
     },
     "execution_count": 11,
     "metadata": {},
     "output_type": "execute_result"
    }
   ],
   "source": [
    "nome[4:7]"
   ]
  },
  {
   "cell_type": "code",
   "execution_count": 12,
   "metadata": {},
   "outputs": [
    {
     "data": {
      "text/plain": [
       "'Júnio'"
      ]
     },
     "execution_count": 12,
     "metadata": {},
     "output_type": "execute_result"
    }
   ],
   "source": [
    "nome.split(' ')[1]"
   ]
  },
  {
   "cell_type": "code",
   "execution_count": 13,
   "metadata": {},
   "outputs": [
    {
     "data": {
      "text/plain": [
       "'RRRonaldiinho!!!'"
      ]
     },
     "execution_count": 13,
     "metadata": {},
     "output_type": "execute_result"
    }
   ],
   "source": [
    "nome[0]*3 + \"onaldiinho!!!\""
   ]
  },
  {
   "cell_type": "markdown",
   "metadata": {},
   "source": [
    "Existem algumas combinações de caracteres que são separados para representar algum elemento textual não literal (padrão `u` de unicode). Essa lista pode ser visualizada na [documentação](https://docs.python.org/3/reference/lexical_analysis.html#strings), mas, se quisermos manter o elemento literal, devemos usar o `r`(raw) como prefixo da string."
   ]
  },
  {
   "cell_type": "code",
   "execution_count": 14,
   "metadata": {},
   "outputs": [
    {
     "name": "stdout",
     "output_type": "stream",
     "text": [
      "\t Parágrafo...\n"
     ]
    }
   ],
   "source": [
    "# \\t representa o uso do tab, por exemplo\n",
    "print('\\t Parágrafo...')"
   ]
  },
  {
   "cell_type": "code",
   "execution_count": 15,
   "metadata": {},
   "outputs": [
    {
     "name": "stdout",
     "output_type": "stream",
     "text": [
      "\t Parágrafo...\n"
     ]
    }
   ],
   "source": [
    "# \\t representa o uso do tab, por exemplo\n",
    "print(u'\\t Parágrafo...')"
   ]
  },
  {
   "cell_type": "code",
   "execution_count": 16,
   "metadata": {},
   "outputs": [
    {
     "name": "stdout",
     "output_type": "stream",
     "text": [
      "\\t Parágrafo...\n"
     ]
    }
   ],
   "source": [
    "# usar o r antes da string desabilita essa associação padrão\n",
    "print(r'\\t Parágrafo...')"
   ]
  },
  {
   "cell_type": "markdown",
   "metadata": {},
   "source": [
    "Caso o seu interesse seja agrupar multiplas strings de forma otimizada, a documentação indica usar os métodos `str.join()` ou `io.StringIO`."
   ]
  },
  {
   "cell_type": "code",
   "execution_count": 17,
   "metadata": {},
   "outputs": [],
   "source": [
    "import io\n",
    "\n",
    "output = io.StringIO()\n",
    "output.write('First line.\\n')\n",
    "print('Second line.', file=output)\n",
    "# Retrieve file contents -- this will be\n",
    "# 'First line.\\nSecond line.\\n'\n",
    "contents = output.getvalue()\n",
    "# Close object and discard memory buffer --\n",
    "# .getvalue() will now raise an exception.\n",
    "output.close()"
   ]
  },
  {
   "cell_type": "markdown",
   "metadata": {},
   "source": [
    "### Numérico"
   ]
  },
  {
   "cell_type": "markdown",
   "metadata": {},
   "source": [
    "Um dado do tipo numérico pode ser `int`, `float` ou `complex`. Um inteiro é definido sem casas decimais, já um float exige que existam casa decimais e sejam separadas por ponto (`.`). Um complexo possui parte real e imaginária, são definidos com o auxílio do caractere `j` ou `J`."
   ]
  },
  {
   "cell_type": "code",
   "execution_count": 18,
   "metadata": {},
   "outputs": [
    {
     "name": "stdout",
     "output_type": "stream",
     "text": [
      "O número 1 é do tipo <class 'int'>\n"
     ]
    }
   ],
   "source": [
    "numero = 1\n",
    "print('O número', numero, 'é do tipo', type(numero))"
   ]
  },
  {
   "cell_type": "code",
   "execution_count": 19,
   "metadata": {},
   "outputs": [
    {
     "name": "stdout",
     "output_type": "stream",
     "text": [
      "O número 1.0 é do tipo <class 'float'>\n"
     ]
    }
   ],
   "source": [
    "numero = 1.0\n",
    "print('O número', numero, 'é do tipo', type(numero))"
   ]
  },
  {
   "cell_type": "code",
   "execution_count": 20,
   "metadata": {},
   "outputs": [
    {
     "name": "stdout",
     "output_type": "stream",
     "text": [
      "O número 1j é do tipo <class 'complex'>\n"
     ]
    }
   ],
   "source": [
    "numero = 1j\n",
    "print('O número', numero, 'é do tipo', type(numero))"
   ]
  },
  {
   "cell_type": "code",
   "execution_count": 21,
   "metadata": {},
   "outputs": [
    {
     "name": "stdout",
     "output_type": "stream",
     "text": [
      "O número (3+1j) é do tipo <class 'complex'>\n"
     ]
    }
   ],
   "source": [
    "numero = 3 + 1J\n",
    "print('O número', numero, 'é do tipo', type(numero))"
   ]
  },
  {
   "cell_type": "markdown",
   "metadata": {},
   "source": [
    "Podemos usar também as funções `int()`, `float()` e `complex()` para definir dados do tipo numérico."
   ]
  },
  {
   "cell_type": "code",
   "execution_count": 7,
   "metadata": {},
   "outputs": [
    {
     "name": "stdout",
     "output_type": "stream",
     "text": [
      "O número 3.141592653589793 é do tipo <class 'float'>\n"
     ]
    }
   ],
   "source": [
    "pi = float('3.14159265358979323846264338327950288')\n",
    "\n",
    "print('O número', pi, 'é do tipo', type(pi))"
   ]
  },
  {
   "cell_type": "code",
   "execution_count": 8,
   "metadata": {},
   "outputs": [
    {
     "name": "stdout",
     "output_type": "stream",
     "text": [
      "O número -45 é do tipo <class 'int'>\n"
     ]
    }
   ],
   "source": [
    "numero = int(-45)\n",
    "print('O número', numero, 'é do tipo', type(numero))"
   ]
  },
  {
   "cell_type": "code",
   "execution_count": 9,
   "metadata": {},
   "outputs": [
    {
     "name": "stdout",
     "output_type": "stream",
     "text": [
      "O número (1+0j) é do tipo <class 'complex'>\n"
     ]
    }
   ],
   "source": [
    "numero = complex(1, 0)\n",
    "print('O número', numero, 'é do tipo', type(numero))"
   ]
  },
  {
   "cell_type": "markdown",
   "metadata": {},
   "source": [
    "Todos os tipos de dados numéricos aceitam algum tipo de operação matemática, estes métodos são essenciais numa linguagem de programação. Por isso, este tópico está detalhado no notebook que operadores matemáticos."
   ]
  },
  {
   "cell_type": "markdown",
   "metadata": {},
   "source": [
    "### Boolean"
   ]
  },
  {
   "cell_type": "code",
   "execution_count": 22,
   "metadata": {},
   "outputs": [
    {
     "name": "stdout",
     "output_type": "stream",
     "text": [
      "O booleano True é do tipo <class 'bool'>\n"
     ]
    }
   ],
   "source": [
    "booleano = True\n",
    "print('O booleano', booleano, 'é do tipo', type(booleano))"
   ]
  },
  {
   "cell_type": "code",
   "execution_count": 23,
   "metadata": {},
   "outputs": [
    {
     "name": "stdout",
     "output_type": "stream",
     "text": [
      "O booleano False é do tipo <class 'bool'>\n"
     ]
    }
   ],
   "source": [
    "booleano = False\n",
    "print('O booleano', booleano, 'é do tipo', type(booleano))"
   ]
  }
 ],
 "metadata": {
  "kernelspec": {
   "display_name": "base",
   "language": "python",
   "name": "python3"
  },
  "language_info": {
   "codemirror_mode": {
    "name": "ipython",
    "version": 3
   },
   "file_extension": ".py",
   "mimetype": "text/x-python",
   "name": "python",
   "nbconvert_exporter": "python",
   "pygments_lexer": "ipython3",
   "version": "3.9.18"
  }
 },
 "nbformat": 4,
 "nbformat_minor": 2
}
