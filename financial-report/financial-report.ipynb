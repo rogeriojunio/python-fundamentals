{
 "cells": [
  {
   "cell_type": "code",
   "execution_count": 100,
   "id": "880a9618",
   "metadata": {
    "scrolled": true
   },
   "outputs": [],
   "source": [
    "# Instalando pacote do Yahoo Finance\n",
    "#pip install yfinance"
   ]
  },
  {
   "cell_type": "code",
   "execution_count": 101,
   "id": "18c6d97a",
   "metadata": {},
   "outputs": [],
   "source": [
    "#pip install pandas_datareader"
   ]
  },
  {
   "cell_type": "code",
   "execution_count": 102,
   "id": "87159a9c",
   "metadata": {},
   "outputs": [],
   "source": [
    "#pip install plotly"
   ]
  },
  {
   "cell_type": "code",
   "execution_count": 103,
   "id": "bd707170",
   "metadata": {},
   "outputs": [],
   "source": [
    "# Pacotes de análise de dados\n",
    "import pandas as pd\n",
    "import pandas_datareader.data as web\n",
    "import numpy as np\n",
    "\n",
    "# Pacotes de visualização de dados\n",
    "import matplotlib.pyplot as plt\n",
    "import seaborn as sns\n",
    "import plotly.graph_objects as go\n",
    "import plotly.express as px\n",
    "from plotly.subplots import make_subplots\n",
    "\n",
    "# Pacotes de data e hora\n",
    "from datetime import datetime\n",
    "\n",
    "# Pacote do Yahoo Finance\n",
    "import yfinance as yf\n",
    "yf.pdr_override()\n",
    "\n",
    "# Avisos\n",
    "import warnings\n",
    "warnings.filterwarnings('ignore')"
   ]
  },
  {
   "cell_type": "markdown",
   "id": "837fb7ce",
   "metadata": {},
   "source": [
    "API Yahoo Finance"
   ]
  },
  {
   "cell_type": "markdown",
   "id": "30d4eb10",
   "metadata": {},
   "source": [
    "https://finance.yahoo.com/"
   ]
  },
  {
   "cell_type": "code",
   "execution_count": 104,
   "id": "d2370d3d",
   "metadata": {},
   "outputs": [
    {
     "name": "stdout",
     "output_type": "stream",
     "text": [
      "[*********************100%***********************]  1 of 1 completed\n"
     ]
    }
   ],
   "source": [
    "dados = web.get_data_yahoo('PETR4.SA', period='1y')"
   ]
  },
  {
   "cell_type": "code",
   "execution_count": 105,
   "id": "f3e20965",
   "metadata": {},
   "outputs": [
    {
     "data": {
      "text/plain": [
       "(252, 6)"
      ]
     },
     "execution_count": 105,
     "metadata": {},
     "output_type": "execute_result"
    }
   ],
   "source": [
    "dados.shape"
   ]
  },
  {
   "cell_type": "code",
   "execution_count": 106,
   "id": "86755cf4",
   "metadata": {},
   "outputs": [
    {
     "data": {
      "text/html": [
       "<div>\n",
       "<style scoped>\n",
       "    .dataframe tbody tr th:only-of-type {\n",
       "        vertical-align: middle;\n",
       "    }\n",
       "\n",
       "    .dataframe tbody tr th {\n",
       "        vertical-align: top;\n",
       "    }\n",
       "\n",
       "    .dataframe thead th {\n",
       "        text-align: right;\n",
       "    }\n",
       "</style>\n",
       "<table border=\"1\" class=\"dataframe\">\n",
       "  <thead>\n",
       "    <tr style=\"text-align: right;\">\n",
       "      <th></th>\n",
       "      <th>Open</th>\n",
       "      <th>High</th>\n",
       "      <th>Low</th>\n",
       "      <th>Close</th>\n",
       "      <th>Adj Close</th>\n",
       "      <th>Volume</th>\n",
       "    </tr>\n",
       "    <tr>\n",
       "      <th>Date</th>\n",
       "      <th></th>\n",
       "      <th></th>\n",
       "      <th></th>\n",
       "      <th></th>\n",
       "      <th></th>\n",
       "      <th></th>\n",
       "    </tr>\n",
       "  </thead>\n",
       "  <tbody>\n",
       "    <tr>\n",
       "      <th>2022-02-14</th>\n",
       "      <td>33.860001</td>\n",
       "      <td>33.939999</td>\n",
       "      <td>32.820000</td>\n",
       "      <td>33.000000</td>\n",
       "      <td>19.285326</td>\n",
       "      <td>55687000</td>\n",
       "    </tr>\n",
       "    <tr>\n",
       "      <th>2022-02-15</th>\n",
       "      <td>32.660000</td>\n",
       "      <td>32.680000</td>\n",
       "      <td>31.889999</td>\n",
       "      <td>32.480000</td>\n",
       "      <td>18.981436</td>\n",
       "      <td>65689000</td>\n",
       "    </tr>\n",
       "    <tr>\n",
       "      <th>2022-02-16</th>\n",
       "      <td>32.830002</td>\n",
       "      <td>33.700001</td>\n",
       "      <td>32.770000</td>\n",
       "      <td>32.930000</td>\n",
       "      <td>19.244417</td>\n",
       "      <td>65811600</td>\n",
       "    </tr>\n",
       "    <tr>\n",
       "      <th>2022-02-17</th>\n",
       "      <td>32.849998</td>\n",
       "      <td>33.290001</td>\n",
       "      <td>32.549999</td>\n",
       "      <td>32.799999</td>\n",
       "      <td>19.168444</td>\n",
       "      <td>43255200</td>\n",
       "    </tr>\n",
       "    <tr>\n",
       "      <th>2022-02-18</th>\n",
       "      <td>32.570000</td>\n",
       "      <td>33.090000</td>\n",
       "      <td>32.270000</td>\n",
       "      <td>33.000000</td>\n",
       "      <td>19.285326</td>\n",
       "      <td>60304700</td>\n",
       "    </tr>\n",
       "  </tbody>\n",
       "</table>\n",
       "</div>"
      ],
      "text/plain": [
       "                 Open       High        Low      Close  Adj Close    Volume\n",
       "Date                                                                       \n",
       "2022-02-14  33.860001  33.939999  32.820000  33.000000  19.285326  55687000\n",
       "2022-02-15  32.660000  32.680000  31.889999  32.480000  18.981436  65689000\n",
       "2022-02-16  32.830002  33.700001  32.770000  32.930000  19.244417  65811600\n",
       "2022-02-17  32.849998  33.290001  32.549999  32.799999  19.168444  43255200\n",
       "2022-02-18  32.570000  33.090000  32.270000  33.000000  19.285326  60304700"
      ]
     },
     "execution_count": 106,
     "metadata": {},
     "output_type": "execute_result"
    }
   ],
   "source": [
    "dados.head()"
   ]
  },
  {
   "cell_type": "code",
   "execution_count": 107,
   "id": "f1bfdcbc",
   "metadata": {},
   "outputs": [
    {
     "data": {
      "text/html": [
       "<div>\n",
       "<style scoped>\n",
       "    .dataframe tbody tr th:only-of-type {\n",
       "        vertical-align: middle;\n",
       "    }\n",
       "\n",
       "    .dataframe tbody tr th {\n",
       "        vertical-align: top;\n",
       "    }\n",
       "\n",
       "    .dataframe thead th {\n",
       "        text-align: right;\n",
       "    }\n",
       "</style>\n",
       "<table border=\"1\" class=\"dataframe\">\n",
       "  <thead>\n",
       "    <tr style=\"text-align: right;\">\n",
       "      <th></th>\n",
       "      <th>Open</th>\n",
       "      <th>High</th>\n",
       "      <th>Low</th>\n",
       "      <th>Close</th>\n",
       "      <th>Adj Close</th>\n",
       "      <th>Volume</th>\n",
       "    </tr>\n",
       "    <tr>\n",
       "      <th>Date</th>\n",
       "      <th></th>\n",
       "      <th></th>\n",
       "      <th></th>\n",
       "      <th></th>\n",
       "      <th></th>\n",
       "      <th></th>\n",
       "    </tr>\n",
       "  </thead>\n",
       "  <tbody>\n",
       "    <tr>\n",
       "      <th>2023-02-08</th>\n",
       "      <td>25.799999</td>\n",
       "      <td>26.150000</td>\n",
       "      <td>25.559999</td>\n",
       "      <td>26.049999</td>\n",
       "      <td>26.049999</td>\n",
       "      <td>48713100</td>\n",
       "    </tr>\n",
       "    <tr>\n",
       "      <th>2023-02-09</th>\n",
       "      <td>26.049999</td>\n",
       "      <td>26.320000</td>\n",
       "      <td>25.790001</td>\n",
       "      <td>25.930000</td>\n",
       "      <td>25.930000</td>\n",
       "      <td>38198300</td>\n",
       "    </tr>\n",
       "    <tr>\n",
       "      <th>2023-02-10</th>\n",
       "      <td>25.980000</td>\n",
       "      <td>26.790001</td>\n",
       "      <td>25.930000</td>\n",
       "      <td>26.719999</td>\n",
       "      <td>26.719999</td>\n",
       "      <td>54683100</td>\n",
       "    </tr>\n",
       "    <tr>\n",
       "      <th>2023-02-13</th>\n",
       "      <td>26.690001</td>\n",
       "      <td>26.889999</td>\n",
       "      <td>26.370001</td>\n",
       "      <td>26.799999</td>\n",
       "      <td>26.799999</td>\n",
       "      <td>36726900</td>\n",
       "    </tr>\n",
       "    <tr>\n",
       "      <th>2023-02-14</th>\n",
       "      <td>26.850000</td>\n",
       "      <td>27.059999</td>\n",
       "      <td>26.600000</td>\n",
       "      <td>26.740000</td>\n",
       "      <td>26.740000</td>\n",
       "      <td>20269500</td>\n",
       "    </tr>\n",
       "  </tbody>\n",
       "</table>\n",
       "</div>"
      ],
      "text/plain": [
       "                 Open       High        Low      Close  Adj Close    Volume\n",
       "Date                                                                       \n",
       "2023-02-08  25.799999  26.150000  25.559999  26.049999  26.049999  48713100\n",
       "2023-02-09  26.049999  26.320000  25.790001  25.930000  25.930000  38198300\n",
       "2023-02-10  25.980000  26.790001  25.930000  26.719999  26.719999  54683100\n",
       "2023-02-13  26.690001  26.889999  26.370001  26.799999  26.799999  36726900\n",
       "2023-02-14  26.850000  27.059999  26.600000  26.740000  26.740000  20269500"
      ]
     },
     "execution_count": 107,
     "metadata": {},
     "output_type": "execute_result"
    }
   ],
   "source": [
    "dados.tail()"
   ]
  },
  {
   "cell_type": "code",
   "execution_count": 108,
   "id": "9c5ec59a",
   "metadata": {},
   "outputs": [
    {
     "data": {
      "text/html": [
       "<div>\n",
       "<style scoped>\n",
       "    .dataframe tbody tr th:only-of-type {\n",
       "        vertical-align: middle;\n",
       "    }\n",
       "\n",
       "    .dataframe tbody tr th {\n",
       "        vertical-align: top;\n",
       "    }\n",
       "\n",
       "    .dataframe thead th {\n",
       "        text-align: right;\n",
       "    }\n",
       "</style>\n",
       "<table border=\"1\" class=\"dataframe\">\n",
       "  <thead>\n",
       "    <tr style=\"text-align: right;\">\n",
       "      <th></th>\n",
       "      <th>Open</th>\n",
       "      <th>High</th>\n",
       "      <th>Low</th>\n",
       "      <th>Close</th>\n",
       "      <th>Adj Close</th>\n",
       "      <th>Volume</th>\n",
       "    </tr>\n",
       "  </thead>\n",
       "  <tbody>\n",
       "    <tr>\n",
       "      <th>count</th>\n",
       "      <td>252.000000</td>\n",
       "      <td>252.000000</td>\n",
       "      <td>252.000000</td>\n",
       "      <td>252.000000</td>\n",
       "      <td>252.000000</td>\n",
       "      <td>2.520000e+02</td>\n",
       "    </tr>\n",
       "    <tr>\n",
       "      <th>mean</th>\n",
       "      <td>29.890437</td>\n",
       "      <td>30.425556</td>\n",
       "      <td>29.348929</td>\n",
       "      <td>29.901706</td>\n",
       "      <td>23.453803</td>\n",
       "      <td>8.160466e+07</td>\n",
       "    </tr>\n",
       "    <tr>\n",
       "      <th>std</th>\n",
       "      <td>3.666866</td>\n",
       "      <td>3.685120</td>\n",
       "      <td>3.621055</td>\n",
       "      <td>3.648205</td>\n",
       "      <td>3.525846</td>\n",
       "      <td>3.709082e+07</td>\n",
       "    </tr>\n",
       "    <tr>\n",
       "      <th>min</th>\n",
       "      <td>21.000000</td>\n",
       "      <td>22.110001</td>\n",
       "      <td>20.770000</td>\n",
       "      <td>21.469999</td>\n",
       "      <td>17.537958</td>\n",
       "      <td>2.026950e+07</td>\n",
       "    </tr>\n",
       "    <tr>\n",
       "      <th>25%</th>\n",
       "      <td>26.842500</td>\n",
       "      <td>27.492500</td>\n",
       "      <td>26.167500</td>\n",
       "      <td>26.797500</td>\n",
       "      <td>20.123456</td>\n",
       "      <td>5.608975e+07</td>\n",
       "    </tr>\n",
       "    <tr>\n",
       "      <th>50%</th>\n",
       "      <td>30.605000</td>\n",
       "      <td>31.264999</td>\n",
       "      <td>29.965000</td>\n",
       "      <td>30.535000</td>\n",
       "      <td>23.396103</td>\n",
       "      <td>7.266555e+07</td>\n",
       "    </tr>\n",
       "    <tr>\n",
       "      <th>75%</th>\n",
       "      <td>32.700001</td>\n",
       "      <td>33.454999</td>\n",
       "      <td>32.297501</td>\n",
       "      <td>32.937500</td>\n",
       "      <td>26.086003</td>\n",
       "      <td>9.630120e+07</td>\n",
       "    </tr>\n",
       "    <tr>\n",
       "      <th>max</th>\n",
       "      <td>37.650002</td>\n",
       "      <td>38.389999</td>\n",
       "      <td>36.849998</td>\n",
       "      <td>37.720001</td>\n",
       "      <td>33.003029</td>\n",
       "      <td>3.195016e+08</td>\n",
       "    </tr>\n",
       "  </tbody>\n",
       "</table>\n",
       "</div>"
      ],
      "text/plain": [
       "             Open        High         Low       Close   Adj Close  \\\n",
       "count  252.000000  252.000000  252.000000  252.000000  252.000000   \n",
       "mean    29.890437   30.425556   29.348929   29.901706   23.453803   \n",
       "std      3.666866    3.685120    3.621055    3.648205    3.525846   \n",
       "min     21.000000   22.110001   20.770000   21.469999   17.537958   \n",
       "25%     26.842500   27.492500   26.167500   26.797500   20.123456   \n",
       "50%     30.605000   31.264999   29.965000   30.535000   23.396103   \n",
       "75%     32.700001   33.454999   32.297501   32.937500   26.086003   \n",
       "max     37.650002   38.389999   36.849998   37.720001   33.003029   \n",
       "\n",
       "             Volume  \n",
       "count  2.520000e+02  \n",
       "mean   8.160466e+07  \n",
       "std    3.709082e+07  \n",
       "min    2.026950e+07  \n",
       "25%    5.608975e+07  \n",
       "50%    7.266555e+07  \n",
       "75%    9.630120e+07  \n",
       "max    3.195016e+08  "
      ]
     },
     "execution_count": 108,
     "metadata": {},
     "output_type": "execute_result"
    }
   ],
   "source": [
    "dados.describe()"
   ]
  },
  {
   "cell_type": "code",
   "execution_count": 109,
   "id": "dc4bbb9a",
   "metadata": {},
   "outputs": [
    {
     "name": "stdout",
     "output_type": "stream",
     "text": [
      "<class 'pandas.core.frame.DataFrame'>\n",
      "DatetimeIndex: 252 entries, 2022-02-14 to 2023-02-14\n",
      "Data columns (total 6 columns):\n",
      " #   Column     Non-Null Count  Dtype  \n",
      "---  ------     --------------  -----  \n",
      " 0   Open       252 non-null    float64\n",
      " 1   High       252 non-null    float64\n",
      " 2   Low        252 non-null    float64\n",
      " 3   Close      252 non-null    float64\n",
      " 4   Adj Close  252 non-null    float64\n",
      " 5   Volume     252 non-null    int64  \n",
      "dtypes: float64(5), int64(1)\n",
      "memory usage: 13.8 KB\n"
     ]
    }
   ],
   "source": [
    "dados.info()"
   ]
  },
  {
   "cell_type": "code",
   "execution_count": 110,
   "id": "40105d05",
   "metadata": {},
   "outputs": [
    {
     "data": {
      "image/png": "[encoded data removed]",
      "text/plain": [
       "<Figure size 432x288 with 1 Axes>"
      ]
     },
     "metadata": {
      "needs_background": "light"
     },
     "output_type": "display_data"
    }
   ],
   "source": [
    "# Histograma\n",
    "plt.plot(dados['Close'])\n",
    "plt.title('Preço de fechamento');"
   ]
  },
  {
   "cell_type": "code",
   "execution_count": 111,
   "id": "77c15921",
   "metadata": {
    "scrolled": true
   },
   "outputs": [
    {
     "data": {
      "image/png": "[encoded data removed]",
      "text/plain": [
       "<Figure size 864x432 with 1 Axes>"
      ]
     },
     "metadata": {
      "needs_background": "light"
     },
     "output_type": "display_data"
    }
   ],
   "source": [
    "# Média móvel\n",
    "plt.figure(figsize=(12,6))\n",
    "plt.plot(dados['Close'])\n",
    "plt.plot(dados['Close'].rolling(window=5).mean())\n",
    "plt.plot(dados['Close'].rolling(window=25).mean())\n",
    "plt.title('Preço de fechamento')\n",
    "plt.legend(['Fechamento diário', 'Média de 5 dias', 'Média de 25 dias'])\n",
    "plt.ylabel('Valor de fechamento (R$)')\n",
    "plt.xlabel('Período');"
   ]
  },
  {
   "cell_type": "code",
   "execution_count": 112,
   "id": "c828eed9",
   "metadata": {},
   "outputs": [],
   "source": [
    "dados['media_movel5'] = dados['Close'].rolling(window=5).mean()\n",
    "dados['media_movel25'] = dados['Close'].rolling(window=25).mean()"
   ]
  },
  {
   "cell_type": "code",
   "execution_count": 113,
   "id": "70cc58b6",
   "metadata": {},
   "outputs": [
    {
     "data": {
      "application/vnd.plotly.v1+json": {
       "config": {
        "plotlyServerURL": "https://plot.ly"
       },
       "data": [
        {
         "hovertemplate": "Date=%{x}<br>Close=%{y}<extra></extra>",
         "legendgroup": "",
         "line": {
          "color": "#636efa",
          "dash": "solid"
         },
         "marker": {
          "symbol": "circle"
         },
         "mode": "lines",
         "name": "",
         "orientation": "v",
         "showlegend": false,
         "type": "scatter",
         "x": [
          "2022-02-14T00:00:00",
          "2022-02-15T00:00:00",
          "2022-02-16T00:00:00",
          "2022-02-17T00:00:00",
          "2022-02-18T00:00:00",
          "2022-02-21T00:00:00",
          "2022-02-22T00:00:00",
          "2022-02-23T00:00:00",
          "2022-02-24T00:00:00",
          "2022-02-25T00:00:00",
          "2022-03-02T00:00:00",
          "2022-03-03T00:00:00",
          "2022-03-04T00:00:00",
          "2022-03-07T00:00:00",
          "2022-03-08T00:00:00",
          "2022-03-09T00:00:00",
          "2022-03-10T00:00:00",
          "2022-03-11T00:00:00",
          "2022-03-14T00:00:00",
          "2022-03-15T00:00:00",
          "2022-03-16T00:00:00",
          "2022-03-17T00:00:00",
          "2022-03-18T00:00:00",
          "2022-03-21T00:00:00",
          "2022-03-22T00:00:00",
          "2022-03-23T00:00:00",
          "2022-03-24T00:00:00",
          "2022-03-25T00:00:00",
          "2022-03-28T00:00:00",
          "2022-03-29T00:00:00",
          "2022-03-30T00:00:00",
          "2022-03-31T00:00:00",
          "2022-04-01T00:00:00",
          "2022-04-04T00:00:00",
          "2022-04-05T00:00:00",
          "2022-04-06T00:00:00",
          "2022-04-07T00:00:00",
          "2022-04-08T00:00:00",
          "2022-04-11T00:00:00",
          "2022-04-12T00:00:00",
          "2022-04-13T00:00:00",
          "2022-04-14T00:00:00",
          "2022-04-18T00:00:00",
          "2022-04-19T00:00:00",
          "2022-04-20T00:00:00",
          "2022-04-22T00:00:00",
          "2022-04-25T00:00:00",
          "2022-04-26T00:00:00",
          "2022-04-27T00:00:00",
          "2022-04-28T00:00:00",
          "2022-04-29T00:00:00",
          "2022-05-02T00:00:00",
          "2022-05-03T00:00:00",
          "2022-05-04T00:00:00",
          "2022-05-05T00:00:00",
          "2022-05-06T00:00:00",
          "2022-05-09T00:00:00",
          "2022-05-10T00:00:00",
          "2022-05-11T00:00:00",
          "2022-05-12T00:00:00",
          "2022-05-13T00:00:00",
          "2022-05-16T00:00:00",
          "2022-05-17T00:00:00",
          "2022-05-18T00:00:00",
          "2022-05-19T00:00:00",
          "2022-05-20T00:00:00",
          "2022-05-23T00:00:00",
          "2022-05-24T00:00:00",
          "2022-05-25T00:00:00",
          "2022-05-26T00:00:00",
          "2022-05-27T00:00:00",
          "2022-05-30T00:00:00",
          "2022-05-31T00:00:00",
          "2022-06-01T00:00:00",
          "2022-06-02T00:00:00",
          "2022-06-03T00:00:00",
          "2022-06-06T00:00:00",
          "2022-06-07T00:00:00",
          "2022-06-08T00:00:00",
          "2022-06-09T00:00:00",
          "2022-06-10T00:00:00",
          "2022-06-13T00:00:00",
          "2022-06-14T00:00:00",
          "2022-06-15T00:00:00",
          "2022-06-17T00:00:00",
          "2022-06-20T00:00:00",
          "2022-06-21T00:00:00",
          "2022-06-22T00:00:00",
          "2022-06-23T00:00:00",
          "2022-06-24T00:00:00",
          "2022-06-27T00:00:00",
          "2022-06-28T00:00:00",
          "2022-06-29T00:00:00",
          "2022-06-30T00:00:00",
          "2022-07-01T00:00:00",
          "2022-07-04T00:00:00",
          "2022-07-05T00:00:00",
          "2022-07-06T00:00:00",
          "2022-07-07T00:00:00",
          "2022-07-08T00:00:00",
          "2022-07-11T00:00:00",
          "2022-07-12T00:00:00",
          "2022-07-13T00:00:00",
          "2022-07-14T00:00:00",
          "2022-07-15T00:00:00",
          "2022-07-18T00:00:00",
          "2022-07-19T00:00:00",
          "2022-07-20T00:00:00",
          "2022-07-21T00:00:00",
          "2022-07-22T00:00:00",
          "2022-07-25T00:00:00",
          "2022-07-26T00:00:00",
          "2022-07-27T00:00:00",
          "2022-07-28T00:00:00",
          "2022-07-29T00:00:00",
          "2022-08-01T00:00:00",
          "2022-08-02T00:00:00",
          "2022-08-03T00:00:00",
          "2022-08-04T00:00:00",
          "2022-08-05T00:00:00",
          "2022-08-08T00:00:00",
          "2022-08-09T00:00:00",
          "2022-08-10T00:00:00",
          "2022-08-11T00:00:00",
          "2022-08-12T00:00:00",
          "2022-08-15T00:00:00",
          "2022-08-16T00:00:00",
          "2022-08-17T00:00:00",
          "2022-08-18T00:00:00",
          "2022-08-19T00:00:00",
          "2022-08-22T00:00:00",
          "2022-08-23T00:00:00",
          "2022-08-24T00:00:00",
          "2022-08-25T00:00:00",
          "2022-08-26T00:00:00",
          "2022-08-29T00:00:00",
          "2022-08-30T00:00:00",
          "2022-08-31T00:00:00",
          "2022-09-01T00:00:00",
          "2022-09-02T00:00:00",
          "2022-09-05T00:00:00",
          "2022-09-06T00:00:00",
          "2022-09-08T00:00:00",
          "2022-09-09T00:00:00",
          "2022-09-12T00:00:00",
          "2022-09-13T00:00:00",
          "2022-09-14T00:00:00",
          "2022-09-15T00:00:00",
          "2022-09-16T00:00:00",
          "2022-09-19T00:00:00",
          "2022-09-20T00:00:00",
          "2022-09-21T00:00:00",
          "2022-09-22T00:00:00",
          "2022-09-23T00:00:00",
          "2022-09-26T00:00:00",
          "2022-09-27T00:00:00",
          "2022-09-28T00:00:00",
          "2022-09-29T00:00:00",
          "2022-09-30T00:00:00",
          "2022-10-03T00:00:00",
          "2022-10-04T00:00:00",
          "2022-10-05T00:00:00",
          "2022-10-06T00:00:00",
          "2022-10-07T00:00:00",
          "2022-10-10T00:00:00",
          "2022-10-11T00:00:00",
          "2022-10-13T00:00:00",
          "2022-10-14T00:00:00",
          "2022-10-17T00:00:00",
          "2022-10-18T00:00:00",
          "2022-10-19T00:00:00",
          "2022-10-20T00:00:00",
          "2022-10-21T00:00:00",
          "2022-10-24T00:00:00",
          "2022-10-25T00:00:00",
          "2022-10-26T00:00:00",
          "2022-10-27T00:00:00",
          "2022-10-28T00:00:00",
          "2022-10-31T00:00:00",
          "2022-11-01T00:00:00",
          "2022-11-03T00:00:00",
          "2022-11-04T00:00:00",
          "2022-11-07T00:00:00",
          "2022-11-08T00:00:00",
          "2022-11-09T00:00:00",
          "2022-11-10T00:00:00",
          "2022-11-11T00:00:00",
          "2022-11-14T00:00:00",
          "2022-11-16T00:00:00",
          "2022-11-17T00:00:00",
          "2022-11-18T00:00:00",
          "2022-11-21T00:00:00",
          "2022-11-22T00:00:00",
          "2022-11-23T00:00:00",
          "2022-11-24T00:00:00",
          "2022-11-25T00:00:00",
          "2022-11-28T00:00:00",
          "2022-11-29T00:00:00",
          "2022-11-30T00:00:00",
          "2022-12-01T00:00:00",
          "2022-12-02T00:00:00",
          "2022-12-05T00:00:00",
          "2022-12-06T00:00:00",
          "2022-12-07T00:00:00",
          "2022-12-08T00:00:00",
          "2022-12-09T00:00:00",
          "2022-12-12T00:00:00",
          "2022-12-13T00:00:00",
          "2022-12-14T00:00:00",
          "2022-12-15T00:00:00",
          "2022-12-16T00:00:00",
          "2022-12-19T00:00:00",
          "2022-12-20T00:00:00",
          "2022-12-21T00:00:00",
          "2022-12-22T00:00:00",
          "2022-12-23T00:00:00",
          "2022-12-26T00:00:00",
          "2022-12-27T00:00:00",
          "2022-12-28T00:00:00",
          "2022-12-29T00:00:00",
          "2023-01-02T00:00:00",
          "2023-01-03T00:00:00",
          "2023-01-04T00:00:00",
          "2023-01-05T00:00:00",
          "2023-01-06T00:00:00",
          "2023-01-09T00:00:00",
          "2023-01-10T00:00:00",
          "2023-01-11T00:00:00",
          "2023-01-12T00:00:00",
          "2023-01-13T00:00:00",
          "2023-01-16T00:00:00",
          "2023-01-17T00:00:00",
          "2023-01-18T00:00:00",
          "2023-01-19T00:00:00",
          "2023-01-20T00:00:00",
          "2023-01-23T00:00:00",
          "2023-01-24T00:00:00",
          "2023-01-25T00:00:00",
          "2023-01-26T00:00:00",
          "2023-01-27T00:00:00",
          "2023-01-30T00:00:00",
          "2023-01-31T00:00:00",
          "2023-02-01T00:00:00",
          "2023-02-02T00:00:00",
          "2023-02-03T00:00:00",
          "2023-02-06T00:00:00",
          "2023-02-07T00:00:00",
          "2023-02-08T00:00:00",
          "2023-02-09T00:00:00",
          "2023-02-10T00:00:00",
          "2023-02-13T00:00:00",
          "2023-02-14T00:00:00"
         ],
         "xaxis": "x",
         "y": [
          33,
          32.47999954223633,
          32.93000030517578,
          32.79999923706055,
          33,
          33.849998474121094,
          33.7400016784668,
          34.220001220703125,
          33.38999938964844,
          34,
          34.66999816894531,
          34.2400016784668,
          34.22999954223633,
          31.799999237060547,
          32.459999084472656,
          32.560001373291016,
          33.70000076293945,
          32.4900016784668,
          31.8700008392334,
          31.100000381469727,
          30.829999923706055,
          30.010000228881836,
          30.610000610351562,
          31.760000228881836,
          31.6200008392334,
          32.04999923706055,
          32.41999816894531,
          32.29999923706055,
          31.600000381469727,
          32.29999923706055,
          32.9900016784668,
          33.45000076293945,
          33.0099983215332,
          32.70000076293945,
          32.38999938964844,
          32.36000061035156,
          34.040000915527344,
          34.209999084472656,
          33.95000076293945,
          33.849998474121094,
          34.56999969482422,
          31.270000457763672,
          30.719999313354492,
          31.649999618530273,
          31.799999237060547,
          30.559999465942383,
          30.110000610351562,
          30.059999465942383,
          30.059999465942383,
          30.260000228881836,
          30.280000686645508,
          29.979999542236328,
          30.25,
          32.06999969482422,
          32.0099983215332,
          33.060001373291016,
          32.15999984741211,
          32.439998626708984,
          33.56999969482422,
          33.83000183105469,
          34.27000045776367,
          34.61000061035156,
          34.15999984741211,
          33.599998474121094,
          34.16999816894531,
          34.83000183105469,
          36.20000076293945,
          31.600000381469727,
          32.04999923706055,
          32.130001068115234,
          30.600000381469727,
          29.989999771118164,
          30.059999465942383,
          30.020000457763672,
          29.760000228881836,
          30.280000686645508,
          30.299999237060547,
          30.65999984741211,
          30.510000228881836,
          30.06999969482422,
          29.649999618530273,
          29.270000457763672,
          29.600000381469727,
          29.079999923706055,
          27.309999465942383,
          27.6200008392334,
          27.06999969482422,
          26.989999771118164,
          26.489999771118164,
          26.290000915527344,
          27.979999542236328,
          28.329999923706055,
          28.079999923706055,
          27.93000030517578,
          28.530000686645508,
          29.139999389648438,
          28.030000686645508,
          27.670000076293945,
          28.479999542236328,
          28.799999237060547,
          28.65999984741211,
          28.229999542236328,
          28.25,
          27.489999771118164,
          27.959999084472656,
          28.600000381469727,
          29.18000030517578,
          29.170000076293945,
          29.020000457763672,
          29.329999923706055,
          30.700000762939453,
          31.010000228881836,
          31.350000381469727,
          32.290000915527344,
          34.150001525878906,
          33.68000030517578,
          33.83000183105469,
          33.849998474121094,
          34.209999084472656,
          34.869998931884766,
          36.630001068115234,
          37.22999954223633,
          37.11000061035156,
          36.25,
          31.709999084472656,
          31.719999313354492,
          32.0099983215332,
          32.7599983215332,
          33.41999816894531,
          31.729999542236328,
          32.40999984741211,
          33.439998626708984,
          33.63999938964844,
          33.279998779296875,
          33.63999938964844,
          34.47999954223633,
          32.43000030517578,
          33.22999954223633,
          33.849998474121094,
          33.41999816894531,
          33.34000015258789,
          32.099998474121094,
          31.799999237060547,
          31.790000915527344,
          31.479999542236328,
          30.649999618530273,
          31.1200008392334,
          31.059999465942383,
          30.780000686645508,
          31.270000457763672,
          31.09000015258789,
          31.170000076293945,
          31.940000534057617,
          29.940000534057617,
          29.290000915527344,
          29.670000076293945,
          29.270000457763672,
          29.309999465942383,
          29.799999237060547,
          32.18000030517578,
          31.3700008392334,
          32.54999923706055,
          33.65999984741211,
          33.630001068115234,
          33.25,
          33,
          33.939998626708984,
          33.41999816894531,
          33.38999938964844,
          34.209999084472656,
          35.41999816894531,
          36.470001220703125,
          37.720001220703125,
          34.25,
          33.529998779296875,
          32.709999084472656,
          32.959999084472656,
          32.56999969482422,
          29.809999465942383,
          29.860000610351562,
          29.950000762939453,
          28.299999237060547,
          27.149999618530273,
          27.350000381469727,
          26.899999618530273,
          26.1200008392334,
          26.989999771118164,
          27.700000762939453,
          27.149999618530273,
          27.15999984741211,
          26.700000762939453,
          26.780000686645508,
          23.329999923706055,
          23.440000534057617,
          24.25,
          23.860000610351562,
          24.360000610351562,
          25.3799991607666,
          26.65999984741211,
          25.59000015258789,
          25.90999984741211,
          25.6200008392334,
          25.639999389648438,
          25.350000381469727,
          24.780000686645508,
          24.709999084472656,
          23.90999984741211,
          23.31999969482422,
          21.469999313354492,
          22.040000915527344,
          22.049999237060547,
          22.3799991607666,
          23.06999969482422,
          23.56999969482422,
          23.989999771118164,
          25.1200008392334,
          24.940000534057617,
          25.110000610351562,
          24.799999237060547,
          24.5,
          22.920000076293945,
          22.34000015258789,
          23.049999237060547,
          23.8799991607666,
          23.739999771118164,
          23.8700008392334,
          24.09000015258789,
          24.280000686645508,
          24.6299991607666,
          24.56999969482422,
          24.040000915527344,
          25.520000457763672,
          25.06999969482422,
          25.889999389648438,
          26.3700008392334,
          26.790000915527344,
          26.600000381469727,
          26.940000534057617,
          26.25,
          25.6200008392334,
          25.75,
          26.06999969482422,
          25.709999084472656,
          24.520000457763672,
          24.790000915527344,
          25.780000686645508,
          25.6200008392334,
          26.049999237060547,
          25.93000030517578,
          26.719999313354492,
          26.799999237060547,
          26.739999771118164
         ],
         "yaxis": "y"
        }
       ],
       "layout": {
        "legend": {
         "tracegroupgap": 0
        },
        "template": {
         "data": {
          "bar": [
           {
            "error_x": {
             "color": "#2a3f5f"
            },
            "error_y": {
             "color": "#2a3f5f"
            },
            "marker": {
             "line": {
              "color": "#E5ECF6",
              "width": 0.5
             },
             "pattern": {
              "fillmode": "overlay",
              "size": 10,
              "solidity": 0.2
             }
            },
            "type": "bar"
           }
          ],
          "barpolar": [
           {
            "marker": {
             "line": {
              "color": "#E5ECF6",
              "width": 0.5
             },
             "pattern": {
              "fillmode": "overlay",
              "size": 10,
              "solidity": 0.2
             }
            },
            "type": "barpolar"
           }
          ],
          "carpet": [
           {
            "aaxis": {
             "endlinecolor": "#2a3f5f",
             "gridcolor": "white",
             "linecolor": "white",
             "minorgridcolor": "white",
             "startlinecolor": "#2a3f5f"
            },
            "baxis": {
             "endlinecolor": "#2a3f5f",
             "gridcolor": "white",
             "linecolor": "white",
             "minorgridcolor": "white",
             "startlinecolor": "#2a3f5f"
            },
            "type": "carpet"
           }
          ],
          "choropleth": [
           {
            "colorbar": {
             "outlinewidth": 0,
             "ticks": ""
            },
            "type": "choropleth"
           }
          ],
          "contour": [
           {
            "colorbar": {
             "outlinewidth": 0,
             "ticks": ""
            },
            "colorscale": [
             [
              0,
              "#0d0887"
             ],
             [
              0.1111111111111111,
              "#46039f"
             ],
             [
              0.2222222222222222,
              "#7201a8"
             ],
             [
              0.3333333333333333,
              "#9c179e"
             ],
             [
              0.4444444444444444,
              "#bd3786"
             ],
             [
              0.5555555555555556,
              "#d8576b"
             ],
             [
              0.6666666666666666,
              "#ed7953"
             ],
             [
              0.7777777777777778,
              "#fb9f3a"
             ],
             [
              0.8888888888888888,
              "#fdca26"
             ],
             [
              1,
              "#f0f921"
             ]
            ],
            "type": "contour"
           }
          ],
          "contourcarpet": [
           {
            "colorbar": {
             "outlinewidth": 0,
             "ticks": ""
            },
            "type": "contourcarpet"
           }
          ],
          "heatmap": [
           {
            "colorbar": {
             "outlinewidth": 0,
             "ticks": ""
            },
            "colorscale": [
             [
              0,
              "#0d0887"
             ],
             [
              0.1111111111111111,
              "#46039f"
             ],
             [
              0.2222222222222222,
              "#7201a8"
             ],
             [
              0.3333333333333333,
              "#9c179e"
             ],
             [
              0.4444444444444444,
              "#bd3786"
             ],
             [
              0.5555555555555556,
              "#d8576b"
             ],
             [
              0.6666666666666666,
              "#ed7953"
             ],
             [
              0.7777777777777778,
              "#fb9f3a"
             ],
             [
              0.8888888888888888,
              "#fdca26"
             ],
             [
              1,
              "#f0f921"
             ]
            ],
            "type": "heatmap"
           }
          ],
          "heatmapgl": [
           {
            "colorbar": {
             "outlinewidth": 0,
             "ticks": ""
            },
            "colorscale": [
             [
              0,
              "#0d0887"
             ],
             [
              0.1111111111111111,
              "#46039f"
             ],
             [
              0.2222222222222222,
              "#7201a8"
             ],
             [
              0.3333333333333333,
              "#9c179e"
             ],
             [
              0.4444444444444444,
              "#bd3786"
             ],
             [
              0.5555555555555556,
              "#d8576b"
             ],
             [
              0.6666666666666666,
              "#ed7953"
             ],
             [
              0.7777777777777778,
              "#fb9f3a"
             ],
             [
              0.8888888888888888,
              "#fdca26"
             ],
             [
              1,
              "#f0f921"
             ]
            ],
            "type": "heatmapgl"
           }
          ],
          "histogram": [
           {
            "marker": {
             "pattern": {
              "fillmode": "overlay",
              "size": 10,
              "solidity": 0.2
             }
            },
            "type": "histogram"
           }
          ],
          "histogram2d": [
           {
            "colorbar": {
             "outlinewidth": 0,
             "ticks": ""
            },
            "colorscale": [
             [
              0,
              "#0d0887"
             ],
             [
              0.1111111111111111,
              "#46039f"
             ],
             [
              0.2222222222222222,
              "#7201a8"
             ],
             [
              0.3333333333333333,
              "#9c179e"
             ],
             [
              0.4444444444444444,
              "#bd3786"
             ],
             [
              0.5555555555555556,
              "#d8576b"
             ],
             [
              0.6666666666666666,
              "#ed7953"
             ],
             [
              0.7777777777777778,
              "#fb9f3a"
             ],
             [
              0.8888888888888888,
              "#fdca26"
             ],
             [
              1,
              "#f0f921"
             ]
            ],
            "type": "histogram2d"
           }
          ],
          "histogram2dcontour": [
           {
            "colorbar": {
             "outlinewidth": 0,
             "ticks": ""
            },
            "colorscale": [
             [
              0,
              "#0d0887"
             ],
             [
              0.1111111111111111,
              "#46039f"
             ],
             [
              0.2222222222222222,
              "#7201a8"
             ],
             [
              0.3333333333333333,
              "#9c179e"
             ],
             [
              0.4444444444444444,
              "#bd3786"
             ],
             [
              0.5555555555555556,
              "#d8576b"
             ],
             [
              0.6666666666666666,
              "#ed7953"
             ],
             [
              0.7777777777777778,
              "#fb9f3a"
             ],
             [
              0.8888888888888888,
              "#fdca26"
             ],
             [
              1,
              "#f0f921"
             ]
            ],
            "type": "histogram2dcontour"
           }
          ],
          "mesh3d": [
           {
            "colorbar": {
             "outlinewidth": 0,
             "ticks": ""
            },
            "type": "mesh3d"
           }
          ],
          "parcoords": [
           {
            "line": {
             "colorbar": {
              "outlinewidth": 0,
              "ticks": ""
             }
            },
            "type": "parcoords"
           }
          ],
          "pie": [
           {
            "automargin": true,
            "type": "pie"
           }
          ],
          "scatter": [
           {
            "fillpattern": {
             "fillmode": "overlay",
             "size": 10,
             "solidity": 0.2
            },
            "type": "scatter"
           }
          ],
          "scatter3d": [
           {
            "line": {
             "colorbar": {
              "outlinewidth": 0,
              "ticks": ""
             }
            },
            "marker": {
             "colorbar": {
              "outlinewidth": 0,
              "ticks": ""
             }
            },
            "type": "scatter3d"
           }
          ],
          "scattercarpet": [
           {
            "marker": {
             "colorbar": {
              "outlinewidth": 0,
              "ticks": ""
             }
            },
            "type": "scattercarpet"
           }
          ],
          "scattergeo": [
           {
            "marker": {
             "colorbar": {
              "outlinewidth": 0,
              "ticks": ""
             }
            },
            "type": "scattergeo"
           }
          ],
          "scattergl": [
           {
            "marker": {
             "colorbar": {
              "outlinewidth": 0,
              "ticks": ""
             }
            },
            "type": "scattergl"
           }
          ],
          "scattermapbox": [
           {
            "marker": {
             "colorbar": {
              "outlinewidth": 0,
              "ticks": ""
             }
            },
            "type": "scattermapbox"
           }
          ],
          "scatterpolar": [
           {
            "marker": {
             "colorbar": {
              "outlinewidth": 0,
              "ticks": ""
             }
            },
            "type": "scatterpolar"
           }
          ],
          "scatterpolargl": [
           {
            "marker": {
             "colorbar": {
              "outlinewidth": 0,
              "ticks": ""
             }
            },
            "type": "scatterpolargl"
           }
          ],
          "scatterternary": [
           {
            "marker": {
             "colorbar": {
              "outlinewidth": 0,
              "ticks": ""
             }
            },
            "type": "scatterternary"
           }
          ],
          "surface": [
           {
            "colorbar": {
             "outlinewidth": 0,
             "ticks": ""
            },
            "colorscale": [
             [
              0,
              "#0d0887"
             ],
             [
              0.1111111111111111,
              "#46039f"
             ],
             [
              0.2222222222222222,
              "#7201a8"
             ],
             [
              0.3333333333333333,
              "#9c179e"
             ],
             [
              0.4444444444444444,
              "#bd3786"
             ],
             [
              0.5555555555555556,
              "#d8576b"
             ],
             [
              0.6666666666666666,
              "#ed7953"
             ],
             [
              0.7777777777777778,
              "#fb9f3a"
             ],
             [
              0.8888888888888888,
              "#fdca26"
             ],
             [
              1,
              "#f0f921"
             ]
            ],
            "type": "surface"
           }
          ],
          "table": [
           {
            "cells": {
             "fill": {
              "color": "#EBF0F8"
             },
             "line": {
              "color": "white"
             }
            },
            "header": {
             "fill": {
              "color": "#C8D4E3"
             },
             "line": {
              "color": "white"
             }
            },
            "type": "table"
           }
          ]
         },
         "layout": {
          "annotationdefaults": {
           "arrowcolor": "#2a3f5f",
           "arrowhead": 0,
           "arrowwidth": 1
          },
          "autotypenumbers": "strict",
          "coloraxis": {
           "colorbar": {
            "outlinewidth": 0,
            "ticks": ""
           }
          },
          "colorscale": {
           "diverging": [
            [
             0,
             "#8e0152"
            ],
            [
             0.1,
             "#c51b7d"
            ],
            [
             0.2,
             "#de77ae"
            ],
            [
             0.3,
             "#f1b6da"
            ],
            [
             0.4,
             "#fde0ef"
            ],
            [
             0.5,
             "#f7f7f7"
            ],
            [
             0.6,
             "#e6f5d0"
            ],
            [
             0.7,
             "#b8e186"
            ],
            [
             0.8,
             "#7fbc41"
            ],
            [
             0.9,
             "#4d9221"
            ],
            [
             1,
             "#276419"
            ]
           ],
           "sequential": [
            [
             0,
             "#0d0887"
            ],
            [
             0.1111111111111111,
             "#46039f"
            ],
            [
             0.2222222222222222,
             "#7201a8"
            ],
            [
             0.3333333333333333,
             "#9c179e"
            ],
            [
             0.4444444444444444,
             "#bd3786"
            ],
            [
             0.5555555555555556,
             "#d8576b"
            ],
            [
             0.6666666666666666,
             "#ed7953"
            ],
            [
             0.7777777777777778,
             "#fb9f3a"
            ],
            [
             0.8888888888888888,
             "#fdca26"
            ],
            [
             1,
             "#f0f921"
            ]
           ],
           "sequentialminus": [
            [
             0,
             "#0d0887"
            ],
            [
             0.1111111111111111,
             "#46039f"
            ],
            [
             0.2222222222222222,
             "#7201a8"
            ],
            [
             0.3333333333333333,
             "#9c179e"
            ],
            [
             0.4444444444444444,
             "#bd3786"
            ],
            [
             0.5555555555555556,
             "#d8576b"
            ],
            [
             0.6666666666666666,
             "#ed7953"
            ],
            [
             0.7777777777777778,
             "#fb9f3a"
            ],
            [
             0.8888888888888888,
             "#fdca26"
            ],
            [
             1,
             "#f0f921"
            ]
           ]
          },
          "colorway": [
           "#636efa",
           "#EF553B",
           "#00cc96",
           "#ab63fa",
           "#FFA15A",
           "#19d3f3",
           "#FF6692",
           "#B6E880",
           "#FF97FF",
           "#FECB52"
          ],
          "font": {
           "color": "#2a3f5f"
          },
          "geo": {
           "bgcolor": "white",
           "lakecolor": "white",
           "landcolor": "#E5ECF6",
           "showlakes": true,
           "showland": true,
           "subunitcolor": "white"
          },
          "hoverlabel": {
           "align": "left"
          },
          "hovermode": "closest",
          "mapbox": {
           "style": "light"
          },
          "paper_bgcolor": "white",
          "plot_bgcolor": "#E5ECF6",
          "polar": {
           "angularaxis": {
            "gridcolor": "white",
            "linecolor": "white",
            "ticks": ""
           },
           "bgcolor": "#E5ECF6",
           "radialaxis": {
            "gridcolor": "white",
            "linecolor": "white",
            "ticks": ""
           }
          },
          "scene": {
           "xaxis": {
            "backgroundcolor": "#E5ECF6",
            "gridcolor": "white",
            "gridwidth": 2,
            "linecolor": "white",
            "showbackground": true,
            "ticks": "",
            "zerolinecolor": "white"
           },
           "yaxis": {
            "backgroundcolor": "#E5ECF6",
            "gridcolor": "white",
            "gridwidth": 2,
            "linecolor": "white",
            "showbackground": true,
            "ticks": "",
            "zerolinecolor": "white"
           },
           "zaxis": {
            "backgroundcolor": "#E5ECF6",
            "gridcolor": "white",
            "gridwidth": 2,
            "linecolor": "white",
            "showbackground": true,
            "ticks": "",
            "zerolinecolor": "white"
           }
          },
          "shapedefaults": {
           "line": {
            "color": "#2a3f5f"
           }
          },
          "ternary": {
           "aaxis": {
            "gridcolor": "white",
            "linecolor": "white",
            "ticks": ""
           },
           "baxis": {
            "gridcolor": "white",
            "linecolor": "white",
            "ticks": ""
           },
           "bgcolor": "#E5ECF6",
           "caxis": {
            "gridcolor": "white",
            "linecolor": "white",
            "ticks": ""
           }
          },
          "title": {
           "x": 0.05
          },
          "xaxis": {
           "automargin": true,
           "gridcolor": "white",
           "linecolor": "white",
           "ticks": "",
           "title": {
            "standoff": 15
           },
           "zerolinecolor": "white",
           "zerolinewidth": 2
          },
          "yaxis": {
           "automargin": true,
           "gridcolor": "white",
           "linecolor": "white",
           "ticks": "",
           "title": {
            "standoff": 15
           },
           "zerolinecolor": "white",
           "zerolinewidth": 2
          }
         }
        },
        "title": {
         "text": "Preço de Fechamento"
        },
        "xaxis": {
         "anchor": "y",
         "domain": [
          0,
          1
         ],
         "title": {
          "text": "Date"
         }
        },
        "yaxis": {
         "anchor": "x",
         "domain": [
          0,
          1
         ],
         "title": {
          "text": "Close"
         }
        }
       }
      },
      "text/html": [
       "<div>                            <div id=\"817f332d-f559-4add-83ca-beec1db27de6\" class=\"plotly-graph-div\" style=\"height:525px; width:100%;\"></div>            <script type=\"text/javascript\">                require([\"plotly\"], function(Plotly) {                    window.PLOTLYENV=window.PLOTLYENV || {};                                    if (document.getElementById(\"817f332d-f559-4add-83ca-beec1db27de6\")) {                    Plotly.newPlot(                        \"817f332d-f559-4add-83ca-beec1db27de6\",                        [{\"hovertemplate\":\"Date=%{x}<br>Close=%{y}<extra></extra>\",\"legendgroup\":\"\",\"line\":{\"color\":\"#636efa\",\"dash\":\"solid\"},\"marker\":{\"symbol\":\"circle\"},\"mode\":\"lines\",\"name\":\"\",\"orientation\":\"v\",\"showlegend\":false,\"x\":[\"2022-02-14T00:00:00\",\"2022-02-15T00:00:00\",\"2022-02-16T00:00:00\",\"2022-02-17T00:00:00\",\"2022-02-18T00:00:00\",\"2022-02-21T00:00:00\",\"2022-02-22T00:00:00\",\"2022-02-23T00:00:00\",\"2022-02-24T00:00:00\",\"2022-02-25T00:00:00\",\"2022-03-02T00:00:00\",\"2022-03-03T00:00:00\",\"2022-03-04T00:00:00\",\"2022-03-07T00:00:00\",\"2022-03-08T00:00:00\",\"2022-03-09T00:00:00\",\"2022-03-10T00:00:00\",\"2022-03-11T00:00:00\",\"2022-03-14T00:00:00\",\"2022-03-15T00:00:00\",\"2022-03-16T00:00:00\",\"2022-03-17T00:00:00\",\"2022-03-18T00:00:00\",\"2022-03-21T00:00:00\",\"2022-03-22T00:00:00\",\"2022-03-23T00:00:00\",\"2022-03-24T00:00:00\",\"2022-03-25T00:00:00\",\"2022-03-28T00:00:00\",\"2022-03-29T00:00:00\",\"2022-03-30T00:00:00\",\"2022-03-31T00:00:00\",\"2022-04-01T00:00:00\",\"2022-04-04T00:00:00\",\"2022-04-05T00:00:00\",\"2022-04-06T00:00:00\",\"2022-04-07T00:00:00\",\"2022-04-08T00:00:00\",\"2022-04-11T00:00:00\",\"2022-04-12T00:00:00\",\"2022-04-13T00:00:00\",\"2022-04-14T00:00:00\",\"2022-04-18T00:00:00\",\"2022-04-19T00:00:00\",\"2022-04-20T00:00:00\",\"2022-04-22T00:00:00\",\"2022-04-25T00:00:00\",\"2022-04-26T00:00:00\",\"2022-04-27T00:00:00\",\"2022-04-28T00:00:00\",\"2022-04-29T00:00:00\",\"2022-05-02T00:00:00\",\"2022-05-03T00:00:00\",\"2022-05-04T00:00:00\",\"2022-05-05T00:00:00\",\"2022-05-06T00:00:00\",\"2022-05-09T00:00:00\",\"2022-05-10T00:00:00\",\"2022-05-11T00:00:00\",\"2022-05-12T00:00:00\",\"2022-05-13T00:00:00\",\"2022-05-16T00:00:00\",\"2022-05-17T00:00:00\",\"2022-05-18T00:00:00\",\"2022-05-19T00:00:00\",\"2022-05-20T00:00:00\",\"2022-05-23T00:00:00\",\"2022-05-24T00:00:00\",\"2022-05-25T00:00:00\",\"2022-05-26T00:00:00\",\"2022-05-27T00:00:00\",\"2022-05-30T00:00:00\",\"2022-05-31T00:00:00\",\"2022-06-01T00:00:00\",\"2022-06-02T00:00:00\",\"2022-06-03T00:00:00\",\"2022-06-06T00:00:00\",\"2022-06-07T00:00:00\",\"2022-06-08T00:00:00\",\"2022-06-09T00:00:00\",\"2022-06-10T00:00:00\",\"2022-06-13T00:00:00\",\"2022-06-14T00:00:00\",\"2022-06-15T00:00:00\",\"2022-06-17T00:00:00\",\"2022-06-20T00:00:00\",\"2022-06-21T00:00:00\",\"2022-06-22T00:00:00\",\"2022-06-23T00:00:00\",\"2022-06-24T00:00:00\",\"2022-06-27T00:00:00\",\"2022-06-28T00:00:00\",\"2022-06-29T00:00:00\",\"2022-06-30T00:00:00\",\"2022-07-01T00:00:00\",\"2022-07-04T00:00:00\",\"2022-07-05T00:00:00\",\"2022-07-06T00:00:00\",\"2022-07-07T00:00:00\",\"2022-07-08T00:00:00\",\"2022-07-11T00:00:00\",\"2022-07-12T00:00:00\",\"2022-07-13T00:00:00\",\"2022-07-14T00:00:00\",\"2022-07-15T00:00:00\",\"2022-07-18T00:00:00\",\"2022-07-19T00:00:00\",\"2022-07-20T00:00:00\",\"2022-07-21T00:00:00\",\"2022-07-22T00:00:00\",\"2022-07-25T00:00:00\",\"2022-07-26T00:00:00\",\"2022-07-27T00:00:00\",\"2022-07-28T00:00:00\",\"2022-07-29T00:00:00\",\"2022-08-01T00:00:00\",\"2022-08-02T00:00:00\",\"2022-08-03T00:00:00\",\"2022-08-04T00:00:00\",\"2022-08-05T00:00:00\",\"2022-08-08T00:00:00\",\"2022-08-09T00:00:00\",\"2022-08-10T00:00:00\",\"2022-08-11T00:00:00\",\"2022-08-12T00:00:00\",\"2022-08-15T00:00:00\",\"2022-08-16T00:00:00\",\"2022-08-17T00:00:00\",\"2022-08-18T00:00:00\",\"2022-08-19T00:00:00\",\"2022-08-22T00:00:00\",\"2022-08-23T00:00:00\",\"2022-08-24T00:00:00\",\"2022-08-25T00:00:00\",\"2022-08-26T00:00:00\",\"2022-08-29T00:00:00\",\"2022-08-30T00:00:00\",\"2022-08-31T00:00:00\",\"2022-09-01T00:00:00\",\"2022-09-02T00:00:00\",\"2022-09-05T00:00:00\",\"2022-09-06T00:00:00\",\"2022-09-08T00:00:00\",\"2022-09-09T00:00:00\",\"2022-09-12T00:00:00\",\"2022-09-13T00:00:00\",\"2022-09-14T00:00:00\",\"2022-09-15T00:00:00\",\"2022-09-16T00:00:00\",\"2022-09-19T00:00:00\",\"2022-09-20T00:00:00\",\"2022-09-21T00:00:00\",\"2022-09-22T00:00:00\",\"2022-09-23T00:00:00\",\"2022-09-26T00:00:00\",\"2022-09-27T00:00:00\",\"2022-09-28T00:00:00\",\"2022-09-29T00:00:00\",\"2022-09-30T00:00:00\",\"2022-10-03T00:00:00\",\"2022-10-04T00:00:00\",\"2022-10-05T00:00:00\",\"2022-10-06T00:00:00\",\"2022-10-07T00:00:00\",\"2022-10-10T00:00:00\",\"2022-10-11T00:00:00\",\"2022-10-13T00:00:00\",\"2022-10-14T00:00:00\",\"2022-10-17T00:00:00\",\"2022-10-18T00:00:00\",\"2022-10-19T00:00:00\",\"2022-10-20T00:00:00\",\"2022-10-21T00:00:00\",\"2022-10-24T00:00:00\",\"2022-10-25T00:00:00\",\"2022-10-26T00:00:00\",\"2022-10-27T00:00:00\",\"2022-10-28T00:00:00\",\"2022-10-31T00:00:00\",\"2022-11-01T00:00:00\",\"2022-11-03T00:00:00\",\"2022-11-04T00:00:00\",\"2022-11-07T00:00:00\",\"2022-11-08T00:00:00\",\"2022-11-09T00:00:00\",\"2022-11-10T00:00:00\",\"2022-11-11T00:00:00\",\"2022-11-14T00:00:00\",\"2022-11-16T00:00:00\",\"2022-11-17T00:00:00\",\"2022-11-18T00:00:00\",\"2022-11-21T00:00:00\",\"2022-11-22T00:00:00\",\"2022-11-23T00:00:00\",\"2022-11-24T00:00:00\",\"2022-11-25T00:00:00\",\"2022-11-28T00:00:00\",\"2022-11-29T00:00:00\",\"2022-11-30T00:00:00\",\"2022-12-01T00:00:00\",\"2022-12-02T00:00:00\",\"2022-12-05T00:00:00\",\"2022-12-06T00:00:00\",\"2022-12-07T00:00:00\",\"2022-12-08T00:00:00\",\"2022-12-09T00:00:00\",\"2022-12-12T00:00:00\",\"2022-12-13T00:00:00\",\"2022-12-14T00:00:00\",\"2022-12-15T00:00:00\",\"2022-12-16T00:00:00\",\"2022-12-19T00:00:00\",\"2022-12-20T00:00:00\",\"2022-12-21T00:00:00\",\"2022-12-22T00:00:00\",\"2022-12-23T00:00:00\",\"2022-12-26T00:00:00\",\"2022-12-27T00:00:00\",\"2022-12-28T00:00:00\",\"2022-12-29T00:00:00\",\"2023-01-02T00:00:00\",\"2023-01-03T00:00:00\",\"2023-01-04T00:00:00\",\"2023-01-05T00:00:00\",\"2023-01-06T00:00:00\",\"2023-01-09T00:00:00\",\"2023-01-10T00:00:00\",\"2023-01-11T00:00:00\",\"2023-01-12T00:00:00\",\"2023-01-13T00:00:00\",\"2023-01-16T00:00:00\",\"2023-01-17T00:00:00\",\"2023-01-18T00:00:00\",\"2023-01-19T00:00:00\",\"2023-01-20T00:00:00\",\"2023-01-23T00:00:00\",\"2023-01-24T00:00:00\",\"2023-01-25T00:00:00\",\"2023-01-26T00:00:00\",\"2023-01-27T00:00:00\",\"2023-01-30T00:00:00\",\"2023-01-31T00:00:00\",\"2023-02-01T00:00:00\",\"2023-02-02T00:00:00\",\"2023-02-03T00:00:00\",\"2023-02-06T00:00:00\",\"2023-02-07T00:00:00\",\"2023-02-08T00:00:00\",\"2023-02-09T00:00:00\",\"2023-02-10T00:00:00\",\"2023-02-13T00:00:00\",\"2023-02-14T00:00:00\"],\"xaxis\":\"x\",\"y\":[33.0,32.47999954223633,32.93000030517578,32.79999923706055,33.0,33.849998474121094,33.7400016784668,34.220001220703125,33.38999938964844,34.0,34.66999816894531,34.2400016784668,34.22999954223633,31.799999237060547,32.459999084472656,32.560001373291016,33.70000076293945,32.4900016784668,31.8700008392334,31.100000381469727,30.829999923706055,30.010000228881836,30.610000610351562,31.760000228881836,31.6200008392334,32.04999923706055,32.41999816894531,32.29999923706055,31.600000381469727,32.29999923706055,32.9900016784668,33.45000076293945,33.0099983215332,32.70000076293945,32.38999938964844,32.36000061035156,34.040000915527344,34.209999084472656,33.95000076293945,33.849998474121094,34.56999969482422,31.270000457763672,30.719999313354492,31.649999618530273,31.799999237060547,30.559999465942383,30.110000610351562,30.059999465942383,30.059999465942383,30.260000228881836,30.280000686645508,29.979999542236328,30.25,32.06999969482422,32.0099983215332,33.060001373291016,32.15999984741211,32.439998626708984,33.56999969482422,33.83000183105469,34.27000045776367,34.61000061035156,34.15999984741211,33.599998474121094,34.16999816894531,34.83000183105469,36.20000076293945,31.600000381469727,32.04999923706055,32.130001068115234,30.600000381469727,29.989999771118164,30.059999465942383,30.020000457763672,29.760000228881836,30.280000686645508,30.299999237060547,30.65999984741211,30.510000228881836,30.06999969482422,29.649999618530273,29.270000457763672,29.600000381469727,29.079999923706055,27.309999465942383,27.6200008392334,27.06999969482422,26.989999771118164,26.489999771118164,26.290000915527344,27.979999542236328,28.329999923706055,28.079999923706055,27.93000030517578,28.530000686645508,29.139999389648438,28.030000686645508,27.670000076293945,28.479999542236328,28.799999237060547,28.65999984741211,28.229999542236328,28.25,27.489999771118164,27.959999084472656,28.600000381469727,29.18000030517578,29.170000076293945,29.020000457763672,29.329999923706055,30.700000762939453,31.010000228881836,31.350000381469727,32.290000915527344,34.150001525878906,33.68000030517578,33.83000183105469,33.849998474121094,34.209999084472656,34.869998931884766,36.630001068115234,37.22999954223633,37.11000061035156,36.25,31.709999084472656,31.719999313354492,32.0099983215332,32.7599983215332,33.41999816894531,31.729999542236328,32.40999984741211,33.439998626708984,33.63999938964844,33.279998779296875,33.63999938964844,34.47999954223633,32.43000030517578,33.22999954223633,33.849998474121094,33.41999816894531,33.34000015258789,32.099998474121094,31.799999237060547,31.790000915527344,31.479999542236328,30.649999618530273,31.1200008392334,31.059999465942383,30.780000686645508,31.270000457763672,31.09000015258789,31.170000076293945,31.940000534057617,29.940000534057617,29.290000915527344,29.670000076293945,29.270000457763672,29.309999465942383,29.799999237060547,32.18000030517578,31.3700008392334,32.54999923706055,33.65999984741211,33.630001068115234,33.25,33.0,33.939998626708984,33.41999816894531,33.38999938964844,34.209999084472656,35.41999816894531,36.470001220703125,37.720001220703125,34.25,33.529998779296875,32.709999084472656,32.959999084472656,32.56999969482422,29.809999465942383,29.860000610351562,29.950000762939453,28.299999237060547,27.149999618530273,27.350000381469727,26.899999618530273,26.1200008392334,26.989999771118164,27.700000762939453,27.149999618530273,27.15999984741211,26.700000762939453,26.780000686645508,23.329999923706055,23.440000534057617,24.25,23.860000610351562,24.360000610351562,25.3799991607666,26.65999984741211,25.59000015258789,25.90999984741211,25.6200008392334,25.639999389648438,25.350000381469727,24.780000686645508,24.709999084472656,23.90999984741211,23.31999969482422,21.469999313354492,22.040000915527344,22.049999237060547,22.3799991607666,23.06999969482422,23.56999969482422,23.989999771118164,25.1200008392334,24.940000534057617,25.110000610351562,24.799999237060547,24.5,22.920000076293945,22.34000015258789,23.049999237060547,23.8799991607666,23.739999771118164,23.8700008392334,24.09000015258789,24.280000686645508,24.6299991607666,24.56999969482422,24.040000915527344,25.520000457763672,25.06999969482422,25.889999389648438,26.3700008392334,26.790000915527344,26.600000381469727,26.940000534057617,26.25,25.6200008392334,25.75,26.06999969482422,25.709999084472656,24.520000457763672,24.790000915527344,25.780000686645508,25.6200008392334,26.049999237060547,25.93000030517578,26.719999313354492,26.799999237060547,26.739999771118164],\"yaxis\":\"y\",\"type\":\"scatter\"}],                        {\"template\":{\"data\":{\"histogram2dcontour\":[{\"type\":\"histogram2dcontour\",\"colorbar\":{\"outlinewidth\":0,\"ticks\":\"\"},\"colorscale\":[[0.0,\"#0d0887\"],[0.1111111111111111,\"#46039f\"],[0.2222222222222222,\"#7201a8\"],[0.3333333333333333,\"#9c179e\"],[0.4444444444444444,\"#bd3786\"],[0.5555555555555556,\"#d8576b\"],[0.6666666666666666,\"#ed7953\"],[0.7777777777777778,\"#fb9f3a\"],[0.8888888888888888,\"#fdca26\"],[1.0,\"#f0f921\"]]}],\"choropleth\":[{\"type\":\"choropleth\",\"colorbar\":{\"outlinewidth\":0,\"ticks\":\"\"}}],\"histogram2d\":[{\"type\":\"histogram2d\",\"colorbar\":{\"outlinewidth\":0,\"ticks\":\"\"},\"colorscale\":[[0.0,\"#0d0887\"],[0.1111111111111111,\"#46039f\"],[0.2222222222222222,\"#7201a8\"],[0.3333333333333333,\"#9c179e\"],[0.4444444444444444,\"#bd3786\"],[0.5555555555555556,\"#d8576b\"],[0.6666666666666666,\"#ed7953\"],[0.7777777777777778,\"#fb9f3a\"],[0.8888888888888888,\"#fdca26\"],[1.0,\"#f0f921\"]]}],\"heatmap\":[{\"type\":\"heatmap\",\"colorbar\":{\"outlinewidth\":0,\"ticks\":\"\"},\"colorscale\":[[0.0,\"#0d0887\"],[0.1111111111111111,\"#46039f\"],[0.2222222222222222,\"#7201a8\"],[0.3333333333333333,\"#9c179e\"],[0.4444444444444444,\"#bd3786\"],[0.5555555555555556,\"#d8576b\"],[0.6666666666666666,\"#ed7953\"],[0.7777777777777778,\"#fb9f3a\"],[0.8888888888888888,\"#fdca26\"],[1.0,\"#f0f921\"]]}],\"heatmapgl\":[{\"type\":\"heatmapgl\",\"colorbar\":{\"outlinewidth\":0,\"ticks\":\"\"},\"colorscale\":[[0.0,\"#0d0887\"],[0.1111111111111111,\"#46039f\"],[0.2222222222222222,\"#7201a8\"],[0.3333333333333333,\"#9c179e\"],[0.4444444444444444,\"#bd3786\"],[0.5555555555555556,\"#d8576b\"],[0.6666666666666666,\"#ed7953\"],[0.7777777777777778,\"#fb9f3a\"],[0.8888888888888888,\"#fdca26\"],[1.0,\"#f0f921\"]]}],\"contourcarpet\":[{\"type\":\"contourcarpet\",\"colorbar\":{\"outlinewidth\":0,\"ticks\":\"\"}}],\"contour\":[{\"type\":\"contour\",\"colorbar\":{\"outlinewidth\":0,\"ticks\":\"\"},\"colorscale\":[[0.0,\"#0d0887\"],[0.1111111111111111,\"#46039f\"],[0.2222222222222222,\"#7201a8\"],[0.3333333333333333,\"#9c179e\"],[0.4444444444444444,\"#bd3786\"],[0.5555555555555556,\"#d8576b\"],[0.6666666666666666,\"#ed7953\"],[0.7777777777777778,\"#fb9f3a\"],[0.8888888888888888,\"#fdca26\"],[1.0,\"#f0f921\"]]}],\"surface\":[{\"type\":\"surface\",\"colorbar\":{\"outlinewidth\":0,\"ticks\":\"\"},\"colorscale\":[[0.0,\"#0d0887\"],[0.1111111111111111,\"#46039f\"],[0.2222222222222222,\"#7201a8\"],[0.3333333333333333,\"#9c179e\"],[0.4444444444444444,\"#bd3786\"],[0.5555555555555556,\"#d8576b\"],[0.6666666666666666,\"#ed7953\"],[0.7777777777777778,\"#fb9f3a\"],[0.8888888888888888,\"#fdca26\"],[1.0,\"#f0f921\"]]}],\"mesh3d\":[{\"type\":\"mesh3d\",\"colorbar\":{\"outlinewidth\":0,\"ticks\":\"\"}}],\"scatter\":[{\"fillpattern\":{\"fillmode\":\"overlay\",\"size\":10,\"solidity\":0.2},\"type\":\"scatter\"}],\"parcoords\":[{\"type\":\"parcoords\",\"line\":{\"colorbar\":{\"outlinewidth\":0,\"ticks\":\"\"}}}],\"scatterpolargl\":[{\"type\":\"scatterpolargl\",\"marker\":{\"colorbar\":{\"outlinewidth\":0,\"ticks\":\"\"}}}],\"bar\":[{\"error_x\":{\"color\":\"#2a3f5f\"},\"error_y\":{\"color\":\"#2a3f5f\"},\"marker\":{\"line\":{\"color\":\"#E5ECF6\",\"width\":0.5},\"pattern\":{\"fillmode\":\"overlay\",\"size\":10,\"solidity\":0.2}},\"type\":\"bar\"}],\"scattergeo\":[{\"type\":\"scattergeo\",\"marker\":{\"colorbar\":{\"outlinewidth\":0,\"ticks\":\"\"}}}],\"scatterpolar\":[{\"type\":\"scatterpolar\",\"marker\":{\"colorbar\":{\"outlinewidth\":0,\"ticks\":\"\"}}}],\"histogram\":[{\"marker\":{\"pattern\":{\"fillmode\":\"overlay\",\"size\":10,\"solidity\":0.2}},\"type\":\"histogram\"}],\"scattergl\":[{\"type\":\"scattergl\",\"marker\":{\"colorbar\":{\"outlinewidth\":0,\"ticks\":\"\"}}}],\"scatter3d\":[{\"type\":\"scatter3d\",\"line\":{\"colorbar\":{\"outlinewidth\":0,\"ticks\":\"\"}},\"marker\":{\"colorbar\":{\"outlinewidth\":0,\"ticks\":\"\"}}}],\"scattermapbox\":[{\"type\":\"scattermapbox\",\"marker\":{\"colorbar\":{\"outlinewidth\":0,\"ticks\":\"\"}}}],\"scatterternary\":[{\"type\":\"scatterternary\",\"marker\":{\"colorbar\":{\"outlinewidth\":0,\"ticks\":\"\"}}}],\"scattercarpet\":[{\"type\":\"scattercarpet\",\"marker\":{\"colorbar\":{\"outlinewidth\":0,\"ticks\":\"\"}}}],\"carpet\":[{\"aaxis\":{\"endlinecolor\":\"#2a3f5f\",\"gridcolor\":\"white\",\"linecolor\":\"white\",\"minorgridcolor\":\"white\",\"startlinecolor\":\"#2a3f5f\"},\"baxis\":{\"endlinecolor\":\"#2a3f5f\",\"gridcolor\":\"white\",\"linecolor\":\"white\",\"minorgridcolor\":\"white\",\"startlinecolor\":\"#2a3f5f\"},\"type\":\"carpet\"}],\"table\":[{\"cells\":{\"fill\":{\"color\":\"#EBF0F8\"},\"line\":{\"color\":\"white\"}},\"header\":{\"fill\":{\"color\":\"#C8D4E3\"},\"line\":{\"color\":\"white\"}},\"type\":\"table\"}],\"barpolar\":[{\"marker\":{\"line\":{\"color\":\"#E5ECF6\",\"width\":0.5},\"pattern\":{\"fillmode\":\"overlay\",\"size\":10,\"solidity\":0.2}},\"type\":\"barpolar\"}],\"pie\":[{\"automargin\":true,\"type\":\"pie\"}]},\"layout\":{\"autotypenumbers\":\"strict\",\"colorway\":[\"#636efa\",\"#EF553B\",\"#00cc96\",\"#ab63fa\",\"#FFA15A\",\"#19d3f3\",\"#FF6692\",\"#B6E880\",\"#FF97FF\",\"#FECB52\"],\"font\":{\"color\":\"#2a3f5f\"},\"hovermode\":\"closest\",\"hoverlabel\":{\"align\":\"left\"},\"paper_bgcolor\":\"white\",\"plot_bgcolor\":\"#E5ECF6\",\"polar\":{\"bgcolor\":\"#E5ECF6\",\"angularaxis\":{\"gridcolor\":\"white\",\"linecolor\":\"white\",\"ticks\":\"\"},\"radialaxis\":{\"gridcolor\":\"white\",\"linecolor\":\"white\",\"ticks\":\"\"}},\"ternary\":{\"bgcolor\":\"#E5ECF6\",\"aaxis\":{\"gridcolor\":\"white\",\"linecolor\":\"white\",\"ticks\":\"\"},\"baxis\":{\"gridcolor\":\"white\",\"linecolor\":\"white\",\"ticks\":\"\"},\"caxis\":{\"gridcolor\":\"white\",\"linecolor\":\"white\",\"ticks\":\"\"}},\"coloraxis\":{\"colorbar\":{\"outlinewidth\":0,\"ticks\":\"\"}},\"colorscale\":{\"sequential\":[[0.0,\"#0d0887\"],[0.1111111111111111,\"#46039f\"],[0.2222222222222222,\"#7201a8\"],[0.3333333333333333,\"#9c179e\"],[0.4444444444444444,\"#bd3786\"],[0.5555555555555556,\"#d8576b\"],[0.6666666666666666,\"#ed7953\"],[0.7777777777777778,\"#fb9f3a\"],[0.8888888888888888,\"#fdca26\"],[1.0,\"#f0f921\"]],\"sequentialminus\":[[0.0,\"#0d0887\"],[0.1111111111111111,\"#46039f\"],[0.2222222222222222,\"#7201a8\"],[0.3333333333333333,\"#9c179e\"],[0.4444444444444444,\"#bd3786\"],[0.5555555555555556,\"#d8576b\"],[0.6666666666666666,\"#ed7953\"],[0.7777777777777778,\"#fb9f3a\"],[0.8888888888888888,\"#fdca26\"],[1.0,\"#f0f921\"]],\"diverging\":[[0,\"#8e0152\"],[0.1,\"#c51b7d\"],[0.2,\"#de77ae\"],[0.3,\"#f1b6da\"],[0.4,\"#fde0ef\"],[0.5,\"#f7f7f7\"],[0.6,\"#e6f5d0\"],[0.7,\"#b8e186\"],[0.8,\"#7fbc41\"],[0.9,\"#4d9221\"],[1,\"#276419\"]]},\"xaxis\":{\"gridcolor\":\"white\",\"linecolor\":\"white\",\"ticks\":\"\",\"title\":{\"standoff\":15},\"zerolinecolor\":\"white\",\"automargin\":true,\"zerolinewidth\":2},\"yaxis\":{\"gridcolor\":\"white\",\"linecolor\":\"white\",\"ticks\":\"\",\"title\":{\"standoff\":15},\"zerolinecolor\":\"white\",\"automargin\":true,\"zerolinewidth\":2},\"scene\":{\"xaxis\":{\"backgroundcolor\":\"#E5ECF6\",\"gridcolor\":\"white\",\"linecolor\":\"white\",\"showbackground\":true,\"ticks\":\"\",\"zerolinecolor\":\"white\",\"gridwidth\":2},\"yaxis\":{\"backgroundcolor\":\"#E5ECF6\",\"gridcolor\":\"white\",\"linecolor\":\"white\",\"showbackground\":true,\"ticks\":\"\",\"zerolinecolor\":\"white\",\"gridwidth\":2},\"zaxis\":{\"backgroundcolor\":\"#E5ECF6\",\"gridcolor\":\"white\",\"linecolor\":\"white\",\"showbackground\":true,\"ticks\":\"\",\"zerolinecolor\":\"white\",\"gridwidth\":2}},\"shapedefaults\":{\"line\":{\"color\":\"#2a3f5f\"}},\"annotationdefaults\":{\"arrowcolor\":\"#2a3f5f\",\"arrowhead\":0,\"arrowwidth\":1},\"geo\":{\"bgcolor\":\"white\",\"landcolor\":\"#E5ECF6\",\"subunitcolor\":\"white\",\"showland\":true,\"showlakes\":true,\"lakecolor\":\"white\"},\"title\":{\"x\":0.05},\"mapbox\":{\"style\":\"light\"}}},\"xaxis\":{\"anchor\":\"y\",\"domain\":[0.0,1.0],\"title\":{\"text\":\"Date\"}},\"yaxis\":{\"anchor\":\"x\",\"domain\":[0.0,1.0],\"title\":{\"text\":\"Close\"}},\"legend\":{\"tracegroupgap\":0},\"title\":{\"text\":\"Pre\\u00e7o de Fechamento\"}},                        {\"responsive\": true}                    ).then(function(){\n",
       "                            \n",
       "var gd = document.getElementById('817f332d-f559-4add-83ca-beec1db27de6');\n",
       "var x = new MutationObserver(function (mutations, observer) {{\n",
       "        var display = window.getComputedStyle(gd).display;\n",
       "        if (!display || display === 'none') {{\n",
       "            console.log([gd, 'removed!']);\n",
       "            Plotly.purge(gd);\n",
       "            observer.disconnect();\n",
       "        }}\n",
       "}});\n",
       "\n",
       "// Listen for the removal of the full notebook cells\n",
       "var notebookContainer = gd.closest('#notebook-container');\n",
       "if (notebookContainer) {{\n",
       "    x.observe(notebookContainer, {childList: true});\n",
       "}}\n",
       "\n",
       "// Listen for the clearing of the current output cell\n",
       "var outputEl = gd.closest('.output');\n",
       "if (outputEl) {{\n",
       "    x.observe(outputEl, {childList: true});\n",
       "}}\n",
       "\n",
       "                        })                };                });            </script>        </div>"
      ]
     },
     "metadata": {},
     "output_type": "display_data"
    }
   ],
   "source": [
    "figure1 = px.line(\n",
    "    dados,\n",
    "    y='Close',\n",
    "    title='Preço de Fechamento')\n",
    "\n",
    "figure1.show()"
   ]
  },
  {
   "cell_type": "code",
   "execution_count": 114,
   "id": "924b3ae4",
   "metadata": {},
   "outputs": [
    {
     "data": {
      "application/vnd.plotly.v1+json": {
       "config": {
        "plotlyServerURL": "https://plot.ly"
       },
       "data": [
        {
         "line": {
          "color": "firebrick",
          "width": 3
         },
         "type": "scatter",
         "x": [
          "2022-02-14T00:00:00",
          "2022-02-15T00:00:00",
          "2022-02-16T00:00:00",
          "2022-02-17T00:00:00",
          "2022-02-18T00:00:00",
          "2022-02-21T00:00:00",
          "2022-02-22T00:00:00",
          "2022-02-23T00:00:00",
          "2022-02-24T00:00:00",
          "2022-02-25T00:00:00",
          "2022-03-02T00:00:00",
          "2022-03-03T00:00:00",
          "2022-03-04T00:00:00",
          "2022-03-07T00:00:00",
          "2022-03-08T00:00:00",
          "2022-03-09T00:00:00",
          "2022-03-10T00:00:00",
          "2022-03-11T00:00:00",
          "2022-03-14T00:00:00",
          "2022-03-15T00:00:00",
          "2022-03-16T00:00:00",
          "2022-03-17T00:00:00",
          "2022-03-18T00:00:00",
          "2022-03-21T00:00:00",
          "2022-03-22T00:00:00",
          "2022-03-23T00:00:00",
          "2022-03-24T00:00:00",
          "2022-03-25T00:00:00",
          "2022-03-28T00:00:00",
          "2022-03-29T00:00:00",
          "2022-03-30T00:00:00",
          "2022-03-31T00:00:00",
          "2022-04-01T00:00:00",
          "2022-04-04T00:00:00",
          "2022-04-05T00:00:00",
          "2022-04-06T00:00:00",
          "2022-04-07T00:00:00",
          "2022-04-08T00:00:00",
          "2022-04-11T00:00:00",
          "2022-04-12T00:00:00",
          "2022-04-13T00:00:00",
          "2022-04-14T00:00:00",
          "2022-04-18T00:00:00",
          "2022-04-19T00:00:00",
          "2022-04-20T00:00:00",
          "2022-04-22T00:00:00",
          "2022-04-25T00:00:00",
          "2022-04-26T00:00:00",
          "2022-04-27T00:00:00",
          "2022-04-28T00:00:00",
          "2022-04-29T00:00:00",
          "2022-05-02T00:00:00",
          "2022-05-03T00:00:00",
          "2022-05-04T00:00:00",
          "2022-05-05T00:00:00",
          "2022-05-06T00:00:00",
          "2022-05-09T00:00:00",
          "2022-05-10T00:00:00",
          "2022-05-11T00:00:00",
          "2022-05-12T00:00:00",
          "2022-05-13T00:00:00",
          "2022-05-16T00:00:00",
          "2022-05-17T00:00:00",
          "2022-05-18T00:00:00",
          "2022-05-19T00:00:00",
          "2022-05-20T00:00:00",
          "2022-05-23T00:00:00",
          "2022-05-24T00:00:00",
          "2022-05-25T00:00:00",
          "2022-05-26T00:00:00",
          "2022-05-27T00:00:00",
          "2022-05-30T00:00:00",
          "2022-05-31T00:00:00",
          "2022-06-01T00:00:00",
          "2022-06-02T00:00:00",
          "2022-06-03T00:00:00",
          "2022-06-06T00:00:00",
          "2022-06-07T00:00:00",
          "2022-06-08T00:00:00",
          "2022-06-09T00:00:00",
          "2022-06-10T00:00:00",
          "2022-06-13T00:00:00",
          "2022-06-14T00:00:00",
          "2022-06-15T00:00:00",
          "2022-06-17T00:00:00",
          "2022-06-20T00:00:00",
          "2022-06-21T00:00:00",
          "2022-06-22T00:00:00",
          "2022-06-23T00:00:00",
          "2022-06-24T00:00:00",
          "2022-06-27T00:00:00",
          "2022-06-28T00:00:00",
          "2022-06-29T00:00:00",
          "2022-06-30T00:00:00",
          "2022-07-01T00:00:00",
          "2022-07-04T00:00:00",
          "2022-07-05T00:00:00",
          "2022-07-06T00:00:00",
          "2022-07-07T00:00:00",
          "2022-07-08T00:00:00",
          "2022-07-11T00:00:00",
          "2022-07-12T00:00:00",
          "2022-07-13T00:00:00",
          "2022-07-14T00:00:00",
          "2022-07-15T00:00:00",
          "2022-07-18T00:00:00",
          "2022-07-19T00:00:00",
          "2022-07-20T00:00:00",
          "2022-07-21T00:00:00",
          "2022-07-22T00:00:00",
          "2022-07-25T00:00:00",
          "2022-07-26T00:00:00",
          "2022-07-27T00:00:00",
          "2022-07-28T00:00:00",
          "2022-07-29T00:00:00",
          "2022-08-01T00:00:00",
          "2022-08-02T00:00:00",
          "2022-08-03T00:00:00",
          "2022-08-04T00:00:00",
          "2022-08-05T00:00:00",
          "2022-08-08T00:00:00",
          "2022-08-09T00:00:00",
          "2022-08-10T00:00:00",
          "2022-08-11T00:00:00",
          "2022-08-12T00:00:00",
          "2022-08-15T00:00:00",
          "2022-08-16T00:00:00",
          "2022-08-17T00:00:00",
          "2022-08-18T00:00:00",
          "2022-08-19T00:00:00",
          "2022-08-22T00:00:00",
          "2022-08-23T00:00:00",
          "2022-08-24T00:00:00",
          "2022-08-25T00:00:00",
          "2022-08-26T00:00:00",
          "2022-08-29T00:00:00",
          "2022-08-30T00:00:00",
          "2022-08-31T00:00:00",
          "2022-09-01T00:00:00",
          "2022-09-02T00:00:00",
          "2022-09-05T00:00:00",
          "2022-09-06T00:00:00",
          "2022-09-08T00:00:00",
          "2022-09-09T00:00:00",
          "2022-09-12T00:00:00",
          "2022-09-13T00:00:00",
          "2022-09-14T00:00:00",
          "2022-09-15T00:00:00",
          "2022-09-16T00:00:00",
          "2022-09-19T00:00:00",
          "2022-09-20T00:00:00",
          "2022-09-21T00:00:00",
          "2022-09-22T00:00:00",
          "2022-09-23T00:00:00",
          "2022-09-26T00:00:00",
          "2022-09-27T00:00:00",
          "2022-09-28T00:00:00",
          "2022-09-29T00:00:00",
          "2022-09-30T00:00:00",
          "2022-10-03T00:00:00",
          "2022-10-04T00:00:00",
          "2022-10-05T00:00:00",
          "2022-10-06T00:00:00",
          "2022-10-07T00:00:00",
          "2022-10-10T00:00:00",
          "2022-10-11T00:00:00",
          "2022-10-13T00:00:00",
          "2022-10-14T00:00:00",
          "2022-10-17T00:00:00",
          "2022-10-18T00:00:00",
          "2022-10-19T00:00:00",
          "2022-10-20T00:00:00",
          "2022-10-21T00:00:00",
          "2022-10-24T00:00:00",
          "2022-10-25T00:00:00",
          "2022-10-26T00:00:00",
          "2022-10-27T00:00:00",
          "2022-10-28T00:00:00",
          "2022-10-31T00:00:00",
          "2022-11-01T00:00:00",
          "2022-11-03T00:00:00",
          "2022-11-04T00:00:00",
          "2022-11-07T00:00:00",
          "2022-11-08T00:00:00",
          "2022-11-09T00:00:00",
          "2022-11-10T00:00:00",
          "2022-11-11T00:00:00",
          "2022-11-14T00:00:00",
          "2022-11-16T00:00:00",
          "2022-11-17T00:00:00",
          "2022-11-18T00:00:00",
          "2022-11-21T00:00:00",
          "2022-11-22T00:00:00",
          "2022-11-23T00:00:00",
          "2022-11-24T00:00:00",
          "2022-11-25T00:00:00",
          "2022-11-28T00:00:00",
          "2022-11-29T00:00:00",
          "2022-11-30T00:00:00",
          "2022-12-01T00:00:00",
          "2022-12-02T00:00:00",
          "2022-12-05T00:00:00",
          "2022-12-06T00:00:00",
          "2022-12-07T00:00:00",
          "2022-12-08T00:00:00",
          "2022-12-09T00:00:00",
          "2022-12-12T00:00:00",
          "2022-12-13T00:00:00",
          "2022-12-14T00:00:00",
          "2022-12-15T00:00:00",
          "2022-12-16T00:00:00",
          "2022-12-19T00:00:00",
          "2022-12-20T00:00:00",
          "2022-12-21T00:00:00",
          "2022-12-22T00:00:00",
          "2022-12-23T00:00:00",
          "2022-12-26T00:00:00",
          "2022-12-27T00:00:00",
          "2022-12-28T00:00:00",
          "2022-12-29T00:00:00",
          "2023-01-02T00:00:00",
          "2023-01-03T00:00:00",
          "2023-01-04T00:00:00",
          "2023-01-05T00:00:00",
          "2023-01-06T00:00:00",
          "2023-01-09T00:00:00",
          "2023-01-10T00:00:00",
          "2023-01-11T00:00:00",
          "2023-01-12T00:00:00",
          "2023-01-13T00:00:00",
          "2023-01-16T00:00:00",
          "2023-01-17T00:00:00",
          "2023-01-18T00:00:00",
          "2023-01-19T00:00:00",
          "2023-01-20T00:00:00",
          "2023-01-23T00:00:00",
          "2023-01-24T00:00:00",
          "2023-01-25T00:00:00",
          "2023-01-26T00:00:00",
          "2023-01-27T00:00:00",
          "2023-01-30T00:00:00",
          "2023-01-31T00:00:00",
          "2023-02-01T00:00:00",
          "2023-02-02T00:00:00",
          "2023-02-03T00:00:00",
          "2023-02-06T00:00:00",
          "2023-02-07T00:00:00",
          "2023-02-08T00:00:00",
          "2023-02-09T00:00:00",
          "2023-02-10T00:00:00",
          "2023-02-13T00:00:00",
          "2023-02-14T00:00:00"
         ],
         "y": [
          33,
          32.47999954223633,
          32.93000030517578,
          32.79999923706055,
          33,
          33.849998474121094,
          33.7400016784668,
          34.220001220703125,
          33.38999938964844,
          34,
          34.66999816894531,
          34.2400016784668,
          34.22999954223633,
          31.799999237060547,
          32.459999084472656,
          32.560001373291016,
          33.70000076293945,
          32.4900016784668,
          31.8700008392334,
          31.100000381469727,
          30.829999923706055,
          30.010000228881836,
          30.610000610351562,
          31.760000228881836,
          31.6200008392334,
          32.04999923706055,
          32.41999816894531,
          32.29999923706055,
          31.600000381469727,
          32.29999923706055,
          32.9900016784668,
          33.45000076293945,
          33.0099983215332,
          32.70000076293945,
          32.38999938964844,
          32.36000061035156,
          34.040000915527344,
          34.209999084472656,
          33.95000076293945,
          33.849998474121094,
          34.56999969482422,
          31.270000457763672,
          30.719999313354492,
          31.649999618530273,
          31.799999237060547,
          30.559999465942383,
          30.110000610351562,
          30.059999465942383,
          30.059999465942383,
          30.260000228881836,
          30.280000686645508,
          29.979999542236328,
          30.25,
          32.06999969482422,
          32.0099983215332,
          33.060001373291016,
          32.15999984741211,
          32.439998626708984,
          33.56999969482422,
          33.83000183105469,
          34.27000045776367,
          34.61000061035156,
          34.15999984741211,
          33.599998474121094,
          34.16999816894531,
          34.83000183105469,
          36.20000076293945,
          31.600000381469727,
          32.04999923706055,
          32.130001068115234,
          30.600000381469727,
          29.989999771118164,
          30.059999465942383,
          30.020000457763672,
          29.760000228881836,
          30.280000686645508,
          30.299999237060547,
          30.65999984741211,
          30.510000228881836,
          30.06999969482422,
          29.649999618530273,
          29.270000457763672,
          29.600000381469727,
          29.079999923706055,
          27.309999465942383,
          27.6200008392334,
          27.06999969482422,
          26.989999771118164,
          26.489999771118164,
          26.290000915527344,
          27.979999542236328,
          28.329999923706055,
          28.079999923706055,
          27.93000030517578,
          28.530000686645508,
          29.139999389648438,
          28.030000686645508,
          27.670000076293945,
          28.479999542236328,
          28.799999237060547,
          28.65999984741211,
          28.229999542236328,
          28.25,
          27.489999771118164,
          27.959999084472656,
          28.600000381469727,
          29.18000030517578,
          29.170000076293945,
          29.020000457763672,
          29.329999923706055,
          30.700000762939453,
          31.010000228881836,
          31.350000381469727,
          32.290000915527344,
          34.150001525878906,
          33.68000030517578,
          33.83000183105469,
          33.849998474121094,
          34.209999084472656,
          34.869998931884766,
          36.630001068115234,
          37.22999954223633,
          37.11000061035156,
          36.25,
          31.709999084472656,
          31.719999313354492,
          32.0099983215332,
          32.7599983215332,
          33.41999816894531,
          31.729999542236328,
          32.40999984741211,
          33.439998626708984,
          33.63999938964844,
          33.279998779296875,
          33.63999938964844,
          34.47999954223633,
          32.43000030517578,
          33.22999954223633,
          33.849998474121094,
          33.41999816894531,
          33.34000015258789,
          32.099998474121094,
          31.799999237060547,
          31.790000915527344,
          31.479999542236328,
          30.649999618530273,
          31.1200008392334,
          31.059999465942383,
          30.780000686645508,
          31.270000457763672,
          31.09000015258789,
          31.170000076293945,
          31.940000534057617,
          29.940000534057617,
          29.290000915527344,
          29.670000076293945,
          29.270000457763672,
          29.309999465942383,
          29.799999237060547,
          32.18000030517578,
          31.3700008392334,
          32.54999923706055,
          33.65999984741211,
          33.630001068115234,
          33.25,
          33,
          33.939998626708984,
          33.41999816894531,
          33.38999938964844,
          34.209999084472656,
          35.41999816894531,
          36.470001220703125,
          37.720001220703125,
          34.25,
          33.529998779296875,
          32.709999084472656,
          32.959999084472656,
          32.56999969482422,
          29.809999465942383,
          29.860000610351562,
          29.950000762939453,
          28.299999237060547,
          27.149999618530273,
          27.350000381469727,
          26.899999618530273,
          26.1200008392334,
          26.989999771118164,
          27.700000762939453,
          27.149999618530273,
          27.15999984741211,
          26.700000762939453,
          26.780000686645508,
          23.329999923706055,
          23.440000534057617,
          24.25,
          23.860000610351562,
          24.360000610351562,
          25.3799991607666,
          26.65999984741211,
          25.59000015258789,
          25.90999984741211,
          25.6200008392334,
          25.639999389648438,
          25.350000381469727,
          24.780000686645508,
          24.709999084472656,
          23.90999984741211,
          23.31999969482422,
          21.469999313354492,
          22.040000915527344,
          22.049999237060547,
          22.3799991607666,
          23.06999969482422,
          23.56999969482422,
          23.989999771118164,
          25.1200008392334,
          24.940000534057617,
          25.110000610351562,
          24.799999237060547,
          24.5,
          22.920000076293945,
          22.34000015258789,
          23.049999237060547,
          23.8799991607666,
          23.739999771118164,
          23.8700008392334,
          24.09000015258789,
          24.280000686645508,
          24.6299991607666,
          24.56999969482422,
          24.040000915527344,
          25.520000457763672,
          25.06999969482422,
          25.889999389648438,
          26.3700008392334,
          26.790000915527344,
          26.600000381469727,
          26.940000534057617,
          26.25,
          25.6200008392334,
          25.75,
          26.06999969482422,
          25.709999084472656,
          24.520000457763672,
          24.790000915527344,
          25.780000686645508,
          25.6200008392334,
          26.049999237060547,
          25.93000030517578,
          26.719999313354492,
          26.799999237060547,
          26.739999771118164
         ]
        }
       ],
       "layout": {
        "template": {
         "data": {
          "bar": [
           {
            "error_x": {
             "color": "#2a3f5f"
            },
            "error_y": {
             "color": "#2a3f5f"
            },
            "marker": {
             "line": {
              "color": "#E5ECF6",
              "width": 0.5
             },
             "pattern": {
              "fillmode": "overlay",
              "size": 10,
              "solidity": 0.2
             }
            },
            "type": "bar"
           }
          ],
          "barpolar": [
           {
            "marker": {
             "line": {
              "color": "#E5ECF6",
              "width": 0.5
             },
             "pattern": {
              "fillmode": "overlay",
              "size": 10,
              "solidity": 0.2
             }
            },
            "type": "barpolar"
           }
          ],
          "carpet": [
           {
            "aaxis": {
             "endlinecolor": "#2a3f5f",
             "gridcolor": "white",
             "linecolor": "white",
             "minorgridcolor": "white",
             "startlinecolor": "#2a3f5f"
            },
            "baxis": {
             "endlinecolor": "#2a3f5f",
             "gridcolor": "white",
             "linecolor": "white",
             "minorgridcolor": "white",
             "startlinecolor": "#2a3f5f"
            },
            "type": "carpet"
           }
          ],
          "choropleth": [
           {
            "colorbar": {
             "outlinewidth": 0,
             "ticks": ""
            },
            "type": "choropleth"
           }
          ],
          "contour": [
           {
            "colorbar": {
             "outlinewidth": 0,
             "ticks": ""
            },
            "colorscale": [
             [
              0,
              "#0d0887"
             ],
             [
              0.1111111111111111,
              "#46039f"
             ],
             [
              0.2222222222222222,
              "#7201a8"
             ],
             [
              0.3333333333333333,
              "#9c179e"
             ],
             [
              0.4444444444444444,
              "#bd3786"
             ],
             [
              0.5555555555555556,
              "#d8576b"
             ],
             [
              0.6666666666666666,
              "#ed7953"
             ],
             [
              0.7777777777777778,
              "#fb9f3a"
             ],
             [
              0.8888888888888888,
              "#fdca26"
             ],
             [
              1,
              "#f0f921"
             ]
            ],
            "type": "contour"
           }
          ],
          "contourcarpet": [
           {
            "colorbar": {
             "outlinewidth": 0,
             "ticks": ""
            },
            "type": "contourcarpet"
           }
          ],
          "heatmap": [
           {
            "colorbar": {
             "outlinewidth": 0,
             "ticks": ""
            },
            "colorscale": [
             [
              0,
              "#0d0887"
             ],
             [
              0.1111111111111111,
              "#46039f"
             ],
             [
              0.2222222222222222,
              "#7201a8"
             ],
             [
              0.3333333333333333,
              "#9c179e"
             ],
             [
              0.4444444444444444,
              "#bd3786"
             ],
             [
              0.5555555555555556,
              "#d8576b"
             ],
             [
              0.6666666666666666,
              "#ed7953"
             ],
             [
              0.7777777777777778,
              "#fb9f3a"
             ],
             [
              0.8888888888888888,
              "#fdca26"
             ],
             [
              1,
              "#f0f921"
             ]
            ],
            "type": "heatmap"
           }
          ],
          "heatmapgl": [
           {
            "colorbar": {
             "outlinewidth": 0,
             "ticks": ""
            },
            "colorscale": [
             [
              0,
              "#0d0887"
             ],
             [
              0.1111111111111111,
              "#46039f"
             ],
             [
              0.2222222222222222,
              "#7201a8"
             ],
             [
              0.3333333333333333,
              "#9c179e"
             ],
             [
              0.4444444444444444,
              "#bd3786"
             ],
             [
              0.5555555555555556,
              "#d8576b"
             ],
             [
              0.6666666666666666,
              "#ed7953"
             ],
             [
              0.7777777777777778,
              "#fb9f3a"
             ],
             [
              0.8888888888888888,
              "#fdca26"
             ],
             [
              1,
              "#f0f921"
             ]
            ],
            "type": "heatmapgl"
           }
          ],
          "histogram": [
           {
            "marker": {
             "pattern": {
              "fillmode": "overlay",
              "size": 10,
              "solidity": 0.2
             }
            },
            "type": "histogram"
           }
          ],
          "histogram2d": [
           {
            "colorbar": {
             "outlinewidth": 0,
             "ticks": ""
            },
            "colorscale": [
             [
              0,
              "#0d0887"
             ],
             [
              0.1111111111111111,
              "#46039f"
             ],
             [
              0.2222222222222222,
              "#7201a8"
             ],
             [
              0.3333333333333333,
              "#9c179e"
             ],
             [
              0.4444444444444444,
              "#bd3786"
             ],
             [
              0.5555555555555556,
              "#d8576b"
             ],
             [
              0.6666666666666666,
              "#ed7953"
             ],
             [
              0.7777777777777778,
              "#fb9f3a"
             ],
             [
              0.8888888888888888,
              "#fdca26"
             ],
             [
              1,
              "#f0f921"
             ]
            ],
            "type": "histogram2d"
           }
          ],
          "histogram2dcontour": [
           {
            "colorbar": {
             "outlinewidth": 0,
             "ticks": ""
            },
            "colorscale": [
             [
              0,
              "#0d0887"
             ],
             [
              0.1111111111111111,
              "#46039f"
             ],
             [
              0.2222222222222222,
              "#7201a8"
             ],
             [
              0.3333333333333333,
              "#9c179e"
             ],
             [
              0.4444444444444444,
              "#bd3786"
             ],
             [
              0.5555555555555556,
              "#d8576b"
             ],
             [
              0.6666666666666666,
              "#ed7953"
             ],
             [
              0.7777777777777778,
              "#fb9f3a"
             ],
             [
              0.8888888888888888,
              "#fdca26"
             ],
             [
              1,
              "#f0f921"
             ]
            ],
            "type": "histogram2dcontour"
           }
          ],
          "mesh3d": [
           {
            "colorbar": {
             "outlinewidth": 0,
             "ticks": ""
            },
            "type": "mesh3d"
           }
          ],
          "parcoords": [
           {
            "line": {
             "colorbar": {
              "outlinewidth": 0,
              "ticks": ""
             }
            },
            "type": "parcoords"
           }
          ],
          "pie": [
           {
            "automargin": true,
            "type": "pie"
           }
          ],
          "scatter": [
           {
            "fillpattern": {
             "fillmode": "overlay",
             "size": 10,
             "solidity": 0.2
            },
            "type": "scatter"
           }
          ],
          "scatter3d": [
           {
            "line": {
             "colorbar": {
              "outlinewidth": 0,
              "ticks": ""
             }
            },
            "marker": {
             "colorbar": {
              "outlinewidth": 0,
              "ticks": ""
             }
            },
            "type": "scatter3d"
           }
          ],
          "scattercarpet": [
           {
            "marker": {
             "colorbar": {
              "outlinewidth": 0,
              "ticks": ""
             }
            },
            "type": "scattercarpet"
           }
          ],
          "scattergeo": [
           {
            "marker": {
             "colorbar": {
              "outlinewidth": 0,
              "ticks": ""
             }
            },
            "type": "scattergeo"
           }
          ],
          "scattergl": [
           {
            "marker": {
             "colorbar": {
              "outlinewidth": 0,
              "ticks": ""
             }
            },
            "type": "scattergl"
           }
          ],
          "scattermapbox": [
           {
            "marker": {
             "colorbar": {
              "outlinewidth": 0,
              "ticks": ""
             }
            },
            "type": "scattermapbox"
           }
          ],
          "scatterpolar": [
           {
            "marker": {
             "colorbar": {
              "outlinewidth": 0,
              "ticks": ""
             }
            },
            "type": "scatterpolar"
           }
          ],
          "scatterpolargl": [
           {
            "marker": {
             "colorbar": {
              "outlinewidth": 0,
              "ticks": ""
             }
            },
            "type": "scatterpolargl"
           }
          ],
          "scatterternary": [
           {
            "marker": {
             "colorbar": {
              "outlinewidth": 0,
              "ticks": ""
             }
            },
            "type": "scatterternary"
           }
          ],
          "surface": [
           {
            "colorbar": {
             "outlinewidth": 0,
             "ticks": ""
            },
            "colorscale": [
             [
              0,
              "#0d0887"
             ],
             [
              0.1111111111111111,
              "#46039f"
             ],
             [
              0.2222222222222222,
              "#7201a8"
             ],
             [
              0.3333333333333333,
              "#9c179e"
             ],
             [
              0.4444444444444444,
              "#bd3786"
             ],
             [
              0.5555555555555556,
              "#d8576b"
             ],
             [
              0.6666666666666666,
              "#ed7953"
             ],
             [
              0.7777777777777778,
              "#fb9f3a"
             ],
             [
              0.8888888888888888,
              "#fdca26"
             ],
             [
              1,
              "#f0f921"
             ]
            ],
            "type": "surface"
           }
          ],
          "table": [
           {
            "cells": {
             "fill": {
              "color": "#EBF0F8"
             },
             "line": {
              "color": "white"
             }
            },
            "header": {
             "fill": {
              "color": "#C8D4E3"
             },
             "line": {
              "color": "white"
             }
            },
            "type": "table"
           }
          ]
         },
         "layout": {
          "annotationdefaults": {
           "arrowcolor": "#2a3f5f",
           "arrowhead": 0,
           "arrowwidth": 1
          },
          "autotypenumbers": "strict",
          "coloraxis": {
           "colorbar": {
            "outlinewidth": 0,
            "ticks": ""
           }
          },
          "colorscale": {
           "diverging": [
            [
             0,
             "#8e0152"
            ],
            [
             0.1,
             "#c51b7d"
            ],
            [
             0.2,
             "#de77ae"
            ],
            [
             0.3,
             "#f1b6da"
            ],
            [
             0.4,
             "#fde0ef"
            ],
            [
             0.5,
             "#f7f7f7"
            ],
            [
             0.6,
             "#e6f5d0"
            ],
            [
             0.7,
             "#b8e186"
            ],
            [
             0.8,
             "#7fbc41"
            ],
            [
             0.9,
             "#4d9221"
            ],
            [
             1,
             "#276419"
            ]
           ],
           "sequential": [
            [
             0,
             "#0d0887"
            ],
            [
             0.1111111111111111,
             "#46039f"
            ],
            [
             0.2222222222222222,
             "#7201a8"
            ],
            [
             0.3333333333333333,
             "#9c179e"
            ],
            [
             0.4444444444444444,
             "#bd3786"
            ],
            [
             0.5555555555555556,
             "#d8576b"
            ],
            [
             0.6666666666666666,
             "#ed7953"
            ],
            [
             0.7777777777777778,
             "#fb9f3a"
            ],
            [
             0.8888888888888888,
             "#fdca26"
            ],
            [
             1,
             "#f0f921"
            ]
           ],
           "sequentialminus": [
            [
             0,
             "#0d0887"
            ],
            [
             0.1111111111111111,
             "#46039f"
            ],
            [
             0.2222222222222222,
             "#7201a8"
            ],
            [
             0.3333333333333333,
             "#9c179e"
            ],
            [
             0.4444444444444444,
             "#bd3786"
            ],
            [
             0.5555555555555556,
             "#d8576b"
            ],
            [
             0.6666666666666666,
             "#ed7953"
            ],
            [
             0.7777777777777778,
             "#fb9f3a"
            ],
            [
             0.8888888888888888,
             "#fdca26"
            ],
            [
             1,
             "#f0f921"
            ]
           ]
          },
          "colorway": [
           "#636efa",
           "#EF553B",
           "#00cc96",
           "#ab63fa",
           "#FFA15A",
           "#19d3f3",
           "#FF6692",
           "#B6E880",
           "#FF97FF",
           "#FECB52"
          ],
          "font": {
           "color": "#2a3f5f"
          },
          "geo": {
           "bgcolor": "white",
           "lakecolor": "white",
           "landcolor": "#E5ECF6",
           "showlakes": true,
           "showland": true,
           "subunitcolor": "white"
          },
          "hoverlabel": {
           "align": "left"
          },
          "hovermode": "closest",
          "mapbox": {
           "style": "light"
          },
          "paper_bgcolor": "white",
          "plot_bgcolor": "#E5ECF6",
          "polar": {
           "angularaxis": {
            "gridcolor": "white",
            "linecolor": "white",
            "ticks": ""
           },
           "bgcolor": "#E5ECF6",
           "radialaxis": {
            "gridcolor": "white",
            "linecolor": "white",
            "ticks": ""
           }
          },
          "scene": {
           "xaxis": {
            "backgroundcolor": "#E5ECF6",
            "gridcolor": "white",
            "gridwidth": 2,
            "linecolor": "white",
            "showbackground": true,
            "ticks": "",
            "zerolinecolor": "white"
           },
           "yaxis": {
            "backgroundcolor": "#E5ECF6",
            "gridcolor": "white",
            "gridwidth": 2,
            "linecolor": "white",
            "showbackground": true,
            "ticks": "",
            "zerolinecolor": "white"
           },
           "zaxis": {
            "backgroundcolor": "#E5ECF6",
            "gridcolor": "white",
            "gridwidth": 2,
            "linecolor": "white",
            "showbackground": true,
            "ticks": "",
            "zerolinecolor": "white"
           }
          },
          "shapedefaults": {
           "line": {
            "color": "#2a3f5f"
           }
          },
          "ternary": {
           "aaxis": {
            "gridcolor": "white",
            "linecolor": "white",
            "ticks": ""
           },
           "baxis": {
            "gridcolor": "white",
            "linecolor": "white",
            "ticks": ""
           },
           "bgcolor": "#E5ECF6",
           "caxis": {
            "gridcolor": "white",
            "linecolor": "white",
            "ticks": ""
           }
          },
          "title": {
           "x": 0.05
          },
          "xaxis": {
           "automargin": true,
           "gridcolor": "white",
           "linecolor": "white",
           "ticks": "",
           "title": {
            "standoff": 15
           },
           "zerolinecolor": "white",
           "zerolinewidth": 2
          },
          "yaxis": {
           "automargin": true,
           "gridcolor": "white",
           "linecolor": "white",
           "ticks": "",
           "title": {
            "standoff": 15
           },
           "zerolinecolor": "white",
           "zerolinewidth": 2
          }
         }
        },
        "title": {
         "text": "Análise de Fechamento"
        },
        "xaxis": {
         "title": {
          "text": "Período"
         }
        },
        "yaxis": {
         "title": {
          "text": "Valor de fechamento (R$)"
         }
        }
       }
      },
      "text/html": [
       "<div>                            <div id=\"4d26d099-4d91-4f7d-ad40-2364d9f99ed4\" class=\"plotly-graph-div\" style=\"height:525px; width:100%;\"></div>            <script type=\"text/javascript\">                require([\"plotly\"], function(Plotly) {                    window.PLOTLYENV=window.PLOTLYENV || {};                                    if (document.getElementById(\"4d26d099-4d91-4f7d-ad40-2364d9f99ed4\")) {                    Plotly.newPlot(                        \"4d26d099-4d91-4f7d-ad40-2364d9f99ed4\",                        [{\"line\":{\"color\":\"firebrick\",\"width\":3},\"x\":[\"2022-02-14T00:00:00\",\"2022-02-15T00:00:00\",\"2022-02-16T00:00:00\",\"2022-02-17T00:00:00\",\"2022-02-18T00:00:00\",\"2022-02-21T00:00:00\",\"2022-02-22T00:00:00\",\"2022-02-23T00:00:00\",\"2022-02-24T00:00:00\",\"2022-02-25T00:00:00\",\"2022-03-02T00:00:00\",\"2022-03-03T00:00:00\",\"2022-03-04T00:00:00\",\"2022-03-07T00:00:00\",\"2022-03-08T00:00:00\",\"2022-03-09T00:00:00\",\"2022-03-10T00:00:00\",\"2022-03-11T00:00:00\",\"2022-03-14T00:00:00\",\"2022-03-15T00:00:00\",\"2022-03-16T00:00:00\",\"2022-03-17T00:00:00\",\"2022-03-18T00:00:00\",\"2022-03-21T00:00:00\",\"2022-03-22T00:00:00\",\"2022-03-23T00:00:00\",\"2022-03-24T00:00:00\",\"2022-03-25T00:00:00\",\"2022-03-28T00:00:00\",\"2022-03-29T00:00:00\",\"2022-03-30T00:00:00\",\"2022-03-31T00:00:00\",\"2022-04-01T00:00:00\",\"2022-04-04T00:00:00\",\"2022-04-05T00:00:00\",\"2022-04-06T00:00:00\",\"2022-04-07T00:00:00\",\"2022-04-08T00:00:00\",\"2022-04-11T00:00:00\",\"2022-04-12T00:00:00\",\"2022-04-13T00:00:00\",\"2022-04-14T00:00:00\",\"2022-04-18T00:00:00\",\"2022-04-19T00:00:00\",\"2022-04-20T00:00:00\",\"2022-04-22T00:00:00\",\"2022-04-25T00:00:00\",\"2022-04-26T00:00:00\",\"2022-04-27T00:00:00\",\"2022-04-28T00:00:00\",\"2022-04-29T00:00:00\",\"2022-05-02T00:00:00\",\"2022-05-03T00:00:00\",\"2022-05-04T00:00:00\",\"2022-05-05T00:00:00\",\"2022-05-06T00:00:00\",\"2022-05-09T00:00:00\",\"2022-05-10T00:00:00\",\"2022-05-11T00:00:00\",\"2022-05-12T00:00:00\",\"2022-05-13T00:00:00\",\"2022-05-16T00:00:00\",\"2022-05-17T00:00:00\",\"2022-05-18T00:00:00\",\"2022-05-19T00:00:00\",\"2022-05-20T00:00:00\",\"2022-05-23T00:00:00\",\"2022-05-24T00:00:00\",\"2022-05-25T00:00:00\",\"2022-05-26T00:00:00\",\"2022-05-27T00:00:00\",\"2022-05-30T00:00:00\",\"2022-05-31T00:00:00\",\"2022-06-01T00:00:00\",\"2022-06-02T00:00:00\",\"2022-06-03T00:00:00\",\"2022-06-06T00:00:00\",\"2022-06-07T00:00:00\",\"2022-06-08T00:00:00\",\"2022-06-09T00:00:00\",\"2022-06-10T00:00:00\",\"2022-06-13T00:00:00\",\"2022-06-14T00:00:00\",\"2022-06-15T00:00:00\",\"2022-06-17T00:00:00\",\"2022-06-20T00:00:00\",\"2022-06-21T00:00:00\",\"2022-06-22T00:00:00\",\"2022-06-23T00:00:00\",\"2022-06-24T00:00:00\",\"2022-06-27T00:00:00\",\"2022-06-28T00:00:00\",\"2022-06-29T00:00:00\",\"2022-06-30T00:00:00\",\"2022-07-01T00:00:00\",\"2022-07-04T00:00:00\",\"2022-07-05T00:00:00\",\"2022-07-06T00:00:00\",\"2022-07-07T00:00:00\",\"2022-07-08T00:00:00\",\"2022-07-11T00:00:00\",\"2022-07-12T00:00:00\",\"2022-07-13T00:00:00\",\"2022-07-14T00:00:00\",\"2022-07-15T00:00:00\",\"2022-07-18T00:00:00\",\"2022-07-19T00:00:00\",\"2022-07-20T00:00:00\",\"2022-07-21T00:00:00\",\"2022-07-22T00:00:00\",\"2022-07-25T00:00:00\",\"2022-07-26T00:00:00\",\"2022-07-27T00:00:00\",\"2022-07-28T00:00:00\",\"2022-07-29T00:00:00\",\"2022-08-01T00:00:00\",\"2022-08-02T00:00:00\",\"2022-08-03T00:00:00\",\"2022-08-04T00:00:00\",\"2022-08-05T00:00:00\",\"2022-08-08T00:00:00\",\"2022-08-09T00:00:00\",\"2022-08-10T00:00:00\",\"2022-08-11T00:00:00\",\"2022-08-12T00:00:00\",\"2022-08-15T00:00:00\",\"2022-08-16T00:00:00\",\"2022-08-17T00:00:00\",\"2022-08-18T00:00:00\",\"2022-08-19T00:00:00\",\"2022-08-22T00:00:00\",\"2022-08-23T00:00:00\",\"2022-08-24T00:00:00\",\"2022-08-25T00:00:00\",\"2022-08-26T00:00:00\",\"2022-08-29T00:00:00\",\"2022-08-30T00:00:00\",\"2022-08-31T00:00:00\",\"2022-09-01T00:00:00\",\"2022-09-02T00:00:00\",\"2022-09-05T00:00:00\",\"2022-09-06T00:00:00\",\"2022-09-08T00:00:00\",\"2022-09-09T00:00:00\",\"2022-09-12T00:00:00\",\"2022-09-13T00:00:00\",\"2022-09-14T00:00:00\",\"2022-09-15T00:00:00\",\"2022-09-16T00:00:00\",\"2022-09-19T00:00:00\",\"2022-09-20T00:00:00\",\"2022-09-21T00:00:00\",\"2022-09-22T00:00:00\",\"2022-09-23T00:00:00\",\"2022-09-26T00:00:00\",\"2022-09-27T00:00:00\",\"2022-09-28T00:00:00\",\"2022-09-29T00:00:00\",\"2022-09-30T00:00:00\",\"2022-10-03T00:00:00\",\"2022-10-04T00:00:00\",\"2022-10-05T00:00:00\",\"2022-10-06T00:00:00\",\"2022-10-07T00:00:00\",\"2022-10-10T00:00:00\",\"2022-10-11T00:00:00\",\"2022-10-13T00:00:00\",\"2022-10-14T00:00:00\",\"2022-10-17T00:00:00\",\"2022-10-18T00:00:00\",\"2022-10-19T00:00:00\",\"2022-10-20T00:00:00\",\"2022-10-21T00:00:00\",\"2022-10-24T00:00:00\",\"2022-10-25T00:00:00\",\"2022-10-26T00:00:00\",\"2022-10-27T00:00:00\",\"2022-10-28T00:00:00\",\"2022-10-31T00:00:00\",\"2022-11-01T00:00:00\",\"2022-11-03T00:00:00\",\"2022-11-04T00:00:00\",\"2022-11-07T00:00:00\",\"2022-11-08T00:00:00\",\"2022-11-09T00:00:00\",\"2022-11-10T00:00:00\",\"2022-11-11T00:00:00\",\"2022-11-14T00:00:00\",\"2022-11-16T00:00:00\",\"2022-11-17T00:00:00\",\"2022-11-18T00:00:00\",\"2022-11-21T00:00:00\",\"2022-11-22T00:00:00\",\"2022-11-23T00:00:00\",\"2022-11-24T00:00:00\",\"2022-11-25T00:00:00\",\"2022-11-28T00:00:00\",\"2022-11-29T00:00:00\",\"2022-11-30T00:00:00\",\"2022-12-01T00:00:00\",\"2022-12-02T00:00:00\",\"2022-12-05T00:00:00\",\"2022-12-06T00:00:00\",\"2022-12-07T00:00:00\",\"2022-12-08T00:00:00\",\"2022-12-09T00:00:00\",\"2022-12-12T00:00:00\",\"2022-12-13T00:00:00\",\"2022-12-14T00:00:00\",\"2022-12-15T00:00:00\",\"2022-12-16T00:00:00\",\"2022-12-19T00:00:00\",\"2022-12-20T00:00:00\",\"2022-12-21T00:00:00\",\"2022-12-22T00:00:00\",\"2022-12-23T00:00:00\",\"2022-12-26T00:00:00\",\"2022-12-27T00:00:00\",\"2022-12-28T00:00:00\",\"2022-12-29T00:00:00\",\"2023-01-02T00:00:00\",\"2023-01-03T00:00:00\",\"2023-01-04T00:00:00\",\"2023-01-05T00:00:00\",\"2023-01-06T00:00:00\",\"2023-01-09T00:00:00\",\"2023-01-10T00:00:00\",\"2023-01-11T00:00:00\",\"2023-01-12T00:00:00\",\"2023-01-13T00:00:00\",\"2023-01-16T00:00:00\",\"2023-01-17T00:00:00\",\"2023-01-18T00:00:00\",\"2023-01-19T00:00:00\",\"2023-01-20T00:00:00\",\"2023-01-23T00:00:00\",\"2023-01-24T00:00:00\",\"2023-01-25T00:00:00\",\"2023-01-26T00:00:00\",\"2023-01-27T00:00:00\",\"2023-01-30T00:00:00\",\"2023-01-31T00:00:00\",\"2023-02-01T00:00:00\",\"2023-02-02T00:00:00\",\"2023-02-03T00:00:00\",\"2023-02-06T00:00:00\",\"2023-02-07T00:00:00\",\"2023-02-08T00:00:00\",\"2023-02-09T00:00:00\",\"2023-02-10T00:00:00\",\"2023-02-13T00:00:00\",\"2023-02-14T00:00:00\"],\"y\":[33.0,32.47999954223633,32.93000030517578,32.79999923706055,33.0,33.849998474121094,33.7400016784668,34.220001220703125,33.38999938964844,34.0,34.66999816894531,34.2400016784668,34.22999954223633,31.799999237060547,32.459999084472656,32.560001373291016,33.70000076293945,32.4900016784668,31.8700008392334,31.100000381469727,30.829999923706055,30.010000228881836,30.610000610351562,31.760000228881836,31.6200008392334,32.04999923706055,32.41999816894531,32.29999923706055,31.600000381469727,32.29999923706055,32.9900016784668,33.45000076293945,33.0099983215332,32.70000076293945,32.38999938964844,32.36000061035156,34.040000915527344,34.209999084472656,33.95000076293945,33.849998474121094,34.56999969482422,31.270000457763672,30.719999313354492,31.649999618530273,31.799999237060547,30.559999465942383,30.110000610351562,30.059999465942383,30.059999465942383,30.260000228881836,30.280000686645508,29.979999542236328,30.25,32.06999969482422,32.0099983215332,33.060001373291016,32.15999984741211,32.439998626708984,33.56999969482422,33.83000183105469,34.27000045776367,34.61000061035156,34.15999984741211,33.599998474121094,34.16999816894531,34.83000183105469,36.20000076293945,31.600000381469727,32.04999923706055,32.130001068115234,30.600000381469727,29.989999771118164,30.059999465942383,30.020000457763672,29.760000228881836,30.280000686645508,30.299999237060547,30.65999984741211,30.510000228881836,30.06999969482422,29.649999618530273,29.270000457763672,29.600000381469727,29.079999923706055,27.309999465942383,27.6200008392334,27.06999969482422,26.989999771118164,26.489999771118164,26.290000915527344,27.979999542236328,28.329999923706055,28.079999923706055,27.93000030517578,28.530000686645508,29.139999389648438,28.030000686645508,27.670000076293945,28.479999542236328,28.799999237060547,28.65999984741211,28.229999542236328,28.25,27.489999771118164,27.959999084472656,28.600000381469727,29.18000030517578,29.170000076293945,29.020000457763672,29.329999923706055,30.700000762939453,31.010000228881836,31.350000381469727,32.290000915527344,34.150001525878906,33.68000030517578,33.83000183105469,33.849998474121094,34.209999084472656,34.869998931884766,36.630001068115234,37.22999954223633,37.11000061035156,36.25,31.709999084472656,31.719999313354492,32.0099983215332,32.7599983215332,33.41999816894531,31.729999542236328,32.40999984741211,33.439998626708984,33.63999938964844,33.279998779296875,33.63999938964844,34.47999954223633,32.43000030517578,33.22999954223633,33.849998474121094,33.41999816894531,33.34000015258789,32.099998474121094,31.799999237060547,31.790000915527344,31.479999542236328,30.649999618530273,31.1200008392334,31.059999465942383,30.780000686645508,31.270000457763672,31.09000015258789,31.170000076293945,31.940000534057617,29.940000534057617,29.290000915527344,29.670000076293945,29.270000457763672,29.309999465942383,29.799999237060547,32.18000030517578,31.3700008392334,32.54999923706055,33.65999984741211,33.630001068115234,33.25,33.0,33.939998626708984,33.41999816894531,33.38999938964844,34.209999084472656,35.41999816894531,36.470001220703125,37.720001220703125,34.25,33.529998779296875,32.709999084472656,32.959999084472656,32.56999969482422,29.809999465942383,29.860000610351562,29.950000762939453,28.299999237060547,27.149999618530273,27.350000381469727,26.899999618530273,26.1200008392334,26.989999771118164,27.700000762939453,27.149999618530273,27.15999984741211,26.700000762939453,26.780000686645508,23.329999923706055,23.440000534057617,24.25,23.860000610351562,24.360000610351562,25.3799991607666,26.65999984741211,25.59000015258789,25.90999984741211,25.6200008392334,25.639999389648438,25.350000381469727,24.780000686645508,24.709999084472656,23.90999984741211,23.31999969482422,21.469999313354492,22.040000915527344,22.049999237060547,22.3799991607666,23.06999969482422,23.56999969482422,23.989999771118164,25.1200008392334,24.940000534057617,25.110000610351562,24.799999237060547,24.5,22.920000076293945,22.34000015258789,23.049999237060547,23.8799991607666,23.739999771118164,23.8700008392334,24.09000015258789,24.280000686645508,24.6299991607666,24.56999969482422,24.040000915527344,25.520000457763672,25.06999969482422,25.889999389648438,26.3700008392334,26.790000915527344,26.600000381469727,26.940000534057617,26.25,25.6200008392334,25.75,26.06999969482422,25.709999084472656,24.520000457763672,24.790000915527344,25.780000686645508,25.6200008392334,26.049999237060547,25.93000030517578,26.719999313354492,26.799999237060547,26.739999771118164],\"type\":\"scatter\"}],                        {\"template\":{\"data\":{\"histogram2dcontour\":[{\"type\":\"histogram2dcontour\",\"colorbar\":{\"outlinewidth\":0,\"ticks\":\"\"},\"colorscale\":[[0.0,\"#0d0887\"],[0.1111111111111111,\"#46039f\"],[0.2222222222222222,\"#7201a8\"],[0.3333333333333333,\"#9c179e\"],[0.4444444444444444,\"#bd3786\"],[0.5555555555555556,\"#d8576b\"],[0.6666666666666666,\"#ed7953\"],[0.7777777777777778,\"#fb9f3a\"],[0.8888888888888888,\"#fdca26\"],[1.0,\"#f0f921\"]]}],\"choropleth\":[{\"type\":\"choropleth\",\"colorbar\":{\"outlinewidth\":0,\"ticks\":\"\"}}],\"histogram2d\":[{\"type\":\"histogram2d\",\"colorbar\":{\"outlinewidth\":0,\"ticks\":\"\"},\"colorscale\":[[0.0,\"#0d0887\"],[0.1111111111111111,\"#46039f\"],[0.2222222222222222,\"#7201a8\"],[0.3333333333333333,\"#9c179e\"],[0.4444444444444444,\"#bd3786\"],[0.5555555555555556,\"#d8576b\"],[0.6666666666666666,\"#ed7953\"],[0.7777777777777778,\"#fb9f3a\"],[0.8888888888888888,\"#fdca26\"],[1.0,\"#f0f921\"]]}],\"heatmap\":[{\"type\":\"heatmap\",\"colorbar\":{\"outlinewidth\":0,\"ticks\":\"\"},\"colorscale\":[[0.0,\"#0d0887\"],[0.1111111111111111,\"#46039f\"],[0.2222222222222222,\"#7201a8\"],[0.3333333333333333,\"#9c179e\"],[0.4444444444444444,\"#bd3786\"],[0.5555555555555556,\"#d8576b\"],[0.6666666666666666,\"#ed7953\"],[0.7777777777777778,\"#fb9f3a\"],[0.8888888888888888,\"#fdca26\"],[1.0,\"#f0f921\"]]}],\"heatmapgl\":[{\"type\":\"heatmapgl\",\"colorbar\":{\"outlinewidth\":0,\"ticks\":\"\"},\"colorscale\":[[0.0,\"#0d0887\"],[0.1111111111111111,\"#46039f\"],[0.2222222222222222,\"#7201a8\"],[0.3333333333333333,\"#9c179e\"],[0.4444444444444444,\"#bd3786\"],[0.5555555555555556,\"#d8576b\"],[0.6666666666666666,\"#ed7953\"],[0.7777777777777778,\"#fb9f3a\"],[0.8888888888888888,\"#fdca26\"],[1.0,\"#f0f921\"]]}],\"contourcarpet\":[{\"type\":\"contourcarpet\",\"colorbar\":{\"outlinewidth\":0,\"ticks\":\"\"}}],\"contour\":[{\"type\":\"contour\",\"colorbar\":{\"outlinewidth\":0,\"ticks\":\"\"},\"colorscale\":[[0.0,\"#0d0887\"],[0.1111111111111111,\"#46039f\"],[0.2222222222222222,\"#7201a8\"],[0.3333333333333333,\"#9c179e\"],[0.4444444444444444,\"#bd3786\"],[0.5555555555555556,\"#d8576b\"],[0.6666666666666666,\"#ed7953\"],[0.7777777777777778,\"#fb9f3a\"],[0.8888888888888888,\"#fdca26\"],[1.0,\"#f0f921\"]]}],\"surface\":[{\"type\":\"surface\",\"colorbar\":{\"outlinewidth\":0,\"ticks\":\"\"},\"colorscale\":[[0.0,\"#0d0887\"],[0.1111111111111111,\"#46039f\"],[0.2222222222222222,\"#7201a8\"],[0.3333333333333333,\"#9c179e\"],[0.4444444444444444,\"#bd3786\"],[0.5555555555555556,\"#d8576b\"],[0.6666666666666666,\"#ed7953\"],[0.7777777777777778,\"#fb9f3a\"],[0.8888888888888888,\"#fdca26\"],[1.0,\"#f0f921\"]]}],\"mesh3d\":[{\"type\":\"mesh3d\",\"colorbar\":{\"outlinewidth\":0,\"ticks\":\"\"}}],\"scatter\":[{\"fillpattern\":{\"fillmode\":\"overlay\",\"size\":10,\"solidity\":0.2},\"type\":\"scatter\"}],\"parcoords\":[{\"type\":\"parcoords\",\"line\":{\"colorbar\":{\"outlinewidth\":0,\"ticks\":\"\"}}}],\"scatterpolargl\":[{\"type\":\"scatterpolargl\",\"marker\":{\"colorbar\":{\"outlinewidth\":0,\"ticks\":\"\"}}}],\"bar\":[{\"error_x\":{\"color\":\"#2a3f5f\"},\"error_y\":{\"color\":\"#2a3f5f\"},\"marker\":{\"line\":{\"color\":\"#E5ECF6\",\"width\":0.5},\"pattern\":{\"fillmode\":\"overlay\",\"size\":10,\"solidity\":0.2}},\"type\":\"bar\"}],\"scattergeo\":[{\"type\":\"scattergeo\",\"marker\":{\"colorbar\":{\"outlinewidth\":0,\"ticks\":\"\"}}}],\"scatterpolar\":[{\"type\":\"scatterpolar\",\"marker\":{\"colorbar\":{\"outlinewidth\":0,\"ticks\":\"\"}}}],\"histogram\":[{\"marker\":{\"pattern\":{\"fillmode\":\"overlay\",\"size\":10,\"solidity\":0.2}},\"type\":\"histogram\"}],\"scattergl\":[{\"type\":\"scattergl\",\"marker\":{\"colorbar\":{\"outlinewidth\":0,\"ticks\":\"\"}}}],\"scatter3d\":[{\"type\":\"scatter3d\",\"line\":{\"colorbar\":{\"outlinewidth\":0,\"ticks\":\"\"}},\"marker\":{\"colorbar\":{\"outlinewidth\":0,\"ticks\":\"\"}}}],\"scattermapbox\":[{\"type\":\"scattermapbox\",\"marker\":{\"colorbar\":{\"outlinewidth\":0,\"ticks\":\"\"}}}],\"scatterternary\":[{\"type\":\"scatterternary\",\"marker\":{\"colorbar\":{\"outlinewidth\":0,\"ticks\":\"\"}}}],\"scattercarpet\":[{\"type\":\"scattercarpet\",\"marker\":{\"colorbar\":{\"outlinewidth\":0,\"ticks\":\"\"}}}],\"carpet\":[{\"aaxis\":{\"endlinecolor\":\"#2a3f5f\",\"gridcolor\":\"white\",\"linecolor\":\"white\",\"minorgridcolor\":\"white\",\"startlinecolor\":\"#2a3f5f\"},\"baxis\":{\"endlinecolor\":\"#2a3f5f\",\"gridcolor\":\"white\",\"linecolor\":\"white\",\"minorgridcolor\":\"white\",\"startlinecolor\":\"#2a3f5f\"},\"type\":\"carpet\"}],\"table\":[{\"cells\":{\"fill\":{\"color\":\"#EBF0F8\"},\"line\":{\"color\":\"white\"}},\"header\":{\"fill\":{\"color\":\"#C8D4E3\"},\"line\":{\"color\":\"white\"}},\"type\":\"table\"}],\"barpolar\":[{\"marker\":{\"line\":{\"color\":\"#E5ECF6\",\"width\":0.5},\"pattern\":{\"fillmode\":\"overlay\",\"size\":10,\"solidity\":0.2}},\"type\":\"barpolar\"}],\"pie\":[{\"automargin\":true,\"type\":\"pie\"}]},\"layout\":{\"autotypenumbers\":\"strict\",\"colorway\":[\"#636efa\",\"#EF553B\",\"#00cc96\",\"#ab63fa\",\"#FFA15A\",\"#19d3f3\",\"#FF6692\",\"#B6E880\",\"#FF97FF\",\"#FECB52\"],\"font\":{\"color\":\"#2a3f5f\"},\"hovermode\":\"closest\",\"hoverlabel\":{\"align\":\"left\"},\"paper_bgcolor\":\"white\",\"plot_bgcolor\":\"#E5ECF6\",\"polar\":{\"bgcolor\":\"#E5ECF6\",\"angularaxis\":{\"gridcolor\":\"white\",\"linecolor\":\"white\",\"ticks\":\"\"},\"radialaxis\":{\"gridcolor\":\"white\",\"linecolor\":\"white\",\"ticks\":\"\"}},\"ternary\":{\"bgcolor\":\"#E5ECF6\",\"aaxis\":{\"gridcolor\":\"white\",\"linecolor\":\"white\",\"ticks\":\"\"},\"baxis\":{\"gridcolor\":\"white\",\"linecolor\":\"white\",\"ticks\":\"\"},\"caxis\":{\"gridcolor\":\"white\",\"linecolor\":\"white\",\"ticks\":\"\"}},\"coloraxis\":{\"colorbar\":{\"outlinewidth\":0,\"ticks\":\"\"}},\"colorscale\":{\"sequential\":[[0.0,\"#0d0887\"],[0.1111111111111111,\"#46039f\"],[0.2222222222222222,\"#7201a8\"],[0.3333333333333333,\"#9c179e\"],[0.4444444444444444,\"#bd3786\"],[0.5555555555555556,\"#d8576b\"],[0.6666666666666666,\"#ed7953\"],[0.7777777777777778,\"#fb9f3a\"],[0.8888888888888888,\"#fdca26\"],[1.0,\"#f0f921\"]],\"sequentialminus\":[[0.0,\"#0d0887\"],[0.1111111111111111,\"#46039f\"],[0.2222222222222222,\"#7201a8\"],[0.3333333333333333,\"#9c179e\"],[0.4444444444444444,\"#bd3786\"],[0.5555555555555556,\"#d8576b\"],[0.6666666666666666,\"#ed7953\"],[0.7777777777777778,\"#fb9f3a\"],[0.8888888888888888,\"#fdca26\"],[1.0,\"#f0f921\"]],\"diverging\":[[0,\"#8e0152\"],[0.1,\"#c51b7d\"],[0.2,\"#de77ae\"],[0.3,\"#f1b6da\"],[0.4,\"#fde0ef\"],[0.5,\"#f7f7f7\"],[0.6,\"#e6f5d0\"],[0.7,\"#b8e186\"],[0.8,\"#7fbc41\"],[0.9,\"#4d9221\"],[1,\"#276419\"]]},\"xaxis\":{\"gridcolor\":\"white\",\"linecolor\":\"white\",\"ticks\":\"\",\"title\":{\"standoff\":15},\"zerolinecolor\":\"white\",\"automargin\":true,\"zerolinewidth\":2},\"yaxis\":{\"gridcolor\":\"white\",\"linecolor\":\"white\",\"ticks\":\"\",\"title\":{\"standoff\":15},\"zerolinecolor\":\"white\",\"automargin\":true,\"zerolinewidth\":2},\"scene\":{\"xaxis\":{\"backgroundcolor\":\"#E5ECF6\",\"gridcolor\":\"white\",\"linecolor\":\"white\",\"showbackground\":true,\"ticks\":\"\",\"zerolinecolor\":\"white\",\"gridwidth\":2},\"yaxis\":{\"backgroundcolor\":\"#E5ECF6\",\"gridcolor\":\"white\",\"linecolor\":\"white\",\"showbackground\":true,\"ticks\":\"\",\"zerolinecolor\":\"white\",\"gridwidth\":2},\"zaxis\":{\"backgroundcolor\":\"#E5ECF6\",\"gridcolor\":\"white\",\"linecolor\":\"white\",\"showbackground\":true,\"ticks\":\"\",\"zerolinecolor\":\"white\",\"gridwidth\":2}},\"shapedefaults\":{\"line\":{\"color\":\"#2a3f5f\"}},\"annotationdefaults\":{\"arrowcolor\":\"#2a3f5f\",\"arrowhead\":0,\"arrowwidth\":1},\"geo\":{\"bgcolor\":\"white\",\"landcolor\":\"#E5ECF6\",\"subunitcolor\":\"white\",\"showland\":true,\"showlakes\":true,\"lakecolor\":\"white\"},\"title\":{\"x\":0.05},\"mapbox\":{\"style\":\"light\"}}},\"title\":{\"text\":\"An\\u00e1lise de Fechamento\"},\"xaxis\":{\"title\":{\"text\":\"Per\\u00edodo\"}},\"yaxis\":{\"title\":{\"text\":\"Valor de fechamento (R$)\"}}},                        {\"responsive\": true}                    ).then(function(){\n",
       "                            \n",
       "var gd = document.getElementById('4d26d099-4d91-4f7d-ad40-2364d9f99ed4');\n",
       "var x = new MutationObserver(function (mutations, observer) {{\n",
       "        var display = window.getComputedStyle(gd).display;\n",
       "        if (!display || display === 'none') {{\n",
       "            console.log([gd, 'removed!']);\n",
       "            Plotly.purge(gd);\n",
       "            observer.disconnect();\n",
       "        }}\n",
       "}});\n",
       "\n",
       "// Listen for the removal of the full notebook cells\n",
       "var notebookContainer = gd.closest('#notebook-container');\n",
       "if (notebookContainer) {{\n",
       "    x.observe(notebookContainer, {childList: true});\n",
       "}}\n",
       "\n",
       "// Listen for the clearing of the current output cell\n",
       "var outputEl = gd.closest('.output');\n",
       "if (outputEl) {{\n",
       "    x.observe(outputEl, {childList: true});\n",
       "}}\n",
       "\n",
       "                        })                };                });            </script>        </div>"
      ]
     },
     "metadata": {},
     "output_type": "display_data"
    }
   ],
   "source": [
    "figure2 = go.Figure(\n",
    "    data=go.Scatter(\n",
    "        x=dados.index,\n",
    "        y=dados['Close'],\n",
    "        line=(dict(color='firebrick', width=3))\n",
    "    )\n",
    ")\n",
    "figure2.update_layout(\n",
    "    title='Análise de Fechamento',\n",
    "    xaxis_title='Período',\n",
    "    yaxis_title='Valor de fechamento (R$)'\n",
    ")\n",
    "figure2.show()"
   ]
  },
  {
   "cell_type": "code",
   "execution_count": 115,
   "id": "17175cb6",
   "metadata": {},
   "outputs": [
    {
     "data": {
      "application/vnd.plotly.v1+json": {
       "config": {
        "plotlyServerURL": "https://plot.ly"
       },
       "data": [
        {
         "close": [
          33,
          32.47999954223633,
          32.93000030517578,
          32.79999923706055,
          33,
          33.849998474121094,
          33.7400016784668,
          34.220001220703125,
          33.38999938964844,
          34,
          34.66999816894531,
          34.2400016784668,
          34.22999954223633,
          31.799999237060547,
          32.459999084472656,
          32.560001373291016,
          33.70000076293945,
          32.4900016784668,
          31.8700008392334,
          31.100000381469727,
          30.829999923706055,
          30.010000228881836,
          30.610000610351562,
          31.760000228881836,
          31.6200008392334,
          32.04999923706055,
          32.41999816894531,
          32.29999923706055,
          31.600000381469727,
          32.29999923706055,
          32.9900016784668,
          33.45000076293945,
          33.0099983215332,
          32.70000076293945,
          32.38999938964844,
          32.36000061035156,
          34.040000915527344,
          34.209999084472656,
          33.95000076293945,
          33.849998474121094,
          34.56999969482422,
          31.270000457763672,
          30.719999313354492,
          31.649999618530273,
          31.799999237060547,
          30.559999465942383,
          30.110000610351562,
          30.059999465942383,
          30.059999465942383,
          30.260000228881836,
          30.280000686645508,
          29.979999542236328,
          30.25,
          32.06999969482422,
          32.0099983215332,
          33.060001373291016,
          32.15999984741211,
          32.439998626708984,
          33.56999969482422,
          33.83000183105469,
          34.27000045776367,
          34.61000061035156,
          34.15999984741211,
          33.599998474121094,
          34.16999816894531,
          34.83000183105469,
          36.20000076293945,
          31.600000381469727,
          32.04999923706055,
          32.130001068115234,
          30.600000381469727,
          29.989999771118164,
          30.059999465942383,
          30.020000457763672,
          29.760000228881836,
          30.280000686645508,
          30.299999237060547,
          30.65999984741211,
          30.510000228881836,
          30.06999969482422,
          29.649999618530273,
          29.270000457763672,
          29.600000381469727,
          29.079999923706055,
          27.309999465942383,
          27.6200008392334,
          27.06999969482422,
          26.989999771118164,
          26.489999771118164,
          26.290000915527344,
          27.979999542236328,
          28.329999923706055,
          28.079999923706055,
          27.93000030517578,
          28.530000686645508,
          29.139999389648438,
          28.030000686645508,
          27.670000076293945,
          28.479999542236328,
          28.799999237060547,
          28.65999984741211,
          28.229999542236328,
          28.25,
          27.489999771118164,
          27.959999084472656,
          28.600000381469727,
          29.18000030517578,
          29.170000076293945,
          29.020000457763672,
          29.329999923706055,
          30.700000762939453,
          31.010000228881836,
          31.350000381469727,
          32.290000915527344,
          34.150001525878906,
          33.68000030517578,
          33.83000183105469,
          33.849998474121094,
          34.209999084472656,
          34.869998931884766,
          36.630001068115234,
          37.22999954223633,
          37.11000061035156,
          36.25,
          31.709999084472656,
          31.719999313354492,
          32.0099983215332,
          32.7599983215332,
          33.41999816894531,
          31.729999542236328,
          32.40999984741211,
          33.439998626708984,
          33.63999938964844,
          33.279998779296875,
          33.63999938964844,
          34.47999954223633,
          32.43000030517578,
          33.22999954223633,
          33.849998474121094,
          33.41999816894531,
          33.34000015258789,
          32.099998474121094,
          31.799999237060547,
          31.790000915527344,
          31.479999542236328,
          30.649999618530273,
          31.1200008392334,
          31.059999465942383,
          30.780000686645508,
          31.270000457763672,
          31.09000015258789,
          31.170000076293945,
          31.940000534057617,
          29.940000534057617,
          29.290000915527344,
          29.670000076293945,
          29.270000457763672,
          29.309999465942383,
          29.799999237060547,
          32.18000030517578,
          31.3700008392334,
          32.54999923706055,
          33.65999984741211,
          33.630001068115234,
          33.25,
          33,
          33.939998626708984,
          33.41999816894531,
          33.38999938964844,
          34.209999084472656,
          35.41999816894531,
          36.470001220703125,
          37.720001220703125,
          34.25,
          33.529998779296875,
          32.709999084472656,
          32.959999084472656,
          32.56999969482422,
          29.809999465942383,
          29.860000610351562,
          29.950000762939453,
          28.299999237060547,
          27.149999618530273,
          27.350000381469727,
          26.899999618530273,
          26.1200008392334,
          26.989999771118164,
          27.700000762939453,
          27.149999618530273,
          27.15999984741211,
          26.700000762939453,
          26.780000686645508,
          23.329999923706055,
          23.440000534057617,
          24.25,
          23.860000610351562,
          24.360000610351562,
          25.3799991607666,
          26.65999984741211,
          25.59000015258789,
          25.90999984741211,
          25.6200008392334,
          25.639999389648438,
          25.350000381469727,
          24.780000686645508,
          24.709999084472656,
          23.90999984741211,
          23.31999969482422,
          21.469999313354492,
          22.040000915527344,
          22.049999237060547,
          22.3799991607666,
          23.06999969482422,
          23.56999969482422,
          23.989999771118164,
          25.1200008392334,
          24.940000534057617,
          25.110000610351562,
          24.799999237060547,
          24.5,
          22.920000076293945,
          22.34000015258789,
          23.049999237060547,
          23.8799991607666,
          23.739999771118164,
          23.8700008392334,
          24.09000015258789,
          24.280000686645508,
          24.6299991607666,
          24.56999969482422,
          24.040000915527344,
          25.520000457763672,
          25.06999969482422,
          25.889999389648438,
          26.3700008392334,
          26.790000915527344,
          26.600000381469727,
          26.940000534057617,
          26.25,
          25.6200008392334,
          25.75,
          26.06999969482422,
          25.709999084472656,
          24.520000457763672,
          24.790000915527344,
          25.780000686645508,
          25.6200008392334,
          26.049999237060547,
          25.93000030517578,
          26.719999313354492,
          26.799999237060547,
          26.739999771118164
         ],
         "high": [
          33.939998626708984,
          32.68000030517578,
          33.70000076293945,
          33.290000915527344,
          33.09000015258789,
          34,
          34.68000030517578,
          34.599998474121094,
          35.290000915527344,
          34,
          35.290000915527344,
          34.93000030517578,
          34.68000030517578,
          34.599998474121094,
          32.970001220703125,
          32.81999969482422,
          34.599998474121094,
          34.380001068115234,
          32.88999938964844,
          31.540000915527344,
          31.540000915527344,
          31.399999618530273,
          30.81999969482422,
          32.09000015258789,
          32.099998474121094,
          32.470001220703125,
          32.599998474121094,
          32.54999923706055,
          32.08000183105469,
          32.7599983215332,
          32.9900016784668,
          33.56999969482422,
          33.790000915527344,
          32.900001525878906,
          33.060001373291016,
          32.779998779296875,
          34.060001373291016,
          34.40999984741211,
          34.099998474121094,
          34.68000030517578,
          34.79999923706055,
          32.06999969482422,
          31.389999389648438,
          32,
          31.950000762939453,
          31.299999237060547,
          30.440000534057617,
          30.579999923706055,
          30.559999465942383,
          30.6200008392334,
          31.59000015258789,
          30.329999923706055,
          30.389999389648438,
          32.16999816894531,
          32.5,
          33.119998931884766,
          33.040000915527344,
          32.849998474121094,
          33.90999984741211,
          34.08000183105469,
          34.439998626708984,
          34.880001068115234,
          35.13999938964844,
          34.560001373291016,
          34.290000915527344,
          34.83000183105469,
          36.310001373291016,
          32.09000015258789,
          32.279998779296875,
          32.560001373291016,
          32.150001525878906,
          30.8700008392334,
          30.6200008392334,
          30.329999923706055,
          30.049999237060547,
          30.440000534057617,
          30.530000686645508,
          31.299999237060547,
          31.149999618530273,
          30.65999984741211,
          30.010000228881836,
          29.579999923706055,
          30.25,
          30.020000457763672,
          28.450000762939453,
          28.25,
          28.15999984741211,
          27.549999237060547,
          27.3799991607666,
          27.09000015258789,
          28.06999969482422,
          28.829999923706055,
          28.81999969482422,
          28.059999465942383,
          28.850000381469727,
          29.280000686645508,
          28.950000762939453,
          28.479999542236328,
          28.920000076293945,
          28.969999313354492,
          28.790000915527344,
          28.43000030517578,
          28.479999542236328,
          28,
          28.049999237060547,
          28.690000534057617,
          29.239999771118164,
          29.219999313354492,
          29.1299991607666,
          29.469999313354492,
          30.75,
          31.6200008392334,
          31.469999313354492,
          32.630001068115234,
          34.65999984741211,
          34.150001525878906,
          34.5,
          34.15999984741211,
          34.400001525878906,
          35.060001373291016,
          36.77000045776367,
          37.459999084472656,
          37.650001525878906,
          37.86000061035156,
          31.829999923706055,
          32.22999954223633,
          32.06999969482422,
          32.81999969482422,
          33.65999984741211,
          33.150001525878906,
          32.58000183105469,
          33.5,
          34.119998931884766,
          34.36000061035156,
          33.66999816894531,
          35.08000183105469,
          34.220001220703125,
          33.439998626708984,
          33.95000076293945,
          34.56999969482422,
          34.11000061035156,
          32.59000015258789,
          32.779998779296875,
          32.66999816894531,
          32.72999954223633,
          31.440000534057617,
          31.43000030517578,
          31.229999542236328,
          30.950000762939453,
          31.3799991607666,
          31.600000381469727,
          31.469999313354492,
          32.08000183105469,
          31.389999389648438,
          30.079999923706055,
          29.8799991607666,
          29.81999969482422,
          29.399999618530273,
          30.489999771118164,
          32.63999938964844,
          32.97999954223633,
          32.81999969482422,
          33.790000915527344,
          34.31999969482422,
          33.88999938964844,
          33.33000183105469,
          34.4900016784668,
          34.13999938964844,
          34.150001525878906,
          34.22999954223633,
          35.560001373291016,
          36.54999923706055,
          38.38999938964844,
          36.81999969482422,
          34.5,
          33.529998779296875,
          33.540000915527344,
          33.119998931884766,
          31.600000381469727,
          30.670000076293945,
          30.389999389648438,
          30.899999618530273,
          28.299999237060547,
          27.530000686645508,
          27.950000762939453,
          26.889999389648438,
          27.360000610351562,
          28.18000030517578,
          28.110000610351562,
          27.299999237060547,
          27.600000381469727,
          27.56999969482422,
          23.43000030517578,
          23.649999618530273,
          24.6299991607666,
          24.329999923706055,
          24.549999237060547,
          25.8799991607666,
          26.65999984741211,
          26.790000915527344,
          26.450000762939453,
          26.579999923706055,
          26.389999389648438,
          26.06999969482422,
          25.790000915527344,
          25.049999237060547,
          24.65999984741211,
          24.200000762939453,
          22.600000381469727,
          22.3700008392334,
          22.110000610351562,
          22.510000228881836,
          23.239999771118164,
          23.719999313354492,
          24.559999465942383,
          25.219999313354492,
          25.299999237060547,
          25.309999465942383,
          25.31999969482422,
          25.049999237060547,
          23.809999465942383,
          23.100000381469727,
          23.59000015258789,
          24.040000915527344,
          24.31999969482422,
          24,
          24.110000610351562,
          24.6200008392334,
          24.649999618530273,
          24.65999984741211,
          24.5,
          25.6200008392334,
          26.030000686645508,
          25.950000762939453,
          26.600000381469727,
          27.600000381469727,
          27.530000686645508,
          27.079999923706055,
          27.200000762939453,
          26.229999542236328,
          26.06999969482422,
          26.209999084472656,
          26.479999542236328,
          25.809999465942383,
          25.3799991607666,
          25.8700008392334,
          26.139999389648438,
          26.149999618530273,
          26.31999969482422,
          26.790000915527344,
          26.889999389648438,
          27.059999465942383
         ],
         "low": [
          32.81999969482422,
          31.889999389648438,
          32.77000045776367,
          32.54999923706055,
          32.27000045776367,
          33,
          33.209999084472656,
          33.79999923706055,
          32.68000030517578,
          32.900001525878906,
          34.38999938964844,
          34.15999984741211,
          33.81999969482422,
          31.6299991607666,
          31.510000228881836,
          31.739999771118164,
          32.52000045776367,
          32.06999969482422,
          31.520000457763672,
          30.469999313354492,
          30.3700008392334,
          29.5,
          29.860000610351562,
          30.639999389648438,
          31.350000381469727,
          31.690000534057617,
          31.670000076293945,
          31.920000076293945,
          30.979999542236328,
          31.920000076293945,
          32.380001068115234,
          32.5,
          32.90999984741211,
          32.25,
          32.38999938964844,
          32.040000915527344,
          32.5,
          33.849998474121094,
          33.779998779296875,
          33.79999923706055,
          34.099998474121094,
          31.15999984741211,
          30.469999313354492,
          31.1200008392334,
          31.329999923706055,
          30.31999969482422,
          29.540000915527344,
          29.889999389648438,
          29.950000762939453,
          30.25,
          30.280000686645508,
          29.329999923706055,
          29.81999969482422,
          30.399999618530273,
          31.020000457763672,
          31.899999618530273,
          32.060001373291016,
          32.20000076293945,
          32.689998626708984,
          33.2599983215332,
          33.900001525878906,
          34.0099983215332,
          34.13999938964844,
          33.43000030517578,
          33.33000183105469,
          34.25,
          35.150001525878906,
          30.709999084472656,
          31.260000228881836,
          31.950000762939453,
          30.56999969482422,
          29.1200008392334,
          29.809999465942383,
          29.850000381469727,
          29.549999237060547,
          29.530000686645508,
          29.90999984741211,
          30.15999984741211,
          30.329999923706055,
          29.979999542236328,
          29.059999465942383,
          28.670000076293945,
          29.239999771118164,
          28.84000015258789,
          26.1299991607666,
          25.90999984741211,
          26.690000534057617,
          26.389999389648438,
          26.1200008392334,
          26.18000030517578,
          26.65999984741211,
          28.020000457763672,
          27.84000015258789,
          27.399999618530273,
          27.520000457763672,
          28.540000915527344,
          27.549999237060547,
          26.90999984741211,
          28,
          28.3700008392334,
          28.25,
          27.969999313354492,
          27.979999542236328,
          27.239999771118164,
          27.489999771118164,
          28.299999237060547,
          28.399999618530273,
          28.829999923706055,
          28.200000762939453,
          28.850000381469727,
          29.610000610351562,
          30.59000015258789,
          30.6200008392334,
          31.43000030517578,
          32.83000183105469,
          33.220001220703125,
          33.47999954223633,
          33.560001373291016,
          33.58000183105469,
          34.119998931884766,
          35.130001068115234,
          36.849998474121094,
          36.61000061035156,
          36.25,
          29.079999923706055,
          30.549999237060547,
          31.5,
          31.600000381469727,
          32.869998931884766,
          31.329999923706055,
          30.479999542236328,
          32.619998931884766,
          33.25,
          32.66999816894531,
          32.56999969482422,
          33.45000076293945,
          32.27000045776367,
          31.81999969482422,
          32.7599983215332,
          33.2599983215332,
          33.150001525878906,
          31.510000228881836,
          31.399999618530273,
          31.700000762939453,
          31.459999084472656,
          30.520000457763672,
          30.6299991607666,
          30.799999237060547,
          30.34000015258789,
          29.8799991607666,
          30.84000015258789,
          30.889999389648438,
          31.030000686645508,
          29.770000457763672,
          29.270000457763672,
          29.579999923706055,
          28.579999923706055,
          28.600000381469727,
          29,
          31.65999984741211,
          31.06999969482422,
          31.200000762939453,
          32.439998626708984,
          33.220001220703125,
          33,
          32.61000061035156,
          32.40999984741211,
          33.29999923706055,
          32.84000015258789,
          33.15999984741211,
          34.02000045776367,
          35.77000045776367,
          36.38999938964844,
          34.22999954223633,
          33.209999084472656,
          31.899999618530273,
          32.66999816894531,
          31.860000610351562,
          29.15999984741211,
          29.559999465942383,
          29.440000534057617,
          28.18000030517578,
          27.06999969482422,
          26.75,
          26.639999389648438,
          25.610000610351562,
          25.700000762939453,
          27.09000015258789,
          26.93000030517578,
          26.549999237060547,
          26.219999313354492,
          26.049999237060547,
          22.299999237060547,
          22.799999237060547,
          23.25,
          23.600000381469727,
          23.540000915527344,
          24.479999542236328,
          25.5,
          25.559999465942383,
          25.309999465942383,
          25.549999237060547,
          25.420000076293945,
          25.270000457763672,
          24.639999389648438,
          24.489999771118164,
          23.1299991607666,
          23.309999465942383,
          20.770000457763672,
          20.829999923706055,
          21.510000228881836,
          21.639999389648438,
          22.209999084472656,
          22.850000381469727,
          23.700000762939453,
          24.1299991607666,
          24.81999969482422,
          24.549999237060547,
          24.75,
          24.43000030517578,
          22.799999237060547,
          22.1299991607666,
          21.829999923706055,
          23.149999618530273,
          23.549999237060547,
          23.25,
          23.3700008392334,
          24.049999237060547,
          24.110000610351562,
          24.25,
          23.829999923706055,
          24.110000610351562,
          25,
          24.790000915527344,
          25.420000076293945,
          26.1299991607666,
          26.3700008392334,
          26.010000228881836,
          25.799999237060547,
          25.440000534057617,
          25.510000228881836,
          25.520000457763672,
          25.450000762939453,
          24.420000076293945,
          24.420000076293945,
          24.75,
          25.459999084472656,
          25.559999465942383,
          25.790000915527344,
          25.93000030517578,
          26.3700008392334,
          26.600000381469727
         ],
         "open": [
          33.86000061035156,
          32.65999984741211,
          32.83000183105469,
          32.849998474121094,
          32.56999969482422,
          33.04999923706055,
          34.220001220703125,
          34.18000030517578,
          34.79999923706055,
          33.45000076293945,
          35.2599983215332,
          34.81999969482422,
          34.08000183105469,
          34.5,
          32,
          32.599998474121094,
          32.599998474121094,
          33.90999984741211,
          32.43000030517578,
          31.139999389648438,
          31.5,
          31.25,
          30.09000015258789,
          30.90999984741211,
          31.989999771118164,
          31.93000030517578,
          32.04999923706055,
          32.150001525878906,
          32.060001373291016,
          32.130001068115234,
          32.5,
          32.56999969482422,
          33.54999923706055,
          32.900001525878906,
          32.65999984741211,
          32.599998474121094,
          32.63999938964844,
          34.06999969482422,
          33.900001525878906,
          34.400001525878906,
          34.369998931884766,
          31.600000381469727,
          31.15999984741211,
          31.15999984741211,
          31.649999618530273,
          31.049999237060547,
          29.969999313354492,
          30.110000610351562,
          30.3700008392334,
          30.450000762939453,
          30.75,
          30.170000076293945,
          30.1200008392334,
          30.600000381469727,
          31.809999465942383,
          32.689998626708984,
          32.70000076293945,
          32.36000061035156,
          32.779998779296875,
          33.2599983215332,
          34.099998474121094,
          34.25,
          35,
          34.18000030517578,
          33.52000045776367,
          34.59000015258789,
          35.18000030517578,
          31.200000762939453,
          31.700000762939453,
          32.02000045776367,
          32.150001525878906,
          30.84000015258789,
          30.40999984741211,
          29.899999618530273,
          29.969999313354492,
          29.709999084472656,
          30.5,
          30.190000534057617,
          30.420000076293945,
          30.510000228881836,
          30.010000228881836,
          29.020000457763672,
          29.65999984741211,
          30,
          28.170000076293945,
          26.020000457763672,
          27.799999237060547,
          26.579999923706055,
          26.979999542236328,
          26.760000228881836,
          26.81999969482422,
          28.579999923706055,
          28.479999542236328,
          27.649999618530273,
          28.079999923706055,
          28.540000915527344,
          28.899999618530273,
          28.15999984741211,
          28,
          28.530000686645508,
          28.31999969482422,
          28.299999237060547,
          28.1299991607666,
          28,
          27.700000762939453,
          28.389999389648438,
          28.549999237060547,
          29.06999969482422,
          28.979999542236328,
          29.040000915527344,
          29.610000610351562,
          31.200000762939453,
          31.299999237060547,
          31.59000015258789,
          33.599998474121094,
          34,
          33.77000045776367,
          34.0099983215332,
          34.08000183105469,
          34.150001525878906,
          35.13999938964844,
          37.0099983215332,
          37.650001525878906,
          37.45000076293945,
          29.100000381469727,
          30.8799991607666,
          31.719999313354492,
          31.649999618530273,
          33.099998474121094,
          32.91999816894531,
          31.739999771118164,
          32.630001068115234,
          33.540000915527344,
          34.099998474121094,
          33.279998779296875,
          33.54999923706055,
          34,
          32.06999969482422,
          33.36000061035156,
          34.439998626708984,
          33.849998474121094,
          32.27000045776367,
          32.310001373291016,
          32.4900016784668,
          32.150001525878906,
          30.940000534057617,
          30.75,
          30.920000076293945,
          30.860000610351562,
          30.5,
          31.420000076293945,
          31.350000381469727,
          31.479999542236328,
          31.31999969482422,
          29.719999313354492,
          29.65999984741211,
          29.670000076293945,
          28.989999771118164,
          29.219999313354492,
          31.90999984741211,
          32.900001525878906,
          31.40999984741211,
          33,
          33.58000183105469,
          33.650001525878906,
          32.88999938964844,
          32.5,
          33.970001220703125,
          33.2400016784668,
          33.900001525878906,
          34.130001068115234,
          36.099998474121094,
          36.45000076293945,
          36.5,
          34.040000915527344,
          32.599998474121094,
          32.810001373291016,
          32.70000076293945,
          30.610000610351562,
          30.56999969482422,
          29.799999237060547,
          30.799999237060547,
          27.959999084472656,
          27.059999465942383,
          27.149999618530273,
          26.079999923706055,
          25.799999237060547,
          27.260000228881836,
          27.809999465942383,
          27,
          27.399999618530273,
          27.1200008392334,
          23,
          23,
          23.520000457763672,
          24.260000228881836,
          23.649999618530273,
          24.600000381469727,
          25.600000381469727,
          26.579999923706055,
          25.690000534057617,
          26,
          25.81999969482422,
          25.34000015258789,
          25.549999237060547,
          24.989999771118164,
          24.579999923706055,
          24.100000381469727,
          22.5,
          21,
          21.959999084472656,
          22.100000381469727,
          22.389999389648438,
          23.5,
          23.899999618530273,
          24.1299991607666,
          25.1200008392334,
          25.25,
          25.100000381469727,
          24.989999771118164,
          23.540000915527344,
          22.940000534057617,
          21.959999084472656,
          23.34000015258789,
          23.940000534057617,
          23.5,
          23.950000762939453,
          24.149999618530273,
          24.290000915527344,
          24.440000534057617,
          24.40999984741211,
          24.110000610351562,
          25.84000015258789,
          25,
          25.889999389648438,
          26.270000457763672,
          27.469999313354492,
          26.549999237060547,
          27.09000015258789,
          26.18000030517578,
          25.850000381469727,
          25.6299991607666,
          26.06999969482422,
          25.510000228881836,
          24.540000915527344,
          24.8700008392334,
          25.90999984741211,
          25.799999237060547,
          26.049999237060547,
          25.979999542236328,
          26.690000534057617,
          26.850000381469727
         ],
         "type": "candlestick",
         "x": [
          "2022-02-14T00:00:00",
          "2022-02-15T00:00:00",
          "2022-02-16T00:00:00",
          "2022-02-17T00:00:00",
          "2022-02-18T00:00:00",
          "2022-02-21T00:00:00",
          "2022-02-22T00:00:00",
          "2022-02-23T00:00:00",
          "2022-02-24T00:00:00",
          "2022-02-25T00:00:00",
          "2022-03-02T00:00:00",
          "2022-03-03T00:00:00",
          "2022-03-04T00:00:00",
          "2022-03-07T00:00:00",
          "2022-03-08T00:00:00",
          "2022-03-09T00:00:00",
          "2022-03-10T00:00:00",
          "2022-03-11T00:00:00",
          "2022-03-14T00:00:00",
          "2022-03-15T00:00:00",
          "2022-03-16T00:00:00",
          "2022-03-17T00:00:00",
          "2022-03-18T00:00:00",
          "2022-03-21T00:00:00",
          "2022-03-22T00:00:00",
          "2022-03-23T00:00:00",
          "2022-03-24T00:00:00",
          "2022-03-25T00:00:00",
          "2022-03-28T00:00:00",
          "2022-03-29T00:00:00",
          "2022-03-30T00:00:00",
          "2022-03-31T00:00:00",
          "2022-04-01T00:00:00",
          "2022-04-04T00:00:00",
          "2022-04-05T00:00:00",
          "2022-04-06T00:00:00",
          "2022-04-07T00:00:00",
          "2022-04-08T00:00:00",
          "2022-04-11T00:00:00",
          "2022-04-12T00:00:00",
          "2022-04-13T00:00:00",
          "2022-04-14T00:00:00",
          "2022-04-18T00:00:00",
          "2022-04-19T00:00:00",
          "2022-04-20T00:00:00",
          "2022-04-22T00:00:00",
          "2022-04-25T00:00:00",
          "2022-04-26T00:00:00",
          "2022-04-27T00:00:00",
          "2022-04-28T00:00:00",
          "2022-04-29T00:00:00",
          "2022-05-02T00:00:00",
          "2022-05-03T00:00:00",
          "2022-05-04T00:00:00",
          "2022-05-05T00:00:00",
          "2022-05-06T00:00:00",
          "2022-05-09T00:00:00",
          "2022-05-10T00:00:00",
          "2022-05-11T00:00:00",
          "2022-05-12T00:00:00",
          "2022-05-13T00:00:00",
          "2022-05-16T00:00:00",
          "2022-05-17T00:00:00",
          "2022-05-18T00:00:00",
          "2022-05-19T00:00:00",
          "2022-05-20T00:00:00",
          "2022-05-23T00:00:00",
          "2022-05-24T00:00:00",
          "2022-05-25T00:00:00",
          "2022-05-26T00:00:00",
          "2022-05-27T00:00:00",
          "2022-05-30T00:00:00",
          "2022-05-31T00:00:00",
          "2022-06-01T00:00:00",
          "2022-06-02T00:00:00",
          "2022-06-03T00:00:00",
          "2022-06-06T00:00:00",
          "2022-06-07T00:00:00",
          "2022-06-08T00:00:00",
          "2022-06-09T00:00:00",
          "2022-06-10T00:00:00",
          "2022-06-13T00:00:00",
          "2022-06-14T00:00:00",
          "2022-06-15T00:00:00",
          "2022-06-17T00:00:00",
          "2022-06-20T00:00:00",
          "2022-06-21T00:00:00",
          "2022-06-22T00:00:00",
          "2022-06-23T00:00:00",
          "2022-06-24T00:00:00",
          "2022-06-27T00:00:00",
          "2022-06-28T00:00:00",
          "2022-06-29T00:00:00",
          "2022-06-30T00:00:00",
          "2022-07-01T00:00:00",
          "2022-07-04T00:00:00",
          "2022-07-05T00:00:00",
          "2022-07-06T00:00:00",
          "2022-07-07T00:00:00",
          "2022-07-08T00:00:00",
          "2022-07-11T00:00:00",
          "2022-07-12T00:00:00",
          "2022-07-13T00:00:00",
          "2022-07-14T00:00:00",
          "2022-07-15T00:00:00",
          "2022-07-18T00:00:00",
          "2022-07-19T00:00:00",
          "2022-07-20T00:00:00",
          "2022-07-21T00:00:00",
          "2022-07-22T00:00:00",
          "2022-07-25T00:00:00",
          "2022-07-26T00:00:00",
          "2022-07-27T00:00:00",
          "2022-07-28T00:00:00",
          "2022-07-29T00:00:00",
          "2022-08-01T00:00:00",
          "2022-08-02T00:00:00",
          "2022-08-03T00:00:00",
          "2022-08-04T00:00:00",
          "2022-08-05T00:00:00",
          "2022-08-08T00:00:00",
          "2022-08-09T00:00:00",
          "2022-08-10T00:00:00",
          "2022-08-11T00:00:00",
          "2022-08-12T00:00:00",
          "2022-08-15T00:00:00",
          "2022-08-16T00:00:00",
          "2022-08-17T00:00:00",
          "2022-08-18T00:00:00",
          "2022-08-19T00:00:00",
          "2022-08-22T00:00:00",
          "2022-08-23T00:00:00",
          "2022-08-24T00:00:00",
          "2022-08-25T00:00:00",
          "2022-08-26T00:00:00",
          "2022-08-29T00:00:00",
          "2022-08-30T00:00:00",
          "2022-08-31T00:00:00",
          "2022-09-01T00:00:00",
          "2022-09-02T00:00:00",
          "2022-09-05T00:00:00",
          "2022-09-06T00:00:00",
          "2022-09-08T00:00:00",
          "2022-09-09T00:00:00",
          "2022-09-12T00:00:00",
          "2022-09-13T00:00:00",
          "2022-09-14T00:00:00",
          "2022-09-15T00:00:00",
          "2022-09-16T00:00:00",
          "2022-09-19T00:00:00",
          "2022-09-20T00:00:00",
          "2022-09-21T00:00:00",
          "2022-09-22T00:00:00",
          "2022-09-23T00:00:00",
          "2022-09-26T00:00:00",
          "2022-09-27T00:00:00",
          "2022-09-28T00:00:00",
          "2022-09-29T00:00:00",
          "2022-09-30T00:00:00",
          "2022-10-03T00:00:00",
          "2022-10-04T00:00:00",
          "2022-10-05T00:00:00",
          "2022-10-06T00:00:00",
          "2022-10-07T00:00:00",
          "2022-10-10T00:00:00",
          "2022-10-11T00:00:00",
          "2022-10-13T00:00:00",
          "2022-10-14T00:00:00",
          "2022-10-17T00:00:00",
          "2022-10-18T00:00:00",
          "2022-10-19T00:00:00",
          "2022-10-20T00:00:00",
          "2022-10-21T00:00:00",
          "2022-10-24T00:00:00",
          "2022-10-25T00:00:00",
          "2022-10-26T00:00:00",
          "2022-10-27T00:00:00",
          "2022-10-28T00:00:00",
          "2022-10-31T00:00:00",
          "2022-11-01T00:00:00",
          "2022-11-03T00:00:00",
          "2022-11-04T00:00:00",
          "2022-11-07T00:00:00",
          "2022-11-08T00:00:00",
          "2022-11-09T00:00:00",
          "2022-11-10T00:00:00",
          "2022-11-11T00:00:00",
          "2022-11-14T00:00:00",
          "2022-11-16T00:00:00",
          "2022-11-17T00:00:00",
          "2022-11-18T00:00:00",
          "2022-11-21T00:00:00",
          "2022-11-22T00:00:00",
          "2022-11-23T00:00:00",
          "2022-11-24T00:00:00",
          "2022-11-25T00:00:00",
          "2022-11-28T00:00:00",
          "2022-11-29T00:00:00",
          "2022-11-30T00:00:00",
          "2022-12-01T00:00:00",
          "2022-12-02T00:00:00",
          "2022-12-05T00:00:00",
          "2022-12-06T00:00:00",
          "2022-12-07T00:00:00",
          "2022-12-08T00:00:00",
          "2022-12-09T00:00:00",
          "2022-12-12T00:00:00",
          "2022-12-13T00:00:00",
          "2022-12-14T00:00:00",
          "2022-12-15T00:00:00",
          "2022-12-16T00:00:00",
          "2022-12-19T00:00:00",
          "2022-12-20T00:00:00",
          "2022-12-21T00:00:00",
          "2022-12-22T00:00:00",
          "2022-12-23T00:00:00",
          "2022-12-26T00:00:00",
          "2022-12-27T00:00:00",
          "2022-12-28T00:00:00",
          "2022-12-29T00:00:00",
          "2023-01-02T00:00:00",
          "2023-01-03T00:00:00",
          "2023-01-04T00:00:00",
          "2023-01-05T00:00:00",
          "2023-01-06T00:00:00",
          "2023-01-09T00:00:00",
          "2023-01-10T00:00:00",
          "2023-01-11T00:00:00",
          "2023-01-12T00:00:00",
          "2023-01-13T00:00:00",
          "2023-01-16T00:00:00",
          "2023-01-17T00:00:00",
          "2023-01-18T00:00:00",
          "2023-01-19T00:00:00",
          "2023-01-20T00:00:00",
          "2023-01-23T00:00:00",
          "2023-01-24T00:00:00",
          "2023-01-25T00:00:00",
          "2023-01-26T00:00:00",
          "2023-01-27T00:00:00",
          "2023-01-30T00:00:00",
          "2023-01-31T00:00:00",
          "2023-02-01T00:00:00",
          "2023-02-02T00:00:00",
          "2023-02-03T00:00:00",
          "2023-02-06T00:00:00",
          "2023-02-07T00:00:00",
          "2023-02-08T00:00:00",
          "2023-02-09T00:00:00",
          "2023-02-10T00:00:00",
          "2023-02-13T00:00:00",
          "2023-02-14T00:00:00"
         ]
        }
       ],
       "layout": {
        "template": {
         "data": {
          "bar": [
           {
            "error_x": {
             "color": "#2a3f5f"
            },
            "error_y": {
             "color": "#2a3f5f"
            },
            "marker": {
             "line": {
              "color": "#E5ECF6",
              "width": 0.5
             },
             "pattern": {
              "fillmode": "overlay",
              "size": 10,
              "solidity": 0.2
             }
            },
            "type": "bar"
           }
          ],
          "barpolar": [
           {
            "marker": {
             "line": {
              "color": "#E5ECF6",
              "width": 0.5
             },
             "pattern": {
              "fillmode": "overlay",
              "size": 10,
              "solidity": 0.2
             }
            },
            "type": "barpolar"
           }
          ],
          "carpet": [
           {
            "aaxis": {
             "endlinecolor": "#2a3f5f",
             "gridcolor": "white",
             "linecolor": "white",
             "minorgridcolor": "white",
             "startlinecolor": "#2a3f5f"
            },
            "baxis": {
             "endlinecolor": "#2a3f5f",
             "gridcolor": "white",
             "linecolor": "white",
             "minorgridcolor": "white",
             "startlinecolor": "#2a3f5f"
            },
            "type": "carpet"
           }
          ],
          "choropleth": [
           {
            "colorbar": {
             "outlinewidth": 0,
             "ticks": ""
            },
            "type": "choropleth"
           }
          ],
          "contour": [
           {
            "colorbar": {
             "outlinewidth": 0,
             "ticks": ""
            },
            "colorscale": [
             [
              0,
              "#0d0887"
             ],
             [
              0.1111111111111111,
              "#46039f"
             ],
             [
              0.2222222222222222,
              "#7201a8"
             ],
             [
              0.3333333333333333,
              "#9c179e"
             ],
             [
              0.4444444444444444,
              "#bd3786"
             ],
             [
              0.5555555555555556,
              "#d8576b"
             ],
             [
              0.6666666666666666,
              "#ed7953"
             ],
             [
              0.7777777777777778,
              "#fb9f3a"
             ],
             [
              0.8888888888888888,
              "#fdca26"
             ],
             [
              1,
              "#f0f921"
             ]
            ],
            "type": "contour"
           }
          ],
          "contourcarpet": [
           {
            "colorbar": {
             "outlinewidth": 0,
             "ticks": ""
            },
            "type": "contourcarpet"
           }
          ],
          "heatmap": [
           {
            "colorbar": {
             "outlinewidth": 0,
             "ticks": ""
            },
            "colorscale": [
             [
              0,
              "#0d0887"
             ],
             [
              0.1111111111111111,
              "#46039f"
             ],
             [
              0.2222222222222222,
              "#7201a8"
             ],
             [
              0.3333333333333333,
              "#9c179e"
             ],
             [
              0.4444444444444444,
              "#bd3786"
             ],
             [
              0.5555555555555556,
              "#d8576b"
             ],
             [
              0.6666666666666666,
              "#ed7953"
             ],
             [
              0.7777777777777778,
              "#fb9f3a"
             ],
             [
              0.8888888888888888,
              "#fdca26"
             ],
             [
              1,
              "#f0f921"
             ]
            ],
            "type": "heatmap"
           }
          ],
          "heatmapgl": [
           {
            "colorbar": {
             "outlinewidth": 0,
             "ticks": ""
            },
            "colorscale": [
             [
              0,
              "#0d0887"
             ],
             [
              0.1111111111111111,
              "#46039f"
             ],
             [
              0.2222222222222222,
              "#7201a8"
             ],
             [
              0.3333333333333333,
              "#9c179e"
             ],
             [
              0.4444444444444444,
              "#bd3786"
             ],
             [
              0.5555555555555556,
              "#d8576b"
             ],
             [
              0.6666666666666666,
              "#ed7953"
             ],
             [
              0.7777777777777778,
              "#fb9f3a"
             ],
             [
              0.8888888888888888,
              "#fdca26"
             ],
             [
              1,
              "#f0f921"
             ]
            ],
            "type": "heatmapgl"
           }
          ],
          "histogram": [
           {
            "marker": {
             "pattern": {
              "fillmode": "overlay",
              "size": 10,
              "solidity": 0.2
             }
            },
            "type": "histogram"
           }
          ],
          "histogram2d": [
           {
            "colorbar": {
             "outlinewidth": 0,
             "ticks": ""
            },
            "colorscale": [
             [
              0,
              "#0d0887"
             ],
             [
              0.1111111111111111,
              "#46039f"
             ],
             [
              0.2222222222222222,
              "#7201a8"
             ],
             [
              0.3333333333333333,
              "#9c179e"
             ],
             [
              0.4444444444444444,
              "#bd3786"
             ],
             [
              0.5555555555555556,
              "#d8576b"
             ],
             [
              0.6666666666666666,
              "#ed7953"
             ],
             [
              0.7777777777777778,
              "#fb9f3a"
             ],
             [
              0.8888888888888888,
              "#fdca26"
             ],
             [
              1,
              "#f0f921"
             ]
            ],
            "type": "histogram2d"
           }
          ],
          "histogram2dcontour": [
           {
            "colorbar": {
             "outlinewidth": 0,
             "ticks": ""
            },
            "colorscale": [
             [
              0,
              "#0d0887"
             ],
             [
              0.1111111111111111,
              "#46039f"
             ],
             [
              0.2222222222222222,
              "#7201a8"
             ],
             [
              0.3333333333333333,
              "#9c179e"
             ],
             [
              0.4444444444444444,
              "#bd3786"
             ],
             [
              0.5555555555555556,
              "#d8576b"
             ],
             [
              0.6666666666666666,
              "#ed7953"
             ],
             [
              0.7777777777777778,
              "#fb9f3a"
             ],
             [
              0.8888888888888888,
              "#fdca26"
             ],
             [
              1,
              "#f0f921"
             ]
            ],
            "type": "histogram2dcontour"
           }
          ],
          "mesh3d": [
           {
            "colorbar": {
             "outlinewidth": 0,
             "ticks": ""
            },
            "type": "mesh3d"
           }
          ],
          "parcoords": [
           {
            "line": {
             "colorbar": {
              "outlinewidth": 0,
              "ticks": ""
             }
            },
            "type": "parcoords"
           }
          ],
          "pie": [
           {
            "automargin": true,
            "type": "pie"
           }
          ],
          "scatter": [
           {
            "fillpattern": {
             "fillmode": "overlay",
             "size": 10,
             "solidity": 0.2
            },
            "type": "scatter"
           }
          ],
          "scatter3d": [
           {
            "line": {
             "colorbar": {
              "outlinewidth": 0,
              "ticks": ""
             }
            },
            "marker": {
             "colorbar": {
              "outlinewidth": 0,
              "ticks": ""
             }
            },
            "type": "scatter3d"
           }
          ],
          "scattercarpet": [
           {
            "marker": {
             "colorbar": {
              "outlinewidth": 0,
              "ticks": ""
             }
            },
            "type": "scattercarpet"
           }
          ],
          "scattergeo": [
           {
            "marker": {
             "colorbar": {
              "outlinewidth": 0,
              "ticks": ""
             }
            },
            "type": "scattergeo"
           }
          ],
          "scattergl": [
           {
            "marker": {
             "colorbar": {
              "outlinewidth": 0,
              "ticks": ""
             }
            },
            "type": "scattergl"
           }
          ],
          "scattermapbox": [
           {
            "marker": {
             "colorbar": {
              "outlinewidth": 0,
              "ticks": ""
             }
            },
            "type": "scattermapbox"
           }
          ],
          "scatterpolar": [
           {
            "marker": {
             "colorbar": {
              "outlinewidth": 0,
              "ticks": ""
             }
            },
            "type": "scatterpolar"
           }
          ],
          "scatterpolargl": [
           {
            "marker": {
             "colorbar": {
              "outlinewidth": 0,
              "ticks": ""
             }
            },
            "type": "scatterpolargl"
           }
          ],
          "scatterternary": [
           {
            "marker": {
             "colorbar": {
              "outlinewidth": 0,
              "ticks": ""
             }
            },
            "type": "scatterternary"
           }
          ],
          "surface": [
           {
            "colorbar": {
             "outlinewidth": 0,
             "ticks": ""
            },
            "colorscale": [
             [
              0,
              "#0d0887"
             ],
             [
              0.1111111111111111,
              "#46039f"
             ],
             [
              0.2222222222222222,
              "#7201a8"
             ],
             [
              0.3333333333333333,
              "#9c179e"
             ],
             [
              0.4444444444444444,
              "#bd3786"
             ],
             [
              0.5555555555555556,
              "#d8576b"
             ],
             [
              0.6666666666666666,
              "#ed7953"
             ],
             [
              0.7777777777777778,
              "#fb9f3a"
             ],
             [
              0.8888888888888888,
              "#fdca26"
             ],
             [
              1,
              "#f0f921"
             ]
            ],
            "type": "surface"
           }
          ],
          "table": [
           {
            "cells": {
             "fill": {
              "color": "#EBF0F8"
             },
             "line": {
              "color": "white"
             }
            },
            "header": {
             "fill": {
              "color": "#C8D4E3"
             },
             "line": {
              "color": "white"
             }
            },
            "type": "table"
           }
          ]
         },
         "layout": {
          "annotationdefaults": {
           "arrowcolor": "#2a3f5f",
           "arrowhead": 0,
           "arrowwidth": 1
          },
          "autotypenumbers": "strict",
          "coloraxis": {
           "colorbar": {
            "outlinewidth": 0,
            "ticks": ""
           }
          },
          "colorscale": {
           "diverging": [
            [
             0,
             "#8e0152"
            ],
            [
             0.1,
             "#c51b7d"
            ],
            [
             0.2,
             "#de77ae"
            ],
            [
             0.3,
             "#f1b6da"
            ],
            [
             0.4,
             "#fde0ef"
            ],
            [
             0.5,
             "#f7f7f7"
            ],
            [
             0.6,
             "#e6f5d0"
            ],
            [
             0.7,
             "#b8e186"
            ],
            [
             0.8,
             "#7fbc41"
            ],
            [
             0.9,
             "#4d9221"
            ],
            [
             1,
             "#276419"
            ]
           ],
           "sequential": [
            [
             0,
             "#0d0887"
            ],
            [
             0.1111111111111111,
             "#46039f"
            ],
            [
             0.2222222222222222,
             "#7201a8"
            ],
            [
             0.3333333333333333,
             "#9c179e"
            ],
            [
             0.4444444444444444,
             "#bd3786"
            ],
            [
             0.5555555555555556,
             "#d8576b"
            ],
            [
             0.6666666666666666,
             "#ed7953"
            ],
            [
             0.7777777777777778,
             "#fb9f3a"
            ],
            [
             0.8888888888888888,
             "#fdca26"
            ],
            [
             1,
             "#f0f921"
            ]
           ],
           "sequentialminus": [
            [
             0,
             "#0d0887"
            ],
            [
             0.1111111111111111,
             "#46039f"
            ],
            [
             0.2222222222222222,
             "#7201a8"
            ],
            [
             0.3333333333333333,
             "#9c179e"
            ],
            [
             0.4444444444444444,
             "#bd3786"
            ],
            [
             0.5555555555555556,
             "#d8576b"
            ],
            [
             0.6666666666666666,
             "#ed7953"
            ],
            [
             0.7777777777777778,
             "#fb9f3a"
            ],
            [
             0.8888888888888888,
             "#fdca26"
            ],
            [
             1,
             "#f0f921"
            ]
           ]
          },
          "colorway": [
           "#636efa",
           "#EF553B",
           "#00cc96",
           "#ab63fa",
           "#FFA15A",
           "#19d3f3",
           "#FF6692",
           "#B6E880",
           "#FF97FF",
           "#FECB52"
          ],
          "font": {
           "color": "#2a3f5f"
          },
          "geo": {
           "bgcolor": "white",
           "lakecolor": "white",
           "landcolor": "#E5ECF6",
           "showlakes": true,
           "showland": true,
           "subunitcolor": "white"
          },
          "hoverlabel": {
           "align": "left"
          },
          "hovermode": "closest",
          "mapbox": {
           "style": "light"
          },
          "paper_bgcolor": "white",
          "plot_bgcolor": "#E5ECF6",
          "polar": {
           "angularaxis": {
            "gridcolor": "white",
            "linecolor": "white",
            "ticks": ""
           },
           "bgcolor": "#E5ECF6",
           "radialaxis": {
            "gridcolor": "white",
            "linecolor": "white",
            "ticks": ""
           }
          },
          "scene": {
           "xaxis": {
            "backgroundcolor": "#E5ECF6",
            "gridcolor": "white",
            "gridwidth": 2,
            "linecolor": "white",
            "showbackground": true,
            "ticks": "",
            "zerolinecolor": "white"
           },
           "yaxis": {
            "backgroundcolor": "#E5ECF6",
            "gridcolor": "white",
            "gridwidth": 2,
            "linecolor": "white",
            "showbackground": true,
            "ticks": "",
            "zerolinecolor": "white"
           },
           "zaxis": {
            "backgroundcolor": "#E5ECF6",
            "gridcolor": "white",
            "gridwidth": 2,
            "linecolor": "white",
            "showbackground": true,
            "ticks": "",
            "zerolinecolor": "white"
           }
          },
          "shapedefaults": {
           "line": {
            "color": "#2a3f5f"
           }
          },
          "ternary": {
           "aaxis": {
            "gridcolor": "white",
            "linecolor": "white",
            "ticks": ""
           },
           "baxis": {
            "gridcolor": "white",
            "linecolor": "white",
            "ticks": ""
           },
           "bgcolor": "#E5ECF6",
           "caxis": {
            "gridcolor": "white",
            "linecolor": "white",
            "ticks": ""
           }
          },
          "title": {
           "x": 0.05
          },
          "xaxis": {
           "automargin": true,
           "gridcolor": "white",
           "linecolor": "white",
           "ticks": "",
           "title": {
            "standoff": 15
           },
           "zerolinecolor": "white",
           "zerolinewidth": 2
          },
          "yaxis": {
           "automargin": true,
           "gridcolor": "white",
           "linecolor": "white",
           "ticks": "",
           "title": {
            "standoff": 15
           },
           "zerolinecolor": "white",
           "zerolinewidth": 2
          }
         }
        },
        "title": {
         "text": "Análise de Fechamento"
        },
        "xaxis": {
         "rangeslider": {
          "visible": false
         },
         "title": {
          "text": "Período"
         }
        },
        "yaxis": {
         "title": {
          "text": "Valor de fechamento (R$)"
         }
        }
       }
      },
      "text/html": [
       "<div>                            <div id=\"78069787-9925-4767-a516-5a1452bb0a70\" class=\"plotly-graph-div\" style=\"height:525px; width:100%;\"></div>            <script type=\"text/javascript\">                require([\"plotly\"], function(Plotly) {                    window.PLOTLYENV=window.PLOTLYENV || {};                                    if (document.getElementById(\"78069787-9925-4767-a516-5a1452bb0a70\")) {                    Plotly.newPlot(                        \"78069787-9925-4767-a516-5a1452bb0a70\",                        [{\"close\":[33.0,32.47999954223633,32.93000030517578,32.79999923706055,33.0,33.849998474121094,33.7400016784668,34.220001220703125,33.38999938964844,34.0,34.66999816894531,34.2400016784668,34.22999954223633,31.799999237060547,32.459999084472656,32.560001373291016,33.70000076293945,32.4900016784668,31.8700008392334,31.100000381469727,30.829999923706055,30.010000228881836,30.610000610351562,31.760000228881836,31.6200008392334,32.04999923706055,32.41999816894531,32.29999923706055,31.600000381469727,32.29999923706055,32.9900016784668,33.45000076293945,33.0099983215332,32.70000076293945,32.38999938964844,32.36000061035156,34.040000915527344,34.209999084472656,33.95000076293945,33.849998474121094,34.56999969482422,31.270000457763672,30.719999313354492,31.649999618530273,31.799999237060547,30.559999465942383,30.110000610351562,30.059999465942383,30.059999465942383,30.260000228881836,30.280000686645508,29.979999542236328,30.25,32.06999969482422,32.0099983215332,33.060001373291016,32.15999984741211,32.439998626708984,33.56999969482422,33.83000183105469,34.27000045776367,34.61000061035156,34.15999984741211,33.599998474121094,34.16999816894531,34.83000183105469,36.20000076293945,31.600000381469727,32.04999923706055,32.130001068115234,30.600000381469727,29.989999771118164,30.059999465942383,30.020000457763672,29.760000228881836,30.280000686645508,30.299999237060547,30.65999984741211,30.510000228881836,30.06999969482422,29.649999618530273,29.270000457763672,29.600000381469727,29.079999923706055,27.309999465942383,27.6200008392334,27.06999969482422,26.989999771118164,26.489999771118164,26.290000915527344,27.979999542236328,28.329999923706055,28.079999923706055,27.93000030517578,28.530000686645508,29.139999389648438,28.030000686645508,27.670000076293945,28.479999542236328,28.799999237060547,28.65999984741211,28.229999542236328,28.25,27.489999771118164,27.959999084472656,28.600000381469727,29.18000030517578,29.170000076293945,29.020000457763672,29.329999923706055,30.700000762939453,31.010000228881836,31.350000381469727,32.290000915527344,34.150001525878906,33.68000030517578,33.83000183105469,33.849998474121094,34.209999084472656,34.869998931884766,36.630001068115234,37.22999954223633,37.11000061035156,36.25,31.709999084472656,31.719999313354492,32.0099983215332,32.7599983215332,33.41999816894531,31.729999542236328,32.40999984741211,33.439998626708984,33.63999938964844,33.279998779296875,33.63999938964844,34.47999954223633,32.43000030517578,33.22999954223633,33.849998474121094,33.41999816894531,33.34000015258789,32.099998474121094,31.799999237060547,31.790000915527344,31.479999542236328,30.649999618530273,31.1200008392334,31.059999465942383,30.780000686645508,31.270000457763672,31.09000015258789,31.170000076293945,31.940000534057617,29.940000534057617,29.290000915527344,29.670000076293945,29.270000457763672,29.309999465942383,29.799999237060547,32.18000030517578,31.3700008392334,32.54999923706055,33.65999984741211,33.630001068115234,33.25,33.0,33.939998626708984,33.41999816894531,33.38999938964844,34.209999084472656,35.41999816894531,36.470001220703125,37.720001220703125,34.25,33.529998779296875,32.709999084472656,32.959999084472656,32.56999969482422,29.809999465942383,29.860000610351562,29.950000762939453,28.299999237060547,27.149999618530273,27.350000381469727,26.899999618530273,26.1200008392334,26.989999771118164,27.700000762939453,27.149999618530273,27.15999984741211,26.700000762939453,26.780000686645508,23.329999923706055,23.440000534057617,24.25,23.860000610351562,24.360000610351562,25.3799991607666,26.65999984741211,25.59000015258789,25.90999984741211,25.6200008392334,25.639999389648438,25.350000381469727,24.780000686645508,24.709999084472656,23.90999984741211,23.31999969482422,21.469999313354492,22.040000915527344,22.049999237060547,22.3799991607666,23.06999969482422,23.56999969482422,23.989999771118164,25.1200008392334,24.940000534057617,25.110000610351562,24.799999237060547,24.5,22.920000076293945,22.34000015258789,23.049999237060547,23.8799991607666,23.739999771118164,23.8700008392334,24.09000015258789,24.280000686645508,24.6299991607666,24.56999969482422,24.040000915527344,25.520000457763672,25.06999969482422,25.889999389648438,26.3700008392334,26.790000915527344,26.600000381469727,26.940000534057617,26.25,25.6200008392334,25.75,26.06999969482422,25.709999084472656,24.520000457763672,24.790000915527344,25.780000686645508,25.6200008392334,26.049999237060547,25.93000030517578,26.719999313354492,26.799999237060547,26.739999771118164],\"high\":[33.939998626708984,32.68000030517578,33.70000076293945,33.290000915527344,33.09000015258789,34.0,34.68000030517578,34.599998474121094,35.290000915527344,34.0,35.290000915527344,34.93000030517578,34.68000030517578,34.599998474121094,32.970001220703125,32.81999969482422,34.599998474121094,34.380001068115234,32.88999938964844,31.540000915527344,31.540000915527344,31.399999618530273,30.81999969482422,32.09000015258789,32.099998474121094,32.470001220703125,32.599998474121094,32.54999923706055,32.08000183105469,32.7599983215332,32.9900016784668,33.56999969482422,33.790000915527344,32.900001525878906,33.060001373291016,32.779998779296875,34.060001373291016,34.40999984741211,34.099998474121094,34.68000030517578,34.79999923706055,32.06999969482422,31.389999389648438,32.0,31.950000762939453,31.299999237060547,30.440000534057617,30.579999923706055,30.559999465942383,30.6200008392334,31.59000015258789,30.329999923706055,30.389999389648438,32.16999816894531,32.5,33.119998931884766,33.040000915527344,32.849998474121094,33.90999984741211,34.08000183105469,34.439998626708984,34.880001068115234,35.13999938964844,34.560001373291016,34.290000915527344,34.83000183105469,36.310001373291016,32.09000015258789,32.279998779296875,32.560001373291016,32.150001525878906,30.8700008392334,30.6200008392334,30.329999923706055,30.049999237060547,30.440000534057617,30.530000686645508,31.299999237060547,31.149999618530273,30.65999984741211,30.010000228881836,29.579999923706055,30.25,30.020000457763672,28.450000762939453,28.25,28.15999984741211,27.549999237060547,27.3799991607666,27.09000015258789,28.06999969482422,28.829999923706055,28.81999969482422,28.059999465942383,28.850000381469727,29.280000686645508,28.950000762939453,28.479999542236328,28.920000076293945,28.969999313354492,28.790000915527344,28.43000030517578,28.479999542236328,28.0,28.049999237060547,28.690000534057617,29.239999771118164,29.219999313354492,29.1299991607666,29.469999313354492,30.75,31.6200008392334,31.469999313354492,32.630001068115234,34.65999984741211,34.150001525878906,34.5,34.15999984741211,34.400001525878906,35.060001373291016,36.77000045776367,37.459999084472656,37.650001525878906,37.86000061035156,31.829999923706055,32.22999954223633,32.06999969482422,32.81999969482422,33.65999984741211,33.150001525878906,32.58000183105469,33.5,34.119998931884766,34.36000061035156,33.66999816894531,35.08000183105469,34.220001220703125,33.439998626708984,33.95000076293945,34.56999969482422,34.11000061035156,32.59000015258789,32.779998779296875,32.66999816894531,32.72999954223633,31.440000534057617,31.43000030517578,31.229999542236328,30.950000762939453,31.3799991607666,31.600000381469727,31.469999313354492,32.08000183105469,31.389999389648438,30.079999923706055,29.8799991607666,29.81999969482422,29.399999618530273,30.489999771118164,32.63999938964844,32.97999954223633,32.81999969482422,33.790000915527344,34.31999969482422,33.88999938964844,33.33000183105469,34.4900016784668,34.13999938964844,34.150001525878906,34.22999954223633,35.560001373291016,36.54999923706055,38.38999938964844,36.81999969482422,34.5,33.529998779296875,33.540000915527344,33.119998931884766,31.600000381469727,30.670000076293945,30.389999389648438,30.899999618530273,28.299999237060547,27.530000686645508,27.950000762939453,26.889999389648438,27.360000610351562,28.18000030517578,28.110000610351562,27.299999237060547,27.600000381469727,27.56999969482422,23.43000030517578,23.649999618530273,24.6299991607666,24.329999923706055,24.549999237060547,25.8799991607666,26.65999984741211,26.790000915527344,26.450000762939453,26.579999923706055,26.389999389648438,26.06999969482422,25.790000915527344,25.049999237060547,24.65999984741211,24.200000762939453,22.600000381469727,22.3700008392334,22.110000610351562,22.510000228881836,23.239999771118164,23.719999313354492,24.559999465942383,25.219999313354492,25.299999237060547,25.309999465942383,25.31999969482422,25.049999237060547,23.809999465942383,23.100000381469727,23.59000015258789,24.040000915527344,24.31999969482422,24.0,24.110000610351562,24.6200008392334,24.649999618530273,24.65999984741211,24.5,25.6200008392334,26.030000686645508,25.950000762939453,26.600000381469727,27.600000381469727,27.530000686645508,27.079999923706055,27.200000762939453,26.229999542236328,26.06999969482422,26.209999084472656,26.479999542236328,25.809999465942383,25.3799991607666,25.8700008392334,26.139999389648438,26.149999618530273,26.31999969482422,26.790000915527344,26.889999389648438,27.059999465942383],\"low\":[32.81999969482422,31.889999389648438,32.77000045776367,32.54999923706055,32.27000045776367,33.0,33.209999084472656,33.79999923706055,32.68000030517578,32.900001525878906,34.38999938964844,34.15999984741211,33.81999969482422,31.6299991607666,31.510000228881836,31.739999771118164,32.52000045776367,32.06999969482422,31.520000457763672,30.469999313354492,30.3700008392334,29.5,29.860000610351562,30.639999389648438,31.350000381469727,31.690000534057617,31.670000076293945,31.920000076293945,30.979999542236328,31.920000076293945,32.380001068115234,32.5,32.90999984741211,32.25,32.38999938964844,32.040000915527344,32.5,33.849998474121094,33.779998779296875,33.79999923706055,34.099998474121094,31.15999984741211,30.469999313354492,31.1200008392334,31.329999923706055,30.31999969482422,29.540000915527344,29.889999389648438,29.950000762939453,30.25,30.280000686645508,29.329999923706055,29.81999969482422,30.399999618530273,31.020000457763672,31.899999618530273,32.060001373291016,32.20000076293945,32.689998626708984,33.2599983215332,33.900001525878906,34.0099983215332,34.13999938964844,33.43000030517578,33.33000183105469,34.25,35.150001525878906,30.709999084472656,31.260000228881836,31.950000762939453,30.56999969482422,29.1200008392334,29.809999465942383,29.850000381469727,29.549999237060547,29.530000686645508,29.90999984741211,30.15999984741211,30.329999923706055,29.979999542236328,29.059999465942383,28.670000076293945,29.239999771118164,28.84000015258789,26.1299991607666,25.90999984741211,26.690000534057617,26.389999389648438,26.1200008392334,26.18000030517578,26.65999984741211,28.020000457763672,27.84000015258789,27.399999618530273,27.520000457763672,28.540000915527344,27.549999237060547,26.90999984741211,28.0,28.3700008392334,28.25,27.969999313354492,27.979999542236328,27.239999771118164,27.489999771118164,28.299999237060547,28.399999618530273,28.829999923706055,28.200000762939453,28.850000381469727,29.610000610351562,30.59000015258789,30.6200008392334,31.43000030517578,32.83000183105469,33.220001220703125,33.47999954223633,33.560001373291016,33.58000183105469,34.119998931884766,35.130001068115234,36.849998474121094,36.61000061035156,36.25,29.079999923706055,30.549999237060547,31.5,31.600000381469727,32.869998931884766,31.329999923706055,30.479999542236328,32.619998931884766,33.25,32.66999816894531,32.56999969482422,33.45000076293945,32.27000045776367,31.81999969482422,32.7599983215332,33.2599983215332,33.150001525878906,31.510000228881836,31.399999618530273,31.700000762939453,31.459999084472656,30.520000457763672,30.6299991607666,30.799999237060547,30.34000015258789,29.8799991607666,30.84000015258789,30.889999389648438,31.030000686645508,29.770000457763672,29.270000457763672,29.579999923706055,28.579999923706055,28.600000381469727,29.0,31.65999984741211,31.06999969482422,31.200000762939453,32.439998626708984,33.220001220703125,33.0,32.61000061035156,32.40999984741211,33.29999923706055,32.84000015258789,33.15999984741211,34.02000045776367,35.77000045776367,36.38999938964844,34.22999954223633,33.209999084472656,31.899999618530273,32.66999816894531,31.860000610351562,29.15999984741211,29.559999465942383,29.440000534057617,28.18000030517578,27.06999969482422,26.75,26.639999389648438,25.610000610351562,25.700000762939453,27.09000015258789,26.93000030517578,26.549999237060547,26.219999313354492,26.049999237060547,22.299999237060547,22.799999237060547,23.25,23.600000381469727,23.540000915527344,24.479999542236328,25.5,25.559999465942383,25.309999465942383,25.549999237060547,25.420000076293945,25.270000457763672,24.639999389648438,24.489999771118164,23.1299991607666,23.309999465942383,20.770000457763672,20.829999923706055,21.510000228881836,21.639999389648438,22.209999084472656,22.850000381469727,23.700000762939453,24.1299991607666,24.81999969482422,24.549999237060547,24.75,24.43000030517578,22.799999237060547,22.1299991607666,21.829999923706055,23.149999618530273,23.549999237060547,23.25,23.3700008392334,24.049999237060547,24.110000610351562,24.25,23.829999923706055,24.110000610351562,25.0,24.790000915527344,25.420000076293945,26.1299991607666,26.3700008392334,26.010000228881836,25.799999237060547,25.440000534057617,25.510000228881836,25.520000457763672,25.450000762939453,24.420000076293945,24.420000076293945,24.75,25.459999084472656,25.559999465942383,25.790000915527344,25.93000030517578,26.3700008392334,26.600000381469727],\"open\":[33.86000061035156,32.65999984741211,32.83000183105469,32.849998474121094,32.56999969482422,33.04999923706055,34.220001220703125,34.18000030517578,34.79999923706055,33.45000076293945,35.2599983215332,34.81999969482422,34.08000183105469,34.5,32.0,32.599998474121094,32.599998474121094,33.90999984741211,32.43000030517578,31.139999389648438,31.5,31.25,30.09000015258789,30.90999984741211,31.989999771118164,31.93000030517578,32.04999923706055,32.150001525878906,32.060001373291016,32.130001068115234,32.5,32.56999969482422,33.54999923706055,32.900001525878906,32.65999984741211,32.599998474121094,32.63999938964844,34.06999969482422,33.900001525878906,34.400001525878906,34.369998931884766,31.600000381469727,31.15999984741211,31.15999984741211,31.649999618530273,31.049999237060547,29.969999313354492,30.110000610351562,30.3700008392334,30.450000762939453,30.75,30.170000076293945,30.1200008392334,30.600000381469727,31.809999465942383,32.689998626708984,32.70000076293945,32.36000061035156,32.779998779296875,33.2599983215332,34.099998474121094,34.25,35.0,34.18000030517578,33.52000045776367,34.59000015258789,35.18000030517578,31.200000762939453,31.700000762939453,32.02000045776367,32.150001525878906,30.84000015258789,30.40999984741211,29.899999618530273,29.969999313354492,29.709999084472656,30.5,30.190000534057617,30.420000076293945,30.510000228881836,30.010000228881836,29.020000457763672,29.65999984741211,30.0,28.170000076293945,26.020000457763672,27.799999237060547,26.579999923706055,26.979999542236328,26.760000228881836,26.81999969482422,28.579999923706055,28.479999542236328,27.649999618530273,28.079999923706055,28.540000915527344,28.899999618530273,28.15999984741211,28.0,28.530000686645508,28.31999969482422,28.299999237060547,28.1299991607666,28.0,27.700000762939453,28.389999389648438,28.549999237060547,29.06999969482422,28.979999542236328,29.040000915527344,29.610000610351562,31.200000762939453,31.299999237060547,31.59000015258789,33.599998474121094,34.0,33.77000045776367,34.0099983215332,34.08000183105469,34.150001525878906,35.13999938964844,37.0099983215332,37.650001525878906,37.45000076293945,29.100000381469727,30.8799991607666,31.719999313354492,31.649999618530273,33.099998474121094,32.91999816894531,31.739999771118164,32.630001068115234,33.540000915527344,34.099998474121094,33.279998779296875,33.54999923706055,34.0,32.06999969482422,33.36000061035156,34.439998626708984,33.849998474121094,32.27000045776367,32.310001373291016,32.4900016784668,32.150001525878906,30.940000534057617,30.75,30.920000076293945,30.860000610351562,30.5,31.420000076293945,31.350000381469727,31.479999542236328,31.31999969482422,29.719999313354492,29.65999984741211,29.670000076293945,28.989999771118164,29.219999313354492,31.90999984741211,32.900001525878906,31.40999984741211,33.0,33.58000183105469,33.650001525878906,32.88999938964844,32.5,33.970001220703125,33.2400016784668,33.900001525878906,34.130001068115234,36.099998474121094,36.45000076293945,36.5,34.040000915527344,32.599998474121094,32.810001373291016,32.70000076293945,30.610000610351562,30.56999969482422,29.799999237060547,30.799999237060547,27.959999084472656,27.059999465942383,27.149999618530273,26.079999923706055,25.799999237060547,27.260000228881836,27.809999465942383,27.0,27.399999618530273,27.1200008392334,23.0,23.0,23.520000457763672,24.260000228881836,23.649999618530273,24.600000381469727,25.600000381469727,26.579999923706055,25.690000534057617,26.0,25.81999969482422,25.34000015258789,25.549999237060547,24.989999771118164,24.579999923706055,24.100000381469727,22.5,21.0,21.959999084472656,22.100000381469727,22.389999389648438,23.5,23.899999618530273,24.1299991607666,25.1200008392334,25.25,25.100000381469727,24.989999771118164,23.540000915527344,22.940000534057617,21.959999084472656,23.34000015258789,23.940000534057617,23.5,23.950000762939453,24.149999618530273,24.290000915527344,24.440000534057617,24.40999984741211,24.110000610351562,25.84000015258789,25.0,25.889999389648438,26.270000457763672,27.469999313354492,26.549999237060547,27.09000015258789,26.18000030517578,25.850000381469727,25.6299991607666,26.06999969482422,25.510000228881836,24.540000915527344,24.8700008392334,25.90999984741211,25.799999237060547,26.049999237060547,25.979999542236328,26.690000534057617,26.850000381469727],\"x\":[\"2022-02-14T00:00:00\",\"2022-02-15T00:00:00\",\"2022-02-16T00:00:00\",\"2022-02-17T00:00:00\",\"2022-02-18T00:00:00\",\"2022-02-21T00:00:00\",\"2022-02-22T00:00:00\",\"2022-02-23T00:00:00\",\"2022-02-24T00:00:00\",\"2022-02-25T00:00:00\",\"2022-03-02T00:00:00\",\"2022-03-03T00:00:00\",\"2022-03-04T00:00:00\",\"2022-03-07T00:00:00\",\"2022-03-08T00:00:00\",\"2022-03-09T00:00:00\",\"2022-03-10T00:00:00\",\"2022-03-11T00:00:00\",\"2022-03-14T00:00:00\",\"2022-03-15T00:00:00\",\"2022-03-16T00:00:00\",\"2022-03-17T00:00:00\",\"2022-03-18T00:00:00\",\"2022-03-21T00:00:00\",\"2022-03-22T00:00:00\",\"2022-03-23T00:00:00\",\"2022-03-24T00:00:00\",\"2022-03-25T00:00:00\",\"2022-03-28T00:00:00\",\"2022-03-29T00:00:00\",\"2022-03-30T00:00:00\",\"2022-03-31T00:00:00\",\"2022-04-01T00:00:00\",\"2022-04-04T00:00:00\",\"2022-04-05T00:00:00\",\"2022-04-06T00:00:00\",\"2022-04-07T00:00:00\",\"2022-04-08T00:00:00\",\"2022-04-11T00:00:00\",\"2022-04-12T00:00:00\",\"2022-04-13T00:00:00\",\"2022-04-14T00:00:00\",\"2022-04-18T00:00:00\",\"2022-04-19T00:00:00\",\"2022-04-20T00:00:00\",\"2022-04-22T00:00:00\",\"2022-04-25T00:00:00\",\"2022-04-26T00:00:00\",\"2022-04-27T00:00:00\",\"2022-04-28T00:00:00\",\"2022-04-29T00:00:00\",\"2022-05-02T00:00:00\",\"2022-05-03T00:00:00\",\"2022-05-04T00:00:00\",\"2022-05-05T00:00:00\",\"2022-05-06T00:00:00\",\"2022-05-09T00:00:00\",\"2022-05-10T00:00:00\",\"2022-05-11T00:00:00\",\"2022-05-12T00:00:00\",\"2022-05-13T00:00:00\",\"2022-05-16T00:00:00\",\"2022-05-17T00:00:00\",\"2022-05-18T00:00:00\",\"2022-05-19T00:00:00\",\"2022-05-20T00:00:00\",\"2022-05-23T00:00:00\",\"2022-05-24T00:00:00\",\"2022-05-25T00:00:00\",\"2022-05-26T00:00:00\",\"2022-05-27T00:00:00\",\"2022-05-30T00:00:00\",\"2022-05-31T00:00:00\",\"2022-06-01T00:00:00\",\"2022-06-02T00:00:00\",\"2022-06-03T00:00:00\",\"2022-06-06T00:00:00\",\"2022-06-07T00:00:00\",\"2022-06-08T00:00:00\",\"2022-06-09T00:00:00\",\"2022-06-10T00:00:00\",\"2022-06-13T00:00:00\",\"2022-06-14T00:00:00\",\"2022-06-15T00:00:00\",\"2022-06-17T00:00:00\",\"2022-06-20T00:00:00\",\"2022-06-21T00:00:00\",\"2022-06-22T00:00:00\",\"2022-06-23T00:00:00\",\"2022-06-24T00:00:00\",\"2022-06-27T00:00:00\",\"2022-06-28T00:00:00\",\"2022-06-29T00:00:00\",\"2022-06-30T00:00:00\",\"2022-07-01T00:00:00\",\"2022-07-04T00:00:00\",\"2022-07-05T00:00:00\",\"2022-07-06T00:00:00\",\"2022-07-07T00:00:00\",\"2022-07-08T00:00:00\",\"2022-07-11T00:00:00\",\"2022-07-12T00:00:00\",\"2022-07-13T00:00:00\",\"2022-07-14T00:00:00\",\"2022-07-15T00:00:00\",\"2022-07-18T00:00:00\",\"2022-07-19T00:00:00\",\"2022-07-20T00:00:00\",\"2022-07-21T00:00:00\",\"2022-07-22T00:00:00\",\"2022-07-25T00:00:00\",\"2022-07-26T00:00:00\",\"2022-07-27T00:00:00\",\"2022-07-28T00:00:00\",\"2022-07-29T00:00:00\",\"2022-08-01T00:00:00\",\"2022-08-02T00:00:00\",\"2022-08-03T00:00:00\",\"2022-08-04T00:00:00\",\"2022-08-05T00:00:00\",\"2022-08-08T00:00:00\",\"2022-08-09T00:00:00\",\"2022-08-10T00:00:00\",\"2022-08-11T00:00:00\",\"2022-08-12T00:00:00\",\"2022-08-15T00:00:00\",\"2022-08-16T00:00:00\",\"2022-08-17T00:00:00\",\"2022-08-18T00:00:00\",\"2022-08-19T00:00:00\",\"2022-08-22T00:00:00\",\"2022-08-23T00:00:00\",\"2022-08-24T00:00:00\",\"2022-08-25T00:00:00\",\"2022-08-26T00:00:00\",\"2022-08-29T00:00:00\",\"2022-08-30T00:00:00\",\"2022-08-31T00:00:00\",\"2022-09-01T00:00:00\",\"2022-09-02T00:00:00\",\"2022-09-05T00:00:00\",\"2022-09-06T00:00:00\",\"2022-09-08T00:00:00\",\"2022-09-09T00:00:00\",\"2022-09-12T00:00:00\",\"2022-09-13T00:00:00\",\"2022-09-14T00:00:00\",\"2022-09-15T00:00:00\",\"2022-09-16T00:00:00\",\"2022-09-19T00:00:00\",\"2022-09-20T00:00:00\",\"2022-09-21T00:00:00\",\"2022-09-22T00:00:00\",\"2022-09-23T00:00:00\",\"2022-09-26T00:00:00\",\"2022-09-27T00:00:00\",\"2022-09-28T00:00:00\",\"2022-09-29T00:00:00\",\"2022-09-30T00:00:00\",\"2022-10-03T00:00:00\",\"2022-10-04T00:00:00\",\"2022-10-05T00:00:00\",\"2022-10-06T00:00:00\",\"2022-10-07T00:00:00\",\"2022-10-10T00:00:00\",\"2022-10-11T00:00:00\",\"2022-10-13T00:00:00\",\"2022-10-14T00:00:00\",\"2022-10-17T00:00:00\",\"2022-10-18T00:00:00\",\"2022-10-19T00:00:00\",\"2022-10-20T00:00:00\",\"2022-10-21T00:00:00\",\"2022-10-24T00:00:00\",\"2022-10-25T00:00:00\",\"2022-10-26T00:00:00\",\"2022-10-27T00:00:00\",\"2022-10-28T00:00:00\",\"2022-10-31T00:00:00\",\"2022-11-01T00:00:00\",\"2022-11-03T00:00:00\",\"2022-11-04T00:00:00\",\"2022-11-07T00:00:00\",\"2022-11-08T00:00:00\",\"2022-11-09T00:00:00\",\"2022-11-10T00:00:00\",\"2022-11-11T00:00:00\",\"2022-11-14T00:00:00\",\"2022-11-16T00:00:00\",\"2022-11-17T00:00:00\",\"2022-11-18T00:00:00\",\"2022-11-21T00:00:00\",\"2022-11-22T00:00:00\",\"2022-11-23T00:00:00\",\"2022-11-24T00:00:00\",\"2022-11-25T00:00:00\",\"2022-11-28T00:00:00\",\"2022-11-29T00:00:00\",\"2022-11-30T00:00:00\",\"2022-12-01T00:00:00\",\"2022-12-02T00:00:00\",\"2022-12-05T00:00:00\",\"2022-12-06T00:00:00\",\"2022-12-07T00:00:00\",\"2022-12-08T00:00:00\",\"2022-12-09T00:00:00\",\"2022-12-12T00:00:00\",\"2022-12-13T00:00:00\",\"2022-12-14T00:00:00\",\"2022-12-15T00:00:00\",\"2022-12-16T00:00:00\",\"2022-12-19T00:00:00\",\"2022-12-20T00:00:00\",\"2022-12-21T00:00:00\",\"2022-12-22T00:00:00\",\"2022-12-23T00:00:00\",\"2022-12-26T00:00:00\",\"2022-12-27T00:00:00\",\"2022-12-28T00:00:00\",\"2022-12-29T00:00:00\",\"2023-01-02T00:00:00\",\"2023-01-03T00:00:00\",\"2023-01-04T00:00:00\",\"2023-01-05T00:00:00\",\"2023-01-06T00:00:00\",\"2023-01-09T00:00:00\",\"2023-01-10T00:00:00\",\"2023-01-11T00:00:00\",\"2023-01-12T00:00:00\",\"2023-01-13T00:00:00\",\"2023-01-16T00:00:00\",\"2023-01-17T00:00:00\",\"2023-01-18T00:00:00\",\"2023-01-19T00:00:00\",\"2023-01-20T00:00:00\",\"2023-01-23T00:00:00\",\"2023-01-24T00:00:00\",\"2023-01-25T00:00:00\",\"2023-01-26T00:00:00\",\"2023-01-27T00:00:00\",\"2023-01-30T00:00:00\",\"2023-01-31T00:00:00\",\"2023-02-01T00:00:00\",\"2023-02-02T00:00:00\",\"2023-02-03T00:00:00\",\"2023-02-06T00:00:00\",\"2023-02-07T00:00:00\",\"2023-02-08T00:00:00\",\"2023-02-09T00:00:00\",\"2023-02-10T00:00:00\",\"2023-02-13T00:00:00\",\"2023-02-14T00:00:00\"],\"type\":\"candlestick\"}],                        {\"template\":{\"data\":{\"histogram2dcontour\":[{\"type\":\"histogram2dcontour\",\"colorbar\":{\"outlinewidth\":0,\"ticks\":\"\"},\"colorscale\":[[0.0,\"#0d0887\"],[0.1111111111111111,\"#46039f\"],[0.2222222222222222,\"#7201a8\"],[0.3333333333333333,\"#9c179e\"],[0.4444444444444444,\"#bd3786\"],[0.5555555555555556,\"#d8576b\"],[0.6666666666666666,\"#ed7953\"],[0.7777777777777778,\"#fb9f3a\"],[0.8888888888888888,\"#fdca26\"],[1.0,\"#f0f921\"]]}],\"choropleth\":[{\"type\":\"choropleth\",\"colorbar\":{\"outlinewidth\":0,\"ticks\":\"\"}}],\"histogram2d\":[{\"type\":\"histogram2d\",\"colorbar\":{\"outlinewidth\":0,\"ticks\":\"\"},\"colorscale\":[[0.0,\"#0d0887\"],[0.1111111111111111,\"#46039f\"],[0.2222222222222222,\"#7201a8\"],[0.3333333333333333,\"#9c179e\"],[0.4444444444444444,\"#bd3786\"],[0.5555555555555556,\"#d8576b\"],[0.6666666666666666,\"#ed7953\"],[0.7777777777777778,\"#fb9f3a\"],[0.8888888888888888,\"#fdca26\"],[1.0,\"#f0f921\"]]}],\"heatmap\":[{\"type\":\"heatmap\",\"colorbar\":{\"outlinewidth\":0,\"ticks\":\"\"},\"colorscale\":[[0.0,\"#0d0887\"],[0.1111111111111111,\"#46039f\"],[0.2222222222222222,\"#7201a8\"],[0.3333333333333333,\"#9c179e\"],[0.4444444444444444,\"#bd3786\"],[0.5555555555555556,\"#d8576b\"],[0.6666666666666666,\"#ed7953\"],[0.7777777777777778,\"#fb9f3a\"],[0.8888888888888888,\"#fdca26\"],[1.0,\"#f0f921\"]]}],\"heatmapgl\":[{\"type\":\"heatmapgl\",\"colorbar\":{\"outlinewidth\":0,\"ticks\":\"\"},\"colorscale\":[[0.0,\"#0d0887\"],[0.1111111111111111,\"#46039f\"],[0.2222222222222222,\"#7201a8\"],[0.3333333333333333,\"#9c179e\"],[0.4444444444444444,\"#bd3786\"],[0.5555555555555556,\"#d8576b\"],[0.6666666666666666,\"#ed7953\"],[0.7777777777777778,\"#fb9f3a\"],[0.8888888888888888,\"#fdca26\"],[1.0,\"#f0f921\"]]}],\"contourcarpet\":[{\"type\":\"contourcarpet\",\"colorbar\":{\"outlinewidth\":0,\"ticks\":\"\"}}],\"contour\":[{\"type\":\"contour\",\"colorbar\":{\"outlinewidth\":0,\"ticks\":\"\"},\"colorscale\":[[0.0,\"#0d0887\"],[0.1111111111111111,\"#46039f\"],[0.2222222222222222,\"#7201a8\"],[0.3333333333333333,\"#9c179e\"],[0.4444444444444444,\"#bd3786\"],[0.5555555555555556,\"#d8576b\"],[0.6666666666666666,\"#ed7953\"],[0.7777777777777778,\"#fb9f3a\"],[0.8888888888888888,\"#fdca26\"],[1.0,\"#f0f921\"]]}],\"surface\":[{\"type\":\"surface\",\"colorbar\":{\"outlinewidth\":0,\"ticks\":\"\"},\"colorscale\":[[0.0,\"#0d0887\"],[0.1111111111111111,\"#46039f\"],[0.2222222222222222,\"#7201a8\"],[0.3333333333333333,\"#9c179e\"],[0.4444444444444444,\"#bd3786\"],[0.5555555555555556,\"#d8576b\"],[0.6666666666666666,\"#ed7953\"],[0.7777777777777778,\"#fb9f3a\"],[0.8888888888888888,\"#fdca26\"],[1.0,\"#f0f921\"]]}],\"mesh3d\":[{\"type\":\"mesh3d\",\"colorbar\":{\"outlinewidth\":0,\"ticks\":\"\"}}],\"scatter\":[{\"fillpattern\":{\"fillmode\":\"overlay\",\"size\":10,\"solidity\":0.2},\"type\":\"scatter\"}],\"parcoords\":[{\"type\":\"parcoords\",\"line\":{\"colorbar\":{\"outlinewidth\":0,\"ticks\":\"\"}}}],\"scatterpolargl\":[{\"type\":\"scatterpolargl\",\"marker\":{\"colorbar\":{\"outlinewidth\":0,\"ticks\":\"\"}}}],\"bar\":[{\"error_x\":{\"color\":\"#2a3f5f\"},\"error_y\":{\"color\":\"#2a3f5f\"},\"marker\":{\"line\":{\"color\":\"#E5ECF6\",\"width\":0.5},\"pattern\":{\"fillmode\":\"overlay\",\"size\":10,\"solidity\":0.2}},\"type\":\"bar\"}],\"scattergeo\":[{\"type\":\"scattergeo\",\"marker\":{\"colorbar\":{\"outlinewidth\":0,\"ticks\":\"\"}}}],\"scatterpolar\":[{\"type\":\"scatterpolar\",\"marker\":{\"colorbar\":{\"outlinewidth\":0,\"ticks\":\"\"}}}],\"histogram\":[{\"marker\":{\"pattern\":{\"fillmode\":\"overlay\",\"size\":10,\"solidity\":0.2}},\"type\":\"histogram\"}],\"scattergl\":[{\"type\":\"scattergl\",\"marker\":{\"colorbar\":{\"outlinewidth\":0,\"ticks\":\"\"}}}],\"scatter3d\":[{\"type\":\"scatter3d\",\"line\":{\"colorbar\":{\"outlinewidth\":0,\"ticks\":\"\"}},\"marker\":{\"colorbar\":{\"outlinewidth\":0,\"ticks\":\"\"}}}],\"scattermapbox\":[{\"type\":\"scattermapbox\",\"marker\":{\"colorbar\":{\"outlinewidth\":0,\"ticks\":\"\"}}}],\"scatterternary\":[{\"type\":\"scatterternary\",\"marker\":{\"colorbar\":{\"outlinewidth\":0,\"ticks\":\"\"}}}],\"scattercarpet\":[{\"type\":\"scattercarpet\",\"marker\":{\"colorbar\":{\"outlinewidth\":0,\"ticks\":\"\"}}}],\"carpet\":[{\"aaxis\":{\"endlinecolor\":\"#2a3f5f\",\"gridcolor\":\"white\",\"linecolor\":\"white\",\"minorgridcolor\":\"white\",\"startlinecolor\":\"#2a3f5f\"},\"baxis\":{\"endlinecolor\":\"#2a3f5f\",\"gridcolor\":\"white\",\"linecolor\":\"white\",\"minorgridcolor\":\"white\",\"startlinecolor\":\"#2a3f5f\"},\"type\":\"carpet\"}],\"table\":[{\"cells\":{\"fill\":{\"color\":\"#EBF0F8\"},\"line\":{\"color\":\"white\"}},\"header\":{\"fill\":{\"color\":\"#C8D4E3\"},\"line\":{\"color\":\"white\"}},\"type\":\"table\"}],\"barpolar\":[{\"marker\":{\"line\":{\"color\":\"#E5ECF6\",\"width\":0.5},\"pattern\":{\"fillmode\":\"overlay\",\"size\":10,\"solidity\":0.2}},\"type\":\"barpolar\"}],\"pie\":[{\"automargin\":true,\"type\":\"pie\"}]},\"layout\":{\"autotypenumbers\":\"strict\",\"colorway\":[\"#636efa\",\"#EF553B\",\"#00cc96\",\"#ab63fa\",\"#FFA15A\",\"#19d3f3\",\"#FF6692\",\"#B6E880\",\"#FF97FF\",\"#FECB52\"],\"font\":{\"color\":\"#2a3f5f\"},\"hovermode\":\"closest\",\"hoverlabel\":{\"align\":\"left\"},\"paper_bgcolor\":\"white\",\"plot_bgcolor\":\"#E5ECF6\",\"polar\":{\"bgcolor\":\"#E5ECF6\",\"angularaxis\":{\"gridcolor\":\"white\",\"linecolor\":\"white\",\"ticks\":\"\"},\"radialaxis\":{\"gridcolor\":\"white\",\"linecolor\":\"white\",\"ticks\":\"\"}},\"ternary\":{\"bgcolor\":\"#E5ECF6\",\"aaxis\":{\"gridcolor\":\"white\",\"linecolor\":\"white\",\"ticks\":\"\"},\"baxis\":{\"gridcolor\":\"white\",\"linecolor\":\"white\",\"ticks\":\"\"},\"caxis\":{\"gridcolor\":\"white\",\"linecolor\":\"white\",\"ticks\":\"\"}},\"coloraxis\":{\"colorbar\":{\"outlinewidth\":0,\"ticks\":\"\"}},\"colorscale\":{\"sequential\":[[0.0,\"#0d0887\"],[0.1111111111111111,\"#46039f\"],[0.2222222222222222,\"#7201a8\"],[0.3333333333333333,\"#9c179e\"],[0.4444444444444444,\"#bd3786\"],[0.5555555555555556,\"#d8576b\"],[0.6666666666666666,\"#ed7953\"],[0.7777777777777778,\"#fb9f3a\"],[0.8888888888888888,\"#fdca26\"],[1.0,\"#f0f921\"]],\"sequentialminus\":[[0.0,\"#0d0887\"],[0.1111111111111111,\"#46039f\"],[0.2222222222222222,\"#7201a8\"],[0.3333333333333333,\"#9c179e\"],[0.4444444444444444,\"#bd3786\"],[0.5555555555555556,\"#d8576b\"],[0.6666666666666666,\"#ed7953\"],[0.7777777777777778,\"#fb9f3a\"],[0.8888888888888888,\"#fdca26\"],[1.0,\"#f0f921\"]],\"diverging\":[[0,\"#8e0152\"],[0.1,\"#c51b7d\"],[0.2,\"#de77ae\"],[0.3,\"#f1b6da\"],[0.4,\"#fde0ef\"],[0.5,\"#f7f7f7\"],[0.6,\"#e6f5d0\"],[0.7,\"#b8e186\"],[0.8,\"#7fbc41\"],[0.9,\"#4d9221\"],[1,\"#276419\"]]},\"xaxis\":{\"gridcolor\":\"white\",\"linecolor\":\"white\",\"ticks\":\"\",\"title\":{\"standoff\":15},\"zerolinecolor\":\"white\",\"automargin\":true,\"zerolinewidth\":2},\"yaxis\":{\"gridcolor\":\"white\",\"linecolor\":\"white\",\"ticks\":\"\",\"title\":{\"standoff\":15},\"zerolinecolor\":\"white\",\"automargin\":true,\"zerolinewidth\":2},\"scene\":{\"xaxis\":{\"backgroundcolor\":\"#E5ECF6\",\"gridcolor\":\"white\",\"linecolor\":\"white\",\"showbackground\":true,\"ticks\":\"\",\"zerolinecolor\":\"white\",\"gridwidth\":2},\"yaxis\":{\"backgroundcolor\":\"#E5ECF6\",\"gridcolor\":\"white\",\"linecolor\":\"white\",\"showbackground\":true,\"ticks\":\"\",\"zerolinecolor\":\"white\",\"gridwidth\":2},\"zaxis\":{\"backgroundcolor\":\"#E5ECF6\",\"gridcolor\":\"white\",\"linecolor\":\"white\",\"showbackground\":true,\"ticks\":\"\",\"zerolinecolor\":\"white\",\"gridwidth\":2}},\"shapedefaults\":{\"line\":{\"color\":\"#2a3f5f\"}},\"annotationdefaults\":{\"arrowcolor\":\"#2a3f5f\",\"arrowhead\":0,\"arrowwidth\":1},\"geo\":{\"bgcolor\":\"white\",\"landcolor\":\"#E5ECF6\",\"subunitcolor\":\"white\",\"showland\":true,\"showlakes\":true,\"lakecolor\":\"white\"},\"title\":{\"x\":0.05},\"mapbox\":{\"style\":\"light\"}}},\"xaxis\":{\"rangeslider\":{\"visible\":false},\"title\":{\"text\":\"Per\\u00edodo\"}},\"title\":{\"text\":\"An\\u00e1lise de Fechamento\"},\"yaxis\":{\"title\":{\"text\":\"Valor de fechamento (R$)\"}}},                        {\"responsive\": true}                    ).then(function(){\n",
       "                            \n",
       "var gd = document.getElementById('78069787-9925-4767-a516-5a1452bb0a70');\n",
       "var x = new MutationObserver(function (mutations, observer) {{\n",
       "        var display = window.getComputedStyle(gd).display;\n",
       "        if (!display || display === 'none') {{\n",
       "            console.log([gd, 'removed!']);\n",
       "            Plotly.purge(gd);\n",
       "            observer.disconnect();\n",
       "        }}\n",
       "}});\n",
       "\n",
       "// Listen for the removal of the full notebook cells\n",
       "var notebookContainer = gd.closest('#notebook-container');\n",
       "if (notebookContainer) {{\n",
       "    x.observe(notebookContainer, {childList: true});\n",
       "}}\n",
       "\n",
       "// Listen for the clearing of the current output cell\n",
       "var outputEl = gd.closest('.output');\n",
       "if (outputEl) {{\n",
       "    x.observe(outputEl, {childList: true});\n",
       "}}\n",
       "\n",
       "                        })                };                });            </script>        </div>"
      ]
     },
     "metadata": {},
     "output_type": "display_data"
    }
   ],
   "source": [
    "# Gráfico candlestick\n",
    "\n",
    "candlestick =  go.Figure(\n",
    "    data=[\n",
    "        go.Candlestick(\n",
    "            x=dados.index,\n",
    "            open=dados['Open'],\n",
    "            high=dados['High'],\n",
    "            low=dados['Low'],\n",
    "            close=dados['Close'],\n",
    "            #increasing_line_color='darkblue',\n",
    "            #decreasing_line_color='orange'\n",
    "        )\n",
    "    ]\n",
    ")\n",
    "\n",
    "candlestick.update_layout(\n",
    "    xaxis_rangeslider_visible=False,\n",
    "    title='Análise de Fechamento',\n",
    "    xaxis_title='Período',\n",
    "    yaxis_title='Valor de fechamento (R$)'\n",
    ")\n",
    "\n",
    "candlestick.show()"
   ]
  },
  {
   "cell_type": "code",
   "execution_count": 116,
   "id": "69114426",
   "metadata": {},
   "outputs": [
    {
     "data": {
      "application/vnd.plotly.v1+json": {
       "config": {
        "plotlyServerURL": "https://plot.ly"
       },
       "data": [
        {
         "close": [
          33,
          32.47999954223633,
          32.93000030517578,
          32.79999923706055,
          33,
          33.849998474121094,
          33.7400016784668,
          34.220001220703125,
          33.38999938964844,
          34,
          34.66999816894531,
          34.2400016784668,
          34.22999954223633,
          31.799999237060547,
          32.459999084472656,
          32.560001373291016,
          33.70000076293945,
          32.4900016784668,
          31.8700008392334,
          31.100000381469727,
          30.829999923706055,
          30.010000228881836,
          30.610000610351562,
          31.760000228881836,
          31.6200008392334,
          32.04999923706055,
          32.41999816894531,
          32.29999923706055,
          31.600000381469727,
          32.29999923706055,
          32.9900016784668,
          33.45000076293945,
          33.0099983215332,
          32.70000076293945,
          32.38999938964844,
          32.36000061035156,
          34.040000915527344,
          34.209999084472656,
          33.95000076293945,
          33.849998474121094,
          34.56999969482422,
          31.270000457763672,
          30.719999313354492,
          31.649999618530273,
          31.799999237060547,
          30.559999465942383,
          30.110000610351562,
          30.059999465942383,
          30.059999465942383,
          30.260000228881836,
          30.280000686645508,
          29.979999542236328,
          30.25,
          32.06999969482422,
          32.0099983215332,
          33.060001373291016,
          32.15999984741211,
          32.439998626708984,
          33.56999969482422,
          33.83000183105469,
          34.27000045776367,
          34.61000061035156,
          34.15999984741211,
          33.599998474121094,
          34.16999816894531,
          34.83000183105469,
          36.20000076293945,
          31.600000381469727,
          32.04999923706055,
          32.130001068115234,
          30.600000381469727,
          29.989999771118164,
          30.059999465942383,
          30.020000457763672,
          29.760000228881836,
          30.280000686645508,
          30.299999237060547,
          30.65999984741211,
          30.510000228881836,
          30.06999969482422,
          29.649999618530273,
          29.270000457763672,
          29.600000381469727,
          29.079999923706055,
          27.309999465942383,
          27.6200008392334,
          27.06999969482422,
          26.989999771118164,
          26.489999771118164,
          26.290000915527344,
          27.979999542236328,
          28.329999923706055,
          28.079999923706055,
          27.93000030517578,
          28.530000686645508,
          29.139999389648438,
          28.030000686645508,
          27.670000076293945,
          28.479999542236328,
          28.799999237060547,
          28.65999984741211,
          28.229999542236328,
          28.25,
          27.489999771118164,
          27.959999084472656,
          28.600000381469727,
          29.18000030517578,
          29.170000076293945,
          29.020000457763672,
          29.329999923706055,
          30.700000762939453,
          31.010000228881836,
          31.350000381469727,
          32.290000915527344,
          34.150001525878906,
          33.68000030517578,
          33.83000183105469,
          33.849998474121094,
          34.209999084472656,
          34.869998931884766,
          36.630001068115234,
          37.22999954223633,
          37.11000061035156,
          36.25,
          31.709999084472656,
          31.719999313354492,
          32.0099983215332,
          32.7599983215332,
          33.41999816894531,
          31.729999542236328,
          32.40999984741211,
          33.439998626708984,
          33.63999938964844,
          33.279998779296875,
          33.63999938964844,
          34.47999954223633,
          32.43000030517578,
          33.22999954223633,
          33.849998474121094,
          33.41999816894531,
          33.34000015258789,
          32.099998474121094,
          31.799999237060547,
          31.790000915527344,
          31.479999542236328,
          30.649999618530273,
          31.1200008392334,
          31.059999465942383,
          30.780000686645508,
          31.270000457763672,
          31.09000015258789,
          31.170000076293945,
          31.940000534057617,
          29.940000534057617,
          29.290000915527344,
          29.670000076293945,
          29.270000457763672,
          29.309999465942383,
          29.799999237060547,
          32.18000030517578,
          31.3700008392334,
          32.54999923706055,
          33.65999984741211,
          33.630001068115234,
          33.25,
          33,
          33.939998626708984,
          33.41999816894531,
          33.38999938964844,
          34.209999084472656,
          35.41999816894531,
          36.470001220703125,
          37.720001220703125,
          34.25,
          33.529998779296875,
          32.709999084472656,
          32.959999084472656,
          32.56999969482422,
          29.809999465942383,
          29.860000610351562,
          29.950000762939453,
          28.299999237060547,
          27.149999618530273,
          27.350000381469727,
          26.899999618530273,
          26.1200008392334,
          26.989999771118164,
          27.700000762939453,
          27.149999618530273,
          27.15999984741211,
          26.700000762939453,
          26.780000686645508,
          23.329999923706055,
          23.440000534057617,
          24.25,
          23.860000610351562,
          24.360000610351562,
          25.3799991607666,
          26.65999984741211,
          25.59000015258789,
          25.90999984741211,
          25.6200008392334,
          25.639999389648438,
          25.350000381469727,
          24.780000686645508,
          24.709999084472656,
          23.90999984741211,
          23.31999969482422,
          21.469999313354492,
          22.040000915527344,
          22.049999237060547,
          22.3799991607666,
          23.06999969482422,
          23.56999969482422,
          23.989999771118164,
          25.1200008392334,
          24.940000534057617,
          25.110000610351562,
          24.799999237060547,
          24.5,
          22.920000076293945,
          22.34000015258789,
          23.049999237060547,
          23.8799991607666,
          23.739999771118164,
          23.8700008392334,
          24.09000015258789,
          24.280000686645508,
          24.6299991607666,
          24.56999969482422,
          24.040000915527344,
          25.520000457763672,
          25.06999969482422,
          25.889999389648438,
          26.3700008392334,
          26.790000915527344,
          26.600000381469727,
          26.940000534057617,
          26.25,
          25.6200008392334,
          25.75,
          26.06999969482422,
          25.709999084472656,
          24.520000457763672,
          24.790000915527344,
          25.780000686645508,
          25.6200008392334,
          26.049999237060547,
          25.93000030517578,
          26.719999313354492,
          26.799999237060547,
          26.739999771118164
         ],
         "high": [
          33.939998626708984,
          32.68000030517578,
          33.70000076293945,
          33.290000915527344,
          33.09000015258789,
          34,
          34.68000030517578,
          34.599998474121094,
          35.290000915527344,
          34,
          35.290000915527344,
          34.93000030517578,
          34.68000030517578,
          34.599998474121094,
          32.970001220703125,
          32.81999969482422,
          34.599998474121094,
          34.380001068115234,
          32.88999938964844,
          31.540000915527344,
          31.540000915527344,
          31.399999618530273,
          30.81999969482422,
          32.09000015258789,
          32.099998474121094,
          32.470001220703125,
          32.599998474121094,
          32.54999923706055,
          32.08000183105469,
          32.7599983215332,
          32.9900016784668,
          33.56999969482422,
          33.790000915527344,
          32.900001525878906,
          33.060001373291016,
          32.779998779296875,
          34.060001373291016,
          34.40999984741211,
          34.099998474121094,
          34.68000030517578,
          34.79999923706055,
          32.06999969482422,
          31.389999389648438,
          32,
          31.950000762939453,
          31.299999237060547,
          30.440000534057617,
          30.579999923706055,
          30.559999465942383,
          30.6200008392334,
          31.59000015258789,
          30.329999923706055,
          30.389999389648438,
          32.16999816894531,
          32.5,
          33.119998931884766,
          33.040000915527344,
          32.849998474121094,
          33.90999984741211,
          34.08000183105469,
          34.439998626708984,
          34.880001068115234,
          35.13999938964844,
          34.560001373291016,
          34.290000915527344,
          34.83000183105469,
          36.310001373291016,
          32.09000015258789,
          32.279998779296875,
          32.560001373291016,
          32.150001525878906,
          30.8700008392334,
          30.6200008392334,
          30.329999923706055,
          30.049999237060547,
          30.440000534057617,
          30.530000686645508,
          31.299999237060547,
          31.149999618530273,
          30.65999984741211,
          30.010000228881836,
          29.579999923706055,
          30.25,
          30.020000457763672,
          28.450000762939453,
          28.25,
          28.15999984741211,
          27.549999237060547,
          27.3799991607666,
          27.09000015258789,
          28.06999969482422,
          28.829999923706055,
          28.81999969482422,
          28.059999465942383,
          28.850000381469727,
          29.280000686645508,
          28.950000762939453,
          28.479999542236328,
          28.920000076293945,
          28.969999313354492,
          28.790000915527344,
          28.43000030517578,
          28.479999542236328,
          28,
          28.049999237060547,
          28.690000534057617,
          29.239999771118164,
          29.219999313354492,
          29.1299991607666,
          29.469999313354492,
          30.75,
          31.6200008392334,
          31.469999313354492,
          32.630001068115234,
          34.65999984741211,
          34.150001525878906,
          34.5,
          34.15999984741211,
          34.400001525878906,
          35.060001373291016,
          36.77000045776367,
          37.459999084472656,
          37.650001525878906,
          37.86000061035156,
          31.829999923706055,
          32.22999954223633,
          32.06999969482422,
          32.81999969482422,
          33.65999984741211,
          33.150001525878906,
          32.58000183105469,
          33.5,
          34.119998931884766,
          34.36000061035156,
          33.66999816894531,
          35.08000183105469,
          34.220001220703125,
          33.439998626708984,
          33.95000076293945,
          34.56999969482422,
          34.11000061035156,
          32.59000015258789,
          32.779998779296875,
          32.66999816894531,
          32.72999954223633,
          31.440000534057617,
          31.43000030517578,
          31.229999542236328,
          30.950000762939453,
          31.3799991607666,
          31.600000381469727,
          31.469999313354492,
          32.08000183105469,
          31.389999389648438,
          30.079999923706055,
          29.8799991607666,
          29.81999969482422,
          29.399999618530273,
          30.489999771118164,
          32.63999938964844,
          32.97999954223633,
          32.81999969482422,
          33.790000915527344,
          34.31999969482422,
          33.88999938964844,
          33.33000183105469,
          34.4900016784668,
          34.13999938964844,
          34.150001525878906,
          34.22999954223633,
          35.560001373291016,
          36.54999923706055,
          38.38999938964844,
          36.81999969482422,
          34.5,
          33.529998779296875,
          33.540000915527344,
          33.119998931884766,
          31.600000381469727,
          30.670000076293945,
          30.389999389648438,
          30.899999618530273,
          28.299999237060547,
          27.530000686645508,
          27.950000762939453,
          26.889999389648438,
          27.360000610351562,
          28.18000030517578,
          28.110000610351562,
          27.299999237060547,
          27.600000381469727,
          27.56999969482422,
          23.43000030517578,
          23.649999618530273,
          24.6299991607666,
          24.329999923706055,
          24.549999237060547,
          25.8799991607666,
          26.65999984741211,
          26.790000915527344,
          26.450000762939453,
          26.579999923706055,
          26.389999389648438,
          26.06999969482422,
          25.790000915527344,
          25.049999237060547,
          24.65999984741211,
          24.200000762939453,
          22.600000381469727,
          22.3700008392334,
          22.110000610351562,
          22.510000228881836,
          23.239999771118164,
          23.719999313354492,
          24.559999465942383,
          25.219999313354492,
          25.299999237060547,
          25.309999465942383,
          25.31999969482422,
          25.049999237060547,
          23.809999465942383,
          23.100000381469727,
          23.59000015258789,
          24.040000915527344,
          24.31999969482422,
          24,
          24.110000610351562,
          24.6200008392334,
          24.649999618530273,
          24.65999984741211,
          24.5,
          25.6200008392334,
          26.030000686645508,
          25.950000762939453,
          26.600000381469727,
          27.600000381469727,
          27.530000686645508,
          27.079999923706055,
          27.200000762939453,
          26.229999542236328,
          26.06999969482422,
          26.209999084472656,
          26.479999542236328,
          25.809999465942383,
          25.3799991607666,
          25.8700008392334,
          26.139999389648438,
          26.149999618530273,
          26.31999969482422,
          26.790000915527344,
          26.889999389648438,
          27.059999465942383
         ],
         "low": [
          32.81999969482422,
          31.889999389648438,
          32.77000045776367,
          32.54999923706055,
          32.27000045776367,
          33,
          33.209999084472656,
          33.79999923706055,
          32.68000030517578,
          32.900001525878906,
          34.38999938964844,
          34.15999984741211,
          33.81999969482422,
          31.6299991607666,
          31.510000228881836,
          31.739999771118164,
          32.52000045776367,
          32.06999969482422,
          31.520000457763672,
          30.469999313354492,
          30.3700008392334,
          29.5,
          29.860000610351562,
          30.639999389648438,
          31.350000381469727,
          31.690000534057617,
          31.670000076293945,
          31.920000076293945,
          30.979999542236328,
          31.920000076293945,
          32.380001068115234,
          32.5,
          32.90999984741211,
          32.25,
          32.38999938964844,
          32.040000915527344,
          32.5,
          33.849998474121094,
          33.779998779296875,
          33.79999923706055,
          34.099998474121094,
          31.15999984741211,
          30.469999313354492,
          31.1200008392334,
          31.329999923706055,
          30.31999969482422,
          29.540000915527344,
          29.889999389648438,
          29.950000762939453,
          30.25,
          30.280000686645508,
          29.329999923706055,
          29.81999969482422,
          30.399999618530273,
          31.020000457763672,
          31.899999618530273,
          32.060001373291016,
          32.20000076293945,
          32.689998626708984,
          33.2599983215332,
          33.900001525878906,
          34.0099983215332,
          34.13999938964844,
          33.43000030517578,
          33.33000183105469,
          34.25,
          35.150001525878906,
          30.709999084472656,
          31.260000228881836,
          31.950000762939453,
          30.56999969482422,
          29.1200008392334,
          29.809999465942383,
          29.850000381469727,
          29.549999237060547,
          29.530000686645508,
          29.90999984741211,
          30.15999984741211,
          30.329999923706055,
          29.979999542236328,
          29.059999465942383,
          28.670000076293945,
          29.239999771118164,
          28.84000015258789,
          26.1299991607666,
          25.90999984741211,
          26.690000534057617,
          26.389999389648438,
          26.1200008392334,
          26.18000030517578,
          26.65999984741211,
          28.020000457763672,
          27.84000015258789,
          27.399999618530273,
          27.520000457763672,
          28.540000915527344,
          27.549999237060547,
          26.90999984741211,
          28,
          28.3700008392334,
          28.25,
          27.969999313354492,
          27.979999542236328,
          27.239999771118164,
          27.489999771118164,
          28.299999237060547,
          28.399999618530273,
          28.829999923706055,
          28.200000762939453,
          28.850000381469727,
          29.610000610351562,
          30.59000015258789,
          30.6200008392334,
          31.43000030517578,
          32.83000183105469,
          33.220001220703125,
          33.47999954223633,
          33.560001373291016,
          33.58000183105469,
          34.119998931884766,
          35.130001068115234,
          36.849998474121094,
          36.61000061035156,
          36.25,
          29.079999923706055,
          30.549999237060547,
          31.5,
          31.600000381469727,
          32.869998931884766,
          31.329999923706055,
          30.479999542236328,
          32.619998931884766,
          33.25,
          32.66999816894531,
          32.56999969482422,
          33.45000076293945,
          32.27000045776367,
          31.81999969482422,
          32.7599983215332,
          33.2599983215332,
          33.150001525878906,
          31.510000228881836,
          31.399999618530273,
          31.700000762939453,
          31.459999084472656,
          30.520000457763672,
          30.6299991607666,
          30.799999237060547,
          30.34000015258789,
          29.8799991607666,
          30.84000015258789,
          30.889999389648438,
          31.030000686645508,
          29.770000457763672,
          29.270000457763672,
          29.579999923706055,
          28.579999923706055,
          28.600000381469727,
          29,
          31.65999984741211,
          31.06999969482422,
          31.200000762939453,
          32.439998626708984,
          33.220001220703125,
          33,
          32.61000061035156,
          32.40999984741211,
          33.29999923706055,
          32.84000015258789,
          33.15999984741211,
          34.02000045776367,
          35.77000045776367,
          36.38999938964844,
          34.22999954223633,
          33.209999084472656,
          31.899999618530273,
          32.66999816894531,
          31.860000610351562,
          29.15999984741211,
          29.559999465942383,
          29.440000534057617,
          28.18000030517578,
          27.06999969482422,
          26.75,
          26.639999389648438,
          25.610000610351562,
          25.700000762939453,
          27.09000015258789,
          26.93000030517578,
          26.549999237060547,
          26.219999313354492,
          26.049999237060547,
          22.299999237060547,
          22.799999237060547,
          23.25,
          23.600000381469727,
          23.540000915527344,
          24.479999542236328,
          25.5,
          25.559999465942383,
          25.309999465942383,
          25.549999237060547,
          25.420000076293945,
          25.270000457763672,
          24.639999389648438,
          24.489999771118164,
          23.1299991607666,
          23.309999465942383,
          20.770000457763672,
          20.829999923706055,
          21.510000228881836,
          21.639999389648438,
          22.209999084472656,
          22.850000381469727,
          23.700000762939453,
          24.1299991607666,
          24.81999969482422,
          24.549999237060547,
          24.75,
          24.43000030517578,
          22.799999237060547,
          22.1299991607666,
          21.829999923706055,
          23.149999618530273,
          23.549999237060547,
          23.25,
          23.3700008392334,
          24.049999237060547,
          24.110000610351562,
          24.25,
          23.829999923706055,
          24.110000610351562,
          25,
          24.790000915527344,
          25.420000076293945,
          26.1299991607666,
          26.3700008392334,
          26.010000228881836,
          25.799999237060547,
          25.440000534057617,
          25.510000228881836,
          25.520000457763672,
          25.450000762939453,
          24.420000076293945,
          24.420000076293945,
          24.75,
          25.459999084472656,
          25.559999465942383,
          25.790000915527344,
          25.93000030517578,
          26.3700008392334,
          26.600000381469727
         ],
         "open": [
          33.86000061035156,
          32.65999984741211,
          32.83000183105469,
          32.849998474121094,
          32.56999969482422,
          33.04999923706055,
          34.220001220703125,
          34.18000030517578,
          34.79999923706055,
          33.45000076293945,
          35.2599983215332,
          34.81999969482422,
          34.08000183105469,
          34.5,
          32,
          32.599998474121094,
          32.599998474121094,
          33.90999984741211,
          32.43000030517578,
          31.139999389648438,
          31.5,
          31.25,
          30.09000015258789,
          30.90999984741211,
          31.989999771118164,
          31.93000030517578,
          32.04999923706055,
          32.150001525878906,
          32.060001373291016,
          32.130001068115234,
          32.5,
          32.56999969482422,
          33.54999923706055,
          32.900001525878906,
          32.65999984741211,
          32.599998474121094,
          32.63999938964844,
          34.06999969482422,
          33.900001525878906,
          34.400001525878906,
          34.369998931884766,
          31.600000381469727,
          31.15999984741211,
          31.15999984741211,
          31.649999618530273,
          31.049999237060547,
          29.969999313354492,
          30.110000610351562,
          30.3700008392334,
          30.450000762939453,
          30.75,
          30.170000076293945,
          30.1200008392334,
          30.600000381469727,
          31.809999465942383,
          32.689998626708984,
          32.70000076293945,
          32.36000061035156,
          32.779998779296875,
          33.2599983215332,
          34.099998474121094,
          34.25,
          35,
          34.18000030517578,
          33.52000045776367,
          34.59000015258789,
          35.18000030517578,
          31.200000762939453,
          31.700000762939453,
          32.02000045776367,
          32.150001525878906,
          30.84000015258789,
          30.40999984741211,
          29.899999618530273,
          29.969999313354492,
          29.709999084472656,
          30.5,
          30.190000534057617,
          30.420000076293945,
          30.510000228881836,
          30.010000228881836,
          29.020000457763672,
          29.65999984741211,
          30,
          28.170000076293945,
          26.020000457763672,
          27.799999237060547,
          26.579999923706055,
          26.979999542236328,
          26.760000228881836,
          26.81999969482422,
          28.579999923706055,
          28.479999542236328,
          27.649999618530273,
          28.079999923706055,
          28.540000915527344,
          28.899999618530273,
          28.15999984741211,
          28,
          28.530000686645508,
          28.31999969482422,
          28.299999237060547,
          28.1299991607666,
          28,
          27.700000762939453,
          28.389999389648438,
          28.549999237060547,
          29.06999969482422,
          28.979999542236328,
          29.040000915527344,
          29.610000610351562,
          31.200000762939453,
          31.299999237060547,
          31.59000015258789,
          33.599998474121094,
          34,
          33.77000045776367,
          34.0099983215332,
          34.08000183105469,
          34.150001525878906,
          35.13999938964844,
          37.0099983215332,
          37.650001525878906,
          37.45000076293945,
          29.100000381469727,
          30.8799991607666,
          31.719999313354492,
          31.649999618530273,
          33.099998474121094,
          32.91999816894531,
          31.739999771118164,
          32.630001068115234,
          33.540000915527344,
          34.099998474121094,
          33.279998779296875,
          33.54999923706055,
          34,
          32.06999969482422,
          33.36000061035156,
          34.439998626708984,
          33.849998474121094,
          32.27000045776367,
          32.310001373291016,
          32.4900016784668,
          32.150001525878906,
          30.940000534057617,
          30.75,
          30.920000076293945,
          30.860000610351562,
          30.5,
          31.420000076293945,
          31.350000381469727,
          31.479999542236328,
          31.31999969482422,
          29.719999313354492,
          29.65999984741211,
          29.670000076293945,
          28.989999771118164,
          29.219999313354492,
          31.90999984741211,
          32.900001525878906,
          31.40999984741211,
          33,
          33.58000183105469,
          33.650001525878906,
          32.88999938964844,
          32.5,
          33.970001220703125,
          33.2400016784668,
          33.900001525878906,
          34.130001068115234,
          36.099998474121094,
          36.45000076293945,
          36.5,
          34.040000915527344,
          32.599998474121094,
          32.810001373291016,
          32.70000076293945,
          30.610000610351562,
          30.56999969482422,
          29.799999237060547,
          30.799999237060547,
          27.959999084472656,
          27.059999465942383,
          27.149999618530273,
          26.079999923706055,
          25.799999237060547,
          27.260000228881836,
          27.809999465942383,
          27,
          27.399999618530273,
          27.1200008392334,
          23,
          23,
          23.520000457763672,
          24.260000228881836,
          23.649999618530273,
          24.600000381469727,
          25.600000381469727,
          26.579999923706055,
          25.690000534057617,
          26,
          25.81999969482422,
          25.34000015258789,
          25.549999237060547,
          24.989999771118164,
          24.579999923706055,
          24.100000381469727,
          22.5,
          21,
          21.959999084472656,
          22.100000381469727,
          22.389999389648438,
          23.5,
          23.899999618530273,
          24.1299991607666,
          25.1200008392334,
          25.25,
          25.100000381469727,
          24.989999771118164,
          23.540000915527344,
          22.940000534057617,
          21.959999084472656,
          23.34000015258789,
          23.940000534057617,
          23.5,
          23.950000762939453,
          24.149999618530273,
          24.290000915527344,
          24.440000534057617,
          24.40999984741211,
          24.110000610351562,
          25.84000015258789,
          25,
          25.889999389648438,
          26.270000457763672,
          27.469999313354492,
          26.549999237060547,
          27.09000015258789,
          26.18000030517578,
          25.850000381469727,
          25.6299991607666,
          26.06999969482422,
          25.510000228881836,
          24.540000915527344,
          24.8700008392334,
          25.90999984741211,
          25.799999237060547,
          26.049999237060547,
          25.979999542236328,
          26.690000534057617,
          26.850000381469727
         ],
         "type": "candlestick",
         "x": [
          "2022-02-14T00:00:00",
          "2022-02-15T00:00:00",
          "2022-02-16T00:00:00",
          "2022-02-17T00:00:00",
          "2022-02-18T00:00:00",
          "2022-02-21T00:00:00",
          "2022-02-22T00:00:00",
          "2022-02-23T00:00:00",
          "2022-02-24T00:00:00",
          "2022-02-25T00:00:00",
          "2022-03-02T00:00:00",
          "2022-03-03T00:00:00",
          "2022-03-04T00:00:00",
          "2022-03-07T00:00:00",
          "2022-03-08T00:00:00",
          "2022-03-09T00:00:00",
          "2022-03-10T00:00:00",
          "2022-03-11T00:00:00",
          "2022-03-14T00:00:00",
          "2022-03-15T00:00:00",
          "2022-03-16T00:00:00",
          "2022-03-17T00:00:00",
          "2022-03-18T00:00:00",
          "2022-03-21T00:00:00",
          "2022-03-22T00:00:00",
          "2022-03-23T00:00:00",
          "2022-03-24T00:00:00",
          "2022-03-25T00:00:00",
          "2022-03-28T00:00:00",
          "2022-03-29T00:00:00",
          "2022-03-30T00:00:00",
          "2022-03-31T00:00:00",
          "2022-04-01T00:00:00",
          "2022-04-04T00:00:00",
          "2022-04-05T00:00:00",
          "2022-04-06T00:00:00",
          "2022-04-07T00:00:00",
          "2022-04-08T00:00:00",
          "2022-04-11T00:00:00",
          "2022-04-12T00:00:00",
          "2022-04-13T00:00:00",
          "2022-04-14T00:00:00",
          "2022-04-18T00:00:00",
          "2022-04-19T00:00:00",
          "2022-04-20T00:00:00",
          "2022-04-22T00:00:00",
          "2022-04-25T00:00:00",
          "2022-04-26T00:00:00",
          "2022-04-27T00:00:00",
          "2022-04-28T00:00:00",
          "2022-04-29T00:00:00",
          "2022-05-02T00:00:00",
          "2022-05-03T00:00:00",
          "2022-05-04T00:00:00",
          "2022-05-05T00:00:00",
          "2022-05-06T00:00:00",
          "2022-05-09T00:00:00",
          "2022-05-10T00:00:00",
          "2022-05-11T00:00:00",
          "2022-05-12T00:00:00",
          "2022-05-13T00:00:00",
          "2022-05-16T00:00:00",
          "2022-05-17T00:00:00",
          "2022-05-18T00:00:00",
          "2022-05-19T00:00:00",
          "2022-05-20T00:00:00",
          "2022-05-23T00:00:00",
          "2022-05-24T00:00:00",
          "2022-05-25T00:00:00",
          "2022-05-26T00:00:00",
          "2022-05-27T00:00:00",
          "2022-05-30T00:00:00",
          "2022-05-31T00:00:00",
          "2022-06-01T00:00:00",
          "2022-06-02T00:00:00",
          "2022-06-03T00:00:00",
          "2022-06-06T00:00:00",
          "2022-06-07T00:00:00",
          "2022-06-08T00:00:00",
          "2022-06-09T00:00:00",
          "2022-06-10T00:00:00",
          "2022-06-13T00:00:00",
          "2022-06-14T00:00:00",
          "2022-06-15T00:00:00",
          "2022-06-17T00:00:00",
          "2022-06-20T00:00:00",
          "2022-06-21T00:00:00",
          "2022-06-22T00:00:00",
          "2022-06-23T00:00:00",
          "2022-06-24T00:00:00",
          "2022-06-27T00:00:00",
          "2022-06-28T00:00:00",
          "2022-06-29T00:00:00",
          "2022-06-30T00:00:00",
          "2022-07-01T00:00:00",
          "2022-07-04T00:00:00",
          "2022-07-05T00:00:00",
          "2022-07-06T00:00:00",
          "2022-07-07T00:00:00",
          "2022-07-08T00:00:00",
          "2022-07-11T00:00:00",
          "2022-07-12T00:00:00",
          "2022-07-13T00:00:00",
          "2022-07-14T00:00:00",
          "2022-07-15T00:00:00",
          "2022-07-18T00:00:00",
          "2022-07-19T00:00:00",
          "2022-07-20T00:00:00",
          "2022-07-21T00:00:00",
          "2022-07-22T00:00:00",
          "2022-07-25T00:00:00",
          "2022-07-26T00:00:00",
          "2022-07-27T00:00:00",
          "2022-07-28T00:00:00",
          "2022-07-29T00:00:00",
          "2022-08-01T00:00:00",
          "2022-08-02T00:00:00",
          "2022-08-03T00:00:00",
          "2022-08-04T00:00:00",
          "2022-08-05T00:00:00",
          "2022-08-08T00:00:00",
          "2022-08-09T00:00:00",
          "2022-08-10T00:00:00",
          "2022-08-11T00:00:00",
          "2022-08-12T00:00:00",
          "2022-08-15T00:00:00",
          "2022-08-16T00:00:00",
          "2022-08-17T00:00:00",
          "2022-08-18T00:00:00",
          "2022-08-19T00:00:00",
          "2022-08-22T00:00:00",
          "2022-08-23T00:00:00",
          "2022-08-24T00:00:00",
          "2022-08-25T00:00:00",
          "2022-08-26T00:00:00",
          "2022-08-29T00:00:00",
          "2022-08-30T00:00:00",
          "2022-08-31T00:00:00",
          "2022-09-01T00:00:00",
          "2022-09-02T00:00:00",
          "2022-09-05T00:00:00",
          "2022-09-06T00:00:00",
          "2022-09-08T00:00:00",
          "2022-09-09T00:00:00",
          "2022-09-12T00:00:00",
          "2022-09-13T00:00:00",
          "2022-09-14T00:00:00",
          "2022-09-15T00:00:00",
          "2022-09-16T00:00:00",
          "2022-09-19T00:00:00",
          "2022-09-20T00:00:00",
          "2022-09-21T00:00:00",
          "2022-09-22T00:00:00",
          "2022-09-23T00:00:00",
          "2022-09-26T00:00:00",
          "2022-09-27T00:00:00",
          "2022-09-28T00:00:00",
          "2022-09-29T00:00:00",
          "2022-09-30T00:00:00",
          "2022-10-03T00:00:00",
          "2022-10-04T00:00:00",
          "2022-10-05T00:00:00",
          "2022-10-06T00:00:00",
          "2022-10-07T00:00:00",
          "2022-10-10T00:00:00",
          "2022-10-11T00:00:00",
          "2022-10-13T00:00:00",
          "2022-10-14T00:00:00",
          "2022-10-17T00:00:00",
          "2022-10-18T00:00:00",
          "2022-10-19T00:00:00",
          "2022-10-20T00:00:00",
          "2022-10-21T00:00:00",
          "2022-10-24T00:00:00",
          "2022-10-25T00:00:00",
          "2022-10-26T00:00:00",
          "2022-10-27T00:00:00",
          "2022-10-28T00:00:00",
          "2022-10-31T00:00:00",
          "2022-11-01T00:00:00",
          "2022-11-03T00:00:00",
          "2022-11-04T00:00:00",
          "2022-11-07T00:00:00",
          "2022-11-08T00:00:00",
          "2022-11-09T00:00:00",
          "2022-11-10T00:00:00",
          "2022-11-11T00:00:00",
          "2022-11-14T00:00:00",
          "2022-11-16T00:00:00",
          "2022-11-17T00:00:00",
          "2022-11-18T00:00:00",
          "2022-11-21T00:00:00",
          "2022-11-22T00:00:00",
          "2022-11-23T00:00:00",
          "2022-11-24T00:00:00",
          "2022-11-25T00:00:00",
          "2022-11-28T00:00:00",
          "2022-11-29T00:00:00",
          "2022-11-30T00:00:00",
          "2022-12-01T00:00:00",
          "2022-12-02T00:00:00",
          "2022-12-05T00:00:00",
          "2022-12-06T00:00:00",
          "2022-12-07T00:00:00",
          "2022-12-08T00:00:00",
          "2022-12-09T00:00:00",
          "2022-12-12T00:00:00",
          "2022-12-13T00:00:00",
          "2022-12-14T00:00:00",
          "2022-12-15T00:00:00",
          "2022-12-16T00:00:00",
          "2022-12-19T00:00:00",
          "2022-12-20T00:00:00",
          "2022-12-21T00:00:00",
          "2022-12-22T00:00:00",
          "2022-12-23T00:00:00",
          "2022-12-26T00:00:00",
          "2022-12-27T00:00:00",
          "2022-12-28T00:00:00",
          "2022-12-29T00:00:00",
          "2023-01-02T00:00:00",
          "2023-01-03T00:00:00",
          "2023-01-04T00:00:00",
          "2023-01-05T00:00:00",
          "2023-01-06T00:00:00",
          "2023-01-09T00:00:00",
          "2023-01-10T00:00:00",
          "2023-01-11T00:00:00",
          "2023-01-12T00:00:00",
          "2023-01-13T00:00:00",
          "2023-01-16T00:00:00",
          "2023-01-17T00:00:00",
          "2023-01-18T00:00:00",
          "2023-01-19T00:00:00",
          "2023-01-20T00:00:00",
          "2023-01-23T00:00:00",
          "2023-01-24T00:00:00",
          "2023-01-25T00:00:00",
          "2023-01-26T00:00:00",
          "2023-01-27T00:00:00",
          "2023-01-30T00:00:00",
          "2023-01-31T00:00:00",
          "2023-02-01T00:00:00",
          "2023-02-02T00:00:00",
          "2023-02-03T00:00:00",
          "2023-02-06T00:00:00",
          "2023-02-07T00:00:00",
          "2023-02-08T00:00:00",
          "2023-02-09T00:00:00",
          "2023-02-10T00:00:00",
          "2023-02-13T00:00:00",
          "2023-02-14T00:00:00"
         ],
         "xaxis": "x",
         "yaxis": "y"
        },
        {
         "line": {
          "color": "darkorchid"
         },
         "mode": "lines",
         "name": "Fechamento",
         "type": "scatter",
         "x": [
          "2022-02-14T00:00:00",
          "2022-02-15T00:00:00",
          "2022-02-16T00:00:00",
          "2022-02-17T00:00:00",
          "2022-02-18T00:00:00",
          "2022-02-21T00:00:00",
          "2022-02-22T00:00:00",
          "2022-02-23T00:00:00",
          "2022-02-24T00:00:00",
          "2022-02-25T00:00:00",
          "2022-03-02T00:00:00",
          "2022-03-03T00:00:00",
          "2022-03-04T00:00:00",
          "2022-03-07T00:00:00",
          "2022-03-08T00:00:00",
          "2022-03-09T00:00:00",
          "2022-03-10T00:00:00",
          "2022-03-11T00:00:00",
          "2022-03-14T00:00:00",
          "2022-03-15T00:00:00",
          "2022-03-16T00:00:00",
          "2022-03-17T00:00:00",
          "2022-03-18T00:00:00",
          "2022-03-21T00:00:00",
          "2022-03-22T00:00:00",
          "2022-03-23T00:00:00",
          "2022-03-24T00:00:00",
          "2022-03-25T00:00:00",
          "2022-03-28T00:00:00",
          "2022-03-29T00:00:00",
          "2022-03-30T00:00:00",
          "2022-03-31T00:00:00",
          "2022-04-01T00:00:00",
          "2022-04-04T00:00:00",
          "2022-04-05T00:00:00",
          "2022-04-06T00:00:00",
          "2022-04-07T00:00:00",
          "2022-04-08T00:00:00",
          "2022-04-11T00:00:00",
          "2022-04-12T00:00:00",
          "2022-04-13T00:00:00",
          "2022-04-14T00:00:00",
          "2022-04-18T00:00:00",
          "2022-04-19T00:00:00",
          "2022-04-20T00:00:00",
          "2022-04-22T00:00:00",
          "2022-04-25T00:00:00",
          "2022-04-26T00:00:00",
          "2022-04-27T00:00:00",
          "2022-04-28T00:00:00",
          "2022-04-29T00:00:00",
          "2022-05-02T00:00:00",
          "2022-05-03T00:00:00",
          "2022-05-04T00:00:00",
          "2022-05-05T00:00:00",
          "2022-05-06T00:00:00",
          "2022-05-09T00:00:00",
          "2022-05-10T00:00:00",
          "2022-05-11T00:00:00",
          "2022-05-12T00:00:00",
          "2022-05-13T00:00:00",
          "2022-05-16T00:00:00",
          "2022-05-17T00:00:00",
          "2022-05-18T00:00:00",
          "2022-05-19T00:00:00",
          "2022-05-20T00:00:00",
          "2022-05-23T00:00:00",
          "2022-05-24T00:00:00",
          "2022-05-25T00:00:00",
          "2022-05-26T00:00:00",
          "2022-05-27T00:00:00",
          "2022-05-30T00:00:00",
          "2022-05-31T00:00:00",
          "2022-06-01T00:00:00",
          "2022-06-02T00:00:00",
          "2022-06-03T00:00:00",
          "2022-06-06T00:00:00",
          "2022-06-07T00:00:00",
          "2022-06-08T00:00:00",
          "2022-06-09T00:00:00",
          "2022-06-10T00:00:00",
          "2022-06-13T00:00:00",
          "2022-06-14T00:00:00",
          "2022-06-15T00:00:00",
          "2022-06-17T00:00:00",
          "2022-06-20T00:00:00",
          "2022-06-21T00:00:00",
          "2022-06-22T00:00:00",
          "2022-06-23T00:00:00",
          "2022-06-24T00:00:00",
          "2022-06-27T00:00:00",
          "2022-06-28T00:00:00",
          "2022-06-29T00:00:00",
          "2022-06-30T00:00:00",
          "2022-07-01T00:00:00",
          "2022-07-04T00:00:00",
          "2022-07-05T00:00:00",
          "2022-07-06T00:00:00",
          "2022-07-07T00:00:00",
          "2022-07-08T00:00:00",
          "2022-07-11T00:00:00",
          "2022-07-12T00:00:00",
          "2022-07-13T00:00:00",
          "2022-07-14T00:00:00",
          "2022-07-15T00:00:00",
          "2022-07-18T00:00:00",
          "2022-07-19T00:00:00",
          "2022-07-20T00:00:00",
          "2022-07-21T00:00:00",
          "2022-07-22T00:00:00",
          "2022-07-25T00:00:00",
          "2022-07-26T00:00:00",
          "2022-07-27T00:00:00",
          "2022-07-28T00:00:00",
          "2022-07-29T00:00:00",
          "2022-08-01T00:00:00",
          "2022-08-02T00:00:00",
          "2022-08-03T00:00:00",
          "2022-08-04T00:00:00",
          "2022-08-05T00:00:00",
          "2022-08-08T00:00:00",
          "2022-08-09T00:00:00",
          "2022-08-10T00:00:00",
          "2022-08-11T00:00:00",
          "2022-08-12T00:00:00",
          "2022-08-15T00:00:00",
          "2022-08-16T00:00:00",
          "2022-08-17T00:00:00",
          "2022-08-18T00:00:00",
          "2022-08-19T00:00:00",
          "2022-08-22T00:00:00",
          "2022-08-23T00:00:00",
          "2022-08-24T00:00:00",
          "2022-08-25T00:00:00",
          "2022-08-26T00:00:00",
          "2022-08-29T00:00:00",
          "2022-08-30T00:00:00",
          "2022-08-31T00:00:00",
          "2022-09-01T00:00:00",
          "2022-09-02T00:00:00",
          "2022-09-05T00:00:00",
          "2022-09-06T00:00:00",
          "2022-09-08T00:00:00",
          "2022-09-09T00:00:00",
          "2022-09-12T00:00:00",
          "2022-09-13T00:00:00",
          "2022-09-14T00:00:00",
          "2022-09-15T00:00:00",
          "2022-09-16T00:00:00",
          "2022-09-19T00:00:00",
          "2022-09-20T00:00:00",
          "2022-09-21T00:00:00",
          "2022-09-22T00:00:00",
          "2022-09-23T00:00:00",
          "2022-09-26T00:00:00",
          "2022-09-27T00:00:00",
          "2022-09-28T00:00:00",
          "2022-09-29T00:00:00",
          "2022-09-30T00:00:00",
          "2022-10-03T00:00:00",
          "2022-10-04T00:00:00",
          "2022-10-05T00:00:00",
          "2022-10-06T00:00:00",
          "2022-10-07T00:00:00",
          "2022-10-10T00:00:00",
          "2022-10-11T00:00:00",
          "2022-10-13T00:00:00",
          "2022-10-14T00:00:00",
          "2022-10-17T00:00:00",
          "2022-10-18T00:00:00",
          "2022-10-19T00:00:00",
          "2022-10-20T00:00:00",
          "2022-10-21T00:00:00",
          "2022-10-24T00:00:00",
          "2022-10-25T00:00:00",
          "2022-10-26T00:00:00",
          "2022-10-27T00:00:00",
          "2022-10-28T00:00:00",
          "2022-10-31T00:00:00",
          "2022-11-01T00:00:00",
          "2022-11-03T00:00:00",
          "2022-11-04T00:00:00",
          "2022-11-07T00:00:00",
          "2022-11-08T00:00:00",
          "2022-11-09T00:00:00",
          "2022-11-10T00:00:00",
          "2022-11-11T00:00:00",
          "2022-11-14T00:00:00",
          "2022-11-16T00:00:00",
          "2022-11-17T00:00:00",
          "2022-11-18T00:00:00",
          "2022-11-21T00:00:00",
          "2022-11-22T00:00:00",
          "2022-11-23T00:00:00",
          "2022-11-24T00:00:00",
          "2022-11-25T00:00:00",
          "2022-11-28T00:00:00",
          "2022-11-29T00:00:00",
          "2022-11-30T00:00:00",
          "2022-12-01T00:00:00",
          "2022-12-02T00:00:00",
          "2022-12-05T00:00:00",
          "2022-12-06T00:00:00",
          "2022-12-07T00:00:00",
          "2022-12-08T00:00:00",
          "2022-12-09T00:00:00",
          "2022-12-12T00:00:00",
          "2022-12-13T00:00:00",
          "2022-12-14T00:00:00",
          "2022-12-15T00:00:00",
          "2022-12-16T00:00:00",
          "2022-12-19T00:00:00",
          "2022-12-20T00:00:00",
          "2022-12-21T00:00:00",
          "2022-12-22T00:00:00",
          "2022-12-23T00:00:00",
          "2022-12-26T00:00:00",
          "2022-12-27T00:00:00",
          "2022-12-28T00:00:00",
          "2022-12-29T00:00:00",
          "2023-01-02T00:00:00",
          "2023-01-03T00:00:00",
          "2023-01-04T00:00:00",
          "2023-01-05T00:00:00",
          "2023-01-06T00:00:00",
          "2023-01-09T00:00:00",
          "2023-01-10T00:00:00",
          "2023-01-11T00:00:00",
          "2023-01-12T00:00:00",
          "2023-01-13T00:00:00",
          "2023-01-16T00:00:00",
          "2023-01-17T00:00:00",
          "2023-01-18T00:00:00",
          "2023-01-19T00:00:00",
          "2023-01-20T00:00:00",
          "2023-01-23T00:00:00",
          "2023-01-24T00:00:00",
          "2023-01-25T00:00:00",
          "2023-01-26T00:00:00",
          "2023-01-27T00:00:00",
          "2023-01-30T00:00:00",
          "2023-01-31T00:00:00",
          "2023-02-01T00:00:00",
          "2023-02-02T00:00:00",
          "2023-02-03T00:00:00",
          "2023-02-06T00:00:00",
          "2023-02-07T00:00:00",
          "2023-02-08T00:00:00",
          "2023-02-09T00:00:00",
          "2023-02-10T00:00:00",
          "2023-02-13T00:00:00",
          "2023-02-14T00:00:00"
         ],
         "xaxis": "x2",
         "y": [
          33,
          32.47999954223633,
          32.93000030517578,
          32.79999923706055,
          33,
          33.849998474121094,
          33.7400016784668,
          34.220001220703125,
          33.38999938964844,
          34,
          34.66999816894531,
          34.2400016784668,
          34.22999954223633,
          31.799999237060547,
          32.459999084472656,
          32.560001373291016,
          33.70000076293945,
          32.4900016784668,
          31.8700008392334,
          31.100000381469727,
          30.829999923706055,
          30.010000228881836,
          30.610000610351562,
          31.760000228881836,
          31.6200008392334,
          32.04999923706055,
          32.41999816894531,
          32.29999923706055,
          31.600000381469727,
          32.29999923706055,
          32.9900016784668,
          33.45000076293945,
          33.0099983215332,
          32.70000076293945,
          32.38999938964844,
          32.36000061035156,
          34.040000915527344,
          34.209999084472656,
          33.95000076293945,
          33.849998474121094,
          34.56999969482422,
          31.270000457763672,
          30.719999313354492,
          31.649999618530273,
          31.799999237060547,
          30.559999465942383,
          30.110000610351562,
          30.059999465942383,
          30.059999465942383,
          30.260000228881836,
          30.280000686645508,
          29.979999542236328,
          30.25,
          32.06999969482422,
          32.0099983215332,
          33.060001373291016,
          32.15999984741211,
          32.439998626708984,
          33.56999969482422,
          33.83000183105469,
          34.27000045776367,
          34.61000061035156,
          34.15999984741211,
          33.599998474121094,
          34.16999816894531,
          34.83000183105469,
          36.20000076293945,
          31.600000381469727,
          32.04999923706055,
          32.130001068115234,
          30.600000381469727,
          29.989999771118164,
          30.059999465942383,
          30.020000457763672,
          29.760000228881836,
          30.280000686645508,
          30.299999237060547,
          30.65999984741211,
          30.510000228881836,
          30.06999969482422,
          29.649999618530273,
          29.270000457763672,
          29.600000381469727,
          29.079999923706055,
          27.309999465942383,
          27.6200008392334,
          27.06999969482422,
          26.989999771118164,
          26.489999771118164,
          26.290000915527344,
          27.979999542236328,
          28.329999923706055,
          28.079999923706055,
          27.93000030517578,
          28.530000686645508,
          29.139999389648438,
          28.030000686645508,
          27.670000076293945,
          28.479999542236328,
          28.799999237060547,
          28.65999984741211,
          28.229999542236328,
          28.25,
          27.489999771118164,
          27.959999084472656,
          28.600000381469727,
          29.18000030517578,
          29.170000076293945,
          29.020000457763672,
          29.329999923706055,
          30.700000762939453,
          31.010000228881836,
          31.350000381469727,
          32.290000915527344,
          34.150001525878906,
          33.68000030517578,
          33.83000183105469,
          33.849998474121094,
          34.209999084472656,
          34.869998931884766,
          36.630001068115234,
          37.22999954223633,
          37.11000061035156,
          36.25,
          31.709999084472656,
          31.719999313354492,
          32.0099983215332,
          32.7599983215332,
          33.41999816894531,
          31.729999542236328,
          32.40999984741211,
          33.439998626708984,
          33.63999938964844,
          33.279998779296875,
          33.63999938964844,
          34.47999954223633,
          32.43000030517578,
          33.22999954223633,
          33.849998474121094,
          33.41999816894531,
          33.34000015258789,
          32.099998474121094,
          31.799999237060547,
          31.790000915527344,
          31.479999542236328,
          30.649999618530273,
          31.1200008392334,
          31.059999465942383,
          30.780000686645508,
          31.270000457763672,
          31.09000015258789,
          31.170000076293945,
          31.940000534057617,
          29.940000534057617,
          29.290000915527344,
          29.670000076293945,
          29.270000457763672,
          29.309999465942383,
          29.799999237060547,
          32.18000030517578,
          31.3700008392334,
          32.54999923706055,
          33.65999984741211,
          33.630001068115234,
          33.25,
          33,
          33.939998626708984,
          33.41999816894531,
          33.38999938964844,
          34.209999084472656,
          35.41999816894531,
          36.470001220703125,
          37.720001220703125,
          34.25,
          33.529998779296875,
          32.709999084472656,
          32.959999084472656,
          32.56999969482422,
          29.809999465942383,
          29.860000610351562,
          29.950000762939453,
          28.299999237060547,
          27.149999618530273,
          27.350000381469727,
          26.899999618530273,
          26.1200008392334,
          26.989999771118164,
          27.700000762939453,
          27.149999618530273,
          27.15999984741211,
          26.700000762939453,
          26.780000686645508,
          23.329999923706055,
          23.440000534057617,
          24.25,
          23.860000610351562,
          24.360000610351562,
          25.3799991607666,
          26.65999984741211,
          25.59000015258789,
          25.90999984741211,
          25.6200008392334,
          25.639999389648438,
          25.350000381469727,
          24.780000686645508,
          24.709999084472656,
          23.90999984741211,
          23.31999969482422,
          21.469999313354492,
          22.040000915527344,
          22.049999237060547,
          22.3799991607666,
          23.06999969482422,
          23.56999969482422,
          23.989999771118164,
          25.1200008392334,
          24.940000534057617,
          25.110000610351562,
          24.799999237060547,
          24.5,
          22.920000076293945,
          22.34000015258789,
          23.049999237060547,
          23.8799991607666,
          23.739999771118164,
          23.8700008392334,
          24.09000015258789,
          24.280000686645508,
          24.6299991607666,
          24.56999969482422,
          24.040000915527344,
          25.520000457763672,
          25.06999969482422,
          25.889999389648438,
          26.3700008392334,
          26.790000915527344,
          26.600000381469727,
          26.940000534057617,
          26.25,
          25.6200008392334,
          25.75,
          26.06999969482422,
          25.709999084472656,
          24.520000457763672,
          24.790000915527344,
          25.780000686645508,
          25.6200008392334,
          26.049999237060547,
          25.93000030517578,
          26.719999313354492,
          26.799999237060547,
          26.739999771118164
         ],
         "yaxis": "y2"
        },
        {
         "line": {
          "color": "orange"
         },
         "mode": "lines",
         "name": "Média móvel 5 dias",
         "type": "scatter",
         "x": [
          "2022-02-14T00:00:00",
          "2022-02-15T00:00:00",
          "2022-02-16T00:00:00",
          "2022-02-17T00:00:00",
          "2022-02-18T00:00:00",
          "2022-02-21T00:00:00",
          "2022-02-22T00:00:00",
          "2022-02-23T00:00:00",
          "2022-02-24T00:00:00",
          "2022-02-25T00:00:00",
          "2022-03-02T00:00:00",
          "2022-03-03T00:00:00",
          "2022-03-04T00:00:00",
          "2022-03-07T00:00:00",
          "2022-03-08T00:00:00",
          "2022-03-09T00:00:00",
          "2022-03-10T00:00:00",
          "2022-03-11T00:00:00",
          "2022-03-14T00:00:00",
          "2022-03-15T00:00:00",
          "2022-03-16T00:00:00",
          "2022-03-17T00:00:00",
          "2022-03-18T00:00:00",
          "2022-03-21T00:00:00",
          "2022-03-22T00:00:00",
          "2022-03-23T00:00:00",
          "2022-03-24T00:00:00",
          "2022-03-25T00:00:00",
          "2022-03-28T00:00:00",
          "2022-03-29T00:00:00",
          "2022-03-30T00:00:00",
          "2022-03-31T00:00:00",
          "2022-04-01T00:00:00",
          "2022-04-04T00:00:00",
          "2022-04-05T00:00:00",
          "2022-04-06T00:00:00",
          "2022-04-07T00:00:00",
          "2022-04-08T00:00:00",
          "2022-04-11T00:00:00",
          "2022-04-12T00:00:00",
          "2022-04-13T00:00:00",
          "2022-04-14T00:00:00",
          "2022-04-18T00:00:00",
          "2022-04-19T00:00:00",
          "2022-04-20T00:00:00",
          "2022-04-22T00:00:00",
          "2022-04-25T00:00:00",
          "2022-04-26T00:00:00",
          "2022-04-27T00:00:00",
          "2022-04-28T00:00:00",
          "2022-04-29T00:00:00",
          "2022-05-02T00:00:00",
          "2022-05-03T00:00:00",
          "2022-05-04T00:00:00",
          "2022-05-05T00:00:00",
          "2022-05-06T00:00:00",
          "2022-05-09T00:00:00",
          "2022-05-10T00:00:00",
          "2022-05-11T00:00:00",
          "2022-05-12T00:00:00",
          "2022-05-13T00:00:00",
          "2022-05-16T00:00:00",
          "2022-05-17T00:00:00",
          "2022-05-18T00:00:00",
          "2022-05-19T00:00:00",
          "2022-05-20T00:00:00",
          "2022-05-23T00:00:00",
          "2022-05-24T00:00:00",
          "2022-05-25T00:00:00",
          "2022-05-26T00:00:00",
          "2022-05-27T00:00:00",
          "2022-05-30T00:00:00",
          "2022-05-31T00:00:00",
          "2022-06-01T00:00:00",
          "2022-06-02T00:00:00",
          "2022-06-03T00:00:00",
          "2022-06-06T00:00:00",
          "2022-06-07T00:00:00",
          "2022-06-08T00:00:00",
          "2022-06-09T00:00:00",
          "2022-06-10T00:00:00",
          "2022-06-13T00:00:00",
          "2022-06-14T00:00:00",
          "2022-06-15T00:00:00",
          "2022-06-17T00:00:00",
          "2022-06-20T00:00:00",
          "2022-06-21T00:00:00",
          "2022-06-22T00:00:00",
          "2022-06-23T00:00:00",
          "2022-06-24T00:00:00",
          "2022-06-27T00:00:00",
          "2022-06-28T00:00:00",
          "2022-06-29T00:00:00",
          "2022-06-30T00:00:00",
          "2022-07-01T00:00:00",
          "2022-07-04T00:00:00",
          "2022-07-05T00:00:00",
          "2022-07-06T00:00:00",
          "2022-07-07T00:00:00",
          "2022-07-08T00:00:00",
          "2022-07-11T00:00:00",
          "2022-07-12T00:00:00",
          "2022-07-13T00:00:00",
          "2022-07-14T00:00:00",
          "2022-07-15T00:00:00",
          "2022-07-18T00:00:00",
          "2022-07-19T00:00:00",
          "2022-07-20T00:00:00",
          "2022-07-21T00:00:00",
          "2022-07-22T00:00:00",
          "2022-07-25T00:00:00",
          "2022-07-26T00:00:00",
          "2022-07-27T00:00:00",
          "2022-07-28T00:00:00",
          "2022-07-29T00:00:00",
          "2022-08-01T00:00:00",
          "2022-08-02T00:00:00",
          "2022-08-03T00:00:00",
          "2022-08-04T00:00:00",
          "2022-08-05T00:00:00",
          "2022-08-08T00:00:00",
          "2022-08-09T00:00:00",
          "2022-08-10T00:00:00",
          "2022-08-11T00:00:00",
          "2022-08-12T00:00:00",
          "2022-08-15T00:00:00",
          "2022-08-16T00:00:00",
          "2022-08-17T00:00:00",
          "2022-08-18T00:00:00",
          "2022-08-19T00:00:00",
          "2022-08-22T00:00:00",
          "2022-08-23T00:00:00",
          "2022-08-24T00:00:00",
          "2022-08-25T00:00:00",
          "2022-08-26T00:00:00",
          "2022-08-29T00:00:00",
          "2022-08-30T00:00:00",
          "2022-08-31T00:00:00",
          "2022-09-01T00:00:00",
          "2022-09-02T00:00:00",
          "2022-09-05T00:00:00",
          "2022-09-06T00:00:00",
          "2022-09-08T00:00:00",
          "2022-09-09T00:00:00",
          "2022-09-12T00:00:00",
          "2022-09-13T00:00:00",
          "2022-09-14T00:00:00",
          "2022-09-15T00:00:00",
          "2022-09-16T00:00:00",
          "2022-09-19T00:00:00",
          "2022-09-20T00:00:00",
          "2022-09-21T00:00:00",
          "2022-09-22T00:00:00",
          "2022-09-23T00:00:00",
          "2022-09-26T00:00:00",
          "2022-09-27T00:00:00",
          "2022-09-28T00:00:00",
          "2022-09-29T00:00:00",
          "2022-09-30T00:00:00",
          "2022-10-03T00:00:00",
          "2022-10-04T00:00:00",
          "2022-10-05T00:00:00",
          "2022-10-06T00:00:00",
          "2022-10-07T00:00:00",
          "2022-10-10T00:00:00",
          "2022-10-11T00:00:00",
          "2022-10-13T00:00:00",
          "2022-10-14T00:00:00",
          "2022-10-17T00:00:00",
          "2022-10-18T00:00:00",
          "2022-10-19T00:00:00",
          "2022-10-20T00:00:00",
          "2022-10-21T00:00:00",
          "2022-10-24T00:00:00",
          "2022-10-25T00:00:00",
          "2022-10-26T00:00:00",
          "2022-10-27T00:00:00",
          "2022-10-28T00:00:00",
          "2022-10-31T00:00:00",
          "2022-11-01T00:00:00",
          "2022-11-03T00:00:00",
          "2022-11-04T00:00:00",
          "2022-11-07T00:00:00",
          "2022-11-08T00:00:00",
          "2022-11-09T00:00:00",
          "2022-11-10T00:00:00",
          "2022-11-11T00:00:00",
          "2022-11-14T00:00:00",
          "2022-11-16T00:00:00",
          "2022-11-17T00:00:00",
          "2022-11-18T00:00:00",
          "2022-11-21T00:00:00",
          "2022-11-22T00:00:00",
          "2022-11-23T00:00:00",
          "2022-11-24T00:00:00",
          "2022-11-25T00:00:00",
          "2022-11-28T00:00:00",
          "2022-11-29T00:00:00",
          "2022-11-30T00:00:00",
          "2022-12-01T00:00:00",
          "2022-12-02T00:00:00",
          "2022-12-05T00:00:00",
          "2022-12-06T00:00:00",
          "2022-12-07T00:00:00",
          "2022-12-08T00:00:00",
          "2022-12-09T00:00:00",
          "2022-12-12T00:00:00",
          "2022-12-13T00:00:00",
          "2022-12-14T00:00:00",
          "2022-12-15T00:00:00",
          "2022-12-16T00:00:00",
          "2022-12-19T00:00:00",
          "2022-12-20T00:00:00",
          "2022-12-21T00:00:00",
          "2022-12-22T00:00:00",
          "2022-12-23T00:00:00",
          "2022-12-26T00:00:00",
          "2022-12-27T00:00:00",
          "2022-12-28T00:00:00",
          "2022-12-29T00:00:00",
          "2023-01-02T00:00:00",
          "2023-01-03T00:00:00",
          "2023-01-04T00:00:00",
          "2023-01-05T00:00:00",
          "2023-01-06T00:00:00",
          "2023-01-09T00:00:00",
          "2023-01-10T00:00:00",
          "2023-01-11T00:00:00",
          "2023-01-12T00:00:00",
          "2023-01-13T00:00:00",
          "2023-01-16T00:00:00",
          "2023-01-17T00:00:00",
          "2023-01-18T00:00:00",
          "2023-01-19T00:00:00",
          "2023-01-20T00:00:00",
          "2023-01-23T00:00:00",
          "2023-01-24T00:00:00",
          "2023-01-25T00:00:00",
          "2023-01-26T00:00:00",
          "2023-01-27T00:00:00",
          "2023-01-30T00:00:00",
          "2023-01-31T00:00:00",
          "2023-02-01T00:00:00",
          "2023-02-02T00:00:00",
          "2023-02-03T00:00:00",
          "2023-02-06T00:00:00",
          "2023-02-07T00:00:00",
          "2023-02-08T00:00:00",
          "2023-02-09T00:00:00",
          "2023-02-10T00:00:00",
          "2023-02-13T00:00:00",
          "2023-02-14T00:00:00"
         ],
         "xaxis": "x2",
         "y": [
          null,
          null,
          null,
          null,
          32.84199981689453,
          33.01199951171875,
          33.263999938964844,
          33.52200012207031,
          33.64000015258789,
          33.84000015258789,
          34.00400009155273,
          34.104000091552734,
          34.10599975585937,
          33.7879997253418,
          33.47999954223633,
          33.05800018310547,
          32.95,
          32.6020004272461,
          32.616000747680665,
          32.34400100708008,
          31.998000717163087,
          31.26000061035156,
          30.884000396728517,
          30.862000274658204,
          30.966000366210938,
          31.210000228881835,
          31.69199981689453,
          32.029999542236325,
          31.997999572753905,
          32.133999252319335,
          32.32199974060059,
          32.52800025939941,
          32.670000076293945,
          32.89000015258789,
          32.90800018310547,
          32.78199996948242,
          32.9,
          33.14000015258789,
          33.39000015258789,
          33.68199996948242,
          34.123999786376956,
          33.56999969482422,
          32.871999740600586,
          32.41199951171875,
          32.00199966430664,
          31.199999618530274,
          30.96799964904785,
          30.83599967956543,
          30.51799964904785,
          30.20999984741211,
          30.154000091552735,
          30.12799987792969,
          30.165999984741212,
          30.568000030517577,
          30.91799964904785,
          31.473999786376954,
          31.90999984741211,
          32.347999572753906,
          32.6479995727539,
          33.012000274658206,
          33.25400009155273,
          33.74400024414062,
          34.08800048828125,
          34.094000244140624,
          34.16199951171875,
          34.273999786376955,
          34.59199981689453,
          34.079999923706055,
          33.77000007629395,
          33.36200065612793,
          32.51600036621094,
          31.27400016784668,
          30.96599998474121,
          30.560000228881837,
          30.086000061035158,
          30.022000122070313,
          30.084000015258788,
          30.204000091552736,
          30.302000045776367,
          30.363999938964845,
          30.237999725341798,
          30.03199996948242,
          29.820000076293944,
          29.53400001525879,
          28.981999969482423,
          28.576000213623047,
          28.136000061035155,
          27.613999938964845,
          27.095999908447265,
          26.892000198364258,
          26.963999938964843,
          27.21599998474121,
          27.43400001525879,
          27.722000122070312,
          28.170000076293945,
          28.40200004577637,
          28.342000198364257,
          28.260000228881836,
          28.370000076293945,
          28.423999786376953,
          28.327999877929688,
          28.367999649047853,
          28.48399963378906,
          28.28599967956543,
          28.117999649047853,
          28.105999755859376,
          28.295999908447264,
          28.479999923706053,
          28.786000061035157,
          29.060000228881837,
          29.480000305175782,
          29.846000289916994,
          30.28200035095215,
          30.936000442504884,
          31.900000762939452,
          32.49600067138672,
          33.06000099182129,
          33.560000610351565,
          33.944000244140625,
          34.087999725341795,
          34.677999877929686,
          35.35799942016602,
          36.00999984741211,
          36.418000030517575,
          35.78600006103515,
          34.803999710083005,
          33.759999465942386,
          32.88999900817871,
          32.323998641967776,
          32.32799873352051,
          32.465998840332034,
          32.75199890136719,
          32.927999114990236,
          32.89999923706055,
          33.28199920654297,
          33.69599914550781,
          33.49399948120117,
          33.41199951171875,
          33.52599945068359,
          33.481999206542966,
          33.25399932861328,
          33.18799896240235,
          32.901998901367186,
          32.48999938964844,
          32.10199966430664,
          31.563999557495116,
          31.368000030517578,
          31.220000076293946,
          31.018000030517577,
          30.976000213623045,
          31.06400032043457,
          31.07400016784668,
          31.250000381469725,
          31.08200035095215,
          30.686000442504884,
          30.402000427246094,
          30.02200050354004,
          29.496000289916992,
          29.46800003051758,
          30.045999908447264,
          30.386000061035155,
          31.04199981689453,
          31.911999893188476,
          32.67800025939941,
          32.89200019836426,
          33.21800003051758,
          33.49599990844727,
          33.44799957275391,
          33.39999923706055,
          33.59199905395508,
          34.07599868774414,
          34.58199920654297,
          35.44199981689453,
          35.613999938964845,
          35.47799987792969,
          34.93600006103516,
          34.23399963378906,
          33.20399932861328,
          32.31599922180176,
          31.581999588012696,
          31.029999923706054,
          30.09799995422363,
          29.013999938964844,
          28.522000122070313,
          27.929999923706056,
          27.163999938964842,
          26.90200004577637,
          27.012000274658202,
          26.972000122070312,
          27.02400016784668,
          27.14000015258789,
          27.09800033569336,
          26.22400016784668,
          25.48200035095215,
          24.900000381469727,
          24.33200035095215,
          23.84800033569336,
          24.25800018310547,
          24.90200004577637,
          25.170000076293945,
          25.579999923706055,
          25.83199996948242,
          25.88400001525879,
          25.62200012207031,
          25.460000228881835,
          25.220000076293946,
          24.87799987792969,
          24.413999938964842,
          23.637999725341796,
          23.089999771118165,
          22.55799980163574,
          22.25199966430664,
          22.20199966430664,
          22.621999740600586,
          23.01199951171875,
          23.62599983215332,
          24.138000106811525,
          24.546000289916993,
          24.792000198364256,
          24.894000244140624,
          24.454000091552736,
          23.93400001525879,
          23.521999740600585,
          23.337999725341795,
          23.18599967956543,
          23.37599983215332,
          23.72599983215332,
          23.972000122070312,
          24.12200012207031,
          24.288000106811523,
          24.322000122070314,
          24.608000183105467,
          24.76599998474121,
          25.018000030517577,
          25.378000259399414,
          25.928000259399415,
          26.144000244140624,
          26.518000411987305,
          26.590000534057616,
          26.440000534057617,
          26.23200035095215,
          26.126000213623048,
          25.879999923706055,
          25.53400001525879,
          25.368000030517578,
          25.37400016784668,
          25.284000396728516,
          25.352000427246093,
          25.634000396728517,
          26.020000076293947,
          26.223999786376954,
          26.447999572753908
         ],
         "yaxis": "y2"
        },
        {
         "line": {
          "color": "hotpink"
         },
         "mode": "lines",
         "name": "Média móvel 25 dias",
         "type": "scatter",
         "x": [
          "2022-02-14T00:00:00",
          "2022-02-15T00:00:00",
          "2022-02-16T00:00:00",
          "2022-02-17T00:00:00",
          "2022-02-18T00:00:00",
          "2022-02-21T00:00:00",
          "2022-02-22T00:00:00",
          "2022-02-23T00:00:00",
          "2022-02-24T00:00:00",
          "2022-02-25T00:00:00",
          "2022-03-02T00:00:00",
          "2022-03-03T00:00:00",
          "2022-03-04T00:00:00",
          "2022-03-07T00:00:00",
          "2022-03-08T00:00:00",
          "2022-03-09T00:00:00",
          "2022-03-10T00:00:00",
          "2022-03-11T00:00:00",
          "2022-03-14T00:00:00",
          "2022-03-15T00:00:00",
          "2022-03-16T00:00:00",
          "2022-03-17T00:00:00",
          "2022-03-18T00:00:00",
          "2022-03-21T00:00:00",
          "2022-03-22T00:00:00",
          "2022-03-23T00:00:00",
          "2022-03-24T00:00:00",
          "2022-03-25T00:00:00",
          "2022-03-28T00:00:00",
          "2022-03-29T00:00:00",
          "2022-03-30T00:00:00",
          "2022-03-31T00:00:00",
          "2022-04-01T00:00:00",
          "2022-04-04T00:00:00",
          "2022-04-05T00:00:00",
          "2022-04-06T00:00:00",
          "2022-04-07T00:00:00",
          "2022-04-08T00:00:00",
          "2022-04-11T00:00:00",
          "2022-04-12T00:00:00",
          "2022-04-13T00:00:00",
          "2022-04-14T00:00:00",
          "2022-04-18T00:00:00",
          "2022-04-19T00:00:00",
          "2022-04-20T00:00:00",
          "2022-04-22T00:00:00",
          "2022-04-25T00:00:00",
          "2022-04-26T00:00:00",
          "2022-04-27T00:00:00",
          "2022-04-28T00:00:00",
          "2022-04-29T00:00:00",
          "2022-05-02T00:00:00",
          "2022-05-03T00:00:00",
          "2022-05-04T00:00:00",
          "2022-05-05T00:00:00",
          "2022-05-06T00:00:00",
          "2022-05-09T00:00:00",
          "2022-05-10T00:00:00",
          "2022-05-11T00:00:00",
          "2022-05-12T00:00:00",
          "2022-05-13T00:00:00",
          "2022-05-16T00:00:00",
          "2022-05-17T00:00:00",
          "2022-05-18T00:00:00",
          "2022-05-19T00:00:00",
          "2022-05-20T00:00:00",
          "2022-05-23T00:00:00",
          "2022-05-24T00:00:00",
          "2022-05-25T00:00:00",
          "2022-05-26T00:00:00",
          "2022-05-27T00:00:00",
          "2022-05-30T00:00:00",
          "2022-05-31T00:00:00",
          "2022-06-01T00:00:00",
          "2022-06-02T00:00:00",
          "2022-06-03T00:00:00",
          "2022-06-06T00:00:00",
          "2022-06-07T00:00:00",
          "2022-06-08T00:00:00",
          "2022-06-09T00:00:00",
          "2022-06-10T00:00:00",
          "2022-06-13T00:00:00",
          "2022-06-14T00:00:00",
          "2022-06-15T00:00:00",
          "2022-06-17T00:00:00",
          "2022-06-20T00:00:00",
          "2022-06-21T00:00:00",
          "2022-06-22T00:00:00",
          "2022-06-23T00:00:00",
          "2022-06-24T00:00:00",
          "2022-06-27T00:00:00",
          "2022-06-28T00:00:00",
          "2022-06-29T00:00:00",
          "2022-06-30T00:00:00",
          "2022-07-01T00:00:00",
          "2022-07-04T00:00:00",
          "2022-07-05T00:00:00",
          "2022-07-06T00:00:00",
          "2022-07-07T00:00:00",
          "2022-07-08T00:00:00",
          "2022-07-11T00:00:00",
          "2022-07-12T00:00:00",
          "2022-07-13T00:00:00",
          "2022-07-14T00:00:00",
          "2022-07-15T00:00:00",
          "2022-07-18T00:00:00",
          "2022-07-19T00:00:00",
          "2022-07-20T00:00:00",
          "2022-07-21T00:00:00",
          "2022-07-22T00:00:00",
          "2022-07-25T00:00:00",
          "2022-07-26T00:00:00",
          "2022-07-27T00:00:00",
          "2022-07-28T00:00:00",
          "2022-07-29T00:00:00",
          "2022-08-01T00:00:00",
          "2022-08-02T00:00:00",
          "2022-08-03T00:00:00",
          "2022-08-04T00:00:00",
          "2022-08-05T00:00:00",
          "2022-08-08T00:00:00",
          "2022-08-09T00:00:00",
          "2022-08-10T00:00:00",
          "2022-08-11T00:00:00",
          "2022-08-12T00:00:00",
          "2022-08-15T00:00:00",
          "2022-08-16T00:00:00",
          "2022-08-17T00:00:00",
          "2022-08-18T00:00:00",
          "2022-08-19T00:00:00",
          "2022-08-22T00:00:00",
          "2022-08-23T00:00:00",
          "2022-08-24T00:00:00",
          "2022-08-25T00:00:00",
          "2022-08-26T00:00:00",
          "2022-08-29T00:00:00",
          "2022-08-30T00:00:00",
          "2022-08-31T00:00:00",
          "2022-09-01T00:00:00",
          "2022-09-02T00:00:00",
          "2022-09-05T00:00:00",
          "2022-09-06T00:00:00",
          "2022-09-08T00:00:00",
          "2022-09-09T00:00:00",
          "2022-09-12T00:00:00",
          "2022-09-13T00:00:00",
          "2022-09-14T00:00:00",
          "2022-09-15T00:00:00",
          "2022-09-16T00:00:00",
          "2022-09-19T00:00:00",
          "2022-09-20T00:00:00",
          "2022-09-21T00:00:00",
          "2022-09-22T00:00:00",
          "2022-09-23T00:00:00",
          "2022-09-26T00:00:00",
          "2022-09-27T00:00:00",
          "2022-09-28T00:00:00",
          "2022-09-29T00:00:00",
          "2022-09-30T00:00:00",
          "2022-10-03T00:00:00",
          "2022-10-04T00:00:00",
          "2022-10-05T00:00:00",
          "2022-10-06T00:00:00",
          "2022-10-07T00:00:00",
          "2022-10-10T00:00:00",
          "2022-10-11T00:00:00",
          "2022-10-13T00:00:00",
          "2022-10-14T00:00:00",
          "2022-10-17T00:00:00",
          "2022-10-18T00:00:00",
          "2022-10-19T00:00:00",
          "2022-10-20T00:00:00",
          "2022-10-21T00:00:00",
          "2022-10-24T00:00:00",
          "2022-10-25T00:00:00",
          "2022-10-26T00:00:00",
          "2022-10-27T00:00:00",
          "2022-10-28T00:00:00",
          "2022-10-31T00:00:00",
          "2022-11-01T00:00:00",
          "2022-11-03T00:00:00",
          "2022-11-04T00:00:00",
          "2022-11-07T00:00:00",
          "2022-11-08T00:00:00",
          "2022-11-09T00:00:00",
          "2022-11-10T00:00:00",
          "2022-11-11T00:00:00",
          "2022-11-14T00:00:00",
          "2022-11-16T00:00:00",
          "2022-11-17T00:00:00",
          "2022-11-18T00:00:00",
          "2022-11-21T00:00:00",
          "2022-11-22T00:00:00",
          "2022-11-23T00:00:00",
          "2022-11-24T00:00:00",
          "2022-11-25T00:00:00",
          "2022-11-28T00:00:00",
          "2022-11-29T00:00:00",
          "2022-11-30T00:00:00",
          "2022-12-01T00:00:00",
          "2022-12-02T00:00:00",
          "2022-12-05T00:00:00",
          "2022-12-06T00:00:00",
          "2022-12-07T00:00:00",
          "2022-12-08T00:00:00",
          "2022-12-09T00:00:00",
          "2022-12-12T00:00:00",
          "2022-12-13T00:00:00",
          "2022-12-14T00:00:00",
          "2022-12-15T00:00:00",
          "2022-12-16T00:00:00",
          "2022-12-19T00:00:00",
          "2022-12-20T00:00:00",
          "2022-12-21T00:00:00",
          "2022-12-22T00:00:00",
          "2022-12-23T00:00:00",
          "2022-12-26T00:00:00",
          "2022-12-27T00:00:00",
          "2022-12-28T00:00:00",
          "2022-12-29T00:00:00",
          "2023-01-02T00:00:00",
          "2023-01-03T00:00:00",
          "2023-01-04T00:00:00",
          "2023-01-05T00:00:00",
          "2023-01-06T00:00:00",
          "2023-01-09T00:00:00",
          "2023-01-10T00:00:00",
          "2023-01-11T00:00:00",
          "2023-01-12T00:00:00",
          "2023-01-13T00:00:00",
          "2023-01-16T00:00:00",
          "2023-01-17T00:00:00",
          "2023-01-18T00:00:00",
          "2023-01-19T00:00:00",
          "2023-01-20T00:00:00",
          "2023-01-23T00:00:00",
          "2023-01-24T00:00:00",
          "2023-01-25T00:00:00",
          "2023-01-26T00:00:00",
          "2023-01-27T00:00:00",
          "2023-01-30T00:00:00",
          "2023-01-31T00:00:00",
          "2023-02-01T00:00:00",
          "2023-02-02T00:00:00",
          "2023-02-03T00:00:00",
          "2023-02-06T00:00:00",
          "2023-02-07T00:00:00",
          "2023-02-08T00:00:00",
          "2023-02-09T00:00:00",
          "2023-02-10T00:00:00",
          "2023-02-13T00:00:00",
          "2023-02-14T00:00:00"
         ],
         "xaxis": "x2",
         "y": [
          null,
          null,
          null,
          null,
          null,
          null,
          null,
          null,
          null,
          null,
          null,
          null,
          null,
          null,
          null,
          null,
          null,
          null,
          null,
          null,
          null,
          null,
          null,
          null,
          32.69440017700195,
          32.65640014648437,
          32.65400009155273,
          32.628800048828126,
          32.58080009460449,
          32.55280006408692,
          32.51840019226074,
          32.506800155639645,
          32.45840003967285,
          32.43080009460449,
          32.36640007019043,
          32.27400016784668,
          32.2660001373291,
          32.26520011901855,
          32.35120018005371,
          32.40680015563965,
          32.48720008850098,
          32.390000076293944,
          32.31919998168945,
          32.31039993286133,
          32.33839988708496,
          32.32759986877441,
          32.3315998840332,
          32.30959983825684,
          32.241599807739256,
          32.1871997833252,
          32.11639984130859,
          32.01879989624023,
          31.936799926757814,
          31.955599899291993,
          31.9439998626709,
          31.94679985046387,
          31.895199813842773,
          31.872399826049804,
          31.907199783325197,
          31.964799880981445,
          32.04119987487793,
          32.0639998626709,
          32.06199989318848,
          32.04799980163574,
          32.060799789428714,
          32.07119987487793,
          32.26839988708496,
          32.30359992980957,
          32.31959991455078,
          32.33279998779297,
          32.334400024414066,
          32.32959999084473,
          32.32959999084473,
          32.32800003051758,
          32.308000030517576,
          32.308000030517576,
          32.32080001831055,
          32.337200012207035,
          32.274800033569335,
          32.19720008850098,
          32.060800018310545,
          31.945200042724608,
          31.83160011291504,
          31.652000122070312,
          31.39120002746582,
          31.12520004272461,
          30.823600006103515,
          30.53680000305176,
          30.25240005493164,
          29.937200164794923,
          29.663200073242187,
          29.348400039672853,
          29.207600021362303,
          29.042800064086915,
          28.898800048828125,
          28.840400009155275,
          28.762000045776368,
          28.66640007019043,
          28.604800033569337,
          28.566399993896486,
          28.501599960327148,
          28.41879997253418,
          28.322399978637694,
          28.201599960327147,
          28.117199935913085,
          28.075199966430663,
          28.07159996032715,
          28.054399948120118,
          28.051999969482424,
          28.132799987792968,
          28.255999984741212,
          28.413600006103515,
          28.588000030517577,
          28.820000076293944,
          29.134400100708007,
          29.362400131225584,
          29.58240020751953,
          29.813200149536133,
          30.064400100708006,
          30.318000030517577,
          30.61760009765625,
          30.98560005187988,
          31.363200073242187,
          31.674000091552735,
          31.790400085449217,
          31.912800064086912,
          32.06400001525879,
          32.24439994812012,
          32.4815998840332,
          32.63239990234375,
          32.784799880981446,
          32.955199813842775,
          33.133999786376954,
          33.30439971923828,
          33.476799697875975,
          33.62799964904785,
          33.684799652099606,
          33.75999961853027,
          33.82239952087402,
          33.79319938659668,
          33.77959938049317,
          33.71039924621582,
          33.6283992767334,
          33.531599349975586,
          33.395999374389646,
          33.15679931640625,
          32.91239936828613,
          32.670399322509766,
          32.45159934997559,
          32.433999404907226,
          32.408799438476564,
          32.375199508666995,
          32.34239959716797,
          32.20319969177246,
          32.1055997467041,
          31.995999755859376,
          31.82919982910156,
          31.65599983215332,
          31.51679985046387,
          31.458399887084962,
          31.333999938964844,
          31.338799896240236,
          31.355999908447266,
          31.347200012207033,
          31.340400085449218,
          31.326800079345702,
          31.40040008544922,
          31.46520004272461,
          31.52919998168945,
          31.638399963378905,
          31.82919990539551,
          32.043199920654295,
          32.309599990844724,
          32.448399963378904,
          32.538799896240235,
          32.603599853515625,
          32.675199813842774,
          32.700399780273436,
          32.695199737548826,
          32.7179997253418,
          32.72919975280762,
          32.690399703979494,
          32.60399971008301,
          32.50599975585938,
          32.294799728393556,
          32.084799728393556,
          31.86239974975586,
          31.623999786376952,
          31.364799728393553,
          31.12119972229004,
          30.869199752807617,
          30.58279983520508,
          30.179199905395507,
          29.781199951171875,
          29.382799987792968,
          28.92040008544922,
          28.436000061035156,
          27.942399978637695,
          27.63879997253418,
          27.32120002746582,
          27.0492000579834,
          26.75560012817383,
          26.478400115966796,
          26.30000015258789,
          26.09680015563965,
          25.887200088500975,
          25.71160011291504,
          25.558400115966798,
          25.323200073242187,
          25.12880012512207,
          24.966000061035157,
          24.781600036621093,
          24.596399993896483,
          24.453199996948243,
          24.326399993896484,
          24.26319999694824,
          24.189599990844727,
          24.260800018310547,
          24.315199966430665,
          24.325199966430663,
          24.287599945068358,
          24.206799926757814,
          24.11359992980957,
          24.00239990234375,
          23.92839988708496,
          23.84679992675781,
          23.78559989929199,
          23.731199951171874,
          23.70239990234375,
          23.6939998626709,
          23.667199935913086,
          23.73159996032715,
          23.80159996032715,
          23.978399963378905,
          24.151599960327147,
          24.34120002746582,
          24.510000076293945,
          24.664800109863283,
          24.772000122070313,
          24.837200164794922,
          24.862400131225584,
          24.90760009765625,
          24.931600036621095,
          24.92040008544922,
          24.932000122070313,
          25.046400146484373,
          25.177600173950196,
          25.297600173950194,
          25.379600219726562,
          25.498800201416017,
          25.616000137329102,
          25.722000122070312
         ],
         "yaxis": "y2"
        }
       ],
       "layout": {
        "annotations": [
         {
          "font": {
           "size": 16
          },
          "showarrow": false,
          "text": "Cotação",
          "x": 0.5,
          "xanchor": "center",
          "xref": "paper",
          "y": 1,
          "yanchor": "bottom",
          "yref": "paper"
         },
         {
          "font": {
           "size": 16
          },
          "showarrow": false,
          "text": "Fechamento",
          "x": 0.5,
          "xanchor": "center",
          "xref": "paper",
          "y": 0.4625,
          "yanchor": "bottom",
          "yref": "paper"
         },
         {
          "font": {
           "size": 10
          },
          "showarrow": false,
          "text": "Análise feita no evento de Python oferecido pela Data Viking",
          "x": 1,
          "xref": "x domain",
          "y": -1.4,
          "yref": "y domain"
         },
         {
          "font": {
           "size": 10
          },
          "showarrow": false,
          "text": "Elaborado por Rogério Silva",
          "x": 0,
          "xref": "x domain",
          "y": -1.4,
          "yref": "y domain"
         }
        ],
        "height": 800,
        "legend": {
         "font": {
          "size": 10
         },
         "orientation": "h",
         "x": 1,
         "xanchor": "right",
         "y": 1.05,
         "yanchor": "bottom"
        },
        "template": {
         "data": {
          "bar": [
           {
            "error_x": {
             "color": "#2a3f5f"
            },
            "error_y": {
             "color": "#2a3f5f"
            },
            "marker": {
             "line": {
              "color": "#E5ECF6",
              "width": 0.5
             },
             "pattern": {
              "fillmode": "overlay",
              "size": 10,
              "solidity": 0.2
             }
            },
            "type": "bar"
           }
          ],
          "barpolar": [
           {
            "marker": {
             "line": {
              "color": "#E5ECF6",
              "width": 0.5
             },
             "pattern": {
              "fillmode": "overlay",
              "size": 10,
              "solidity": 0.2
             }
            },
            "type": "barpolar"
           }
          ],
          "carpet": [
           {
            "aaxis": {
             "endlinecolor": "#2a3f5f",
             "gridcolor": "white",
             "linecolor": "white",
             "minorgridcolor": "white",
             "startlinecolor": "#2a3f5f"
            },
            "baxis": {
             "endlinecolor": "#2a3f5f",
             "gridcolor": "white",
             "linecolor": "white",
             "minorgridcolor": "white",
             "startlinecolor": "#2a3f5f"
            },
            "type": "carpet"
           }
          ],
          "choropleth": [
           {
            "colorbar": {
             "outlinewidth": 0,
             "ticks": ""
            },
            "type": "choropleth"
           }
          ],
          "contour": [
           {
            "colorbar": {
             "outlinewidth": 0,
             "ticks": ""
            },
            "colorscale": [
             [
              0,
              "#0d0887"
             ],
             [
              0.1111111111111111,
              "#46039f"
             ],
             [
              0.2222222222222222,
              "#7201a8"
             ],
             [
              0.3333333333333333,
              "#9c179e"
             ],
             [
              0.4444444444444444,
              "#bd3786"
             ],
             [
              0.5555555555555556,
              "#d8576b"
             ],
             [
              0.6666666666666666,
              "#ed7953"
             ],
             [
              0.7777777777777778,
              "#fb9f3a"
             ],
             [
              0.8888888888888888,
              "#fdca26"
             ],
             [
              1,
              "#f0f921"
             ]
            ],
            "type": "contour"
           }
          ],
          "contourcarpet": [
           {
            "colorbar": {
             "outlinewidth": 0,
             "ticks": ""
            },
            "type": "contourcarpet"
           }
          ],
          "heatmap": [
           {
            "colorbar": {
             "outlinewidth": 0,
             "ticks": ""
            },
            "colorscale": [
             [
              0,
              "#0d0887"
             ],
             [
              0.1111111111111111,
              "#46039f"
             ],
             [
              0.2222222222222222,
              "#7201a8"
             ],
             [
              0.3333333333333333,
              "#9c179e"
             ],
             [
              0.4444444444444444,
              "#bd3786"
             ],
             [
              0.5555555555555556,
              "#d8576b"
             ],
             [
              0.6666666666666666,
              "#ed7953"
             ],
             [
              0.7777777777777778,
              "#fb9f3a"
             ],
             [
              0.8888888888888888,
              "#fdca26"
             ],
             [
              1,
              "#f0f921"
             ]
            ],
            "type": "heatmap"
           }
          ],
          "heatmapgl": [
           {
            "colorbar": {
             "outlinewidth": 0,
             "ticks": ""
            },
            "colorscale": [
             [
              0,
              "#0d0887"
             ],
             [
              0.1111111111111111,
              "#46039f"
             ],
             [
              0.2222222222222222,
              "#7201a8"
             ],
             [
              0.3333333333333333,
              "#9c179e"
             ],
             [
              0.4444444444444444,
              "#bd3786"
             ],
             [
              0.5555555555555556,
              "#d8576b"
             ],
             [
              0.6666666666666666,
              "#ed7953"
             ],
             [
              0.7777777777777778,
              "#fb9f3a"
             ],
             [
              0.8888888888888888,
              "#fdca26"
             ],
             [
              1,
              "#f0f921"
             ]
            ],
            "type": "heatmapgl"
           }
          ],
          "histogram": [
           {
            "marker": {
             "pattern": {
              "fillmode": "overlay",
              "size": 10,
              "solidity": 0.2
             }
            },
            "type": "histogram"
           }
          ],
          "histogram2d": [
           {
            "colorbar": {
             "outlinewidth": 0,
             "ticks": ""
            },
            "colorscale": [
             [
              0,
              "#0d0887"
             ],
             [
              0.1111111111111111,
              "#46039f"
             ],
             [
              0.2222222222222222,
              "#7201a8"
             ],
             [
              0.3333333333333333,
              "#9c179e"
             ],
             [
              0.4444444444444444,
              "#bd3786"
             ],
             [
              0.5555555555555556,
              "#d8576b"
             ],
             [
              0.6666666666666666,
              "#ed7953"
             ],
             [
              0.7777777777777778,
              "#fb9f3a"
             ],
             [
              0.8888888888888888,
              "#fdca26"
             ],
             [
              1,
              "#f0f921"
             ]
            ],
            "type": "histogram2d"
           }
          ],
          "histogram2dcontour": [
           {
            "colorbar": {
             "outlinewidth": 0,
             "ticks": ""
            },
            "colorscale": [
             [
              0,
              "#0d0887"
             ],
             [
              0.1111111111111111,
              "#46039f"
             ],
             [
              0.2222222222222222,
              "#7201a8"
             ],
             [
              0.3333333333333333,
              "#9c179e"
             ],
             [
              0.4444444444444444,
              "#bd3786"
             ],
             [
              0.5555555555555556,
              "#d8576b"
             ],
             [
              0.6666666666666666,
              "#ed7953"
             ],
             [
              0.7777777777777778,
              "#fb9f3a"
             ],
             [
              0.8888888888888888,
              "#fdca26"
             ],
             [
              1,
              "#f0f921"
             ]
            ],
            "type": "histogram2dcontour"
           }
          ],
          "mesh3d": [
           {
            "colorbar": {
             "outlinewidth": 0,
             "ticks": ""
            },
            "type": "mesh3d"
           }
          ],
          "parcoords": [
           {
            "line": {
             "colorbar": {
              "outlinewidth": 0,
              "ticks": ""
             }
            },
            "type": "parcoords"
           }
          ],
          "pie": [
           {
            "automargin": true,
            "type": "pie"
           }
          ],
          "scatter": [
           {
            "fillpattern": {
             "fillmode": "overlay",
             "size": 10,
             "solidity": 0.2
            },
            "type": "scatter"
           }
          ],
          "scatter3d": [
           {
            "line": {
             "colorbar": {
              "outlinewidth": 0,
              "ticks": ""
             }
            },
            "marker": {
             "colorbar": {
              "outlinewidth": 0,
              "ticks": ""
             }
            },
            "type": "scatter3d"
           }
          ],
          "scattercarpet": [
           {
            "marker": {
             "colorbar": {
              "outlinewidth": 0,
              "ticks": ""
             }
            },
            "type": "scattercarpet"
           }
          ],
          "scattergeo": [
           {
            "marker": {
             "colorbar": {
              "outlinewidth": 0,
              "ticks": ""
             }
            },
            "type": "scattergeo"
           }
          ],
          "scattergl": [
           {
            "marker": {
             "colorbar": {
              "outlinewidth": 0,
              "ticks": ""
             }
            },
            "type": "scattergl"
           }
          ],
          "scattermapbox": [
           {
            "marker": {
             "colorbar": {
              "outlinewidth": 0,
              "ticks": ""
             }
            },
            "type": "scattermapbox"
           }
          ],
          "scatterpolar": [
           {
            "marker": {
             "colorbar": {
              "outlinewidth": 0,
              "ticks": ""
             }
            },
            "type": "scatterpolar"
           }
          ],
          "scatterpolargl": [
           {
            "marker": {
             "colorbar": {
              "outlinewidth": 0,
              "ticks": ""
             }
            },
            "type": "scatterpolargl"
           }
          ],
          "scatterternary": [
           {
            "marker": {
             "colorbar": {
              "outlinewidth": 0,
              "ticks": ""
             }
            },
            "type": "scatterternary"
           }
          ],
          "surface": [
           {
            "colorbar": {
             "outlinewidth": 0,
             "ticks": ""
            },
            "colorscale": [
             [
              0,
              "#0d0887"
             ],
             [
              0.1111111111111111,
              "#46039f"
             ],
             [
              0.2222222222222222,
              "#7201a8"
             ],
             [
              0.3333333333333333,
              "#9c179e"
             ],
             [
              0.4444444444444444,
              "#bd3786"
             ],
             [
              0.5555555555555556,
              "#d8576b"
             ],
             [
              0.6666666666666666,
              "#ed7953"
             ],
             [
              0.7777777777777778,
              "#fb9f3a"
             ],
             [
              0.8888888888888888,
              "#fdca26"
             ],
             [
              1,
              "#f0f921"
             ]
            ],
            "type": "surface"
           }
          ],
          "table": [
           {
            "cells": {
             "fill": {
              "color": "#EBF0F8"
             },
             "line": {
              "color": "white"
             }
            },
            "header": {
             "fill": {
              "color": "#C8D4E3"
             },
             "line": {
              "color": "white"
             }
            },
            "type": "table"
           }
          ]
         },
         "layout": {
          "annotationdefaults": {
           "arrowcolor": "#2a3f5f",
           "arrowhead": 0,
           "arrowwidth": 1
          },
          "autotypenumbers": "strict",
          "coloraxis": {
           "colorbar": {
            "outlinewidth": 0,
            "ticks": ""
           }
          },
          "colorscale": {
           "diverging": [
            [
             0,
             "#8e0152"
            ],
            [
             0.1,
             "#c51b7d"
            ],
            [
             0.2,
             "#de77ae"
            ],
            [
             0.3,
             "#f1b6da"
            ],
            [
             0.4,
             "#fde0ef"
            ],
            [
             0.5,
             "#f7f7f7"
            ],
            [
             0.6,
             "#e6f5d0"
            ],
            [
             0.7,
             "#b8e186"
            ],
            [
             0.8,
             "#7fbc41"
            ],
            [
             0.9,
             "#4d9221"
            ],
            [
             1,
             "#276419"
            ]
           ],
           "sequential": [
            [
             0,
             "#0d0887"
            ],
            [
             0.1111111111111111,
             "#46039f"
            ],
            [
             0.2222222222222222,
             "#7201a8"
            ],
            [
             0.3333333333333333,
             "#9c179e"
            ],
            [
             0.4444444444444444,
             "#bd3786"
            ],
            [
             0.5555555555555556,
             "#d8576b"
            ],
            [
             0.6666666666666666,
             "#ed7953"
            ],
            [
             0.7777777777777778,
             "#fb9f3a"
            ],
            [
             0.8888888888888888,
             "#fdca26"
            ],
            [
             1,
             "#f0f921"
            ]
           ],
           "sequentialminus": [
            [
             0,
             "#0d0887"
            ],
            [
             0.1111111111111111,
             "#46039f"
            ],
            [
             0.2222222222222222,
             "#7201a8"
            ],
            [
             0.3333333333333333,
             "#9c179e"
            ],
            [
             0.4444444444444444,
             "#bd3786"
            ],
            [
             0.5555555555555556,
             "#d8576b"
            ],
            [
             0.6666666666666666,
             "#ed7953"
            ],
            [
             0.7777777777777778,
             "#fb9f3a"
            ],
            [
             0.8888888888888888,
             "#fdca26"
            ],
            [
             1,
             "#f0f921"
            ]
           ]
          },
          "colorway": [
           "#636efa",
           "#EF553B",
           "#00cc96",
           "#ab63fa",
           "#FFA15A",
           "#19d3f3",
           "#FF6692",
           "#B6E880",
           "#FF97FF",
           "#FECB52"
          ],
          "font": {
           "color": "#2a3f5f"
          },
          "geo": {
           "bgcolor": "white",
           "lakecolor": "white",
           "landcolor": "#E5ECF6",
           "showlakes": true,
           "showland": true,
           "subunitcolor": "white"
          },
          "hoverlabel": {
           "align": "left"
          },
          "hovermode": "closest",
          "mapbox": {
           "style": "light"
          },
          "paper_bgcolor": "white",
          "plot_bgcolor": "#E5ECF6",
          "polar": {
           "angularaxis": {
            "gridcolor": "white",
            "linecolor": "white",
            "ticks": ""
           },
           "bgcolor": "#E5ECF6",
           "radialaxis": {
            "gridcolor": "white",
            "linecolor": "white",
            "ticks": ""
           }
          },
          "scene": {
           "xaxis": {
            "backgroundcolor": "#E5ECF6",
            "gridcolor": "white",
            "gridwidth": 2,
            "linecolor": "white",
            "showbackground": true,
            "ticks": "",
            "zerolinecolor": "white"
           },
           "yaxis": {
            "backgroundcolor": "#E5ECF6",
            "gridcolor": "white",
            "gridwidth": 2,
            "linecolor": "white",
            "showbackground": true,
            "ticks": "",
            "zerolinecolor": "white"
           },
           "zaxis": {
            "backgroundcolor": "#E5ECF6",
            "gridcolor": "white",
            "gridwidth": 2,
            "linecolor": "white",
            "showbackground": true,
            "ticks": "",
            "zerolinecolor": "white"
           }
          },
          "shapedefaults": {
           "line": {
            "color": "#2a3f5f"
           }
          },
          "ternary": {
           "aaxis": {
            "gridcolor": "white",
            "linecolor": "white",
            "ticks": ""
           },
           "baxis": {
            "gridcolor": "white",
            "linecolor": "white",
            "ticks": ""
           },
           "bgcolor": "#E5ECF6",
           "caxis": {
            "gridcolor": "white",
            "linecolor": "white",
            "ticks": ""
           }
          },
          "title": {
           "x": 0.05
          },
          "xaxis": {
           "automargin": true,
           "gridcolor": "white",
           "linecolor": "white",
           "ticks": "",
           "title": {
            "standoff": 15
           },
           "zerolinecolor": "white",
           "zerolinewidth": 2
          },
          "yaxis": {
           "automargin": true,
           "gridcolor": "white",
           "linecolor": "white",
           "ticks": "",
           "title": {
            "standoff": 15
           },
           "zerolinecolor": "white",
           "zerolinewidth": 2
          }
         }
        },
        "title": {
         "text": "<b>Advanced Analytics</b><br>Follow-up Petrobras"
        },
        "width": 1000,
        "xaxis": {
         "anchor": "y",
         "domain": [
          0,
          1
         ],
         "matches": "x2",
         "rangeslider": {
          "visible": false
         },
         "showticklabels": false
        },
        "xaxis2": {
         "anchor": "y2",
         "domain": [
          0,
          1
         ]
        },
        "yaxis": {
         "anchor": "x",
         "domain": [
          0.5375,
          1
         ]
        },
        "yaxis2": {
         "anchor": "x2",
         "domain": [
          0,
          0.4625
         ]
        }
       }
      },
      "text/html": [
       "<div>                            <div id=\"335133b8-065a-4ea0-9385-019f7f4da07d\" class=\"plotly-graph-div\" style=\"height:800px; width:1000px;\"></div>            <script type=\"text/javascript\">                require([\"plotly\"], function(Plotly) {                    window.PLOTLYENV=window.PLOTLYENV || {};                                    if (document.getElementById(\"335133b8-065a-4ea0-9385-019f7f4da07d\")) {                    Plotly.newPlot(                        \"335133b8-065a-4ea0-9385-019f7f4da07d\",                        [{\"close\":[33.0,32.47999954223633,32.93000030517578,32.79999923706055,33.0,33.849998474121094,33.7400016784668,34.220001220703125,33.38999938964844,34.0,34.66999816894531,34.2400016784668,34.22999954223633,31.799999237060547,32.459999084472656,32.560001373291016,33.70000076293945,32.4900016784668,31.8700008392334,31.100000381469727,30.829999923706055,30.010000228881836,30.610000610351562,31.760000228881836,31.6200008392334,32.04999923706055,32.41999816894531,32.29999923706055,31.600000381469727,32.29999923706055,32.9900016784668,33.45000076293945,33.0099983215332,32.70000076293945,32.38999938964844,32.36000061035156,34.040000915527344,34.209999084472656,33.95000076293945,33.849998474121094,34.56999969482422,31.270000457763672,30.719999313354492,31.649999618530273,31.799999237060547,30.559999465942383,30.110000610351562,30.059999465942383,30.059999465942383,30.260000228881836,30.280000686645508,29.979999542236328,30.25,32.06999969482422,32.0099983215332,33.060001373291016,32.15999984741211,32.439998626708984,33.56999969482422,33.83000183105469,34.27000045776367,34.61000061035156,34.15999984741211,33.599998474121094,34.16999816894531,34.83000183105469,36.20000076293945,31.600000381469727,32.04999923706055,32.130001068115234,30.600000381469727,29.989999771118164,30.059999465942383,30.020000457763672,29.760000228881836,30.280000686645508,30.299999237060547,30.65999984741211,30.510000228881836,30.06999969482422,29.649999618530273,29.270000457763672,29.600000381469727,29.079999923706055,27.309999465942383,27.6200008392334,27.06999969482422,26.989999771118164,26.489999771118164,26.290000915527344,27.979999542236328,28.329999923706055,28.079999923706055,27.93000030517578,28.530000686645508,29.139999389648438,28.030000686645508,27.670000076293945,28.479999542236328,28.799999237060547,28.65999984741211,28.229999542236328,28.25,27.489999771118164,27.959999084472656,28.600000381469727,29.18000030517578,29.170000076293945,29.020000457763672,29.329999923706055,30.700000762939453,31.010000228881836,31.350000381469727,32.290000915527344,34.150001525878906,33.68000030517578,33.83000183105469,33.849998474121094,34.209999084472656,34.869998931884766,36.630001068115234,37.22999954223633,37.11000061035156,36.25,31.709999084472656,31.719999313354492,32.0099983215332,32.7599983215332,33.41999816894531,31.729999542236328,32.40999984741211,33.439998626708984,33.63999938964844,33.279998779296875,33.63999938964844,34.47999954223633,32.43000030517578,33.22999954223633,33.849998474121094,33.41999816894531,33.34000015258789,32.099998474121094,31.799999237060547,31.790000915527344,31.479999542236328,30.649999618530273,31.1200008392334,31.059999465942383,30.780000686645508,31.270000457763672,31.09000015258789,31.170000076293945,31.940000534057617,29.940000534057617,29.290000915527344,29.670000076293945,29.270000457763672,29.309999465942383,29.799999237060547,32.18000030517578,31.3700008392334,32.54999923706055,33.65999984741211,33.630001068115234,33.25,33.0,33.939998626708984,33.41999816894531,33.38999938964844,34.209999084472656,35.41999816894531,36.470001220703125,37.720001220703125,34.25,33.529998779296875,32.709999084472656,32.959999084472656,32.56999969482422,29.809999465942383,29.860000610351562,29.950000762939453,28.299999237060547,27.149999618530273,27.350000381469727,26.899999618530273,26.1200008392334,26.989999771118164,27.700000762939453,27.149999618530273,27.15999984741211,26.700000762939453,26.780000686645508,23.329999923706055,23.440000534057617,24.25,23.860000610351562,24.360000610351562,25.3799991607666,26.65999984741211,25.59000015258789,25.90999984741211,25.6200008392334,25.639999389648438,25.350000381469727,24.780000686645508,24.709999084472656,23.90999984741211,23.31999969482422,21.469999313354492,22.040000915527344,22.049999237060547,22.3799991607666,23.06999969482422,23.56999969482422,23.989999771118164,25.1200008392334,24.940000534057617,25.110000610351562,24.799999237060547,24.5,22.920000076293945,22.34000015258789,23.049999237060547,23.8799991607666,23.739999771118164,23.8700008392334,24.09000015258789,24.280000686645508,24.6299991607666,24.56999969482422,24.040000915527344,25.520000457763672,25.06999969482422,25.889999389648438,26.3700008392334,26.790000915527344,26.600000381469727,26.940000534057617,26.25,25.6200008392334,25.75,26.06999969482422,25.709999084472656,24.520000457763672,24.790000915527344,25.780000686645508,25.6200008392334,26.049999237060547,25.93000030517578,26.719999313354492,26.799999237060547,26.739999771118164],\"high\":[33.939998626708984,32.68000030517578,33.70000076293945,33.290000915527344,33.09000015258789,34.0,34.68000030517578,34.599998474121094,35.290000915527344,34.0,35.290000915527344,34.93000030517578,34.68000030517578,34.599998474121094,32.970001220703125,32.81999969482422,34.599998474121094,34.380001068115234,32.88999938964844,31.540000915527344,31.540000915527344,31.399999618530273,30.81999969482422,32.09000015258789,32.099998474121094,32.470001220703125,32.599998474121094,32.54999923706055,32.08000183105469,32.7599983215332,32.9900016784668,33.56999969482422,33.790000915527344,32.900001525878906,33.060001373291016,32.779998779296875,34.060001373291016,34.40999984741211,34.099998474121094,34.68000030517578,34.79999923706055,32.06999969482422,31.389999389648438,32.0,31.950000762939453,31.299999237060547,30.440000534057617,30.579999923706055,30.559999465942383,30.6200008392334,31.59000015258789,30.329999923706055,30.389999389648438,32.16999816894531,32.5,33.119998931884766,33.040000915527344,32.849998474121094,33.90999984741211,34.08000183105469,34.439998626708984,34.880001068115234,35.13999938964844,34.560001373291016,34.290000915527344,34.83000183105469,36.310001373291016,32.09000015258789,32.279998779296875,32.560001373291016,32.150001525878906,30.8700008392334,30.6200008392334,30.329999923706055,30.049999237060547,30.440000534057617,30.530000686645508,31.299999237060547,31.149999618530273,30.65999984741211,30.010000228881836,29.579999923706055,30.25,30.020000457763672,28.450000762939453,28.25,28.15999984741211,27.549999237060547,27.3799991607666,27.09000015258789,28.06999969482422,28.829999923706055,28.81999969482422,28.059999465942383,28.850000381469727,29.280000686645508,28.950000762939453,28.479999542236328,28.920000076293945,28.969999313354492,28.790000915527344,28.43000030517578,28.479999542236328,28.0,28.049999237060547,28.690000534057617,29.239999771118164,29.219999313354492,29.1299991607666,29.469999313354492,30.75,31.6200008392334,31.469999313354492,32.630001068115234,34.65999984741211,34.150001525878906,34.5,34.15999984741211,34.400001525878906,35.060001373291016,36.77000045776367,37.459999084472656,37.650001525878906,37.86000061035156,31.829999923706055,32.22999954223633,32.06999969482422,32.81999969482422,33.65999984741211,33.150001525878906,32.58000183105469,33.5,34.119998931884766,34.36000061035156,33.66999816894531,35.08000183105469,34.220001220703125,33.439998626708984,33.95000076293945,34.56999969482422,34.11000061035156,32.59000015258789,32.779998779296875,32.66999816894531,32.72999954223633,31.440000534057617,31.43000030517578,31.229999542236328,30.950000762939453,31.3799991607666,31.600000381469727,31.469999313354492,32.08000183105469,31.389999389648438,30.079999923706055,29.8799991607666,29.81999969482422,29.399999618530273,30.489999771118164,32.63999938964844,32.97999954223633,32.81999969482422,33.790000915527344,34.31999969482422,33.88999938964844,33.33000183105469,34.4900016784668,34.13999938964844,34.150001525878906,34.22999954223633,35.560001373291016,36.54999923706055,38.38999938964844,36.81999969482422,34.5,33.529998779296875,33.540000915527344,33.119998931884766,31.600000381469727,30.670000076293945,30.389999389648438,30.899999618530273,28.299999237060547,27.530000686645508,27.950000762939453,26.889999389648438,27.360000610351562,28.18000030517578,28.110000610351562,27.299999237060547,27.600000381469727,27.56999969482422,23.43000030517578,23.649999618530273,24.6299991607666,24.329999923706055,24.549999237060547,25.8799991607666,26.65999984741211,26.790000915527344,26.450000762939453,26.579999923706055,26.389999389648438,26.06999969482422,25.790000915527344,25.049999237060547,24.65999984741211,24.200000762939453,22.600000381469727,22.3700008392334,22.110000610351562,22.510000228881836,23.239999771118164,23.719999313354492,24.559999465942383,25.219999313354492,25.299999237060547,25.309999465942383,25.31999969482422,25.049999237060547,23.809999465942383,23.100000381469727,23.59000015258789,24.040000915527344,24.31999969482422,24.0,24.110000610351562,24.6200008392334,24.649999618530273,24.65999984741211,24.5,25.6200008392334,26.030000686645508,25.950000762939453,26.600000381469727,27.600000381469727,27.530000686645508,27.079999923706055,27.200000762939453,26.229999542236328,26.06999969482422,26.209999084472656,26.479999542236328,25.809999465942383,25.3799991607666,25.8700008392334,26.139999389648438,26.149999618530273,26.31999969482422,26.790000915527344,26.889999389648438,27.059999465942383],\"low\":[32.81999969482422,31.889999389648438,32.77000045776367,32.54999923706055,32.27000045776367,33.0,33.209999084472656,33.79999923706055,32.68000030517578,32.900001525878906,34.38999938964844,34.15999984741211,33.81999969482422,31.6299991607666,31.510000228881836,31.739999771118164,32.52000045776367,32.06999969482422,31.520000457763672,30.469999313354492,30.3700008392334,29.5,29.860000610351562,30.639999389648438,31.350000381469727,31.690000534057617,31.670000076293945,31.920000076293945,30.979999542236328,31.920000076293945,32.380001068115234,32.5,32.90999984741211,32.25,32.38999938964844,32.040000915527344,32.5,33.849998474121094,33.779998779296875,33.79999923706055,34.099998474121094,31.15999984741211,30.469999313354492,31.1200008392334,31.329999923706055,30.31999969482422,29.540000915527344,29.889999389648438,29.950000762939453,30.25,30.280000686645508,29.329999923706055,29.81999969482422,30.399999618530273,31.020000457763672,31.899999618530273,32.060001373291016,32.20000076293945,32.689998626708984,33.2599983215332,33.900001525878906,34.0099983215332,34.13999938964844,33.43000030517578,33.33000183105469,34.25,35.150001525878906,30.709999084472656,31.260000228881836,31.950000762939453,30.56999969482422,29.1200008392334,29.809999465942383,29.850000381469727,29.549999237060547,29.530000686645508,29.90999984741211,30.15999984741211,30.329999923706055,29.979999542236328,29.059999465942383,28.670000076293945,29.239999771118164,28.84000015258789,26.1299991607666,25.90999984741211,26.690000534057617,26.389999389648438,26.1200008392334,26.18000030517578,26.65999984741211,28.020000457763672,27.84000015258789,27.399999618530273,27.520000457763672,28.540000915527344,27.549999237060547,26.90999984741211,28.0,28.3700008392334,28.25,27.969999313354492,27.979999542236328,27.239999771118164,27.489999771118164,28.299999237060547,28.399999618530273,28.829999923706055,28.200000762939453,28.850000381469727,29.610000610351562,30.59000015258789,30.6200008392334,31.43000030517578,32.83000183105469,33.220001220703125,33.47999954223633,33.560001373291016,33.58000183105469,34.119998931884766,35.130001068115234,36.849998474121094,36.61000061035156,36.25,29.079999923706055,30.549999237060547,31.5,31.600000381469727,32.869998931884766,31.329999923706055,30.479999542236328,32.619998931884766,33.25,32.66999816894531,32.56999969482422,33.45000076293945,32.27000045776367,31.81999969482422,32.7599983215332,33.2599983215332,33.150001525878906,31.510000228881836,31.399999618530273,31.700000762939453,31.459999084472656,30.520000457763672,30.6299991607666,30.799999237060547,30.34000015258789,29.8799991607666,30.84000015258789,30.889999389648438,31.030000686645508,29.770000457763672,29.270000457763672,29.579999923706055,28.579999923706055,28.600000381469727,29.0,31.65999984741211,31.06999969482422,31.200000762939453,32.439998626708984,33.220001220703125,33.0,32.61000061035156,32.40999984741211,33.29999923706055,32.84000015258789,33.15999984741211,34.02000045776367,35.77000045776367,36.38999938964844,34.22999954223633,33.209999084472656,31.899999618530273,32.66999816894531,31.860000610351562,29.15999984741211,29.559999465942383,29.440000534057617,28.18000030517578,27.06999969482422,26.75,26.639999389648438,25.610000610351562,25.700000762939453,27.09000015258789,26.93000030517578,26.549999237060547,26.219999313354492,26.049999237060547,22.299999237060547,22.799999237060547,23.25,23.600000381469727,23.540000915527344,24.479999542236328,25.5,25.559999465942383,25.309999465942383,25.549999237060547,25.420000076293945,25.270000457763672,24.639999389648438,24.489999771118164,23.1299991607666,23.309999465942383,20.770000457763672,20.829999923706055,21.510000228881836,21.639999389648438,22.209999084472656,22.850000381469727,23.700000762939453,24.1299991607666,24.81999969482422,24.549999237060547,24.75,24.43000030517578,22.799999237060547,22.1299991607666,21.829999923706055,23.149999618530273,23.549999237060547,23.25,23.3700008392334,24.049999237060547,24.110000610351562,24.25,23.829999923706055,24.110000610351562,25.0,24.790000915527344,25.420000076293945,26.1299991607666,26.3700008392334,26.010000228881836,25.799999237060547,25.440000534057617,25.510000228881836,25.520000457763672,25.450000762939453,24.420000076293945,24.420000076293945,24.75,25.459999084472656,25.559999465942383,25.790000915527344,25.93000030517578,26.3700008392334,26.600000381469727],\"open\":[33.86000061035156,32.65999984741211,32.83000183105469,32.849998474121094,32.56999969482422,33.04999923706055,34.220001220703125,34.18000030517578,34.79999923706055,33.45000076293945,35.2599983215332,34.81999969482422,34.08000183105469,34.5,32.0,32.599998474121094,32.599998474121094,33.90999984741211,32.43000030517578,31.139999389648438,31.5,31.25,30.09000015258789,30.90999984741211,31.989999771118164,31.93000030517578,32.04999923706055,32.150001525878906,32.060001373291016,32.130001068115234,32.5,32.56999969482422,33.54999923706055,32.900001525878906,32.65999984741211,32.599998474121094,32.63999938964844,34.06999969482422,33.900001525878906,34.400001525878906,34.369998931884766,31.600000381469727,31.15999984741211,31.15999984741211,31.649999618530273,31.049999237060547,29.969999313354492,30.110000610351562,30.3700008392334,30.450000762939453,30.75,30.170000076293945,30.1200008392334,30.600000381469727,31.809999465942383,32.689998626708984,32.70000076293945,32.36000061035156,32.779998779296875,33.2599983215332,34.099998474121094,34.25,35.0,34.18000030517578,33.52000045776367,34.59000015258789,35.18000030517578,31.200000762939453,31.700000762939453,32.02000045776367,32.150001525878906,30.84000015258789,30.40999984741211,29.899999618530273,29.969999313354492,29.709999084472656,30.5,30.190000534057617,30.420000076293945,30.510000228881836,30.010000228881836,29.020000457763672,29.65999984741211,30.0,28.170000076293945,26.020000457763672,27.799999237060547,26.579999923706055,26.979999542236328,26.760000228881836,26.81999969482422,28.579999923706055,28.479999542236328,27.649999618530273,28.079999923706055,28.540000915527344,28.899999618530273,28.15999984741211,28.0,28.530000686645508,28.31999969482422,28.299999237060547,28.1299991607666,28.0,27.700000762939453,28.389999389648438,28.549999237060547,29.06999969482422,28.979999542236328,29.040000915527344,29.610000610351562,31.200000762939453,31.299999237060547,31.59000015258789,33.599998474121094,34.0,33.77000045776367,34.0099983215332,34.08000183105469,34.150001525878906,35.13999938964844,37.0099983215332,37.650001525878906,37.45000076293945,29.100000381469727,30.8799991607666,31.719999313354492,31.649999618530273,33.099998474121094,32.91999816894531,31.739999771118164,32.630001068115234,33.540000915527344,34.099998474121094,33.279998779296875,33.54999923706055,34.0,32.06999969482422,33.36000061035156,34.439998626708984,33.849998474121094,32.27000045776367,32.310001373291016,32.4900016784668,32.150001525878906,30.940000534057617,30.75,30.920000076293945,30.860000610351562,30.5,31.420000076293945,31.350000381469727,31.479999542236328,31.31999969482422,29.719999313354492,29.65999984741211,29.670000076293945,28.989999771118164,29.219999313354492,31.90999984741211,32.900001525878906,31.40999984741211,33.0,33.58000183105469,33.650001525878906,32.88999938964844,32.5,33.970001220703125,33.2400016784668,33.900001525878906,34.130001068115234,36.099998474121094,36.45000076293945,36.5,34.040000915527344,32.599998474121094,32.810001373291016,32.70000076293945,30.610000610351562,30.56999969482422,29.799999237060547,30.799999237060547,27.959999084472656,27.059999465942383,27.149999618530273,26.079999923706055,25.799999237060547,27.260000228881836,27.809999465942383,27.0,27.399999618530273,27.1200008392334,23.0,23.0,23.520000457763672,24.260000228881836,23.649999618530273,24.600000381469727,25.600000381469727,26.579999923706055,25.690000534057617,26.0,25.81999969482422,25.34000015258789,25.549999237060547,24.989999771118164,24.579999923706055,24.100000381469727,22.5,21.0,21.959999084472656,22.100000381469727,22.389999389648438,23.5,23.899999618530273,24.1299991607666,25.1200008392334,25.25,25.100000381469727,24.989999771118164,23.540000915527344,22.940000534057617,21.959999084472656,23.34000015258789,23.940000534057617,23.5,23.950000762939453,24.149999618530273,24.290000915527344,24.440000534057617,24.40999984741211,24.110000610351562,25.84000015258789,25.0,25.889999389648438,26.270000457763672,27.469999313354492,26.549999237060547,27.09000015258789,26.18000030517578,25.850000381469727,25.6299991607666,26.06999969482422,25.510000228881836,24.540000915527344,24.8700008392334,25.90999984741211,25.799999237060547,26.049999237060547,25.979999542236328,26.690000534057617,26.850000381469727],\"x\":[\"2022-02-14T00:00:00\",\"2022-02-15T00:00:00\",\"2022-02-16T00:00:00\",\"2022-02-17T00:00:00\",\"2022-02-18T00:00:00\",\"2022-02-21T00:00:00\",\"2022-02-22T00:00:00\",\"2022-02-23T00:00:00\",\"2022-02-24T00:00:00\",\"2022-02-25T00:00:00\",\"2022-03-02T00:00:00\",\"2022-03-03T00:00:00\",\"2022-03-04T00:00:00\",\"2022-03-07T00:00:00\",\"2022-03-08T00:00:00\",\"2022-03-09T00:00:00\",\"2022-03-10T00:00:00\",\"2022-03-11T00:00:00\",\"2022-03-14T00:00:00\",\"2022-03-15T00:00:00\",\"2022-03-16T00:00:00\",\"2022-03-17T00:00:00\",\"2022-03-18T00:00:00\",\"2022-03-21T00:00:00\",\"2022-03-22T00:00:00\",\"2022-03-23T00:00:00\",\"2022-03-24T00:00:00\",\"2022-03-25T00:00:00\",\"2022-03-28T00:00:00\",\"2022-03-29T00:00:00\",\"2022-03-30T00:00:00\",\"2022-03-31T00:00:00\",\"2022-04-01T00:00:00\",\"2022-04-04T00:00:00\",\"2022-04-05T00:00:00\",\"2022-04-06T00:00:00\",\"2022-04-07T00:00:00\",\"2022-04-08T00:00:00\",\"2022-04-11T00:00:00\",\"2022-04-12T00:00:00\",\"2022-04-13T00:00:00\",\"2022-04-14T00:00:00\",\"2022-04-18T00:00:00\",\"2022-04-19T00:00:00\",\"2022-04-20T00:00:00\",\"2022-04-22T00:00:00\",\"2022-04-25T00:00:00\",\"2022-04-26T00:00:00\",\"2022-04-27T00:00:00\",\"2022-04-28T00:00:00\",\"2022-04-29T00:00:00\",\"2022-05-02T00:00:00\",\"2022-05-03T00:00:00\",\"2022-05-04T00:00:00\",\"2022-05-05T00:00:00\",\"2022-05-06T00:00:00\",\"2022-05-09T00:00:00\",\"2022-05-10T00:00:00\",\"2022-05-11T00:00:00\",\"2022-05-12T00:00:00\",\"2022-05-13T00:00:00\",\"2022-05-16T00:00:00\",\"2022-05-17T00:00:00\",\"2022-05-18T00:00:00\",\"2022-05-19T00:00:00\",\"2022-05-20T00:00:00\",\"2022-05-23T00:00:00\",\"2022-05-24T00:00:00\",\"2022-05-25T00:00:00\",\"2022-05-26T00:00:00\",\"2022-05-27T00:00:00\",\"2022-05-30T00:00:00\",\"2022-05-31T00:00:00\",\"2022-06-01T00:00:00\",\"2022-06-02T00:00:00\",\"2022-06-03T00:00:00\",\"2022-06-06T00:00:00\",\"2022-06-07T00:00:00\",\"2022-06-08T00:00:00\",\"2022-06-09T00:00:00\",\"2022-06-10T00:00:00\",\"2022-06-13T00:00:00\",\"2022-06-14T00:00:00\",\"2022-06-15T00:00:00\",\"2022-06-17T00:00:00\",\"2022-06-20T00:00:00\",\"2022-06-21T00:00:00\",\"2022-06-22T00:00:00\",\"2022-06-23T00:00:00\",\"2022-06-24T00:00:00\",\"2022-06-27T00:00:00\",\"2022-06-28T00:00:00\",\"2022-06-29T00:00:00\",\"2022-06-30T00:00:00\",\"2022-07-01T00:00:00\",\"2022-07-04T00:00:00\",\"2022-07-05T00:00:00\",\"2022-07-06T00:00:00\",\"2022-07-07T00:00:00\",\"2022-07-08T00:00:00\",\"2022-07-11T00:00:00\",\"2022-07-12T00:00:00\",\"2022-07-13T00:00:00\",\"2022-07-14T00:00:00\",\"2022-07-15T00:00:00\",\"2022-07-18T00:00:00\",\"2022-07-19T00:00:00\",\"2022-07-20T00:00:00\",\"2022-07-21T00:00:00\",\"2022-07-22T00:00:00\",\"2022-07-25T00:00:00\",\"2022-07-26T00:00:00\",\"2022-07-27T00:00:00\",\"2022-07-28T00:00:00\",\"2022-07-29T00:00:00\",\"2022-08-01T00:00:00\",\"2022-08-02T00:00:00\",\"2022-08-03T00:00:00\",\"2022-08-04T00:00:00\",\"2022-08-05T00:00:00\",\"2022-08-08T00:00:00\",\"2022-08-09T00:00:00\",\"2022-08-10T00:00:00\",\"2022-08-11T00:00:00\",\"2022-08-12T00:00:00\",\"2022-08-15T00:00:00\",\"2022-08-16T00:00:00\",\"2022-08-17T00:00:00\",\"2022-08-18T00:00:00\",\"2022-08-19T00:00:00\",\"2022-08-22T00:00:00\",\"2022-08-23T00:00:00\",\"2022-08-24T00:00:00\",\"2022-08-25T00:00:00\",\"2022-08-26T00:00:00\",\"2022-08-29T00:00:00\",\"2022-08-30T00:00:00\",\"2022-08-31T00:00:00\",\"2022-09-01T00:00:00\",\"2022-09-02T00:00:00\",\"2022-09-05T00:00:00\",\"2022-09-06T00:00:00\",\"2022-09-08T00:00:00\",\"2022-09-09T00:00:00\",\"2022-09-12T00:00:00\",\"2022-09-13T00:00:00\",\"2022-09-14T00:00:00\",\"2022-09-15T00:00:00\",\"2022-09-16T00:00:00\",\"2022-09-19T00:00:00\",\"2022-09-20T00:00:00\",\"2022-09-21T00:00:00\",\"2022-09-22T00:00:00\",\"2022-09-23T00:00:00\",\"2022-09-26T00:00:00\",\"2022-09-27T00:00:00\",\"2022-09-28T00:00:00\",\"2022-09-29T00:00:00\",\"2022-09-30T00:00:00\",\"2022-10-03T00:00:00\",\"2022-10-04T00:00:00\",\"2022-10-05T00:00:00\",\"2022-10-06T00:00:00\",\"2022-10-07T00:00:00\",\"2022-10-10T00:00:00\",\"2022-10-11T00:00:00\",\"2022-10-13T00:00:00\",\"2022-10-14T00:00:00\",\"2022-10-17T00:00:00\",\"2022-10-18T00:00:00\",\"2022-10-19T00:00:00\",\"2022-10-20T00:00:00\",\"2022-10-21T00:00:00\",\"2022-10-24T00:00:00\",\"2022-10-25T00:00:00\",\"2022-10-26T00:00:00\",\"2022-10-27T00:00:00\",\"2022-10-28T00:00:00\",\"2022-10-31T00:00:00\",\"2022-11-01T00:00:00\",\"2022-11-03T00:00:00\",\"2022-11-04T00:00:00\",\"2022-11-07T00:00:00\",\"2022-11-08T00:00:00\",\"2022-11-09T00:00:00\",\"2022-11-10T00:00:00\",\"2022-11-11T00:00:00\",\"2022-11-14T00:00:00\",\"2022-11-16T00:00:00\",\"2022-11-17T00:00:00\",\"2022-11-18T00:00:00\",\"2022-11-21T00:00:00\",\"2022-11-22T00:00:00\",\"2022-11-23T00:00:00\",\"2022-11-24T00:00:00\",\"2022-11-25T00:00:00\",\"2022-11-28T00:00:00\",\"2022-11-29T00:00:00\",\"2022-11-30T00:00:00\",\"2022-12-01T00:00:00\",\"2022-12-02T00:00:00\",\"2022-12-05T00:00:00\",\"2022-12-06T00:00:00\",\"2022-12-07T00:00:00\",\"2022-12-08T00:00:00\",\"2022-12-09T00:00:00\",\"2022-12-12T00:00:00\",\"2022-12-13T00:00:00\",\"2022-12-14T00:00:00\",\"2022-12-15T00:00:00\",\"2022-12-16T00:00:00\",\"2022-12-19T00:00:00\",\"2022-12-20T00:00:00\",\"2022-12-21T00:00:00\",\"2022-12-22T00:00:00\",\"2022-12-23T00:00:00\",\"2022-12-26T00:00:00\",\"2022-12-27T00:00:00\",\"2022-12-28T00:00:00\",\"2022-12-29T00:00:00\",\"2023-01-02T00:00:00\",\"2023-01-03T00:00:00\",\"2023-01-04T00:00:00\",\"2023-01-05T00:00:00\",\"2023-01-06T00:00:00\",\"2023-01-09T00:00:00\",\"2023-01-10T00:00:00\",\"2023-01-11T00:00:00\",\"2023-01-12T00:00:00\",\"2023-01-13T00:00:00\",\"2023-01-16T00:00:00\",\"2023-01-17T00:00:00\",\"2023-01-18T00:00:00\",\"2023-01-19T00:00:00\",\"2023-01-20T00:00:00\",\"2023-01-23T00:00:00\",\"2023-01-24T00:00:00\",\"2023-01-25T00:00:00\",\"2023-01-26T00:00:00\",\"2023-01-27T00:00:00\",\"2023-01-30T00:00:00\",\"2023-01-31T00:00:00\",\"2023-02-01T00:00:00\",\"2023-02-02T00:00:00\",\"2023-02-03T00:00:00\",\"2023-02-06T00:00:00\",\"2023-02-07T00:00:00\",\"2023-02-08T00:00:00\",\"2023-02-09T00:00:00\",\"2023-02-10T00:00:00\",\"2023-02-13T00:00:00\",\"2023-02-14T00:00:00\"],\"type\":\"candlestick\",\"xaxis\":\"x\",\"yaxis\":\"y\"},{\"line\":{\"color\":\"darkorchid\"},\"mode\":\"lines\",\"name\":\"Fechamento\",\"x\":[\"2022-02-14T00:00:00\",\"2022-02-15T00:00:00\",\"2022-02-16T00:00:00\",\"2022-02-17T00:00:00\",\"2022-02-18T00:00:00\",\"2022-02-21T00:00:00\",\"2022-02-22T00:00:00\",\"2022-02-23T00:00:00\",\"2022-02-24T00:00:00\",\"2022-02-25T00:00:00\",\"2022-03-02T00:00:00\",\"2022-03-03T00:00:00\",\"2022-03-04T00:00:00\",\"2022-03-07T00:00:00\",\"2022-03-08T00:00:00\",\"2022-03-09T00:00:00\",\"2022-03-10T00:00:00\",\"2022-03-11T00:00:00\",\"2022-03-14T00:00:00\",\"2022-03-15T00:00:00\",\"2022-03-16T00:00:00\",\"2022-03-17T00:00:00\",\"2022-03-18T00:00:00\",\"2022-03-21T00:00:00\",\"2022-03-22T00:00:00\",\"2022-03-23T00:00:00\",\"2022-03-24T00:00:00\",\"2022-03-25T00:00:00\",\"2022-03-28T00:00:00\",\"2022-03-29T00:00:00\",\"2022-03-30T00:00:00\",\"2022-03-31T00:00:00\",\"2022-04-01T00:00:00\",\"2022-04-04T00:00:00\",\"2022-04-05T00:00:00\",\"2022-04-06T00:00:00\",\"2022-04-07T00:00:00\",\"2022-04-08T00:00:00\",\"2022-04-11T00:00:00\",\"2022-04-12T00:00:00\",\"2022-04-13T00:00:00\",\"2022-04-14T00:00:00\",\"2022-04-18T00:00:00\",\"2022-04-19T00:00:00\",\"2022-04-20T00:00:00\",\"2022-04-22T00:00:00\",\"2022-04-25T00:00:00\",\"2022-04-26T00:00:00\",\"2022-04-27T00:00:00\",\"2022-04-28T00:00:00\",\"2022-04-29T00:00:00\",\"2022-05-02T00:00:00\",\"2022-05-03T00:00:00\",\"2022-05-04T00:00:00\",\"2022-05-05T00:00:00\",\"2022-05-06T00:00:00\",\"2022-05-09T00:00:00\",\"2022-05-10T00:00:00\",\"2022-05-11T00:00:00\",\"2022-05-12T00:00:00\",\"2022-05-13T00:00:00\",\"2022-05-16T00:00:00\",\"2022-05-17T00:00:00\",\"2022-05-18T00:00:00\",\"2022-05-19T00:00:00\",\"2022-05-20T00:00:00\",\"2022-05-23T00:00:00\",\"2022-05-24T00:00:00\",\"2022-05-25T00:00:00\",\"2022-05-26T00:00:00\",\"2022-05-27T00:00:00\",\"2022-05-30T00:00:00\",\"2022-05-31T00:00:00\",\"2022-06-01T00:00:00\",\"2022-06-02T00:00:00\",\"2022-06-03T00:00:00\",\"2022-06-06T00:00:00\",\"2022-06-07T00:00:00\",\"2022-06-08T00:00:00\",\"2022-06-09T00:00:00\",\"2022-06-10T00:00:00\",\"2022-06-13T00:00:00\",\"2022-06-14T00:00:00\",\"2022-06-15T00:00:00\",\"2022-06-17T00:00:00\",\"2022-06-20T00:00:00\",\"2022-06-21T00:00:00\",\"2022-06-22T00:00:00\",\"2022-06-23T00:00:00\",\"2022-06-24T00:00:00\",\"2022-06-27T00:00:00\",\"2022-06-28T00:00:00\",\"2022-06-29T00:00:00\",\"2022-06-30T00:00:00\",\"2022-07-01T00:00:00\",\"2022-07-04T00:00:00\",\"2022-07-05T00:00:00\",\"2022-07-06T00:00:00\",\"2022-07-07T00:00:00\",\"2022-07-08T00:00:00\",\"2022-07-11T00:00:00\",\"2022-07-12T00:00:00\",\"2022-07-13T00:00:00\",\"2022-07-14T00:00:00\",\"2022-07-15T00:00:00\",\"2022-07-18T00:00:00\",\"2022-07-19T00:00:00\",\"2022-07-20T00:00:00\",\"2022-07-21T00:00:00\",\"2022-07-22T00:00:00\",\"2022-07-25T00:00:00\",\"2022-07-26T00:00:00\",\"2022-07-27T00:00:00\",\"2022-07-28T00:00:00\",\"2022-07-29T00:00:00\",\"2022-08-01T00:00:00\",\"2022-08-02T00:00:00\",\"2022-08-03T00:00:00\",\"2022-08-04T00:00:00\",\"2022-08-05T00:00:00\",\"2022-08-08T00:00:00\",\"2022-08-09T00:00:00\",\"2022-08-10T00:00:00\",\"2022-08-11T00:00:00\",\"2022-08-12T00:00:00\",\"2022-08-15T00:00:00\",\"2022-08-16T00:00:00\",\"2022-08-17T00:00:00\",\"2022-08-18T00:00:00\",\"2022-08-19T00:00:00\",\"2022-08-22T00:00:00\",\"2022-08-23T00:00:00\",\"2022-08-24T00:00:00\",\"2022-08-25T00:00:00\",\"2022-08-26T00:00:00\",\"2022-08-29T00:00:00\",\"2022-08-30T00:00:00\",\"2022-08-31T00:00:00\",\"2022-09-01T00:00:00\",\"2022-09-02T00:00:00\",\"2022-09-05T00:00:00\",\"2022-09-06T00:00:00\",\"2022-09-08T00:00:00\",\"2022-09-09T00:00:00\",\"2022-09-12T00:00:00\",\"2022-09-13T00:00:00\",\"2022-09-14T00:00:00\",\"2022-09-15T00:00:00\",\"2022-09-16T00:00:00\",\"2022-09-19T00:00:00\",\"2022-09-20T00:00:00\",\"2022-09-21T00:00:00\",\"2022-09-22T00:00:00\",\"2022-09-23T00:00:00\",\"2022-09-26T00:00:00\",\"2022-09-27T00:00:00\",\"2022-09-28T00:00:00\",\"2022-09-29T00:00:00\",\"2022-09-30T00:00:00\",\"2022-10-03T00:00:00\",\"2022-10-04T00:00:00\",\"2022-10-05T00:00:00\",\"2022-10-06T00:00:00\",\"2022-10-07T00:00:00\",\"2022-10-10T00:00:00\",\"2022-10-11T00:00:00\",\"2022-10-13T00:00:00\",\"2022-10-14T00:00:00\",\"2022-10-17T00:00:00\",\"2022-10-18T00:00:00\",\"2022-10-19T00:00:00\",\"2022-10-20T00:00:00\",\"2022-10-21T00:00:00\",\"2022-10-24T00:00:00\",\"2022-10-25T00:00:00\",\"2022-10-26T00:00:00\",\"2022-10-27T00:00:00\",\"2022-10-28T00:00:00\",\"2022-10-31T00:00:00\",\"2022-11-01T00:00:00\",\"2022-11-03T00:00:00\",\"2022-11-04T00:00:00\",\"2022-11-07T00:00:00\",\"2022-11-08T00:00:00\",\"2022-11-09T00:00:00\",\"2022-11-10T00:00:00\",\"2022-11-11T00:00:00\",\"2022-11-14T00:00:00\",\"2022-11-16T00:00:00\",\"2022-11-17T00:00:00\",\"2022-11-18T00:00:00\",\"2022-11-21T00:00:00\",\"2022-11-22T00:00:00\",\"2022-11-23T00:00:00\",\"2022-11-24T00:00:00\",\"2022-11-25T00:00:00\",\"2022-11-28T00:00:00\",\"2022-11-29T00:00:00\",\"2022-11-30T00:00:00\",\"2022-12-01T00:00:00\",\"2022-12-02T00:00:00\",\"2022-12-05T00:00:00\",\"2022-12-06T00:00:00\",\"2022-12-07T00:00:00\",\"2022-12-08T00:00:00\",\"2022-12-09T00:00:00\",\"2022-12-12T00:00:00\",\"2022-12-13T00:00:00\",\"2022-12-14T00:00:00\",\"2022-12-15T00:00:00\",\"2022-12-16T00:00:00\",\"2022-12-19T00:00:00\",\"2022-12-20T00:00:00\",\"2022-12-21T00:00:00\",\"2022-12-22T00:00:00\",\"2022-12-23T00:00:00\",\"2022-12-26T00:00:00\",\"2022-12-27T00:00:00\",\"2022-12-28T00:00:00\",\"2022-12-29T00:00:00\",\"2023-01-02T00:00:00\",\"2023-01-03T00:00:00\",\"2023-01-04T00:00:00\",\"2023-01-05T00:00:00\",\"2023-01-06T00:00:00\",\"2023-01-09T00:00:00\",\"2023-01-10T00:00:00\",\"2023-01-11T00:00:00\",\"2023-01-12T00:00:00\",\"2023-01-13T00:00:00\",\"2023-01-16T00:00:00\",\"2023-01-17T00:00:00\",\"2023-01-18T00:00:00\",\"2023-01-19T00:00:00\",\"2023-01-20T00:00:00\",\"2023-01-23T00:00:00\",\"2023-01-24T00:00:00\",\"2023-01-25T00:00:00\",\"2023-01-26T00:00:00\",\"2023-01-27T00:00:00\",\"2023-01-30T00:00:00\",\"2023-01-31T00:00:00\",\"2023-02-01T00:00:00\",\"2023-02-02T00:00:00\",\"2023-02-03T00:00:00\",\"2023-02-06T00:00:00\",\"2023-02-07T00:00:00\",\"2023-02-08T00:00:00\",\"2023-02-09T00:00:00\",\"2023-02-10T00:00:00\",\"2023-02-13T00:00:00\",\"2023-02-14T00:00:00\"],\"y\":[33.0,32.47999954223633,32.93000030517578,32.79999923706055,33.0,33.849998474121094,33.7400016784668,34.220001220703125,33.38999938964844,34.0,34.66999816894531,34.2400016784668,34.22999954223633,31.799999237060547,32.459999084472656,32.560001373291016,33.70000076293945,32.4900016784668,31.8700008392334,31.100000381469727,30.829999923706055,30.010000228881836,30.610000610351562,31.760000228881836,31.6200008392334,32.04999923706055,32.41999816894531,32.29999923706055,31.600000381469727,32.29999923706055,32.9900016784668,33.45000076293945,33.0099983215332,32.70000076293945,32.38999938964844,32.36000061035156,34.040000915527344,34.209999084472656,33.95000076293945,33.849998474121094,34.56999969482422,31.270000457763672,30.719999313354492,31.649999618530273,31.799999237060547,30.559999465942383,30.110000610351562,30.059999465942383,30.059999465942383,30.260000228881836,30.280000686645508,29.979999542236328,30.25,32.06999969482422,32.0099983215332,33.060001373291016,32.15999984741211,32.439998626708984,33.56999969482422,33.83000183105469,34.27000045776367,34.61000061035156,34.15999984741211,33.599998474121094,34.16999816894531,34.83000183105469,36.20000076293945,31.600000381469727,32.04999923706055,32.130001068115234,30.600000381469727,29.989999771118164,30.059999465942383,30.020000457763672,29.760000228881836,30.280000686645508,30.299999237060547,30.65999984741211,30.510000228881836,30.06999969482422,29.649999618530273,29.270000457763672,29.600000381469727,29.079999923706055,27.309999465942383,27.6200008392334,27.06999969482422,26.989999771118164,26.489999771118164,26.290000915527344,27.979999542236328,28.329999923706055,28.079999923706055,27.93000030517578,28.530000686645508,29.139999389648438,28.030000686645508,27.670000076293945,28.479999542236328,28.799999237060547,28.65999984741211,28.229999542236328,28.25,27.489999771118164,27.959999084472656,28.600000381469727,29.18000030517578,29.170000076293945,29.020000457763672,29.329999923706055,30.700000762939453,31.010000228881836,31.350000381469727,32.290000915527344,34.150001525878906,33.68000030517578,33.83000183105469,33.849998474121094,34.209999084472656,34.869998931884766,36.630001068115234,37.22999954223633,37.11000061035156,36.25,31.709999084472656,31.719999313354492,32.0099983215332,32.7599983215332,33.41999816894531,31.729999542236328,32.40999984741211,33.439998626708984,33.63999938964844,33.279998779296875,33.63999938964844,34.47999954223633,32.43000030517578,33.22999954223633,33.849998474121094,33.41999816894531,33.34000015258789,32.099998474121094,31.799999237060547,31.790000915527344,31.479999542236328,30.649999618530273,31.1200008392334,31.059999465942383,30.780000686645508,31.270000457763672,31.09000015258789,31.170000076293945,31.940000534057617,29.940000534057617,29.290000915527344,29.670000076293945,29.270000457763672,29.309999465942383,29.799999237060547,32.18000030517578,31.3700008392334,32.54999923706055,33.65999984741211,33.630001068115234,33.25,33.0,33.939998626708984,33.41999816894531,33.38999938964844,34.209999084472656,35.41999816894531,36.470001220703125,37.720001220703125,34.25,33.529998779296875,32.709999084472656,32.959999084472656,32.56999969482422,29.809999465942383,29.860000610351562,29.950000762939453,28.299999237060547,27.149999618530273,27.350000381469727,26.899999618530273,26.1200008392334,26.989999771118164,27.700000762939453,27.149999618530273,27.15999984741211,26.700000762939453,26.780000686645508,23.329999923706055,23.440000534057617,24.25,23.860000610351562,24.360000610351562,25.3799991607666,26.65999984741211,25.59000015258789,25.90999984741211,25.6200008392334,25.639999389648438,25.350000381469727,24.780000686645508,24.709999084472656,23.90999984741211,23.31999969482422,21.469999313354492,22.040000915527344,22.049999237060547,22.3799991607666,23.06999969482422,23.56999969482422,23.989999771118164,25.1200008392334,24.940000534057617,25.110000610351562,24.799999237060547,24.5,22.920000076293945,22.34000015258789,23.049999237060547,23.8799991607666,23.739999771118164,23.8700008392334,24.09000015258789,24.280000686645508,24.6299991607666,24.56999969482422,24.040000915527344,25.520000457763672,25.06999969482422,25.889999389648438,26.3700008392334,26.790000915527344,26.600000381469727,26.940000534057617,26.25,25.6200008392334,25.75,26.06999969482422,25.709999084472656,24.520000457763672,24.790000915527344,25.780000686645508,25.6200008392334,26.049999237060547,25.93000030517578,26.719999313354492,26.799999237060547,26.739999771118164],\"type\":\"scatter\",\"xaxis\":\"x2\",\"yaxis\":\"y2\"},{\"line\":{\"color\":\"orange\"},\"mode\":\"lines\",\"name\":\"M\\u00e9dia m\\u00f3vel 5 dias\",\"x\":[\"2022-02-14T00:00:00\",\"2022-02-15T00:00:00\",\"2022-02-16T00:00:00\",\"2022-02-17T00:00:00\",\"2022-02-18T00:00:00\",\"2022-02-21T00:00:00\",\"2022-02-22T00:00:00\",\"2022-02-23T00:00:00\",\"2022-02-24T00:00:00\",\"2022-02-25T00:00:00\",\"2022-03-02T00:00:00\",\"2022-03-03T00:00:00\",\"2022-03-04T00:00:00\",\"2022-03-07T00:00:00\",\"2022-03-08T00:00:00\",\"2022-03-09T00:00:00\",\"2022-03-10T00:00:00\",\"2022-03-11T00:00:00\",\"2022-03-14T00:00:00\",\"2022-03-15T00:00:00\",\"2022-03-16T00:00:00\",\"2022-03-17T00:00:00\",\"2022-03-18T00:00:00\",\"2022-03-21T00:00:00\",\"2022-03-22T00:00:00\",\"2022-03-23T00:00:00\",\"2022-03-24T00:00:00\",\"2022-03-25T00:00:00\",\"2022-03-28T00:00:00\",\"2022-03-29T00:00:00\",\"2022-03-30T00:00:00\",\"2022-03-31T00:00:00\",\"2022-04-01T00:00:00\",\"2022-04-04T00:00:00\",\"2022-04-05T00:00:00\",\"2022-04-06T00:00:00\",\"2022-04-07T00:00:00\",\"2022-04-08T00:00:00\",\"2022-04-11T00:00:00\",\"2022-04-12T00:00:00\",\"2022-04-13T00:00:00\",\"2022-04-14T00:00:00\",\"2022-04-18T00:00:00\",\"2022-04-19T00:00:00\",\"2022-04-20T00:00:00\",\"2022-04-22T00:00:00\",\"2022-04-25T00:00:00\",\"2022-04-26T00:00:00\",\"2022-04-27T00:00:00\",\"2022-04-28T00:00:00\",\"2022-04-29T00:00:00\",\"2022-05-02T00:00:00\",\"2022-05-03T00:00:00\",\"2022-05-04T00:00:00\",\"2022-05-05T00:00:00\",\"2022-05-06T00:00:00\",\"2022-05-09T00:00:00\",\"2022-05-10T00:00:00\",\"2022-05-11T00:00:00\",\"2022-05-12T00:00:00\",\"2022-05-13T00:00:00\",\"2022-05-16T00:00:00\",\"2022-05-17T00:00:00\",\"2022-05-18T00:00:00\",\"2022-05-19T00:00:00\",\"2022-05-20T00:00:00\",\"2022-05-23T00:00:00\",\"2022-05-24T00:00:00\",\"2022-05-25T00:00:00\",\"2022-05-26T00:00:00\",\"2022-05-27T00:00:00\",\"2022-05-30T00:00:00\",\"2022-05-31T00:00:00\",\"2022-06-01T00:00:00\",\"2022-06-02T00:00:00\",\"2022-06-03T00:00:00\",\"2022-06-06T00:00:00\",\"2022-06-07T00:00:00\",\"2022-06-08T00:00:00\",\"2022-06-09T00:00:00\",\"2022-06-10T00:00:00\",\"2022-06-13T00:00:00\",\"2022-06-14T00:00:00\",\"2022-06-15T00:00:00\",\"2022-06-17T00:00:00\",\"2022-06-20T00:00:00\",\"2022-06-21T00:00:00\",\"2022-06-22T00:00:00\",\"2022-06-23T00:00:00\",\"2022-06-24T00:00:00\",\"2022-06-27T00:00:00\",\"2022-06-28T00:00:00\",\"2022-06-29T00:00:00\",\"2022-06-30T00:00:00\",\"2022-07-01T00:00:00\",\"2022-07-04T00:00:00\",\"2022-07-05T00:00:00\",\"2022-07-06T00:00:00\",\"2022-07-07T00:00:00\",\"2022-07-08T00:00:00\",\"2022-07-11T00:00:00\",\"2022-07-12T00:00:00\",\"2022-07-13T00:00:00\",\"2022-07-14T00:00:00\",\"2022-07-15T00:00:00\",\"2022-07-18T00:00:00\",\"2022-07-19T00:00:00\",\"2022-07-20T00:00:00\",\"2022-07-21T00:00:00\",\"2022-07-22T00:00:00\",\"2022-07-25T00:00:00\",\"2022-07-26T00:00:00\",\"2022-07-27T00:00:00\",\"2022-07-28T00:00:00\",\"2022-07-29T00:00:00\",\"2022-08-01T00:00:00\",\"2022-08-02T00:00:00\",\"2022-08-03T00:00:00\",\"2022-08-04T00:00:00\",\"2022-08-05T00:00:00\",\"2022-08-08T00:00:00\",\"2022-08-09T00:00:00\",\"2022-08-10T00:00:00\",\"2022-08-11T00:00:00\",\"2022-08-12T00:00:00\",\"2022-08-15T00:00:00\",\"2022-08-16T00:00:00\",\"2022-08-17T00:00:00\",\"2022-08-18T00:00:00\",\"2022-08-19T00:00:00\",\"2022-08-22T00:00:00\",\"2022-08-23T00:00:00\",\"2022-08-24T00:00:00\",\"2022-08-25T00:00:00\",\"2022-08-26T00:00:00\",\"2022-08-29T00:00:00\",\"2022-08-30T00:00:00\",\"2022-08-31T00:00:00\",\"2022-09-01T00:00:00\",\"2022-09-02T00:00:00\",\"2022-09-05T00:00:00\",\"2022-09-06T00:00:00\",\"2022-09-08T00:00:00\",\"2022-09-09T00:00:00\",\"2022-09-12T00:00:00\",\"2022-09-13T00:00:00\",\"2022-09-14T00:00:00\",\"2022-09-15T00:00:00\",\"2022-09-16T00:00:00\",\"2022-09-19T00:00:00\",\"2022-09-20T00:00:00\",\"2022-09-21T00:00:00\",\"2022-09-22T00:00:00\",\"2022-09-23T00:00:00\",\"2022-09-26T00:00:00\",\"2022-09-27T00:00:00\",\"2022-09-28T00:00:00\",\"2022-09-29T00:00:00\",\"2022-09-30T00:00:00\",\"2022-10-03T00:00:00\",\"2022-10-04T00:00:00\",\"2022-10-05T00:00:00\",\"2022-10-06T00:00:00\",\"2022-10-07T00:00:00\",\"2022-10-10T00:00:00\",\"2022-10-11T00:00:00\",\"2022-10-13T00:00:00\",\"2022-10-14T00:00:00\",\"2022-10-17T00:00:00\",\"2022-10-18T00:00:00\",\"2022-10-19T00:00:00\",\"2022-10-20T00:00:00\",\"2022-10-21T00:00:00\",\"2022-10-24T00:00:00\",\"2022-10-25T00:00:00\",\"2022-10-26T00:00:00\",\"2022-10-27T00:00:00\",\"2022-10-28T00:00:00\",\"2022-10-31T00:00:00\",\"2022-11-01T00:00:00\",\"2022-11-03T00:00:00\",\"2022-11-04T00:00:00\",\"2022-11-07T00:00:00\",\"2022-11-08T00:00:00\",\"2022-11-09T00:00:00\",\"2022-11-10T00:00:00\",\"2022-11-11T00:00:00\",\"2022-11-14T00:00:00\",\"2022-11-16T00:00:00\",\"2022-11-17T00:00:00\",\"2022-11-18T00:00:00\",\"2022-11-21T00:00:00\",\"2022-11-22T00:00:00\",\"2022-11-23T00:00:00\",\"2022-11-24T00:00:00\",\"2022-11-25T00:00:00\",\"2022-11-28T00:00:00\",\"2022-11-29T00:00:00\",\"2022-11-30T00:00:00\",\"2022-12-01T00:00:00\",\"2022-12-02T00:00:00\",\"2022-12-05T00:00:00\",\"2022-12-06T00:00:00\",\"2022-12-07T00:00:00\",\"2022-12-08T00:00:00\",\"2022-12-09T00:00:00\",\"2022-12-12T00:00:00\",\"2022-12-13T00:00:00\",\"2022-12-14T00:00:00\",\"2022-12-15T00:00:00\",\"2022-12-16T00:00:00\",\"2022-12-19T00:00:00\",\"2022-12-20T00:00:00\",\"2022-12-21T00:00:00\",\"2022-12-22T00:00:00\",\"2022-12-23T00:00:00\",\"2022-12-26T00:00:00\",\"2022-12-27T00:00:00\",\"2022-12-28T00:00:00\",\"2022-12-29T00:00:00\",\"2023-01-02T00:00:00\",\"2023-01-03T00:00:00\",\"2023-01-04T00:00:00\",\"2023-01-05T00:00:00\",\"2023-01-06T00:00:00\",\"2023-01-09T00:00:00\",\"2023-01-10T00:00:00\",\"2023-01-11T00:00:00\",\"2023-01-12T00:00:00\",\"2023-01-13T00:00:00\",\"2023-01-16T00:00:00\",\"2023-01-17T00:00:00\",\"2023-01-18T00:00:00\",\"2023-01-19T00:00:00\",\"2023-01-20T00:00:00\",\"2023-01-23T00:00:00\",\"2023-01-24T00:00:00\",\"2023-01-25T00:00:00\",\"2023-01-26T00:00:00\",\"2023-01-27T00:00:00\",\"2023-01-30T00:00:00\",\"2023-01-31T00:00:00\",\"2023-02-01T00:00:00\",\"2023-02-02T00:00:00\",\"2023-02-03T00:00:00\",\"2023-02-06T00:00:00\",\"2023-02-07T00:00:00\",\"2023-02-08T00:00:00\",\"2023-02-09T00:00:00\",\"2023-02-10T00:00:00\",\"2023-02-13T00:00:00\",\"2023-02-14T00:00:00\"],\"y\":[null,null,null,null,32.84199981689453,33.01199951171875,33.263999938964844,33.52200012207031,33.64000015258789,33.84000015258789,34.00400009155273,34.104000091552734,34.10599975585937,33.7879997253418,33.47999954223633,33.05800018310547,32.95,32.6020004272461,32.616000747680665,32.34400100708008,31.998000717163087,31.26000061035156,30.884000396728517,30.862000274658204,30.966000366210938,31.210000228881835,31.69199981689453,32.029999542236325,31.997999572753905,32.133999252319335,32.32199974060059,32.52800025939941,32.670000076293945,32.89000015258789,32.90800018310547,32.78199996948242,32.9,33.14000015258789,33.39000015258789,33.68199996948242,34.123999786376956,33.56999969482422,32.871999740600586,32.41199951171875,32.00199966430664,31.199999618530274,30.96799964904785,30.83599967956543,30.51799964904785,30.20999984741211,30.154000091552735,30.12799987792969,30.165999984741212,30.568000030517577,30.91799964904785,31.473999786376954,31.90999984741211,32.347999572753906,32.6479995727539,33.012000274658206,33.25400009155273,33.74400024414062,34.08800048828125,34.094000244140624,34.16199951171875,34.273999786376955,34.59199981689453,34.079999923706055,33.77000007629395,33.36200065612793,32.51600036621094,31.27400016784668,30.96599998474121,30.560000228881837,30.086000061035158,30.022000122070313,30.084000015258788,30.204000091552736,30.302000045776367,30.363999938964845,30.237999725341798,30.03199996948242,29.820000076293944,29.53400001525879,28.981999969482423,28.576000213623047,28.136000061035155,27.613999938964845,27.095999908447265,26.892000198364258,26.963999938964843,27.21599998474121,27.43400001525879,27.722000122070312,28.170000076293945,28.40200004577637,28.342000198364257,28.260000228881836,28.370000076293945,28.423999786376953,28.327999877929688,28.367999649047853,28.48399963378906,28.28599967956543,28.117999649047853,28.105999755859376,28.295999908447264,28.479999923706053,28.786000061035157,29.060000228881837,29.480000305175782,29.846000289916994,30.28200035095215,30.936000442504884,31.900000762939452,32.49600067138672,33.06000099182129,33.560000610351565,33.944000244140625,34.087999725341795,34.677999877929686,35.35799942016602,36.00999984741211,36.418000030517575,35.78600006103515,34.803999710083005,33.759999465942386,32.88999900817871,32.323998641967776,32.32799873352051,32.465998840332034,32.75199890136719,32.927999114990236,32.89999923706055,33.28199920654297,33.69599914550781,33.49399948120117,33.41199951171875,33.52599945068359,33.481999206542966,33.25399932861328,33.18799896240235,32.901998901367186,32.48999938964844,32.10199966430664,31.563999557495116,31.368000030517578,31.220000076293946,31.018000030517577,30.976000213623045,31.06400032043457,31.07400016784668,31.250000381469725,31.08200035095215,30.686000442504884,30.402000427246094,30.02200050354004,29.496000289916992,29.46800003051758,30.045999908447264,30.386000061035155,31.04199981689453,31.911999893188476,32.67800025939941,32.89200019836426,33.21800003051758,33.49599990844727,33.44799957275391,33.39999923706055,33.59199905395508,34.07599868774414,34.58199920654297,35.44199981689453,35.613999938964845,35.47799987792969,34.93600006103516,34.23399963378906,33.20399932861328,32.31599922180176,31.581999588012696,31.029999923706054,30.09799995422363,29.013999938964844,28.522000122070313,27.929999923706056,27.163999938964842,26.90200004577637,27.012000274658202,26.972000122070312,27.02400016784668,27.14000015258789,27.09800033569336,26.22400016784668,25.48200035095215,24.900000381469727,24.33200035095215,23.84800033569336,24.25800018310547,24.90200004577637,25.170000076293945,25.579999923706055,25.83199996948242,25.88400001525879,25.62200012207031,25.460000228881835,25.220000076293946,24.87799987792969,24.413999938964842,23.637999725341796,23.089999771118165,22.55799980163574,22.25199966430664,22.20199966430664,22.621999740600586,23.01199951171875,23.62599983215332,24.138000106811525,24.546000289916993,24.792000198364256,24.894000244140624,24.454000091552736,23.93400001525879,23.521999740600585,23.337999725341795,23.18599967956543,23.37599983215332,23.72599983215332,23.972000122070312,24.12200012207031,24.288000106811523,24.322000122070314,24.608000183105467,24.76599998474121,25.018000030517577,25.378000259399414,25.928000259399415,26.144000244140624,26.518000411987305,26.590000534057616,26.440000534057617,26.23200035095215,26.126000213623048,25.879999923706055,25.53400001525879,25.368000030517578,25.37400016784668,25.284000396728516,25.352000427246093,25.634000396728517,26.020000076293947,26.223999786376954,26.447999572753908],\"type\":\"scatter\",\"xaxis\":\"x2\",\"yaxis\":\"y2\"},{\"line\":{\"color\":\"hotpink\"},\"mode\":\"lines\",\"name\":\"M\\u00e9dia m\\u00f3vel 25 dias\",\"x\":[\"2022-02-14T00:00:00\",\"2022-02-15T00:00:00\",\"2022-02-16T00:00:00\",\"2022-02-17T00:00:00\",\"2022-02-18T00:00:00\",\"2022-02-21T00:00:00\",\"2022-02-22T00:00:00\",\"2022-02-23T00:00:00\",\"2022-02-24T00:00:00\",\"2022-02-25T00:00:00\",\"2022-03-02T00:00:00\",\"2022-03-03T00:00:00\",\"2022-03-04T00:00:00\",\"2022-03-07T00:00:00\",\"2022-03-08T00:00:00\",\"2022-03-09T00:00:00\",\"2022-03-10T00:00:00\",\"2022-03-11T00:00:00\",\"2022-03-14T00:00:00\",\"2022-03-15T00:00:00\",\"2022-03-16T00:00:00\",\"2022-03-17T00:00:00\",\"2022-03-18T00:00:00\",\"2022-03-21T00:00:00\",\"2022-03-22T00:00:00\",\"2022-03-23T00:00:00\",\"2022-03-24T00:00:00\",\"2022-03-25T00:00:00\",\"2022-03-28T00:00:00\",\"2022-03-29T00:00:00\",\"2022-03-30T00:00:00\",\"2022-03-31T00:00:00\",\"2022-04-01T00:00:00\",\"2022-04-04T00:00:00\",\"2022-04-05T00:00:00\",\"2022-04-06T00:00:00\",\"2022-04-07T00:00:00\",\"2022-04-08T00:00:00\",\"2022-04-11T00:00:00\",\"2022-04-12T00:00:00\",\"2022-04-13T00:00:00\",\"2022-04-14T00:00:00\",\"2022-04-18T00:00:00\",\"2022-04-19T00:00:00\",\"2022-04-20T00:00:00\",\"2022-04-22T00:00:00\",\"2022-04-25T00:00:00\",\"2022-04-26T00:00:00\",\"2022-04-27T00:00:00\",\"2022-04-28T00:00:00\",\"2022-04-29T00:00:00\",\"2022-05-02T00:00:00\",\"2022-05-03T00:00:00\",\"2022-05-04T00:00:00\",\"2022-05-05T00:00:00\",\"2022-05-06T00:00:00\",\"2022-05-09T00:00:00\",\"2022-05-10T00:00:00\",\"2022-05-11T00:00:00\",\"2022-05-12T00:00:00\",\"2022-05-13T00:00:00\",\"2022-05-16T00:00:00\",\"2022-05-17T00:00:00\",\"2022-05-18T00:00:00\",\"2022-05-19T00:00:00\",\"2022-05-20T00:00:00\",\"2022-05-23T00:00:00\",\"2022-05-24T00:00:00\",\"2022-05-25T00:00:00\",\"2022-05-26T00:00:00\",\"2022-05-27T00:00:00\",\"2022-05-30T00:00:00\",\"2022-05-31T00:00:00\",\"2022-06-01T00:00:00\",\"2022-06-02T00:00:00\",\"2022-06-03T00:00:00\",\"2022-06-06T00:00:00\",\"2022-06-07T00:00:00\",\"2022-06-08T00:00:00\",\"2022-06-09T00:00:00\",\"2022-06-10T00:00:00\",\"2022-06-13T00:00:00\",\"2022-06-14T00:00:00\",\"2022-06-15T00:00:00\",\"2022-06-17T00:00:00\",\"2022-06-20T00:00:00\",\"2022-06-21T00:00:00\",\"2022-06-22T00:00:00\",\"2022-06-23T00:00:00\",\"2022-06-24T00:00:00\",\"2022-06-27T00:00:00\",\"2022-06-28T00:00:00\",\"2022-06-29T00:00:00\",\"2022-06-30T00:00:00\",\"2022-07-01T00:00:00\",\"2022-07-04T00:00:00\",\"2022-07-05T00:00:00\",\"2022-07-06T00:00:00\",\"2022-07-07T00:00:00\",\"2022-07-08T00:00:00\",\"2022-07-11T00:00:00\",\"2022-07-12T00:00:00\",\"2022-07-13T00:00:00\",\"2022-07-14T00:00:00\",\"2022-07-15T00:00:00\",\"2022-07-18T00:00:00\",\"2022-07-19T00:00:00\",\"2022-07-20T00:00:00\",\"2022-07-21T00:00:00\",\"2022-07-22T00:00:00\",\"2022-07-25T00:00:00\",\"2022-07-26T00:00:00\",\"2022-07-27T00:00:00\",\"2022-07-28T00:00:00\",\"2022-07-29T00:00:00\",\"2022-08-01T00:00:00\",\"2022-08-02T00:00:00\",\"2022-08-03T00:00:00\",\"2022-08-04T00:00:00\",\"2022-08-05T00:00:00\",\"2022-08-08T00:00:00\",\"2022-08-09T00:00:00\",\"2022-08-10T00:00:00\",\"2022-08-11T00:00:00\",\"2022-08-12T00:00:00\",\"2022-08-15T00:00:00\",\"2022-08-16T00:00:00\",\"2022-08-17T00:00:00\",\"2022-08-18T00:00:00\",\"2022-08-19T00:00:00\",\"2022-08-22T00:00:00\",\"2022-08-23T00:00:00\",\"2022-08-24T00:00:00\",\"2022-08-25T00:00:00\",\"2022-08-26T00:00:00\",\"2022-08-29T00:00:00\",\"2022-08-30T00:00:00\",\"2022-08-31T00:00:00\",\"2022-09-01T00:00:00\",\"2022-09-02T00:00:00\",\"2022-09-05T00:00:00\",\"2022-09-06T00:00:00\",\"2022-09-08T00:00:00\",\"2022-09-09T00:00:00\",\"2022-09-12T00:00:00\",\"2022-09-13T00:00:00\",\"2022-09-14T00:00:00\",\"2022-09-15T00:00:00\",\"2022-09-16T00:00:00\",\"2022-09-19T00:00:00\",\"2022-09-20T00:00:00\",\"2022-09-21T00:00:00\",\"2022-09-22T00:00:00\",\"2022-09-23T00:00:00\",\"2022-09-26T00:00:00\",\"2022-09-27T00:00:00\",\"2022-09-28T00:00:00\",\"2022-09-29T00:00:00\",\"2022-09-30T00:00:00\",\"2022-10-03T00:00:00\",\"2022-10-04T00:00:00\",\"2022-10-05T00:00:00\",\"2022-10-06T00:00:00\",\"2022-10-07T00:00:00\",\"2022-10-10T00:00:00\",\"2022-10-11T00:00:00\",\"2022-10-13T00:00:00\",\"2022-10-14T00:00:00\",\"2022-10-17T00:00:00\",\"2022-10-18T00:00:00\",\"2022-10-19T00:00:00\",\"2022-10-20T00:00:00\",\"2022-10-21T00:00:00\",\"2022-10-24T00:00:00\",\"2022-10-25T00:00:00\",\"2022-10-26T00:00:00\",\"2022-10-27T00:00:00\",\"2022-10-28T00:00:00\",\"2022-10-31T00:00:00\",\"2022-11-01T00:00:00\",\"2022-11-03T00:00:00\",\"2022-11-04T00:00:00\",\"2022-11-07T00:00:00\",\"2022-11-08T00:00:00\",\"2022-11-09T00:00:00\",\"2022-11-10T00:00:00\",\"2022-11-11T00:00:00\",\"2022-11-14T00:00:00\",\"2022-11-16T00:00:00\",\"2022-11-17T00:00:00\",\"2022-11-18T00:00:00\",\"2022-11-21T00:00:00\",\"2022-11-22T00:00:00\",\"2022-11-23T00:00:00\",\"2022-11-24T00:00:00\",\"2022-11-25T00:00:00\",\"2022-11-28T00:00:00\",\"2022-11-29T00:00:00\",\"2022-11-30T00:00:00\",\"2022-12-01T00:00:00\",\"2022-12-02T00:00:00\",\"2022-12-05T00:00:00\",\"2022-12-06T00:00:00\",\"2022-12-07T00:00:00\",\"2022-12-08T00:00:00\",\"2022-12-09T00:00:00\",\"2022-12-12T00:00:00\",\"2022-12-13T00:00:00\",\"2022-12-14T00:00:00\",\"2022-12-15T00:00:00\",\"2022-12-16T00:00:00\",\"2022-12-19T00:00:00\",\"2022-12-20T00:00:00\",\"2022-12-21T00:00:00\",\"2022-12-22T00:00:00\",\"2022-12-23T00:00:00\",\"2022-12-26T00:00:00\",\"2022-12-27T00:00:00\",\"2022-12-28T00:00:00\",\"2022-12-29T00:00:00\",\"2023-01-02T00:00:00\",\"2023-01-03T00:00:00\",\"2023-01-04T00:00:00\",\"2023-01-05T00:00:00\",\"2023-01-06T00:00:00\",\"2023-01-09T00:00:00\",\"2023-01-10T00:00:00\",\"2023-01-11T00:00:00\",\"2023-01-12T00:00:00\",\"2023-01-13T00:00:00\",\"2023-01-16T00:00:00\",\"2023-01-17T00:00:00\",\"2023-01-18T00:00:00\",\"2023-01-19T00:00:00\",\"2023-01-20T00:00:00\",\"2023-01-23T00:00:00\",\"2023-01-24T00:00:00\",\"2023-01-25T00:00:00\",\"2023-01-26T00:00:00\",\"2023-01-27T00:00:00\",\"2023-01-30T00:00:00\",\"2023-01-31T00:00:00\",\"2023-02-01T00:00:00\",\"2023-02-02T00:00:00\",\"2023-02-03T00:00:00\",\"2023-02-06T00:00:00\",\"2023-02-07T00:00:00\",\"2023-02-08T00:00:00\",\"2023-02-09T00:00:00\",\"2023-02-10T00:00:00\",\"2023-02-13T00:00:00\",\"2023-02-14T00:00:00\"],\"y\":[null,null,null,null,null,null,null,null,null,null,null,null,null,null,null,null,null,null,null,null,null,null,null,null,32.69440017700195,32.65640014648437,32.65400009155273,32.628800048828126,32.58080009460449,32.55280006408692,32.51840019226074,32.506800155639645,32.45840003967285,32.43080009460449,32.36640007019043,32.27400016784668,32.2660001373291,32.26520011901855,32.35120018005371,32.40680015563965,32.48720008850098,32.390000076293944,32.31919998168945,32.31039993286133,32.33839988708496,32.32759986877441,32.3315998840332,32.30959983825684,32.241599807739256,32.1871997833252,32.11639984130859,32.01879989624023,31.936799926757814,31.955599899291993,31.9439998626709,31.94679985046387,31.895199813842773,31.872399826049804,31.907199783325197,31.964799880981445,32.04119987487793,32.0639998626709,32.06199989318848,32.04799980163574,32.060799789428714,32.07119987487793,32.26839988708496,32.30359992980957,32.31959991455078,32.33279998779297,32.334400024414066,32.32959999084473,32.32959999084473,32.32800003051758,32.308000030517576,32.308000030517576,32.32080001831055,32.337200012207035,32.274800033569335,32.19720008850098,32.060800018310545,31.945200042724608,31.83160011291504,31.652000122070312,31.39120002746582,31.12520004272461,30.823600006103515,30.53680000305176,30.25240005493164,29.937200164794923,29.663200073242187,29.348400039672853,29.207600021362303,29.042800064086915,28.898800048828125,28.840400009155275,28.762000045776368,28.66640007019043,28.604800033569337,28.566399993896486,28.501599960327148,28.41879997253418,28.322399978637694,28.201599960327147,28.117199935913085,28.075199966430663,28.07159996032715,28.054399948120118,28.051999969482424,28.132799987792968,28.255999984741212,28.413600006103515,28.588000030517577,28.820000076293944,29.134400100708007,29.362400131225584,29.58240020751953,29.813200149536133,30.064400100708006,30.318000030517577,30.61760009765625,30.98560005187988,31.363200073242187,31.674000091552735,31.790400085449217,31.912800064086912,32.06400001525879,32.24439994812012,32.4815998840332,32.63239990234375,32.784799880981446,32.955199813842775,33.133999786376954,33.30439971923828,33.476799697875975,33.62799964904785,33.684799652099606,33.75999961853027,33.82239952087402,33.79319938659668,33.77959938049317,33.71039924621582,33.6283992767334,33.531599349975586,33.395999374389646,33.15679931640625,32.91239936828613,32.670399322509766,32.45159934997559,32.433999404907226,32.408799438476564,32.375199508666995,32.34239959716797,32.20319969177246,32.1055997467041,31.995999755859376,31.82919982910156,31.65599983215332,31.51679985046387,31.458399887084962,31.333999938964844,31.338799896240236,31.355999908447266,31.347200012207033,31.340400085449218,31.326800079345702,31.40040008544922,31.46520004272461,31.52919998168945,31.638399963378905,31.82919990539551,32.043199920654295,32.309599990844724,32.448399963378904,32.538799896240235,32.603599853515625,32.675199813842774,32.700399780273436,32.695199737548826,32.7179997253418,32.72919975280762,32.690399703979494,32.60399971008301,32.50599975585938,32.294799728393556,32.084799728393556,31.86239974975586,31.623999786376952,31.364799728393553,31.12119972229004,30.869199752807617,30.58279983520508,30.179199905395507,29.781199951171875,29.382799987792968,28.92040008544922,28.436000061035156,27.942399978637695,27.63879997253418,27.32120002746582,27.0492000579834,26.75560012817383,26.478400115966796,26.30000015258789,26.09680015563965,25.887200088500975,25.71160011291504,25.558400115966798,25.323200073242187,25.12880012512207,24.966000061035157,24.781600036621093,24.596399993896483,24.453199996948243,24.326399993896484,24.26319999694824,24.189599990844727,24.260800018310547,24.315199966430665,24.325199966430663,24.287599945068358,24.206799926757814,24.11359992980957,24.00239990234375,23.92839988708496,23.84679992675781,23.78559989929199,23.731199951171874,23.70239990234375,23.6939998626709,23.667199935913086,23.73159996032715,23.80159996032715,23.978399963378905,24.151599960327147,24.34120002746582,24.510000076293945,24.664800109863283,24.772000122070313,24.837200164794922,24.862400131225584,24.90760009765625,24.931600036621095,24.92040008544922,24.932000122070313,25.046400146484373,25.177600173950196,25.297600173950194,25.379600219726562,25.498800201416017,25.616000137329102,25.722000122070312],\"type\":\"scatter\",\"xaxis\":\"x2\",\"yaxis\":\"y2\"}],                        {\"template\":{\"data\":{\"histogram2dcontour\":[{\"type\":\"histogram2dcontour\",\"colorbar\":{\"outlinewidth\":0,\"ticks\":\"\"},\"colorscale\":[[0.0,\"#0d0887\"],[0.1111111111111111,\"#46039f\"],[0.2222222222222222,\"#7201a8\"],[0.3333333333333333,\"#9c179e\"],[0.4444444444444444,\"#bd3786\"],[0.5555555555555556,\"#d8576b\"],[0.6666666666666666,\"#ed7953\"],[0.7777777777777778,\"#fb9f3a\"],[0.8888888888888888,\"#fdca26\"],[1.0,\"#f0f921\"]]}],\"choropleth\":[{\"type\":\"choropleth\",\"colorbar\":{\"outlinewidth\":0,\"ticks\":\"\"}}],\"histogram2d\":[{\"type\":\"histogram2d\",\"colorbar\":{\"outlinewidth\":0,\"ticks\":\"\"},\"colorscale\":[[0.0,\"#0d0887\"],[0.1111111111111111,\"#46039f\"],[0.2222222222222222,\"#7201a8\"],[0.3333333333333333,\"#9c179e\"],[0.4444444444444444,\"#bd3786\"],[0.5555555555555556,\"#d8576b\"],[0.6666666666666666,\"#ed7953\"],[0.7777777777777778,\"#fb9f3a\"],[0.8888888888888888,\"#fdca26\"],[1.0,\"#f0f921\"]]}],\"heatmap\":[{\"type\":\"heatmap\",\"colorbar\":{\"outlinewidth\":0,\"ticks\":\"\"},\"colorscale\":[[0.0,\"#0d0887\"],[0.1111111111111111,\"#46039f\"],[0.2222222222222222,\"#7201a8\"],[0.3333333333333333,\"#9c179e\"],[0.4444444444444444,\"#bd3786\"],[0.5555555555555556,\"#d8576b\"],[0.6666666666666666,\"#ed7953\"],[0.7777777777777778,\"#fb9f3a\"],[0.8888888888888888,\"#fdca26\"],[1.0,\"#f0f921\"]]}],\"heatmapgl\":[{\"type\":\"heatmapgl\",\"colorbar\":{\"outlinewidth\":0,\"ticks\":\"\"},\"colorscale\":[[0.0,\"#0d0887\"],[0.1111111111111111,\"#46039f\"],[0.2222222222222222,\"#7201a8\"],[0.3333333333333333,\"#9c179e\"],[0.4444444444444444,\"#bd3786\"],[0.5555555555555556,\"#d8576b\"],[0.6666666666666666,\"#ed7953\"],[0.7777777777777778,\"#fb9f3a\"],[0.8888888888888888,\"#fdca26\"],[1.0,\"#f0f921\"]]}],\"contourcarpet\":[{\"type\":\"contourcarpet\",\"colorbar\":{\"outlinewidth\":0,\"ticks\":\"\"}}],\"contour\":[{\"type\":\"contour\",\"colorbar\":{\"outlinewidth\":0,\"ticks\":\"\"},\"colorscale\":[[0.0,\"#0d0887\"],[0.1111111111111111,\"#46039f\"],[0.2222222222222222,\"#7201a8\"],[0.3333333333333333,\"#9c179e\"],[0.4444444444444444,\"#bd3786\"],[0.5555555555555556,\"#d8576b\"],[0.6666666666666666,\"#ed7953\"],[0.7777777777777778,\"#fb9f3a\"],[0.8888888888888888,\"#fdca26\"],[1.0,\"#f0f921\"]]}],\"surface\":[{\"type\":\"surface\",\"colorbar\":{\"outlinewidth\":0,\"ticks\":\"\"},\"colorscale\":[[0.0,\"#0d0887\"],[0.1111111111111111,\"#46039f\"],[0.2222222222222222,\"#7201a8\"],[0.3333333333333333,\"#9c179e\"],[0.4444444444444444,\"#bd3786\"],[0.5555555555555556,\"#d8576b\"],[0.6666666666666666,\"#ed7953\"],[0.7777777777777778,\"#fb9f3a\"],[0.8888888888888888,\"#fdca26\"],[1.0,\"#f0f921\"]]}],\"mesh3d\":[{\"type\":\"mesh3d\",\"colorbar\":{\"outlinewidth\":0,\"ticks\":\"\"}}],\"scatter\":[{\"fillpattern\":{\"fillmode\":\"overlay\",\"size\":10,\"solidity\":0.2},\"type\":\"scatter\"}],\"parcoords\":[{\"type\":\"parcoords\",\"line\":{\"colorbar\":{\"outlinewidth\":0,\"ticks\":\"\"}}}],\"scatterpolargl\":[{\"type\":\"scatterpolargl\",\"marker\":{\"colorbar\":{\"outlinewidth\":0,\"ticks\":\"\"}}}],\"bar\":[{\"error_x\":{\"color\":\"#2a3f5f\"},\"error_y\":{\"color\":\"#2a3f5f\"},\"marker\":{\"line\":{\"color\":\"#E5ECF6\",\"width\":0.5},\"pattern\":{\"fillmode\":\"overlay\",\"size\":10,\"solidity\":0.2}},\"type\":\"bar\"}],\"scattergeo\":[{\"type\":\"scattergeo\",\"marker\":{\"colorbar\":{\"outlinewidth\":0,\"ticks\":\"\"}}}],\"scatterpolar\":[{\"type\":\"scatterpolar\",\"marker\":{\"colorbar\":{\"outlinewidth\":0,\"ticks\":\"\"}}}],\"histogram\":[{\"marker\":{\"pattern\":{\"fillmode\":\"overlay\",\"size\":10,\"solidity\":0.2}},\"type\":\"histogram\"}],\"scattergl\":[{\"type\":\"scattergl\",\"marker\":{\"colorbar\":{\"outlinewidth\":0,\"ticks\":\"\"}}}],\"scatter3d\":[{\"type\":\"scatter3d\",\"line\":{\"colorbar\":{\"outlinewidth\":0,\"ticks\":\"\"}},\"marker\":{\"colorbar\":{\"outlinewidth\":0,\"ticks\":\"\"}}}],\"scattermapbox\":[{\"type\":\"scattermapbox\",\"marker\":{\"colorbar\":{\"outlinewidth\":0,\"ticks\":\"\"}}}],\"scatterternary\":[{\"type\":\"scatterternary\",\"marker\":{\"colorbar\":{\"outlinewidth\":0,\"ticks\":\"\"}}}],\"scattercarpet\":[{\"type\":\"scattercarpet\",\"marker\":{\"colorbar\":{\"outlinewidth\":0,\"ticks\":\"\"}}}],\"carpet\":[{\"aaxis\":{\"endlinecolor\":\"#2a3f5f\",\"gridcolor\":\"white\",\"linecolor\":\"white\",\"minorgridcolor\":\"white\",\"startlinecolor\":\"#2a3f5f\"},\"baxis\":{\"endlinecolor\":\"#2a3f5f\",\"gridcolor\":\"white\",\"linecolor\":\"white\",\"minorgridcolor\":\"white\",\"startlinecolor\":\"#2a3f5f\"},\"type\":\"carpet\"}],\"table\":[{\"cells\":{\"fill\":{\"color\":\"#EBF0F8\"},\"line\":{\"color\":\"white\"}},\"header\":{\"fill\":{\"color\":\"#C8D4E3\"},\"line\":{\"color\":\"white\"}},\"type\":\"table\"}],\"barpolar\":[{\"marker\":{\"line\":{\"color\":\"#E5ECF6\",\"width\":0.5},\"pattern\":{\"fillmode\":\"overlay\",\"size\":10,\"solidity\":0.2}},\"type\":\"barpolar\"}],\"pie\":[{\"automargin\":true,\"type\":\"pie\"}]},\"layout\":{\"autotypenumbers\":\"strict\",\"colorway\":[\"#636efa\",\"#EF553B\",\"#00cc96\",\"#ab63fa\",\"#FFA15A\",\"#19d3f3\",\"#FF6692\",\"#B6E880\",\"#FF97FF\",\"#FECB52\"],\"font\":{\"color\":\"#2a3f5f\"},\"hovermode\":\"closest\",\"hoverlabel\":{\"align\":\"left\"},\"paper_bgcolor\":\"white\",\"plot_bgcolor\":\"#E5ECF6\",\"polar\":{\"bgcolor\":\"#E5ECF6\",\"angularaxis\":{\"gridcolor\":\"white\",\"linecolor\":\"white\",\"ticks\":\"\"},\"radialaxis\":{\"gridcolor\":\"white\",\"linecolor\":\"white\",\"ticks\":\"\"}},\"ternary\":{\"bgcolor\":\"#E5ECF6\",\"aaxis\":{\"gridcolor\":\"white\",\"linecolor\":\"white\",\"ticks\":\"\"},\"baxis\":{\"gridcolor\":\"white\",\"linecolor\":\"white\",\"ticks\":\"\"},\"caxis\":{\"gridcolor\":\"white\",\"linecolor\":\"white\",\"ticks\":\"\"}},\"coloraxis\":{\"colorbar\":{\"outlinewidth\":0,\"ticks\":\"\"}},\"colorscale\":{\"sequential\":[[0.0,\"#0d0887\"],[0.1111111111111111,\"#46039f\"],[0.2222222222222222,\"#7201a8\"],[0.3333333333333333,\"#9c179e\"],[0.4444444444444444,\"#bd3786\"],[0.5555555555555556,\"#d8576b\"],[0.6666666666666666,\"#ed7953\"],[0.7777777777777778,\"#fb9f3a\"],[0.8888888888888888,\"#fdca26\"],[1.0,\"#f0f921\"]],\"sequentialminus\":[[0.0,\"#0d0887\"],[0.1111111111111111,\"#46039f\"],[0.2222222222222222,\"#7201a8\"],[0.3333333333333333,\"#9c179e\"],[0.4444444444444444,\"#bd3786\"],[0.5555555555555556,\"#d8576b\"],[0.6666666666666666,\"#ed7953\"],[0.7777777777777778,\"#fb9f3a\"],[0.8888888888888888,\"#fdca26\"],[1.0,\"#f0f921\"]],\"diverging\":[[0,\"#8e0152\"],[0.1,\"#c51b7d\"],[0.2,\"#de77ae\"],[0.3,\"#f1b6da\"],[0.4,\"#fde0ef\"],[0.5,\"#f7f7f7\"],[0.6,\"#e6f5d0\"],[0.7,\"#b8e186\"],[0.8,\"#7fbc41\"],[0.9,\"#4d9221\"],[1,\"#276419\"]]},\"xaxis\":{\"gridcolor\":\"white\",\"linecolor\":\"white\",\"ticks\":\"\",\"title\":{\"standoff\":15},\"zerolinecolor\":\"white\",\"automargin\":true,\"zerolinewidth\":2},\"yaxis\":{\"gridcolor\":\"white\",\"linecolor\":\"white\",\"ticks\":\"\",\"title\":{\"standoff\":15},\"zerolinecolor\":\"white\",\"automargin\":true,\"zerolinewidth\":2},\"scene\":{\"xaxis\":{\"backgroundcolor\":\"#E5ECF6\",\"gridcolor\":\"white\",\"linecolor\":\"white\",\"showbackground\":true,\"ticks\":\"\",\"zerolinecolor\":\"white\",\"gridwidth\":2},\"yaxis\":{\"backgroundcolor\":\"#E5ECF6\",\"gridcolor\":\"white\",\"linecolor\":\"white\",\"showbackground\":true,\"ticks\":\"\",\"zerolinecolor\":\"white\",\"gridwidth\":2},\"zaxis\":{\"backgroundcolor\":\"#E5ECF6\",\"gridcolor\":\"white\",\"linecolor\":\"white\",\"showbackground\":true,\"ticks\":\"\",\"zerolinecolor\":\"white\",\"gridwidth\":2}},\"shapedefaults\":{\"line\":{\"color\":\"#2a3f5f\"}},\"annotationdefaults\":{\"arrowcolor\":\"#2a3f5f\",\"arrowhead\":0,\"arrowwidth\":1},\"geo\":{\"bgcolor\":\"white\",\"landcolor\":\"#E5ECF6\",\"subunitcolor\":\"white\",\"showland\":true,\"showlakes\":true,\"lakecolor\":\"white\"},\"title\":{\"x\":0.05},\"mapbox\":{\"style\":\"light\"}}},\"xaxis\":{\"anchor\":\"y\",\"domain\":[0.0,1.0],\"matches\":\"x2\",\"showticklabels\":false,\"rangeslider\":{\"visible\":false}},\"yaxis\":{\"anchor\":\"x\",\"domain\":[0.5375,1.0]},\"xaxis2\":{\"anchor\":\"y2\",\"domain\":[0.0,1.0]},\"yaxis2\":{\"anchor\":\"x2\",\"domain\":[0.0,0.4625]},\"annotations\":[{\"font\":{\"size\":16},\"showarrow\":false,\"text\":\"Cota\\u00e7\\u00e3o\",\"x\":0.5,\"xanchor\":\"center\",\"xref\":\"paper\",\"y\":1.0,\"yanchor\":\"bottom\",\"yref\":\"paper\"},{\"font\":{\"size\":16},\"showarrow\":false,\"text\":\"Fechamento\",\"x\":0.5,\"xanchor\":\"center\",\"xref\":\"paper\",\"y\":0.4625,\"yanchor\":\"bottom\",\"yref\":\"paper\"},{\"font\":{\"size\":10},\"showarrow\":false,\"text\":\"An\\u00e1lise feita no evento de Python oferecido pela Data Viking\",\"x\":1,\"xref\":\"x domain\",\"y\":-1.4,\"yref\":\"y domain\"},{\"font\":{\"size\":10},\"showarrow\":false,\"text\":\"Elaborado por Rog\\u00e9rio Silva\",\"x\":0,\"xref\":\"x domain\",\"y\":-1.4,\"yref\":\"y domain\"}],\"title\":{\"text\":\"<b>Advanced Analytics</b><br>Follow-up Petrobras\"},\"width\":1000,\"height\":800,\"legend\":{\"font\":{\"size\":10},\"orientation\":\"h\",\"yanchor\":\"bottom\",\"y\":1.05,\"xanchor\":\"right\",\"x\":1}},                        {\"responsive\": true}                    ).then(function(){\n",
       "                            \n",
       "var gd = document.getElementById('335133b8-065a-4ea0-9385-019f7f4da07d');\n",
       "var x = new MutationObserver(function (mutations, observer) {{\n",
       "        var display = window.getComputedStyle(gd).display;\n",
       "        if (!display || display === 'none') {{\n",
       "            console.log([gd, 'removed!']);\n",
       "            Plotly.purge(gd);\n",
       "            observer.disconnect();\n",
       "        }}\n",
       "}});\n",
       "\n",
       "// Listen for the removal of the full notebook cells\n",
       "var notebookContainer = gd.closest('#notebook-container');\n",
       "if (notebookContainer) {{\n",
       "    x.observe(notebookContainer, {childList: true});\n",
       "}}\n",
       "\n",
       "// Listen for the clearing of the current output cell\n",
       "var outputEl = gd.closest('.output');\n",
       "if (outputEl) {{\n",
       "    x.observe(outputEl, {childList: true});\n",
       "}}\n",
       "\n",
       "                        })                };                });            </script>        </div>"
      ]
     },
     "metadata": {},
     "output_type": "display_data"
    }
   ],
   "source": [
    "# Definindo a figura do relatório\n",
    "figura = make_subplots(\n",
    "    rows=2,\n",
    "    cols=1,\n",
    "    specs=[\n",
    "        [{'type':'scatter'}],\n",
    "        [{'type':'scatter'}]\n",
    "    ],\n",
    "    vertical_spacing=0.075,\n",
    "    shared_xaxes=True,\n",
    "    subplot_titles=('Cotação', 'Fechamento')\n",
    ")\n",
    "\n",
    "# Layout e dimensão\n",
    "\n",
    "figura.update_layout(\n",
    "    width=1000,\n",
    "    height=800,\n",
    "    title_text='<b>Advanced Analytics</b><br>Follow-up Petrobras'\n",
    ")\n",
    "\n",
    "# Adicionando um gráfico na primeira posição\n",
    "\n",
    "figura.add_trace(\n",
    "    go.Candlestick(\n",
    "            x=dados.index,\n",
    "            open=dados['Open'],\n",
    "            high=dados['High'],\n",
    "            low=dados['Low'],\n",
    "            close=dados['Close'],\n",
    "            #increasing_line_color='darkblue',\n",
    "            #decreasing_line_color='orange'\n",
    "        ),\n",
    "    row=1, col=1\n",
    ")\n",
    "\n",
    "figura.update_layout(\n",
    "    xaxis_rangeslider_visible=False\n",
    ")\n",
    "\n",
    "# Adicionando um gráfico na segunda posição\n",
    "\n",
    "figura.add_trace(\n",
    "    go.Scatter(\n",
    "        x=dados.index,\n",
    "        y=dados['Close'],\n",
    "        mode='lines',\n",
    "        name='Fechamento',\n",
    "        line=(dict(color='darkorchid'))\n",
    "    ),\n",
    "    row=2, col=1\n",
    ")\n",
    "\n",
    "figura.add_trace(\n",
    "    go.Scatter(\n",
    "        x=dados.index,\n",
    "        y=dados['media_movel5'],\n",
    "        mode='lines',\n",
    "        name='Média móvel 5 dias',\n",
    "        line=(dict(color='orange'))\n",
    "    ),\n",
    "    row=2, col=1\n",
    ")\n",
    "\n",
    "figura.add_trace(\n",
    "    go.Scatter(\n",
    "        x=dados.index,\n",
    "        y=dados['media_movel25'],\n",
    "        mode='lines',\n",
    "        name='Média móvel 25 dias',\n",
    "        line=(dict(color='hotpink'))\n",
    "    ),\n",
    "    row=2, col=1\n",
    ")\n",
    "\n",
    "figura.update_layout(\n",
    "    legend=dict(\n",
    "        orientation='h',\n",
    "        yanchor='bottom',\n",
    "        y=1.05,\n",
    "        xanchor='right',\n",
    "        x=1,\n",
    "        font=dict(size=10)\n",
    "    )\n",
    ")\n",
    "\n",
    "figura.add_annotation(\n",
    "    showarrow=False,\n",
    "    text='Análise feita no evento de Python oferecido pela Data Viking',\n",
    "    font=dict(size=10),\n",
    "    xref='x domain',\n",
    "    x=1,\n",
    "    yref='y domain',\n",
    "    y=-1.4\n",
    "    \n",
    ")\n",
    "\n",
    "figura.add_annotation(\n",
    "    showarrow=False,\n",
    "    text='Elaborado por Rogério Silva',\n",
    "    font=dict(size=10),\n",
    "    xref='x domain',\n",
    "    x=0,\n",
    "    yref='y domain',\n",
    "    y=-1.4\n",
    "    \n",
    ")\n",
    "\n",
    "# Visualizando a figura\n",
    "\n",
    "figura.show()"
   ]
  },
  {
   "cell_type": "code",
   "execution_count": 117,
   "id": "f92411c7",
   "metadata": {},
   "outputs": [],
   "source": [
    "#pip install -U kaleido"
   ]
  },
  {
   "cell_type": "code",
   "execution_count": 118,
   "id": "385cc722",
   "metadata": {},
   "outputs": [],
   "source": [
    "figura.write_image('Reporte financeiro - PETR4.pdf', format=\"pdf\")"
   ]
  }
 ],
 "metadata": {
  "kernelspec": {
   "display_name": "Python 3 (ipykernel)",
   "language": "python",
   "name": "python3"
  },
  "language_info": {
   "codemirror_mode": {
    "name": "ipython",
    "version": 3
   },
   "file_extension": ".py",
   "mimetype": "text/x-python",
   "name": "python",
   "nbconvert_exporter": "python",
   "pygments_lexer": "ipython3",
   "version": "3.9.7"
  }
 },
 "nbformat": 4,
 "nbformat_minor": 5
}
