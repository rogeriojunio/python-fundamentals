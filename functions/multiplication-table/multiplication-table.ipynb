{
 "cells": [
  {
   "cell_type": "code",
   "execution_count": 1,
   "metadata": {},
   "outputs": [],
   "source": [
    "def tabuada(x):\n",
    "    print(\"=\"*16)\n",
    "    print(f\"Tabuada de {x}\".center(16))\n",
    "    print(\"=\"*16)\n",
    "    for i in range(1,11):\n",
    "        print(f'{x}x{i} = {x*i}'.center(16))"
   ]
  },
  {
   "cell_type": "code",
   "execution_count": 2,
   "metadata": {},
   "outputs": [
    {
     "name": "stdout",
     "output_type": "stream",
     "text": [
      "================\n",
      "  Tabuada de 2  \n",
      "================\n",
      "    2x1 = 2     \n",
      "    2x2 = 4     \n",
      "    2x3 = 6     \n",
      "    2x4 = 8     \n",
      "    2x5 = 10    \n",
      "    2x6 = 12    \n",
      "    2x7 = 14    \n",
      "    2x8 = 16    \n",
      "    2x9 = 18    \n",
      "   2x10 = 20    \n"
     ]
    }
   ],
   "source": [
    "tabuada(2)"
   ]
  }
 ],
 "metadata": {
  "kernelspec": {
   "display_name": "base",
   "language": "python",
   "name": "python3"
  },
  "language_info": {
   "codemirror_mode": {
    "name": "ipython",
    "version": 3
   },
   "file_extension": ".py",
   "mimetype": "text/x-python",
   "name": "python",
   "nbconvert_exporter": "python",
   "pygments_lexer": "ipython3",
   "version": "3.9.18"
  }
 },
 "nbformat": 4,
 "nbformat_minor": 2
}
