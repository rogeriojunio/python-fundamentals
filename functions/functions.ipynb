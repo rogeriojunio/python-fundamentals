{
 "cells": [
  {
   "cell_type": "markdown",
   "metadata": {},
   "source": [
    "# Funções\n",
    "\n",
    "##### Elaborado por Rogério Silva"
   ]
  },
  {
   "cell_type": "markdown",
   "metadata": {},
   "source": [
    "As funções executam uma determinada sequência de comandos, possuem uma estrutura de entrada e saída, e podem ser reutilizadas conforme a necessidade. As funções também são conhecidas como sub-programas."
   ]
  },
  {
   "cell_type": "markdown",
   "metadata": {},
   "source": [
    "Exemplos de funções nativas do Python:\n",
    "\n",
    "1. `print()`: função de retorno de dados\n",
    "2. `input()`: função de entrada de dados\n",
    "3. `len()`: função que retorna o tamanho de uma lista de valores\n",
    "4. `max()`: função que retorna o maior valor dentro de uma lista de valores"
   ]
  },
  {
   "cell_type": "markdown",
   "metadata": {},
   "source": [
    "Uma função é criada a partir da palavra reservada `def`. As funções não necessariamente precisam de parâmetros, mas, caso seja necessário, podemos usar diversos tipos de entradas, por exemplo: dados númericos, dados de texto, dados de sequência e outros."
   ]
  },
  {
   "cell_type": "code",
   "execution_count": 5,
   "metadata": {},
   "outputs": [],
   "source": [
    "def saudacao_generica():\n",
    "    print('Seja bem vindo(a)!')\n",
    "    print('Olá, usuário, é um prazer te ver por aqui!')\n",
    "    print('Para entrar em contato comigo, utilize o e-mail: rogeriojunio@poli.ufrj.br')"
   ]
  },
  {
   "cell_type": "code",
   "execution_count": 6,
   "metadata": {},
   "outputs": [
    {
     "name": "stdout",
     "output_type": "stream",
     "text": [
      "Seja bem vindo(a)!\n",
      "Olá, usuário, é um prazer te ver por aqui!\n",
      "Para entrar em contato comigo, utilize o e-mail: rogeriojunio@poli.ufrj.br\n"
     ]
    }
   ],
   "source": [
    "saudacao_generica()"
   ]
  },
  {
   "cell_type": "code",
   "execution_count": 12,
   "metadata": {},
   "outputs": [],
   "source": [
    "def saudacao_personalizada(nome='recrutador(a)'):\n",
    "    print('Seja bem vindo(a)!')\n",
    "    print(f'Olá, {nome}, é um prazer te ver por aqui!')\n",
    "    print('Para entrar em contato comigo, utilize o e-mail: rogeriojunio@poli.ufrj.br')"
   ]
  },
  {
   "cell_type": "code",
   "execution_count": 13,
   "metadata": {},
   "outputs": [
    {
     "name": "stdout",
     "output_type": "stream",
     "text": [
      "Seja bem vindo(a)!\n",
      "Olá, recrutador(a), é um prazer te ver por aqui!\n",
      "Para entrar em contato comigo, utilize o e-mail: rogeriojunio@poli.ufrj.br\n"
     ]
    }
   ],
   "source": [
    "saudacao_personalizada()"
   ]
  },
  {
   "cell_type": "code",
   "execution_count": 14,
   "metadata": {},
   "outputs": [
    {
     "name": "stdout",
     "output_type": "stream",
     "text": [
      "Seja bem vindo(a)!\n",
      "Olá, Katia, é um prazer te ver por aqui!\n",
      "Para entrar em contato comigo, utilize o e-mail: rogeriojunio@poli.ufrj.br\n"
     ]
    }
   ],
   "source": [
    "saudacao_personalizada('Katia')"
   ]
  },
  {
   "cell_type": "markdown",
   "metadata": {},
   "source": [
    "A palavra reservada `return` normalmente é usada para entregar o resultado de forma que seja reaproveitado."
   ]
  },
  {
   "cell_type": "code",
   "execution_count": 21,
   "metadata": {},
   "outputs": [],
   "source": [
    "def calculadora(n1, n2, operacao='+'):\n",
    "    '''\n",
    "    Função que simula as operações básicas de uma calculadora. \n",
    "    Utilize: \n",
    "    '+' para soma,\n",
    "    '-' para subtração,\n",
    "    '/' para divisão,\n",
    "    '*' para multiplicação.\n",
    "    '''\n",
    "    if operacao == '+':\n",
    "        return n1+n2\n",
    "    elif operacao == '-':\n",
    "        return n1-n2\n",
    "    elif operacao == '/':\n",
    "        return n1/n2\n",
    "    elif operacao == '*':\n",
    "        return n1*n2\n",
    "    else:\n",
    "        return 'operação desconhecida'"
   ]
  },
  {
   "cell_type": "code",
   "execution_count": 16,
   "metadata": {},
   "outputs": [
    {
     "data": {
      "text/plain": [
       "3"
      ]
     },
     "execution_count": 16,
     "metadata": {},
     "output_type": "execute_result"
    }
   ],
   "source": [
    "calculadora(1,2)"
   ]
  },
  {
   "cell_type": "code",
   "execution_count": 17,
   "metadata": {},
   "outputs": [
    {
     "data": {
      "text/plain": [
       "0"
      ]
     },
     "execution_count": 17,
     "metadata": {},
     "output_type": "execute_result"
    }
   ],
   "source": [
    "calculadora(2,2,'-')"
   ]
  },
  {
   "cell_type": "code",
   "execution_count": 19,
   "metadata": {},
   "outputs": [
    {
     "data": {
      "text/plain": [
       "0.75"
      ]
     },
     "execution_count": 19,
     "metadata": {},
     "output_type": "execute_result"
    }
   ],
   "source": [
    "calculadora(3,4,'/')"
   ]
  },
  {
   "cell_type": "code",
   "execution_count": 20,
   "metadata": {},
   "outputs": [
    {
     "data": {
      "text/plain": [
       "35"
      ]
     },
     "execution_count": 20,
     "metadata": {},
     "output_type": "execute_result"
    }
   ],
   "source": [
    "calculadora(7,5,'*')"
   ]
  }
 ],
 "metadata": {
  "kernelspec": {
   "display_name": "base",
   "language": "python",
   "name": "python3"
  },
  "language_info": {
   "codemirror_mode": {
    "name": "ipython",
    "version": 3
   },
   "file_extension": ".py",
   "mimetype": "text/x-python",
   "name": "python",
   "nbconvert_exporter": "python",
   "pygments_lexer": "ipython3",
   "version": "3.9.18"
  }
 },
 "nbformat": 4,
 "nbformat_minor": 2
}
