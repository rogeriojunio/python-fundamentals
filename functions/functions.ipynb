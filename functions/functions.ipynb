{
 "cells": [
  {
   "cell_type": "markdown",
   "metadata": {},
   "source": [
    "# Funções\n",
    "\n",
    "##### Elaborado por Rogério Silva"
   ]
  },
  {
   "cell_type": "markdown",
   "metadata": {},
   "source": [
    "As funções executam uma determinada sequência de comandos, possuem uma estrutura de entrada e saída, e podem ser reutilizadas conforme a necessidade. As funções também são conhecidas como sub-programas."
   ]
  },
  {
   "cell_type": "markdown",
   "metadata": {},
   "source": [
    "Exemplos de funções nativas do Python:\n",
    "\n",
    "1. `print()`: função de retorno de dados\n",
    "2. `input()`: função de entrada de dados\n",
    "3. `len()`: função que retorna o tamanho de uma lista de valores\n",
    "4. `max()`: função que retorna o maior valor dentro de uma lista de valores"
   ]
  },
  {
   "cell_type": "markdown",
   "metadata": {},
   "source": [
    "Já existem uma diversidade de funções nativas que podem ser compreendidas a partir da função `help`."
   ]
  },
  {
   "cell_type": "code",
   "execution_count": 3,
   "metadata": {},
   "outputs": [
    {
     "name": "stdout",
     "output_type": "stream",
     "text": [
      "Help on built-in function len in module builtins:\n",
      "\n",
      "len(obj, /)\n",
      "    Return the number of items in a container.\n",
      "\n"
     ]
    }
   ],
   "source": [
    "help(len)"
   ]
  },
  {
   "cell_type": "markdown",
   "metadata": {},
   "source": [
    "Uma função é criada a partir da palavra reservada `def`. As funções não necessariamente precisam de argumentos, mas, caso seja necessário, podemos usar diversos tipos de entradas, por exemplo: dados númericos, dados de texto, dados de sequência ou outros."
   ]
  },
  {
   "cell_type": "markdown",
   "metadata": {},
   "source": [
    "Construindo uma função sem argumentos"
   ]
  },
  {
   "cell_type": "code",
   "execution_count": 5,
   "metadata": {},
   "outputs": [],
   "source": [
    "def saudacao_generica():\n",
    "    print('Seja bem vindo(a)!')\n",
    "    print('Olá, usuário, é um prazer te ver por aqui!')\n",
    "    print('Para entrar em contato comigo, utilize o e-mail: rogeriojunio@poli.ufrj.br')"
   ]
  },
  {
   "cell_type": "code",
   "execution_count": 6,
   "metadata": {},
   "outputs": [
    {
     "name": "stdout",
     "output_type": "stream",
     "text": [
      "Seja bem vindo(a)!\n",
      "Olá, usuário, é um prazer te ver por aqui!\n",
      "Para entrar em contato comigo, utilize o e-mail: rogeriojunio@poli.ufrj.br\n"
     ]
    }
   ],
   "source": [
    "saudacao_generica()"
   ]
  },
  {
   "cell_type": "markdown",
   "metadata": {},
   "source": [
    "Contruindo uma função com argumentos"
   ]
  },
  {
   "cell_type": "code",
   "execution_count": 1,
   "metadata": {},
   "outputs": [],
   "source": [
    "# Esta função define como entrada o argumento 'nome', mas, caso não seja preenchido,\n",
    "# a função funcionará com o argumento padrão: nome='recrutador(a)'\n",
    "\n",
    "def saudacao_personalizada(nome='recrutador(a)'):\n",
    "    print('Seja bem vindo(a)!')\n",
    "    print(f'Olá, {nome}, é um prazer te ver por aqui!')\n",
    "    print('Para entrar em contato comigo, utilize o e-mail: rogeriojunio@poli.ufrj.br')"
   ]
  },
  {
   "cell_type": "code",
   "execution_count": 13,
   "metadata": {},
   "outputs": [
    {
     "name": "stdout",
     "output_type": "stream",
     "text": [
      "Seja bem vindo(a)!\n",
      "Olá, recrutador(a), é um prazer te ver por aqui!\n",
      "Para entrar em contato comigo, utilize o e-mail: rogeriojunio@poli.ufrj.br\n"
     ]
    }
   ],
   "source": [
    "saudacao_personalizada()"
   ]
  },
  {
   "cell_type": "code",
   "execution_count": 14,
   "metadata": {},
   "outputs": [
    {
     "name": "stdout",
     "output_type": "stream",
     "text": [
      "Seja bem vindo(a)!\n",
      "Olá, Katia, é um prazer te ver por aqui!\n",
      "Para entrar em contato comigo, utilize o e-mail: rogeriojunio@poli.ufrj.br\n"
     ]
    }
   ],
   "source": [
    "saudacao_personalizada('Katia')"
   ]
  },
  {
   "cell_type": "markdown",
   "metadata": {},
   "source": [
    "A palavra reservada `return` normalmente é usada para entregar o resultado de forma que seja reaproveitado."
   ]
  },
  {
   "cell_type": "code",
   "execution_count": 5,
   "metadata": {},
   "outputs": [],
   "source": [
    "def calculadora(n1, n2, operacao='+'):\n",
    "    '''\n",
    "    Função que simula as operações básicas de uma calculadora. \n",
    "    Utilize: \n",
    "    '+' para soma,\n",
    "    '-' para subtração,\n",
    "    '/' para divisão,\n",
    "    '*' para multiplicação.\n",
    "    '''\n",
    "    if operacao == '+':\n",
    "        return n1+n2\n",
    "    elif operacao == '-':\n",
    "        return n1-n2\n",
    "    elif operacao == '/':\n",
    "        return n1/n2\n",
    "    elif operacao == '*':\n",
    "        return n1*n2\n",
    "    else:\n",
    "        return 'operação desconhecida'"
   ]
  },
  {
   "cell_type": "code",
   "execution_count": 16,
   "metadata": {},
   "outputs": [
    {
     "data": {
      "text/plain": [
       "3"
      ]
     },
     "execution_count": 16,
     "metadata": {},
     "output_type": "execute_result"
    }
   ],
   "source": [
    "calculadora(1,2)"
   ]
  },
  {
   "cell_type": "code",
   "execution_count": 17,
   "metadata": {},
   "outputs": [
    {
     "data": {
      "text/plain": [
       "0"
      ]
     },
     "execution_count": 17,
     "metadata": {},
     "output_type": "execute_result"
    }
   ],
   "source": [
    "calculadora(2,2,'-')"
   ]
  },
  {
   "cell_type": "code",
   "execution_count": 19,
   "metadata": {},
   "outputs": [
    {
     "data": {
      "text/plain": [
       "0.75"
      ]
     },
     "execution_count": 19,
     "metadata": {},
     "output_type": "execute_result"
    }
   ],
   "source": [
    "calculadora(3,4,'/')"
   ]
  },
  {
   "cell_type": "code",
   "execution_count": 20,
   "metadata": {},
   "outputs": [
    {
     "data": {
      "text/plain": [
       "35"
      ]
     },
     "execution_count": 20,
     "metadata": {},
     "output_type": "execute_result"
    }
   ],
   "source": [
    "calculadora(7,5,'*')"
   ]
  },
  {
   "cell_type": "markdown",
   "metadata": {},
   "source": [
    "Docstring"
   ]
  },
  {
   "cell_type": "code",
   "execution_count": 6,
   "metadata": {},
   "outputs": [
    {
     "name": "stdout",
     "output_type": "stream",
     "text": [
      "Help on function calculadora in module __main__:\n",
      "\n",
      "calculadora(n1, n2, operacao='+')\n",
      "    Função que simula as operações básicas de uma calculadora. \n",
      "    Utilize: \n",
      "    '+' para soma,\n",
      "    '-' para subtração,\n",
      "    '/' para divisão,\n",
      "    '*' para multiplicação.\n",
      "\n"
     ]
    }
   ],
   "source": [
    "help(calculadora)"
   ]
  },
  {
   "cell_type": "markdown",
   "metadata": {},
   "source": [
    "#### Argumentos flexíveis"
   ]
  },
  {
   "cell_type": "markdown",
   "metadata": {},
   "source": [
    "Uma função consegue receber um número personalizado de argumentos. Para isso, é necessário usar o asterisco (*) antes do nome do argumento."
   ]
  },
  {
   "cell_type": "code",
   "execution_count": 7,
   "metadata": {},
   "outputs": [],
   "source": [
    "def soma_generica(*args):\n",
    "    '''\n",
    "    Função que soma, de forma flexível, todos os valores de *args. \n",
    "    '''\n",
    "    soma = 0\n",
    "    for num in args:\n",
    "        soma += num\n",
    "    return soma"
   ]
  },
  {
   "cell_type": "code",
   "execution_count": 8,
   "metadata": {},
   "outputs": [
    {
     "name": "stdout",
     "output_type": "stream",
     "text": [
      "Help on function soma_generica in module __main__:\n",
      "\n",
      "soma_generica(*args)\n",
      "    Função que soma, de forma flexível, todos os valores de *args.\n",
      "\n"
     ]
    }
   ],
   "source": [
    "help(soma_generica)"
   ]
  },
  {
   "cell_type": "code",
   "execution_count": 12,
   "metadata": {},
   "outputs": [
    {
     "name": "stdout",
     "output_type": "stream",
     "text": [
      "55\n"
     ]
    }
   ],
   "source": [
    "resultado = soma_generica(0, 1, 2, 3, 4, 5, 6, 7, 8, 9, 10)\n",
    "\n",
    "print(resultado)"
   ]
  },
  {
   "cell_type": "markdown",
   "metadata": {},
   "source": [
    "Existe a possibilidade de usar agumentos flexíveis com dois asteriscos (**) para pares chave-valor genéricos."
   ]
  },
  {
   "cell_type": "code",
   "execution_count": 56,
   "metadata": {},
   "outputs": [],
   "source": [
    "def licitacao(**kargs):\n",
    "    '''\n",
    "    Função que recebe qualquer número de pares chave-valor representando \n",
    "    o nome da empresa e o valor da prestação de serviço. A função 'licitacao' \n",
    "    lista todos as empresas concorrentes em ordem crescente de valor.\n",
    "    '''\n",
    "    ordem = sorted((valor, chave) for (chave, valor) in kargs.items())\n",
    "\n",
    "    for preco, empresa in ordem:\n",
    "        print(f'A empresa {empresa} está cobrando R$ {preco} pelo serviço.')\n",
    "\n"
   ]
  },
  {
   "cell_type": "code",
   "execution_count": 59,
   "metadata": {},
   "outputs": [
    {
     "name": "stdout",
     "output_type": "stream",
     "text": [
      "Help on function licitacao in module __main__:\n",
      "\n",
      "licitacao(**kargs)\n",
      "    Função que recebe qualquer número de pares chave-valor representando \n",
      "    o nome da empresa e o valor da prestação de serviço. A função 'licitacao' \n",
      "    lista todos as empresas concorrentes em ordem crescente de valor.\n",
      "\n"
     ]
    }
   ],
   "source": [
    "help(licitacao)"
   ]
  },
  {
   "cell_type": "code",
   "execution_count": 57,
   "metadata": {},
   "outputs": [
    {
     "name": "stdout",
     "output_type": "stream",
     "text": [
      "A empresa Descontao está cobrando R$ 27000 pelo serviço.\n",
      "A empresa MelhorPreco está cobrando R$ 30000 pelo serviço.\n",
      "A empresa Pechincha está cobrando R$ 31000 pelo serviço.\n"
     ]
    }
   ],
   "source": [
    "licitacao(MelhorPreco= 30000, Descontao= 27000, Pechincha=31000)"
   ]
  },
  {
   "cell_type": "markdown",
   "metadata": {},
   "source": [
    "#### Função lambda"
   ]
  },
  {
   "cell_type": "markdown",
   "metadata": {},
   "source": [
    "É uma forma concisa de definir uma função."
   ]
  },
  {
   "cell_type": "code",
   "execution_count": 60,
   "metadata": {},
   "outputs": [],
   "source": [
    "potencia = lambda x, y=2: x**y"
   ]
  },
  {
   "cell_type": "code",
   "execution_count": 61,
   "metadata": {},
   "outputs": [
    {
     "data": {
      "text/plain": [
       "9"
      ]
     },
     "execution_count": 61,
     "metadata": {},
     "output_type": "execute_result"
    }
   ],
   "source": [
    "potencia(3, 2)"
   ]
  },
  {
   "cell_type": "markdown",
   "metadata": {},
   "source": [
    "As funções lambda podem ser usadas como argumentos de outras funções. "
   ]
  },
  {
   "cell_type": "code",
   "execution_count": null,
   "metadata": {},
   "outputs": [],
   "source": []
  }
 ],
 "metadata": {
  "kernelspec": {
   "display_name": "base",
   "language": "python",
   "name": "python3"
  },
  "language_info": {
   "codemirror_mode": {
    "name": "ipython",
    "version": 3
   },
   "file_extension": ".py",
   "mimetype": "text/x-python",
   "name": "python",
   "nbconvert_exporter": "python",
   "pygments_lexer": "ipython3",
   "version": "3.9.18"
  }
 },
 "nbformat": 4,
 "nbformat_minor": 2
}
