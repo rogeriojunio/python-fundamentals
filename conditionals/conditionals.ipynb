{
 "cells": [
  {
   "cell_type": "markdown",
   "metadata": {},
   "source": [
    "# Condicionais\n",
    "\n",
    "1. `if`\n",
    "2. `elif`\n",
    "3. `else`\n",
    "\n",
    "##### Elaborado por Rogério Silva"
   ]
  },
  {
   "cell_type": "markdown",
   "metadata": {},
   "source": [
    "As condicionais pertencem as estruturas de controle de fluxo. É a partir das condicionais que existe a seletividade dos comandos que serão realizados no código."
   ]
  },
  {
   "cell_type": "code",
   "execution_count": 9,
   "metadata": {},
   "outputs": [
    {
     "name": "stdout",
     "output_type": "stream",
     "text": [
      "Você disse que sua idade é 25 anos.\n",
      "Você é maior de idade.\n"
     ]
    }
   ],
   "source": [
    "idade = int(input('Digite sua idade: '))\n",
    "print(f'Você disse que sua idade é', idade, 'anos.')\n",
    "\n",
    "if idade >= 18:\n",
    "    print('Você é maior de idade.')\n",
    "else:\n",
    "    print('Você é menor de idade.')"
   ]
  },
  {
   "cell_type": "markdown",
   "metadata": {},
   "source": [
    "Exercício 1: Imagine que você queira imprimir \"Aprovado(a)\", caso o estudante tenha uma média superior ou igual a 7, e \"Reprovado(a)\", caso a média seja inferior a 7. Suponha que a média é composta por três avaliações de pesos iguais."
   ]
  },
  {
   "cell_type": "code",
   "execution_count": 10,
   "metadata": {},
   "outputs": [
    {
     "name": "stdout",
     "output_type": "stream",
     "text": [
      "Sua média é 6.0. Respeitando os critérios de avaliação, você está reprovado(a)\n"
     ]
    }
   ],
   "source": [
    "nota1 = float(input('Digite a primeira nota: '))\n",
    "nota2 = float(input('Digite a segunda nota: '))\n",
    "nota3 = float(input('Digite a terceira nota: '))\n",
    "\n",
    "media = (nota1 + nota2 + nota3)/3\n",
    "\n",
    "if media >= 7:\n",
    "    veredito = 'aprovado(a)'\n",
    "else:\n",
    "    veredito = 'reprovado(a)'\n",
    "\n",
    "print(f'Sua média é {media}. Respeitando os critérios de avaliação, você está {veredito}.')"
   ]
  },
  {
   "cell_type": "markdown",
   "metadata": {},
   "source": [
    "Exercício 2: Imagine que você queira imprimir \"Aprovado(a)\", caso o estudante tenha uma média superior ou igual a 7, Recuperação, caso a média seja maior ou igual a 5 e \"Reprovado(a)\", caso a média seja inferior a 5. Suponha que a média é composta por três avaliações de pesos iguais."
   ]
  },
  {
   "cell_type": "code",
   "execution_count": 13,
   "metadata": {},
   "outputs": [
    {
     "name": "stdout",
     "output_type": "stream",
     "text": [
      "Sua média é 6.0. Respeitando os critérios de avaliação, você está de recuperação.\n"
     ]
    }
   ],
   "source": [
    "nota1 = float(input('Digite a primeira nota: '))\n",
    "nota2 = float(input('Digite a segunda nota: '))\n",
    "nota3 = float(input('Digite a terceira nota: '))\n",
    "\n",
    "media = (nota1 + nota2 + nota3)/3\n",
    "\n",
    "if media >= 7:\n",
    "    veredito = 'aprovado(a)'\n",
    "elif media >= 5:\n",
    "    veredito = 'de recuperação'\n",
    "else:\n",
    "    veredito = 'reprovado(a)'\n",
    "\n",
    "print(f'Sua média é {media}. Respeitando os critérios de avaliação, você está {veredito}.')"
   ]
  }
 ],
 "metadata": {
  "kernelspec": {
   "display_name": "base",
   "language": "python",
   "name": "python3"
  },
  "language_info": {
   "codemirror_mode": {
    "name": "ipython",
    "version": 3
   },
   "file_extension": ".py",
   "mimetype": "text/x-python",
   "name": "python",
   "nbconvert_exporter": "python",
   "pygments_lexer": "ipython3",
   "version": "3.9.18"
  }
 },
 "nbformat": 4,
 "nbformat_minor": 2
}
