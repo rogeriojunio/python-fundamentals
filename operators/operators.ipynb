{
 "cells": [
  {
   "cell_type": "markdown",
   "metadata": {},
   "source": [
    "# Operadores\n",
    "\n",
    "1. Aritméticos: `+`, `-`. `*`, `/`, `%`, `//` e `**`\n",
    "2. Comparação: `==`, `!=`, `>`, `<`, `>=`, `<=`\n",
    "3. Lógicos: `and`, `or` e `not`\n",
    "4. Identidade: `is` e `is not`\n",
    "5. Associação: `in` e `not in`\n",
    "6. Bitwise: `&`, `|`, `^` e `~`\n",
    "\n",
    "##### Elaborado por Rogério Silva"
   ]
  },
  {
   "cell_type": "markdown",
   "metadata": {},
   "source": [
    "### Aritméticos"
   ]
  },
  {
   "cell_type": "code",
   "execution_count": 137,
   "metadata": {},
   "outputs": [
    {
     "name": "stdout",
     "output_type": "stream",
     "text": [
      "soma=7 -> <class 'int'>\n"
     ]
    }
   ],
   "source": [
    "n1, n2 = 2, 5\n",
    "soma = n1 + n2\n",
    "\n",
    "print(f'{soma=} -> {type(soma)}')"
   ]
  },
  {
   "cell_type": "code",
   "execution_count": 138,
   "metadata": {},
   "outputs": [
    {
     "name": "stdout",
     "output_type": "stream",
     "text": [
      "subtracao=-3.7 -> <class 'float'>\n"
     ]
    }
   ],
   "source": [
    "n1, n2 = -1, 2.7\n",
    "subtracao = n1 - n2\n",
    "\n",
    "print(f'{subtracao=} -> {type(subtracao)}')"
   ]
  },
  {
   "cell_type": "code",
   "execution_count": 139,
   "metadata": {},
   "outputs": [
    {
     "name": "stdout",
     "output_type": "stream",
     "text": [
      "multiplicacao=133.2 -> <class 'float'>\n"
     ]
    }
   ],
   "source": [
    "n1, n2 = -1.5, -88.8\n",
    "multiplicacao = n1 * n2\n",
    "\n",
    "print(f'{multiplicacao=} -> {type(multiplicacao)}')"
   ]
  },
  {
   "cell_type": "code",
   "execution_count": 140,
   "metadata": {},
   "outputs": [
    {
     "name": "stdout",
     "output_type": "stream",
     "text": [
      "divisao=-13j -> <class 'complex'>\n"
     ]
    }
   ],
   "source": [
    "n1, n2 = 13, 1j\n",
    "divisao = n1 / n2\n",
    "\n",
    "print(f'{divisao=} -> {type(divisao)}')"
   ]
  },
  {
   "cell_type": "code",
   "execution_count": 141,
   "metadata": {},
   "outputs": [
    {
     "name": "stdout",
     "output_type": "stream",
     "text": [
      "resto=0.5 -> <class 'float'>\n"
     ]
    }
   ],
   "source": [
    "# o resto de uma divisão é também conhecido como resto\n",
    "n1, n2 = 11, 3.5\n",
    "resto = n1 % n2\n",
    "\n",
    "print(f'{resto=} -> {type(resto)}')"
   ]
  },
  {
   "cell_type": "code",
   "execution_count": 142,
   "metadata": {},
   "outputs": [
    {
     "name": "stdout",
     "output_type": "stream",
     "text": [
      "div_int=3.0 -> <class 'float'>\n"
     ]
    }
   ],
   "source": [
    "# uma divisão inteira pode retornar um tipo diferente de inteiro\n",
    "n1, n2 = 11, 3.5\n",
    "div_int = n1 // n2\n",
    "\n",
    "print(f'{div_int=} -> {type(div_int)}')"
   ]
  },
  {
   "cell_type": "code",
   "execution_count": 143,
   "metadata": {},
   "outputs": [
    {
     "name": "stdout",
     "output_type": "stream",
     "text": [
      "potencia=1024 -> <class 'int'>\n"
     ]
    }
   ],
   "source": [
    "n1, n2 = 2, 10\n",
    "potencia = n1 ** n2\n",
    "\n",
    "print(f'{potencia=} -> {type(potencia)}')"
   ]
  },
  {
   "cell_type": "code",
   "execution_count": 144,
   "metadata": {},
   "outputs": [
    {
     "name": "stdout",
     "output_type": "stream",
     "text": [
      "potencia=(3+4j) -> <class 'complex'>\n"
     ]
    }
   ],
   "source": [
    "n1, n2 = 2+1j, 2\n",
    "potencia = n1 ** n2\n",
    "\n",
    "print(f'{potencia=} -> {type(potencia)}')"
   ]
  },
  {
   "cell_type": "markdown",
   "metadata": {},
   "source": [
    "### Comparação"
   ]
  },
  {
   "cell_type": "code",
   "execution_count": 145,
   "metadata": {},
   "outputs": [
    {
     "name": "stdout",
     "output_type": "stream",
     "text": [
      "igual=True -> <class 'bool'>\n"
     ]
    }
   ],
   "source": [
    "n1, n2 = 2, 2.0\n",
    "igual = n1 == n2\n",
    "\n",
    "print(f'{igual=} -> {type(igual)}')"
   ]
  },
  {
   "cell_type": "code",
   "execution_count": 146,
   "metadata": {},
   "outputs": [
    {
     "name": "stdout",
     "output_type": "stream",
     "text": [
      "diferente=False -> <class 'bool'>\n"
     ]
    }
   ],
   "source": [
    "n1, n2 = 2, 2.0\n",
    "diferente = n1 != n2\n",
    "\n",
    "print(f'{diferente=} -> {type(diferente)}')"
   ]
  },
  {
   "cell_type": "code",
   "execution_count": 147,
   "metadata": {},
   "outputs": [
    {
     "name": "stdout",
     "output_type": "stream",
     "text": [
      "maior=True -> <class 'bool'>\n"
     ]
    }
   ],
   "source": [
    "n1, n2 = 7, 5\n",
    "maior = n1 > n2\n",
    "\n",
    "print(f'{maior=} -> {type(maior)}')"
   ]
  },
  {
   "cell_type": "code",
   "execution_count": 148,
   "metadata": {},
   "outputs": [
    {
     "name": "stdout",
     "output_type": "stream",
     "text": [
      "menor=False -> <class 'bool'>\n"
     ]
    }
   ],
   "source": [
    "n1, n2 = 7, 5\n",
    "menor = n1 < n2\n",
    "\n",
    "print(f'{menor=} -> {type(menor)}')"
   ]
  },
  {
   "cell_type": "code",
   "execution_count": 149,
   "metadata": {},
   "outputs": [
    {
     "name": "stdout",
     "output_type": "stream",
     "text": [
      "maior_ou_igual=True -> <class 'bool'>\n"
     ]
    }
   ],
   "source": [
    "n1, n2 = 7j, 5+3j\n",
    "maior_ou_igual = abs(n1) > abs(n2)\n",
    "\n",
    "print(f'{maior_ou_igual=} -> {type(maior_ou_igual)}')"
   ]
  },
  {
   "cell_type": "code",
   "execution_count": 150,
   "metadata": {},
   "outputs": [
    {
     "name": "stdout",
     "output_type": "stream",
     "text": [
      "menor_ou_igual=True -> <class 'bool'>\n"
     ]
    }
   ],
   "source": [
    "n1, n2 = 7j, 5+3j\n",
    "menor_ou_igual = abs(n1) > abs(n2)\n",
    "\n",
    "print(f'{menor_ou_igual=} -> {type(menor_ou_igual)}')"
   ]
  },
  {
   "cell_type": "markdown",
   "metadata": {},
   "source": [
    "É possível usar operadores de comparação em strings, mas a regra de comparação será com base na valor ASCII dos caracteres."
   ]
  },
  {
   "cell_type": "code",
   "execution_count": 169,
   "metadata": {},
   "outputs": [
    {
     "name": "stdout",
     "output_type": "stream",
     "text": [
      "igual=False -> <class 'bool'>\n"
     ]
    }
   ],
   "source": [
    "s1, s2 = 'a', \"A\"\n",
    "igual = s1 == s2\n",
    "\n",
    "print(f'{igual=} -> {type(igual)}')"
   ]
  },
  {
   "cell_type": "code",
   "execution_count": 168,
   "metadata": {},
   "outputs": [
    {
     "name": "stdout",
     "output_type": "stream",
     "text": [
      "maior=True -> <class 'bool'>\n"
     ]
    }
   ],
   "source": [
    "s1, s2 = 'a', \"A\"\n",
    "maior = s1 > s2\n",
    "\n",
    "print(f'{maior=} -> {type(maior)}')"
   ]
  },
  {
   "cell_type": "code",
   "execution_count": 170,
   "metadata": {},
   "outputs": [
    {
     "name": "stdout",
     "output_type": "stream",
     "text": [
      "menor=False -> <class 'bool'>\n"
     ]
    }
   ],
   "source": [
    "s1, s2 = 'a', \"A\"\n",
    "menor = s1 < s2\n",
    "\n",
    "print(f'{menor=} -> {type(menor)}')"
   ]
  },
  {
   "cell_type": "markdown",
   "metadata": {},
   "source": [
    "### Lógicos"
   ]
  },
  {
   "cell_type": "code",
   "execution_count": 151,
   "metadata": {},
   "outputs": [
    {
     "name": "stdout",
     "output_type": "stream",
     "text": [
      "True and True = True\n",
      "True and False = False\n",
      "False and True = False\n",
      "False and False = False\n"
     ]
    }
   ],
   "source": [
    "b1, b2 = True, False\n",
    "\n",
    "print(f'{b1} and {b1} = {b1 and b1}')\n",
    "print(f'{b1} and {b2} = {b1 and b2}')\n",
    "print(f'{b2} and {b1} = {b2 and b1}')\n",
    "print(f'{b2} and {b2} = {b2 and b2}')"
   ]
  },
  {
   "cell_type": "code",
   "execution_count": 152,
   "metadata": {},
   "outputs": [
    {
     "name": "stdout",
     "output_type": "stream",
     "text": [
      "True or True = True\n",
      "True or False = True\n",
      "False or True = True\n",
      "False or False = False\n"
     ]
    }
   ],
   "source": [
    "b1, b2 = True, False\n",
    "\n",
    "print(f'{b1} or {b1} = {b1 or b1}')\n",
    "print(f'{b1} or {b2} = {b1 or b2}')\n",
    "print(f'{b2} or {b1} = {b2 or b1}')\n",
    "print(f'{b2} or {b2} = {b2 or b2}')"
   ]
  },
  {
   "cell_type": "code",
   "execution_count": 153,
   "metadata": {},
   "outputs": [
    {
     "name": "stdout",
     "output_type": "stream",
     "text": [
      "not (True or True) = False\n",
      "not (True or False) = False\n",
      "not (False or True) = False\n",
      "not (False or False) = True\n"
     ]
    }
   ],
   "source": [
    "b1, b2 = True, False\n",
    "\n",
    "print(f'not ({b1} or {b1}) = {not(b1 or b1)}')\n",
    "print(f'not ({b1} or {b2}) = {not(b1 or b2)}')\n",
    "print(f'not ({b2} or {b1}) = {not(b2 or b1)}')\n",
    "print(f'not ({b2} or {b2}) = {not(b2 or b2)}')"
   ]
  },
  {
   "cell_type": "markdown",
   "metadata": {},
   "source": [
    "### Identidade"
   ]
  },
  {
   "cell_type": "code",
   "execution_count": 154,
   "metadata": {},
   "outputs": [
    {
     "name": "stdout",
     "output_type": "stream",
     "text": [
      "identidade=True -> <class 'bool'>\n"
     ]
    }
   ],
   "source": [
    "val1, val2 = 0, 0\n",
    "identidade = val1 is val2\n",
    "\n",
    "print(f'{identidade=} -> {type(identidade)}')"
   ]
  },
  {
   "cell_type": "code",
   "execution_count": 155,
   "metadata": {},
   "outputs": [
    {
     "name": "stdout",
     "output_type": "stream",
     "text": [
      "identidade=False -> <class 'bool'>\n"
     ]
    }
   ],
   "source": [
    "val1, val2 = 0, 0.0\n",
    "identidade = val1 is val2\n",
    "\n",
    "print(f'{identidade=} -> {type(identidade)}')"
   ]
  },
  {
   "cell_type": "code",
   "execution_count": 156,
   "metadata": {},
   "outputs": [
    {
     "name": "stdout",
     "output_type": "stream",
     "text": [
      "identidade=True -> <class 'bool'>\n"
     ]
    }
   ],
   "source": [
    "val1, val2 = 0, 1\n",
    "identidade = val1 is not val2\n",
    "\n",
    "print(f'{identidade=} -> {type(identidade)}')"
   ]
  },
  {
   "cell_type": "markdown",
   "metadata": {},
   "source": [
    "### Associação"
   ]
  },
  {
   "cell_type": "code",
   "execution_count": 157,
   "metadata": {},
   "outputs": [
    {
     "name": "stdout",
     "output_type": "stream",
     "text": [
      "associacao=False -> <class 'bool'>\n"
     ]
    }
   ],
   "source": [
    "# operadores de associação são case sensitive\n",
    "\n",
    "var1 = 'Rio'\n",
    "var2 = 'Rogério'\n",
    "associacao = var1 in var2\n",
    "\n",
    "print(f'{associacao=} -> {type(associacao)}')"
   ]
  },
  {
   "cell_type": "code",
   "execution_count": 158,
   "metadata": {},
   "outputs": [
    {
     "name": "stdout",
     "output_type": "stream",
     "text": [
      "associacao=True -> <class 'bool'>\n"
     ]
    }
   ],
   "source": [
    "var1 = 'rio'\n",
    "var2 = 'Rogério'\n",
    "associacao = var1 in var2\n",
    "\n",
    "print(f'{associacao=} -> {type(associacao)}')"
   ]
  },
  {
   "cell_type": "code",
   "execution_count": 159,
   "metadata": {},
   "outputs": [
    {
     "name": "stdout",
     "output_type": "stream",
     "text": [
      "associacao=True -> <class 'bool'>\n"
     ]
    }
   ],
   "source": [
    "var1 = 'rio'\n",
    "var2 = 'mar'\n",
    "associacao = var1 not in var2\n",
    "\n",
    "print(f'{associacao=} -> {type(associacao)}')"
   ]
  },
  {
   "cell_type": "markdown",
   "metadata": {},
   "source": [
    "### Bitwise"
   ]
  },
  {
   "cell_type": "markdown",
   "metadata": {},
   "source": [
    "Avalia o binário dos valores e aplica o operador lógico bit a bit, esta comparação só funciona com inteiros."
   ]
  },
  {
   "cell_type": "code",
   "execution_count": 160,
   "metadata": {},
   "outputs": [
    {
     "name": "stdout",
     "output_type": "stream",
     "text": [
      "bitwise=2 -> <class 'int'>\n"
     ]
    }
   ],
   "source": [
    "n1 = 3\n",
    "n2 = 30\n",
    "bitwise = (n1)&(n2)\n",
    "\n",
    "print(f'{bitwise=} -> {type(bitwise)}')"
   ]
  },
  {
   "cell_type": "code",
   "execution_count": 161,
   "metadata": {},
   "outputs": [
    {
     "name": "stdout",
     "output_type": "stream",
     "text": [
      "bitwise=31 -> <class 'int'>\n"
     ]
    }
   ],
   "source": [
    "n1 = 3\n",
    "n2 = 30\n",
    "bitwise = (n1)|(n2)\n",
    "\n",
    "print(f'{bitwise=} -> {type(bitwise)}')"
   ]
  },
  {
   "cell_type": "code",
   "execution_count": 162,
   "metadata": {},
   "outputs": [
    {
     "name": "stdout",
     "output_type": "stream",
     "text": [
      "bitwise=29 -> <class 'int'>\n"
     ]
    }
   ],
   "source": [
    "n1 = 3\n",
    "n2 = 30\n",
    "bitwise = (n1)^(n2)\n",
    "\n",
    "print(f'{bitwise=} -> {type(bitwise)}')"
   ]
  },
  {
   "cell_type": "code",
   "execution_count": 163,
   "metadata": {},
   "outputs": [
    {
     "name": "stdout",
     "output_type": "stream",
     "text": [
      "bitwise=48 -> <class 'int'>\n"
     ]
    }
   ],
   "source": [
    "n1 = 3\n",
    "n2 = 4\n",
    "bitwise = (n1)<<(n2)\n",
    "\n",
    "print(f'{bitwise=} -> {type(bitwise)}')"
   ]
  },
  {
   "cell_type": "code",
   "execution_count": 164,
   "metadata": {},
   "outputs": [
    {
     "name": "stdout",
     "output_type": "stream",
     "text": [
      "bitwise=4 -> <class 'int'>\n"
     ]
    }
   ],
   "source": [
    "n1 = 8\n",
    "n2 = 1\n",
    "bitwise = (n1)>>(n2)\n",
    "\n",
    "print(f'{bitwise=} -> {type(bitwise)}')"
   ]
  },
  {
   "cell_type": "code",
   "execution_count": 165,
   "metadata": {},
   "outputs": [
    {
     "name": "stdout",
     "output_type": "stream",
     "text": [
      "bitwise=-9 -> <class 'int'>\n"
     ]
    }
   ],
   "source": [
    "n1 = 8\n",
    "bitwise = ~n1\n",
    "\n",
    "print(f'{bitwise=} -> {type(bitwise)}')"
   ]
  }
 ],
 "metadata": {
  "kernelspec": {
   "display_name": "base",
   "language": "python",
   "name": "python3"
  },
  "language_info": {
   "codemirror_mode": {
    "name": "ipython",
    "version": 3
   },
   "file_extension": ".py",
   "mimetype": "text/x-python",
   "name": "python",
   "nbconvert_exporter": "python",
   "pygments_lexer": "ipython3",
   "version": "3.9.18"
  }
 },
 "nbformat": 4,
 "nbformat_minor": 2
}
