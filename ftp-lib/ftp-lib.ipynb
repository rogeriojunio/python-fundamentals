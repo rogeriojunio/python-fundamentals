{
 "cells": [
  {
   "cell_type": "markdown",
   "metadata": {},
   "source": [
    "Acessando um repositório FTP"
   ]
  },
  {
   "cell_type": "code",
   "execution_count": 1,
   "metadata": {},
   "outputs": [
    {
     "name": "stdout",
     "output_type": "stream",
     "text": [
      "220 ProFTPD Server\n"
     ]
    },
    {
     "data": {
      "text/plain": [
       "'221 Goodbye.'"
      ]
     },
     "execution_count": 1,
     "metadata": {},
     "output_type": "execute_result"
    }
   ],
   "source": [
    "from ftplib import *\n",
    "ftp_ativo=False\n",
    "ftp = FTP('ftp.ibiblio.org')\n",
    "print(ftp.getwelcome())\n",
    "ftp.quit()"
   ]
  },
  {
   "cell_type": "markdown",
   "metadata": {},
   "source": [
    "Navegando pelos diretórios de um repositório FTP"
   ]
  },
  {
   "cell_type": "code",
   "execution_count": 2,
   "metadata": {},
   "outputs": [
    {
     "name": "stdout",
     "output_type": "stream",
     "text": [
      "220 ProFTPD Server\n",
      "Diretório atual de trabalho:  /\n",
      "Diretório corrente:  /pub\n"
     ]
    },
    {
     "data": {
      "text/plain": [
       "'221 Goodbye.'"
      ]
     },
     "execution_count": 2,
     "metadata": {},
     "output_type": "execute_result"
    }
   ],
   "source": [
    "from ftplib import *\n",
    "ftp_ativo=False\n",
    "ftp = FTP('ftp.ibiblio.org')\n",
    "print(ftp.getwelcome())\n",
    "usuario=input(\"Digite o usuario: \")\n",
    "senha=input(\"Digite a senha: \")\n",
    "ftp.login(usuario, senha)\n",
    "print(\"Diretório atual de trabalho: \", ftp.pwd())\n",
    "ftp.cwd('pub')\n",
    "print(\"Diretório corrente: \", ftp.pwd())\n",
    "ftp.quit()"
   ]
  },
  {
   "cell_type": "markdown",
   "metadata": {},
   "source": [
    "Listando pastas e arquivos de um repositório FTP"
   ]
  },
  {
   "cell_type": "code",
   "execution_count": 3,
   "metadata": {},
   "outputs": [
    {
     "name": "stdout",
     "output_type": "stream",
     "text": [
      "220 IBGE - Servidor de FTP\n",
      "Diretório atual de trabalho:  /\n",
      "Diretório corrente:  /\n",
      "drwxrwxr-x    8 ftp      ftp          4096 Dec 22  2016 Acesso_a_internet_e_posse_celular\n",
      "drwxrwxr-x    3 ftp      ftp          4096 Aug 17  2016 Artigos_e_Apresentacoes\n",
      "drwxrwxr-x    3 ftp      ftp          4096 Apr 26  2017 Aspectos_das_relacoes_de_trabalho_e_sindicalicacao\n",
      "drwxrwxr-x    3 ftp      ftp          4096 Mar 29  2017 Aspectos_e_cuidados_das_criancas\n",
      "drwxrwxr-x    4 ftp      ftp          4096 Aug 17  2016 Assistencia_Social_Privada_Sem_Fins_Lucrativos\n",
      "drwxrwxr-x    3 ftp      ftp          4096 Aug 17  2016 Atualizacao_Aplicativos\n",
      "drwxrwxr-x    2 ftp      ftp          4096 Aug 17  2016 Audiencia_Publica\n",
      "drwxrwxr-x    2 ftp      ftp          4096 Aug 17  2016 Caracteristicas_etnico_raciais_populacao\n",
      "drwxrwxr-x    5 ftp      ftp          4096 Jul 26  2018 Censo_Agropecuario\n",
      "drwxrwxr-x    6 ftp      ftp          4096 Dec 28  2022 Censos\n",
      "drwxrwxr-x    9 ftp      ftp          4096 Aug 17  2016 Comercio_e_Servicos\n",
      "drwxrwxr-x    4 ftp      ftp          4096 Oct 18  2018 Contagem_da_Populacao\n",
      "drwxrwxr-x    6 ftp      ftp          4096 Aug 17  2016 Contas_Nacionais\n",
      "drwxrwxr-x   22 ftp      ftp          4096 Nov 17 10:00 Contas_Regionais\n",
      "drwxrwxr-x    4 ftp      ftp          4096 Aug 17  2016 Dados_Genericos\n",
      "drwxrwxr-x   10 ftp      ftp          4096 Oct 24  2017 Demografia_das_Empresas\n",
      "drwxrwxr-x    8 ftp      ftp          4096 Oct 26 10:00 Demografia_das_Empresas_e_Estatisticas_de_Empreendedorismo\n",
      "drwxrwxr-x    4 ftp      ftp          4096 Oct 15  2021 Dimensionamento_em_areas_indigenas_e_quilombolas_para_acoes_de_enfrentamento_COVID-19\n",
      "drwxrwxr-x    2 ftp      ftp          4096 Oct 19 14:23 Documentos\n",
      "drwxrwxr-x   30 ftp      ftp          4096 Jun 21 10:00 Economia_Cadastro_de_Empresas\n",
      "drwxrwxr-x    6 ftp      ftp          4096 Aug 17  2016 Economia_Turismo\n",
      "drwxrwxr-x    6 ftp      ftp          4096 Apr 14  2022 Economia_da_Saude\n",
      "drwxrwxr-x    3 ftp      ftp          4096 Mar 23  2017 Educacao_e_qualificacao_profissional\n",
      "drwxrwxr-x    4 ftp      ftp          4096 Aug 17  2016 Estatcart\n",
      "drwxrwxr-x    2 ftp      ftp          4096 Aug 17  2016 Estatisticas_Sociais\n",
      "drwxrwxr-x    5 ftp      ftp          4096 Dec 04  2019 Estatisticas_Vitais\n",
      "drwxrwxr-x    8 ftp      ftp          4096 Nov 17  2017 Estatisticas_de_Empreendedorismo\n",
      "drwxrwxr-x    4 ftp      ftp          4096 Mar 04  2021 Estatisticas_de_Genero\n",
      "drwxrwxr-x    3 ftp      ftp          4096 Oct 04 10:00 Estatisticas_dos_Cadastros_de_Microempreendedores_Individuais\n",
      "drwxrwxr-x   30 ftp      ftp          4096 Aug 27  2021 Estimativas_de_Populacao\n",
      "drwxrwxr-x    4 ftp      ftp          4096 Aug 17  2016 Estoque\n",
      "drwxrwxr-x    6 ftp      ftp          4096 Apr 05  2019 Fundacoes_Privadas_e_Associacoes\n",
      "drwxrwxr-x    3 ftp      ftp          4096 Aug 17  2016 Indicadores_Desenvolvimento_Sustentavel\n",
      "drwxrwxr-x   16 ftp      ftp          4096 Nov 11  2022 Indicadores_Sociais\n",
      "drwxrwxr-x    3 ftp      ftp          4096 Aug 23  2017 Indices_de_Precos_Consumidor_Harmonizado\n",
      "drwxrwxr-x    3 ftp      ftp          4096 Aug 17  2016 Industria_da_Construcao\n",
      "drwxrwxr-x   12 ftp      ftp          4096 Dec 15  2022 Industrias_Extrativas_e_de_Transformacao\n",
      "drwxrwxr-x    8 ftp      ftp          4096 Aug 31 09:00 Informacoes_Gerais_e_Referencia\n",
      "drwxrwxr-x    3 ftp      ftp          4096 Aug 17  2016 Inovacao\n",
      "drwxrwxr-x    4 ftp      ftp          4096 Sep 29  2016 Matriz_insumo-produto\n",
      "drwxrwxr-x    4 ftp      ftp          4096 Aug 17  2016 Metodos_Alternativos_Censo\n",
      "drwxrwxr-x    3 ftp      ftp          4096 Aug 17  2016 Micro_Empresa\n",
      "drwxrwxr-x    2 ftp      ftp          4096 Nov 16  2016 Mobilidade_Socio_Ocupacional_2014\n",
      "drwxrwxr-x   10 ftp      ftp          4096 Aug 25 10:00 Orcamentos_Familiares\n",
      "drwxrwxr-x    5 ftp      ftp          4096 Sep 04  2020 PNS\n",
      "drwxrwxr-x   13 ftp      ftp          4096 Dec 08  2022 Perfil_Estados\n",
      "drwxrwxr-x   32 ftp      ftp          4096 Dec 08  2022 Perfil_Municipios\n",
      "drwxrwxr-x    3 ftp      ftp          4096 Aug 17  2016 Pesquisa_de_Esporte\n",
      "drwxrwxr-x    3 ftp      ftp          4096 Aug 17  2016 Pesquisa_de_Servicos_de_Tecnologia_da_Informacao\n",
      "drwxrwxr-x   22 ftp      ftp          4096 Dec 16  2022 Pib_Municipios\n",
      "drwxrwxr-x    3 ftp      ftp          4096 May 17  2017 Pratica_de_esporte_e_atividade_fisica\n",
      "drwxrwxr-x    6 ftp      ftp          4096 Aug 17  2016 Precos_Custos_e_Indices_da_Construcao_Civil\n",
      "drwxrwxr-x    8 ftp      ftp          4096 Nov 29  2016 Precos_Indices_de_Precos_ao_Consumidor\n",
      "drwxrwxr-x    9 ftp      ftp          4096 Jan 23  2020 Precos_Indices_de_Precos_ao_Produtor\n",
      "drwxrwxr-x    9 ftp      ftp          4096 Oct 11  2017 Producao_Agricola\n",
      "drwxrwxr-x    8 ftp      ftp          4096 May 08  2018 Producao_Pecuaria\n",
      "drwxrwxr-x   21 ftp      ftp          4096 Oct 09 12:20 Programa\n",
      "drwxrwxr-x    2 ftp      ftp          4096 Aug 17  2016 Programa_de_Comparacao_Internacional_PCI\n",
      "drwxrwxr-x    7 ftp      ftp          4096 Jul 31  2018 Projecao_da_Populacao\n",
      "drwxrwxr-x    4 ftp      ftp          4096 Oct 16  2020 Pulso_Empresa\n",
      "drwxrwxr-x    4 ftp      ftp          4096 Jun 12  2018 Registro_Civil\n",
      "drwxrwxr-x    4 ftp      ftp          4096 Jul 31  2018 Retroprojecao_da_populacao\n",
      "drwxrwxr-x    2 ftp      ftp          4096 Aug 17  2016 Salario_Minimo\n",
      "drwxrwxr-x    4 ftp      ftp          4096 Aug 17  2016 Setor_Publico\n",
      "drwxrwxr-x    3 ftp      ftp          4096 Aug 17  2016 Tabuas_Abreviadas_de_Mortalidade\n",
      "drwxrwxr-x   33 ftp      ftp          4096 Nov 25  2022 Tabuas_Completas_de_Mortalidade\n",
      "drwxrwxr-x    4 ftp      ftp          4096 Aug 23  2017 Tecnologias_de_Informacao_e_Comunicacao_nas_Empresas\n",
      "drwxrwxr-x    9 ftp      ftp          4096 Jun 16  2020 Trabalho_e_Rendimento\n",
      "drwxrwxr-x    2 ftp      ftp          4096 Aug 17  2016 acesso_ao_cadastro_unico_2014\n",
      "drwxrwxr-x   23 ftp      ftp          4096 May 23 08:33 edital\n",
      "drwxrwxr-x    7 ftp      ftp          4096 Aug 17  2016 englishpub\n",
      "drwxrwxr-x    2 ftp      ftp          4096 Aug 17  2016 panorama_saude_brasil_20032008\n",
      "drwxrwxr-x    8 ftp      ftp          4096 Jul 13  2022 pense\n",
      "drwxrwxr-x    2 ftp      ftp          4096 Aug 17  2016 pense_avaliacao_nutricional_2009\n",
      "drwxrwxr-x    2 ftp      ftp          4096 Aug 17  2016 seculoxx\n",
      "drwxrwxr-x    2 ftp      ftp          4096 Aug 17  2016 seguranca_alimentar_2004_2009\n",
      "drwxrwxr-x    4 ftp      ftp          4096 Aug 17  2016 seguranca_alimentar_2013\n",
      "drwxrwxr-x    2 ftp      ftp          4096 Sep 16  2016 vitimizacao_acesso_justica_2009\n",
      "226 Directory send OK.\n"
     ]
    },
    {
     "data": {
      "text/plain": [
       "'221 Goodbye.'"
      ]
     },
     "execution_count": 3,
     "metadata": {},
     "output_type": "execute_result"
    }
   ],
   "source": [
    "from ftplib import *\n",
    "ftp_ativo=False\n",
    "ftp = FTP('ftp.ibge.gov.br')\n",
    "print(ftp.getwelcome())\n",
    "usuario=input(\"Digite o usuario: \")\n",
    "senha=input(\"Digite a senha: \")\n",
    "ftp.login(usuario, senha)\n",
    "print(\"Diretório atual de trabalho: \", ftp.pwd())\n",
    "#ftp.cwd('Caracteristicas_etnico_raciais_populacao')\n",
    "print(\"Diretório corrente: \", ftp.pwd())\n",
    "print(ftp.retrlines('LIST'))\n",
    "ftp.quit()"
   ]
  }
 ],
 "metadata": {
  "kernelspec": {
   "display_name": "base",
   "language": "python",
   "name": "python3"
  },
  "language_info": {
   "codemirror_mode": {
    "name": "ipython",
    "version": 3
   },
   "file_extension": ".py",
   "mimetype": "text/x-python",
   "name": "python",
   "nbconvert_exporter": "python",
   "pygments_lexer": "ipython3",
   "version": "3.9.18"
  }
 },
 "nbformat": 4,
 "nbformat_minor": 2
}
