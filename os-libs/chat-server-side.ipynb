{
 "cells": [
  {
   "cell_type": "markdown",
   "metadata": {},
   "source": [
    "Servidor TCP"
   ]
  },
  {
   "cell_type": "code",
   "execution_count": 1,
   "metadata": {},
   "outputs": [
    {
     "name": "stdout",
     "output_type": "stream",
     "text": [
      "Aguardando cliente....\n",
      "Conectado com: ('127.0.0.1', 51203)\n",
      "Recebemos: Oi, servidor, tudo bem?\n",
      "Conectado com: ('127.0.0.1', 51209)\n",
      "Recebemos: Sim, belezinha por aqui.\n",
      "Conectado com: ('127.0.0.1', 51211)\n",
      "Recebemos: Estou precisando de um dado para seguir com meu trabalho. Vc poderia me passar?\n",
      "Conectado com: ('127.0.0.1', 51212)\n",
      "Recebemos: Quantos produtos foram vendidos esta semana?\n",
      "Conectado com: ('127.0.0.1', 51213)\n",
      "Recebemos: fim\n"
     ]
    }
   ],
   "source": [
    "from socket import *\n",
    "servidor=\"127.0.0.1\"\n",
    "porta=43211\n",
    "obj_socket = socket(AF_INET, SOCK_STREAM)\n",
    "obj_socket.bind((servidor,porta))\n",
    "obj_socket.listen(2)\n",
    "print(\"Aguardando cliente....\")\n",
    "var = True\n",
    "while var:\n",
    "    con, cliente = obj_socket.accept()\n",
    "    print(\"Conectado com:\", cliente)\n",
    "    while var:\n",
    "        msg_recebida = str(con.recv(1024))\n",
    "        print(\"Recebemos:\", str(msg_recebida)[2:-1])\n",
    "        msg_enviada = bytes(input(\"Resposta do servidor:\"), 'utf-8')\n",
    "        con.send(msg_enviada)\n",
    "        if str(msg_enviada)[2:-1].upper()==\"FIM\":\n",
    "            var = False\n",
    "            break\n",
    "        break\n",
    "    con.close()\n",
    "obj_socket.close()"
   ]
  }
 ],
 "metadata": {
  "kernelspec": {
   "display_name": "base",
   "language": "python",
   "name": "python3"
  },
  "language_info": {
   "codemirror_mode": {
    "name": "ipython",
    "version": 3
   },
   "file_extension": ".py",
   "mimetype": "text/x-python",
   "name": "python",
   "nbconvert_exporter": "python",
   "pygments_lexer": "ipython3",
   "version": "3.9.18"
  }
 },
 "nbformat": 4,
 "nbformat_minor": 2
}
