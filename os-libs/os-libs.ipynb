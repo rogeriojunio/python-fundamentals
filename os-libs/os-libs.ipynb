{
 "cells": [
  {
   "cell_type": "code",
   "execution_count": 2,
   "metadata": {},
   "outputs": [
    {
     "name": "stdout",
     "output_type": "stream",
     "text": [
      "Distribuição do Sistema Operacional.:  Windows-10-10.0.22621-SP0\n",
      "Nome do Sistema Operacional.........:  Windows\n",
      "Versão do Sistema Operacional.......:  10\n",
      "Arquitetura.........................:  ('64bit', 'WindowsPE')\n",
      "Tipo de Máquina.....................:  AMD64\n",
      "Processador.........................:  AMD64 Family 23 Model 96 Stepping 1, AuthenticAMD\n",
      "Versão do Python....................:  3.9.18\n"
     ]
    }
   ],
   "source": [
    "import platform\n",
    "\n",
    "print(\"Distribuição do Sistema Operacional.: \", platform.platform())\n",
    "print(\"Nome do Sistema Operacional.........: \", platform.system())\n",
    "print(\"Versão do Sistema Operacional.......: \", platform.release())\n",
    "print(\"Arquitetura.........................: \", platform.architecture())\n",
    "# print(\"Nome do Computador..................: \", platform.node())\n",
    "print(\"Tipo de Máquina.....................: \", platform.machine())\n",
    "print(\"Processador.........................: \", platform.processor())\n",
    "print(\"Versão do Python....................: \", platform.python_version())"
   ]
  },
  {
   "cell_type": "code",
   "execution_count": 3,
   "metadata": {},
   "outputs": [
    {
     "name": "stdout",
     "output_type": "stream",
     "text": [
      "Usuário.......:  roger\n",
      "Data Completa.:  2023-11-15 19:18:54.502668\n",
      "Dia...........:  15\n",
      "Mês...........:  11\n",
      "Ano...........:  2023\n",
      "Hora..........:  19\n",
      "Minuto........:  18\n",
      "Segundo.......:  54\n"
     ]
    }
   ],
   "source": [
    "import getpass\n",
    "from datetime import datetime\n",
    "\n",
    "print(\"Usuário.......: \", getpass.getuser())\n",
    "print(\"Data Completa.: \", datetime.now())\n",
    "print(\"Dia...........: \", datetime.now().day)\n",
    "print(\"Mês...........: \", datetime.now().month)\n",
    "print(\"Ano...........: \", datetime.now().year)\n",
    "print(\"Hora..........: \", datetime.now().hour)\n",
    "print(\"Minuto........: \", datetime.now().minute)\n",
    "print(\"Segundo.......: \", datetime.now().second)"
   ]
  },
  {
   "cell_type": "code",
   "execution_count": 4,
   "metadata": {},
   "outputs": [
    {
     "name": "stdout",
     "output_type": "stream",
     "text": [
      "Usuário logado\n"
     ]
    }
   ],
   "source": [
    "import getpass\n",
    "\n",
    "usuario = input('''\n",
    "Digite o usuário: ''').upper()\n",
    "senha = getpass.getpass(\"Digite a senha: \")\n",
    "\n",
    "if usuario == \"USER\" and senha == \"Senha\":\n",
    "    print(\"Usuário logado\")\n",
    "else:\n",
    "    print(\"Login Negado\")"
   ]
  }
 ],
 "metadata": {
  "kernelspec": {
   "display_name": "base",
   "language": "python",
   "name": "python3"
  },
  "language_info": {
   "codemirror_mode": {
    "name": "ipython",
    "version": 3
   },
   "file_extension": ".py",
   "mimetype": "text/x-python",
   "name": "python",
   "nbconvert_exporter": "python",
   "pygments_lexer": "ipython3",
   "version": "3.9.18"
  }
 },
 "nbformat": 4,
 "nbformat_minor": 2
}
