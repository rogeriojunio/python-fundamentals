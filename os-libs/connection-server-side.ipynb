{
 "cells": [
  {
   "cell_type": "code",
   "execution_count": 2,
   "metadata": {},
   "outputs": [
    {
     "name": "stdout",
     "output_type": "stream",
     "text": [
      "Aguardando cliente....\n",
      "Conectado com:  ('127.0.0.1', 50915)\n",
      "Recebemos:  b'Oi, servidor'\n"
     ]
    }
   ],
   "source": [
    "from socket import *\n",
    "servidor=\"127.0.0.1\"\n",
    "porta=43210\n",
    "obj_socket = socket(AF_INET, SOCK_STREAM)\n",
    "obj_socket.bind((servidor,porta))\n",
    "obj_socket.listen(2)\n",
    "print(\"Aguardando cliente....\")\n",
    "var = True\n",
    "while var:\n",
    "    con, cliente = obj_socket.accept()\n",
    "    print(\"Conectado com: \", cliente)\n",
    "    while var:\n",
    "        msg_recebida = str(con.recv(1024))\n",
    "        print(\"Recebemos: \", msg_recebida)\n",
    "        msg_enviada = b'Oi, cliente'\n",
    "        con.send(msg_enviada)\n",
    "        var = False\n",
    "        break\n",
    "    con.close()"
   ]
  }
 ],
 "metadata": {
  "kernelspec": {
   "display_name": "base",
   "language": "python",
   "name": "python3"
  },
  "language_info": {
   "codemirror_mode": {
    "name": "ipython",
    "version": 3
   },
   "file_extension": ".py",
   "mimetype": "text/x-python",
   "name": "python",
   "nbconvert_exporter": "python",
   "pygments_lexer": "ipython3",
   "version": "3.9.18"
  }
 },
 "nbformat": 4,
 "nbformat_minor": 2
}
