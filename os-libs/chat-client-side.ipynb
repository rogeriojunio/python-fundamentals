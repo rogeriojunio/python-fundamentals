{
 "cells": [
  {
   "cell_type": "code",
   "execution_count": 4,
   "metadata": {},
   "outputs": [
    {
     "name": "stdout",
     "output_type": "stream",
     "text": [
      "Resposta do Servidor: Oi, cliente, tudo certinho. Tudo bem com vc?\n",
      "Resposta do Servidor: Como posso ajudar?\n",
      "Resposta do Servidor: Sim, vc tem acesso.\n",
      "Resposta do Servidor: 8\n",
      "Resposta do Servidor: fim\n"
     ]
    }
   ],
   "source": [
    "from socket import *\n",
    "\n",
    "servidor=\"127.0.0.1\"\n",
    "porta=43211\n",
    "\n",
    "while True:\n",
    "    obj_socket = socket(AF_INET, SOCK_STREAM)\n",
    "    obj_socket.connect((servidor, porta))\n",
    "    msg = bytes(input(\"Mensagem do cliente:\"), 'utf-8')\n",
    "    obj_socket.send(msg)\n",
    "    resposta=obj_socket.recv(1024)\n",
    "    print(\"Resposta do Servidor:\", str(resposta)[2:-1])\n",
    "    if str(msg)[2:-1].upper()==\"FIM\":\n",
    "        break\n",
    "obj_socket.close()"
   ]
  }
 ],
 "metadata": {
  "kernelspec": {
   "display_name": "base",
   "language": "python",
   "name": "python3"
  },
  "language_info": {
   "codemirror_mode": {
    "name": "ipython",
    "version": 3
   },
   "file_extension": ".py",
   "mimetype": "text/x-python",
   "name": "python",
   "nbconvert_exporter": "python",
   "pygments_lexer": "ipython3",
   "version": "3.9.18"
  }
 },
 "nbformat": 4,
 "nbformat_minor": 2
}
