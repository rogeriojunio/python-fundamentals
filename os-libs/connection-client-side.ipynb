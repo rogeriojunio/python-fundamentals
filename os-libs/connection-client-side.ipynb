{
 "cells": [
  {
   "cell_type": "markdown",
   "metadata": {},
   "source": [
    "Protocolo TCP"
   ]
  },
  {
   "cell_type": "code",
   "execution_count": 4,
   "metadata": {},
   "outputs": [
    {
     "name": "stdout",
     "output_type": "stream",
     "text": [
      "Recebemos:  b'Oi, cliente'\n"
     ]
    }
   ],
   "source": [
    "from socket import *\n",
    "\n",
    "servidor=\"127.0.0.1\"\n",
    "porta=43210\n",
    "\n",
    "msg = bytes(input(\"Digite algo: \"), 'utf-8')\n",
    "obj_socket=socket(AF_INET, SOCK_STREAM)\n",
    "obj_socket.connect((servidor,porta))\n",
    "obj_socket.send(msg)\n",
    "resposta=obj_socket.recv(1024)\n",
    "print(\"Recebemos: \", resposta)\n",
    "obj_socket.close()"
   ]
  },
  {
   "cell_type": "markdown",
   "metadata": {},
   "source": [
    "Protocolo UDP"
   ]
  },
  {
   "cell_type": "code",
   "execution_count": 1,
   "metadata": {},
   "outputs": [
    {
     "name": "stdout",
     "output_type": "stream",
     "text": [
      "Resposta do Servidor:  Boa tarde, cliente!\n"
     ]
    }
   ],
   "source": [
    "from socket import *\n",
    "\n",
    "servidor=\"127.0.0.1\"\n",
    "porta=43210\n",
    "obj_socket = socket(AF_INET, SOCK_DGRAM)\n",
    "obj_socket.connect((servidor, porta))\n",
    "saida=\"\"\n",
    "while saida!=\"X\":\n",
    "    msg = input(\"Sua mensagem: \")\n",
    "    obj_socket.sendto(msg.encode(), (servidor,porta))\n",
    "    dados, origem = obj_socket.recvfrom(65535)\n",
    "    print(\"Resposta do Servidor: \", dados.decode())\n",
    "    saida=input(\"Digite <X> para sair: \").upper()\n",
    "obj_socket.close()"
   ]
  }
 ],
 "metadata": {
  "kernelspec": {
   "display_name": "base",
   "language": "python",
   "name": "python3"
  },
  "language_info": {
   "codemirror_mode": {
    "name": "ipython",
    "version": 3
   },
   "file_extension": ".py",
   "mimetype": "text/x-python",
   "name": "python",
   "nbconvert_exporter": "python",
   "pygments_lexer": "ipython3",
   "version": "3.9.18"
  }
 },
 "nbformat": 4,
 "nbformat_minor": 2
}
